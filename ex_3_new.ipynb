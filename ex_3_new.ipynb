{
  "nbformat": 4,
  "nbformat_minor": 0,
  "metadata": {
    "colab": {
      "name": "ex_3.ipynb",
      "provenance": []
    },
    "kernelspec": {
      "name": "python3",
      "display_name": "Python 3"
    },
    "language_info": {
      "name": "python"
    },
    "widgets": {
      "application/vnd.jupyter.widget-state+json": {
        "1616a1f856ab4d27a585abc95203746c": {
          "model_module": "@jupyter-widgets/controls",
          "model_name": "HBoxModel",
          "model_module_version": "1.5.0",
          "state": {
            "_dom_classes": [],
            "_model_module": "@jupyter-widgets/controls",
            "_model_module_version": "1.5.0",
            "_model_name": "HBoxModel",
            "_view_count": null,
            "_view_module": "@jupyter-widgets/controls",
            "_view_module_version": "1.5.0",
            "_view_name": "HBoxView",
            "box_style": "",
            "children": [
              "IPY_MODEL_c2b2f498456e43e6ae069524ad065c9d",
              "IPY_MODEL_20ad0def24df4f508f0f1cc15f49c8e8",
              "IPY_MODEL_1c72d6fa67ce4752be60e6350a1721b3"
            ],
            "layout": "IPY_MODEL_1842adbd53db452299bf41428014f157"
          }
        },
        "c2b2f498456e43e6ae069524ad065c9d": {
          "model_module": "@jupyter-widgets/controls",
          "model_name": "HTMLModel",
          "model_module_version": "1.5.0",
          "state": {
            "_dom_classes": [],
            "_model_module": "@jupyter-widgets/controls",
            "_model_module_version": "1.5.0",
            "_model_name": "HTMLModel",
            "_view_count": null,
            "_view_module": "@jupyter-widgets/controls",
            "_view_module_version": "1.5.0",
            "_view_name": "HTMLView",
            "description": "",
            "description_tooltip": null,
            "layout": "IPY_MODEL_44b46297ea8c43d4ba3cbe88a16ada61",
            "placeholder": "​",
            "style": "IPY_MODEL_fb7a9c35879241fa8da821381c75d3c4",
            "value": "Batches: 100%"
          }
        },
        "20ad0def24df4f508f0f1cc15f49c8e8": {
          "model_module": "@jupyter-widgets/controls",
          "model_name": "FloatProgressModel",
          "model_module_version": "1.5.0",
          "state": {
            "_dom_classes": [],
            "_model_module": "@jupyter-widgets/controls",
            "_model_module_version": "1.5.0",
            "_model_name": "FloatProgressModel",
            "_view_count": null,
            "_view_module": "@jupyter-widgets/controls",
            "_view_module_version": "1.5.0",
            "_view_name": "ProgressView",
            "bar_style": "success",
            "description": "",
            "description_tooltip": null,
            "layout": "IPY_MODEL_cb76cf4673de498c91cb545a82b09266",
            "max": 174,
            "min": 0,
            "orientation": "horizontal",
            "style": "IPY_MODEL_c5e52dbe464944f287f0a6d22c7a68b9",
            "value": 174
          }
        },
        "1c72d6fa67ce4752be60e6350a1721b3": {
          "model_module": "@jupyter-widgets/controls",
          "model_name": "HTMLModel",
          "model_module_version": "1.5.0",
          "state": {
            "_dom_classes": [],
            "_model_module": "@jupyter-widgets/controls",
            "_model_module_version": "1.5.0",
            "_model_name": "HTMLModel",
            "_view_count": null,
            "_view_module": "@jupyter-widgets/controls",
            "_view_module_version": "1.5.0",
            "_view_name": "HTMLView",
            "description": "",
            "description_tooltip": null,
            "layout": "IPY_MODEL_a41089160d5049d3b29e829519bdfa82",
            "placeholder": "​",
            "style": "IPY_MODEL_50c3a87b0e1843d8ae598cbfcd2539de",
            "value": " 174/174 [09:44&lt;00:00,  3.14s/it]"
          }
        },
        "1842adbd53db452299bf41428014f157": {
          "model_module": "@jupyter-widgets/base",
          "model_name": "LayoutModel",
          "model_module_version": "1.2.0",
          "state": {
            "_model_module": "@jupyter-widgets/base",
            "_model_module_version": "1.2.0",
            "_model_name": "LayoutModel",
            "_view_count": null,
            "_view_module": "@jupyter-widgets/base",
            "_view_module_version": "1.2.0",
            "_view_name": "LayoutView",
            "align_content": null,
            "align_items": null,
            "align_self": null,
            "border": null,
            "bottom": null,
            "display": null,
            "flex": null,
            "flex_flow": null,
            "grid_area": null,
            "grid_auto_columns": null,
            "grid_auto_flow": null,
            "grid_auto_rows": null,
            "grid_column": null,
            "grid_gap": null,
            "grid_row": null,
            "grid_template_areas": null,
            "grid_template_columns": null,
            "grid_template_rows": null,
            "height": null,
            "justify_content": null,
            "justify_items": null,
            "left": null,
            "margin": null,
            "max_height": null,
            "max_width": null,
            "min_height": null,
            "min_width": null,
            "object_fit": null,
            "object_position": null,
            "order": null,
            "overflow": null,
            "overflow_x": null,
            "overflow_y": null,
            "padding": null,
            "right": null,
            "top": null,
            "visibility": null,
            "width": null
          }
        },
        "44b46297ea8c43d4ba3cbe88a16ada61": {
          "model_module": "@jupyter-widgets/base",
          "model_name": "LayoutModel",
          "model_module_version": "1.2.0",
          "state": {
            "_model_module": "@jupyter-widgets/base",
            "_model_module_version": "1.2.0",
            "_model_name": "LayoutModel",
            "_view_count": null,
            "_view_module": "@jupyter-widgets/base",
            "_view_module_version": "1.2.0",
            "_view_name": "LayoutView",
            "align_content": null,
            "align_items": null,
            "align_self": null,
            "border": null,
            "bottom": null,
            "display": null,
            "flex": null,
            "flex_flow": null,
            "grid_area": null,
            "grid_auto_columns": null,
            "grid_auto_flow": null,
            "grid_auto_rows": null,
            "grid_column": null,
            "grid_gap": null,
            "grid_row": null,
            "grid_template_areas": null,
            "grid_template_columns": null,
            "grid_template_rows": null,
            "height": null,
            "justify_content": null,
            "justify_items": null,
            "left": null,
            "margin": null,
            "max_height": null,
            "max_width": null,
            "min_height": null,
            "min_width": null,
            "object_fit": null,
            "object_position": null,
            "order": null,
            "overflow": null,
            "overflow_x": null,
            "overflow_y": null,
            "padding": null,
            "right": null,
            "top": null,
            "visibility": null,
            "width": null
          }
        },
        "fb7a9c35879241fa8da821381c75d3c4": {
          "model_module": "@jupyter-widgets/controls",
          "model_name": "DescriptionStyleModel",
          "model_module_version": "1.5.0",
          "state": {
            "_model_module": "@jupyter-widgets/controls",
            "_model_module_version": "1.5.0",
            "_model_name": "DescriptionStyleModel",
            "_view_count": null,
            "_view_module": "@jupyter-widgets/base",
            "_view_module_version": "1.2.0",
            "_view_name": "StyleView",
            "description_width": ""
          }
        },
        "cb76cf4673de498c91cb545a82b09266": {
          "model_module": "@jupyter-widgets/base",
          "model_name": "LayoutModel",
          "model_module_version": "1.2.0",
          "state": {
            "_model_module": "@jupyter-widgets/base",
            "_model_module_version": "1.2.0",
            "_model_name": "LayoutModel",
            "_view_count": null,
            "_view_module": "@jupyter-widgets/base",
            "_view_module_version": "1.2.0",
            "_view_name": "LayoutView",
            "align_content": null,
            "align_items": null,
            "align_self": null,
            "border": null,
            "bottom": null,
            "display": null,
            "flex": null,
            "flex_flow": null,
            "grid_area": null,
            "grid_auto_columns": null,
            "grid_auto_flow": null,
            "grid_auto_rows": null,
            "grid_column": null,
            "grid_gap": null,
            "grid_row": null,
            "grid_template_areas": null,
            "grid_template_columns": null,
            "grid_template_rows": null,
            "height": null,
            "justify_content": null,
            "justify_items": null,
            "left": null,
            "margin": null,
            "max_height": null,
            "max_width": null,
            "min_height": null,
            "min_width": null,
            "object_fit": null,
            "object_position": null,
            "order": null,
            "overflow": null,
            "overflow_x": null,
            "overflow_y": null,
            "padding": null,
            "right": null,
            "top": null,
            "visibility": null,
            "width": null
          }
        },
        "c5e52dbe464944f287f0a6d22c7a68b9": {
          "model_module": "@jupyter-widgets/controls",
          "model_name": "ProgressStyleModel",
          "model_module_version": "1.5.0",
          "state": {
            "_model_module": "@jupyter-widgets/controls",
            "_model_module_version": "1.5.0",
            "_model_name": "ProgressStyleModel",
            "_view_count": null,
            "_view_module": "@jupyter-widgets/base",
            "_view_module_version": "1.2.0",
            "_view_name": "StyleView",
            "bar_color": null,
            "description_width": ""
          }
        },
        "a41089160d5049d3b29e829519bdfa82": {
          "model_module": "@jupyter-widgets/base",
          "model_name": "LayoutModel",
          "model_module_version": "1.2.0",
          "state": {
            "_model_module": "@jupyter-widgets/base",
            "_model_module_version": "1.2.0",
            "_model_name": "LayoutModel",
            "_view_count": null,
            "_view_module": "@jupyter-widgets/base",
            "_view_module_version": "1.2.0",
            "_view_name": "LayoutView",
            "align_content": null,
            "align_items": null,
            "align_self": null,
            "border": null,
            "bottom": null,
            "display": null,
            "flex": null,
            "flex_flow": null,
            "grid_area": null,
            "grid_auto_columns": null,
            "grid_auto_flow": null,
            "grid_auto_rows": null,
            "grid_column": null,
            "grid_gap": null,
            "grid_row": null,
            "grid_template_areas": null,
            "grid_template_columns": null,
            "grid_template_rows": null,
            "height": null,
            "justify_content": null,
            "justify_items": null,
            "left": null,
            "margin": null,
            "max_height": null,
            "max_width": null,
            "min_height": null,
            "min_width": null,
            "object_fit": null,
            "object_position": null,
            "order": null,
            "overflow": null,
            "overflow_x": null,
            "overflow_y": null,
            "padding": null,
            "right": null,
            "top": null,
            "visibility": null,
            "width": null
          }
        },
        "50c3a87b0e1843d8ae598cbfcd2539de": {
          "model_module": "@jupyter-widgets/controls",
          "model_name": "DescriptionStyleModel",
          "model_module_version": "1.5.0",
          "state": {
            "_model_module": "@jupyter-widgets/controls",
            "_model_module_version": "1.5.0",
            "_model_name": "DescriptionStyleModel",
            "_view_count": null,
            "_view_module": "@jupyter-widgets/base",
            "_view_module_version": "1.2.0",
            "_view_name": "StyleView",
            "description_width": ""
          }
        },
        "46f1e880612d43d78cba5b25143a44c8": {
          "model_module": "@jupyter-widgets/controls",
          "model_name": "HBoxModel",
          "model_module_version": "1.5.0",
          "state": {
            "_dom_classes": [],
            "_model_module": "@jupyter-widgets/controls",
            "_model_module_version": "1.5.0",
            "_model_name": "HBoxModel",
            "_view_count": null,
            "_view_module": "@jupyter-widgets/controls",
            "_view_module_version": "1.5.0",
            "_view_name": "HBoxView",
            "box_style": "",
            "children": [
              "IPY_MODEL_6a31f105f3554674aee570b6268e235a",
              "IPY_MODEL_08c5f1e131d347708387a82773e4abaf",
              "IPY_MODEL_4010aab779854328afc0d0ca075c26e4"
            ],
            "layout": "IPY_MODEL_2650679424cb4735bf19e5d84d148c94"
          }
        },
        "6a31f105f3554674aee570b6268e235a": {
          "model_module": "@jupyter-widgets/controls",
          "model_name": "HTMLModel",
          "model_module_version": "1.5.0",
          "state": {
            "_dom_classes": [],
            "_model_module": "@jupyter-widgets/controls",
            "_model_module_version": "1.5.0",
            "_model_name": "HTMLModel",
            "_view_count": null,
            "_view_module": "@jupyter-widgets/controls",
            "_view_module_version": "1.5.0",
            "_view_name": "HTMLView",
            "description": "",
            "description_tooltip": null,
            "layout": "IPY_MODEL_11e061232bf042c089225d3688e43bb7",
            "placeholder": "​",
            "style": "IPY_MODEL_84fa355a3fce4eef9c9a2477ac275f50",
            "value": "Batches: 100%"
          }
        },
        "08c5f1e131d347708387a82773e4abaf": {
          "model_module": "@jupyter-widgets/controls",
          "model_name": "FloatProgressModel",
          "model_module_version": "1.5.0",
          "state": {
            "_dom_classes": [],
            "_model_module": "@jupyter-widgets/controls",
            "_model_module_version": "1.5.0",
            "_model_name": "FloatProgressModel",
            "_view_count": null,
            "_view_module": "@jupyter-widgets/controls",
            "_view_module_version": "1.5.0",
            "_view_name": "ProgressView",
            "bar_style": "success",
            "description": "",
            "description_tooltip": null,
            "layout": "IPY_MODEL_216a28f7c29942088db261d67bce72ea",
            "max": 174,
            "min": 0,
            "orientation": "horizontal",
            "style": "IPY_MODEL_58c1c82e06fb4ea9bd7cdbb214a4e1e7",
            "value": 174
          }
        },
        "4010aab779854328afc0d0ca075c26e4": {
          "model_module": "@jupyter-widgets/controls",
          "model_name": "HTMLModel",
          "model_module_version": "1.5.0",
          "state": {
            "_dom_classes": [],
            "_model_module": "@jupyter-widgets/controls",
            "_model_module_version": "1.5.0",
            "_model_name": "HTMLModel",
            "_view_count": null,
            "_view_module": "@jupyter-widgets/controls",
            "_view_module_version": "1.5.0",
            "_view_name": "HTMLView",
            "description": "",
            "description_tooltip": null,
            "layout": "IPY_MODEL_a7dea894c3cb4dcab97e644e7ede7919",
            "placeholder": "​",
            "style": "IPY_MODEL_7f9b573e90344f5bac48c283f2b84ba6",
            "value": " 174/174 [09:43&lt;00:00,  3.17s/it]"
          }
        },
        "2650679424cb4735bf19e5d84d148c94": {
          "model_module": "@jupyter-widgets/base",
          "model_name": "LayoutModel",
          "model_module_version": "1.2.0",
          "state": {
            "_model_module": "@jupyter-widgets/base",
            "_model_module_version": "1.2.0",
            "_model_name": "LayoutModel",
            "_view_count": null,
            "_view_module": "@jupyter-widgets/base",
            "_view_module_version": "1.2.0",
            "_view_name": "LayoutView",
            "align_content": null,
            "align_items": null,
            "align_self": null,
            "border": null,
            "bottom": null,
            "display": null,
            "flex": null,
            "flex_flow": null,
            "grid_area": null,
            "grid_auto_columns": null,
            "grid_auto_flow": null,
            "grid_auto_rows": null,
            "grid_column": null,
            "grid_gap": null,
            "grid_row": null,
            "grid_template_areas": null,
            "grid_template_columns": null,
            "grid_template_rows": null,
            "height": null,
            "justify_content": null,
            "justify_items": null,
            "left": null,
            "margin": null,
            "max_height": null,
            "max_width": null,
            "min_height": null,
            "min_width": null,
            "object_fit": null,
            "object_position": null,
            "order": null,
            "overflow": null,
            "overflow_x": null,
            "overflow_y": null,
            "padding": null,
            "right": null,
            "top": null,
            "visibility": null,
            "width": null
          }
        },
        "11e061232bf042c089225d3688e43bb7": {
          "model_module": "@jupyter-widgets/base",
          "model_name": "LayoutModel",
          "model_module_version": "1.2.0",
          "state": {
            "_model_module": "@jupyter-widgets/base",
            "_model_module_version": "1.2.0",
            "_model_name": "LayoutModel",
            "_view_count": null,
            "_view_module": "@jupyter-widgets/base",
            "_view_module_version": "1.2.0",
            "_view_name": "LayoutView",
            "align_content": null,
            "align_items": null,
            "align_self": null,
            "border": null,
            "bottom": null,
            "display": null,
            "flex": null,
            "flex_flow": null,
            "grid_area": null,
            "grid_auto_columns": null,
            "grid_auto_flow": null,
            "grid_auto_rows": null,
            "grid_column": null,
            "grid_gap": null,
            "grid_row": null,
            "grid_template_areas": null,
            "grid_template_columns": null,
            "grid_template_rows": null,
            "height": null,
            "justify_content": null,
            "justify_items": null,
            "left": null,
            "margin": null,
            "max_height": null,
            "max_width": null,
            "min_height": null,
            "min_width": null,
            "object_fit": null,
            "object_position": null,
            "order": null,
            "overflow": null,
            "overflow_x": null,
            "overflow_y": null,
            "padding": null,
            "right": null,
            "top": null,
            "visibility": null,
            "width": null
          }
        },
        "84fa355a3fce4eef9c9a2477ac275f50": {
          "model_module": "@jupyter-widgets/controls",
          "model_name": "DescriptionStyleModel",
          "model_module_version": "1.5.0",
          "state": {
            "_model_module": "@jupyter-widgets/controls",
            "_model_module_version": "1.5.0",
            "_model_name": "DescriptionStyleModel",
            "_view_count": null,
            "_view_module": "@jupyter-widgets/base",
            "_view_module_version": "1.2.0",
            "_view_name": "StyleView",
            "description_width": ""
          }
        },
        "216a28f7c29942088db261d67bce72ea": {
          "model_module": "@jupyter-widgets/base",
          "model_name": "LayoutModel",
          "model_module_version": "1.2.0",
          "state": {
            "_model_module": "@jupyter-widgets/base",
            "_model_module_version": "1.2.0",
            "_model_name": "LayoutModel",
            "_view_count": null,
            "_view_module": "@jupyter-widgets/base",
            "_view_module_version": "1.2.0",
            "_view_name": "LayoutView",
            "align_content": null,
            "align_items": null,
            "align_self": null,
            "border": null,
            "bottom": null,
            "display": null,
            "flex": null,
            "flex_flow": null,
            "grid_area": null,
            "grid_auto_columns": null,
            "grid_auto_flow": null,
            "grid_auto_rows": null,
            "grid_column": null,
            "grid_gap": null,
            "grid_row": null,
            "grid_template_areas": null,
            "grid_template_columns": null,
            "grid_template_rows": null,
            "height": null,
            "justify_content": null,
            "justify_items": null,
            "left": null,
            "margin": null,
            "max_height": null,
            "max_width": null,
            "min_height": null,
            "min_width": null,
            "object_fit": null,
            "object_position": null,
            "order": null,
            "overflow": null,
            "overflow_x": null,
            "overflow_y": null,
            "padding": null,
            "right": null,
            "top": null,
            "visibility": null,
            "width": null
          }
        },
        "58c1c82e06fb4ea9bd7cdbb214a4e1e7": {
          "model_module": "@jupyter-widgets/controls",
          "model_name": "ProgressStyleModel",
          "model_module_version": "1.5.0",
          "state": {
            "_model_module": "@jupyter-widgets/controls",
            "_model_module_version": "1.5.0",
            "_model_name": "ProgressStyleModel",
            "_view_count": null,
            "_view_module": "@jupyter-widgets/base",
            "_view_module_version": "1.2.0",
            "_view_name": "StyleView",
            "bar_color": null,
            "description_width": ""
          }
        },
        "a7dea894c3cb4dcab97e644e7ede7919": {
          "model_module": "@jupyter-widgets/base",
          "model_name": "LayoutModel",
          "model_module_version": "1.2.0",
          "state": {
            "_model_module": "@jupyter-widgets/base",
            "_model_module_version": "1.2.0",
            "_model_name": "LayoutModel",
            "_view_count": null,
            "_view_module": "@jupyter-widgets/base",
            "_view_module_version": "1.2.0",
            "_view_name": "LayoutView",
            "align_content": null,
            "align_items": null,
            "align_self": null,
            "border": null,
            "bottom": null,
            "display": null,
            "flex": null,
            "flex_flow": null,
            "grid_area": null,
            "grid_auto_columns": null,
            "grid_auto_flow": null,
            "grid_auto_rows": null,
            "grid_column": null,
            "grid_gap": null,
            "grid_row": null,
            "grid_template_areas": null,
            "grid_template_columns": null,
            "grid_template_rows": null,
            "height": null,
            "justify_content": null,
            "justify_items": null,
            "left": null,
            "margin": null,
            "max_height": null,
            "max_width": null,
            "min_height": null,
            "min_width": null,
            "object_fit": null,
            "object_position": null,
            "order": null,
            "overflow": null,
            "overflow_x": null,
            "overflow_y": null,
            "padding": null,
            "right": null,
            "top": null,
            "visibility": null,
            "width": null
          }
        },
        "7f9b573e90344f5bac48c283f2b84ba6": {
          "model_module": "@jupyter-widgets/controls",
          "model_name": "DescriptionStyleModel",
          "model_module_version": "1.5.0",
          "state": {
            "_model_module": "@jupyter-widgets/controls",
            "_model_module_version": "1.5.0",
            "_model_name": "DescriptionStyleModel",
            "_view_count": null,
            "_view_module": "@jupyter-widgets/base",
            "_view_module_version": "1.2.0",
            "_view_name": "StyleView",
            "description_width": ""
          }
        },
        "5c6c0adb7e3644b6be76a439bc60082f": {
          "model_module": "@jupyter-widgets/controls",
          "model_name": "HBoxModel",
          "model_module_version": "1.5.0",
          "state": {
            "_dom_classes": [],
            "_model_module": "@jupyter-widgets/controls",
            "_model_module_version": "1.5.0",
            "_model_name": "HBoxModel",
            "_view_count": null,
            "_view_module": "@jupyter-widgets/controls",
            "_view_module_version": "1.5.0",
            "_view_name": "HBoxView",
            "box_style": "",
            "children": [
              "IPY_MODEL_2b7bdfc367fc44f097213f640cc95a77",
              "IPY_MODEL_968b2ad9cd014d2eab0437fdf9937d9f",
              "IPY_MODEL_81c06a44926641fdb2ff8ff847ff6ab6"
            ],
            "layout": "IPY_MODEL_f6ddd09a4ac945f7ad8407077c16773f"
          }
        },
        "2b7bdfc367fc44f097213f640cc95a77": {
          "model_module": "@jupyter-widgets/controls",
          "model_name": "HTMLModel",
          "model_module_version": "1.5.0",
          "state": {
            "_dom_classes": [],
            "_model_module": "@jupyter-widgets/controls",
            "_model_module_version": "1.5.0",
            "_model_name": "HTMLModel",
            "_view_count": null,
            "_view_module": "@jupyter-widgets/controls",
            "_view_module_version": "1.5.0",
            "_view_name": "HTMLView",
            "description": "",
            "description_tooltip": null,
            "layout": "IPY_MODEL_5a65f7dbd3b845989b76787a71b401b9",
            "placeholder": "​",
            "style": "IPY_MODEL_2d2ed64577cd4bf087863fe3ac43cd30",
            "value": "Batches: 100%"
          }
        },
        "968b2ad9cd014d2eab0437fdf9937d9f": {
          "model_module": "@jupyter-widgets/controls",
          "model_name": "FloatProgressModel",
          "model_module_version": "1.5.0",
          "state": {
            "_dom_classes": [],
            "_model_module": "@jupyter-widgets/controls",
            "_model_module_version": "1.5.0",
            "_model_name": "FloatProgressModel",
            "_view_count": null,
            "_view_module": "@jupyter-widgets/controls",
            "_view_module_version": "1.5.0",
            "_view_name": "ProgressView",
            "bar_style": "success",
            "description": "",
            "description_tooltip": null,
            "layout": "IPY_MODEL_1ca22c8718144b039c080f6f3378c169",
            "max": 84,
            "min": 0,
            "orientation": "horizontal",
            "style": "IPY_MODEL_eb8a50646f064a6ea002b3d6d249ef63",
            "value": 84
          }
        },
        "81c06a44926641fdb2ff8ff847ff6ab6": {
          "model_module": "@jupyter-widgets/controls",
          "model_name": "HTMLModel",
          "model_module_version": "1.5.0",
          "state": {
            "_dom_classes": [],
            "_model_module": "@jupyter-widgets/controls",
            "_model_module_version": "1.5.0",
            "_model_name": "HTMLModel",
            "_view_count": null,
            "_view_module": "@jupyter-widgets/controls",
            "_view_module_version": "1.5.0",
            "_view_name": "HTMLView",
            "description": "",
            "description_tooltip": null,
            "layout": "IPY_MODEL_ec8e34abb30a454e91f5c3802277e103",
            "placeholder": "​",
            "style": "IPY_MODEL_7670345c4947487ab7795683f36e6f6b",
            "value": " 84/84 [04:58&lt;00:00,  2.53s/it]"
          }
        },
        "f6ddd09a4ac945f7ad8407077c16773f": {
          "model_module": "@jupyter-widgets/base",
          "model_name": "LayoutModel",
          "model_module_version": "1.2.0",
          "state": {
            "_model_module": "@jupyter-widgets/base",
            "_model_module_version": "1.2.0",
            "_model_name": "LayoutModel",
            "_view_count": null,
            "_view_module": "@jupyter-widgets/base",
            "_view_module_version": "1.2.0",
            "_view_name": "LayoutView",
            "align_content": null,
            "align_items": null,
            "align_self": null,
            "border": null,
            "bottom": null,
            "display": null,
            "flex": null,
            "flex_flow": null,
            "grid_area": null,
            "grid_auto_columns": null,
            "grid_auto_flow": null,
            "grid_auto_rows": null,
            "grid_column": null,
            "grid_gap": null,
            "grid_row": null,
            "grid_template_areas": null,
            "grid_template_columns": null,
            "grid_template_rows": null,
            "height": null,
            "justify_content": null,
            "justify_items": null,
            "left": null,
            "margin": null,
            "max_height": null,
            "max_width": null,
            "min_height": null,
            "min_width": null,
            "object_fit": null,
            "object_position": null,
            "order": null,
            "overflow": null,
            "overflow_x": null,
            "overflow_y": null,
            "padding": null,
            "right": null,
            "top": null,
            "visibility": null,
            "width": null
          }
        },
        "5a65f7dbd3b845989b76787a71b401b9": {
          "model_module": "@jupyter-widgets/base",
          "model_name": "LayoutModel",
          "model_module_version": "1.2.0",
          "state": {
            "_model_module": "@jupyter-widgets/base",
            "_model_module_version": "1.2.0",
            "_model_name": "LayoutModel",
            "_view_count": null,
            "_view_module": "@jupyter-widgets/base",
            "_view_module_version": "1.2.0",
            "_view_name": "LayoutView",
            "align_content": null,
            "align_items": null,
            "align_self": null,
            "border": null,
            "bottom": null,
            "display": null,
            "flex": null,
            "flex_flow": null,
            "grid_area": null,
            "grid_auto_columns": null,
            "grid_auto_flow": null,
            "grid_auto_rows": null,
            "grid_column": null,
            "grid_gap": null,
            "grid_row": null,
            "grid_template_areas": null,
            "grid_template_columns": null,
            "grid_template_rows": null,
            "height": null,
            "justify_content": null,
            "justify_items": null,
            "left": null,
            "margin": null,
            "max_height": null,
            "max_width": null,
            "min_height": null,
            "min_width": null,
            "object_fit": null,
            "object_position": null,
            "order": null,
            "overflow": null,
            "overflow_x": null,
            "overflow_y": null,
            "padding": null,
            "right": null,
            "top": null,
            "visibility": null,
            "width": null
          }
        },
        "2d2ed64577cd4bf087863fe3ac43cd30": {
          "model_module": "@jupyter-widgets/controls",
          "model_name": "DescriptionStyleModel",
          "model_module_version": "1.5.0",
          "state": {
            "_model_module": "@jupyter-widgets/controls",
            "_model_module_version": "1.5.0",
            "_model_name": "DescriptionStyleModel",
            "_view_count": null,
            "_view_module": "@jupyter-widgets/base",
            "_view_module_version": "1.2.0",
            "_view_name": "StyleView",
            "description_width": ""
          }
        },
        "1ca22c8718144b039c080f6f3378c169": {
          "model_module": "@jupyter-widgets/base",
          "model_name": "LayoutModel",
          "model_module_version": "1.2.0",
          "state": {
            "_model_module": "@jupyter-widgets/base",
            "_model_module_version": "1.2.0",
            "_model_name": "LayoutModel",
            "_view_count": null,
            "_view_module": "@jupyter-widgets/base",
            "_view_module_version": "1.2.0",
            "_view_name": "LayoutView",
            "align_content": null,
            "align_items": null,
            "align_self": null,
            "border": null,
            "bottom": null,
            "display": null,
            "flex": null,
            "flex_flow": null,
            "grid_area": null,
            "grid_auto_columns": null,
            "grid_auto_flow": null,
            "grid_auto_rows": null,
            "grid_column": null,
            "grid_gap": null,
            "grid_row": null,
            "grid_template_areas": null,
            "grid_template_columns": null,
            "grid_template_rows": null,
            "height": null,
            "justify_content": null,
            "justify_items": null,
            "left": null,
            "margin": null,
            "max_height": null,
            "max_width": null,
            "min_height": null,
            "min_width": null,
            "object_fit": null,
            "object_position": null,
            "order": null,
            "overflow": null,
            "overflow_x": null,
            "overflow_y": null,
            "padding": null,
            "right": null,
            "top": null,
            "visibility": null,
            "width": null
          }
        },
        "eb8a50646f064a6ea002b3d6d249ef63": {
          "model_module": "@jupyter-widgets/controls",
          "model_name": "ProgressStyleModel",
          "model_module_version": "1.5.0",
          "state": {
            "_model_module": "@jupyter-widgets/controls",
            "_model_module_version": "1.5.0",
            "_model_name": "ProgressStyleModel",
            "_view_count": null,
            "_view_module": "@jupyter-widgets/base",
            "_view_module_version": "1.2.0",
            "_view_name": "StyleView",
            "bar_color": null,
            "description_width": ""
          }
        },
        "ec8e34abb30a454e91f5c3802277e103": {
          "model_module": "@jupyter-widgets/base",
          "model_name": "LayoutModel",
          "model_module_version": "1.2.0",
          "state": {
            "_model_module": "@jupyter-widgets/base",
            "_model_module_version": "1.2.0",
            "_model_name": "LayoutModel",
            "_view_count": null,
            "_view_module": "@jupyter-widgets/base",
            "_view_module_version": "1.2.0",
            "_view_name": "LayoutView",
            "align_content": null,
            "align_items": null,
            "align_self": null,
            "border": null,
            "bottom": null,
            "display": null,
            "flex": null,
            "flex_flow": null,
            "grid_area": null,
            "grid_auto_columns": null,
            "grid_auto_flow": null,
            "grid_auto_rows": null,
            "grid_column": null,
            "grid_gap": null,
            "grid_row": null,
            "grid_template_areas": null,
            "grid_template_columns": null,
            "grid_template_rows": null,
            "height": null,
            "justify_content": null,
            "justify_items": null,
            "left": null,
            "margin": null,
            "max_height": null,
            "max_width": null,
            "min_height": null,
            "min_width": null,
            "object_fit": null,
            "object_position": null,
            "order": null,
            "overflow": null,
            "overflow_x": null,
            "overflow_y": null,
            "padding": null,
            "right": null,
            "top": null,
            "visibility": null,
            "width": null
          }
        },
        "7670345c4947487ab7795683f36e6f6b": {
          "model_module": "@jupyter-widgets/controls",
          "model_name": "DescriptionStyleModel",
          "model_module_version": "1.5.0",
          "state": {
            "_model_module": "@jupyter-widgets/controls",
            "_model_module_version": "1.5.0",
            "_model_name": "DescriptionStyleModel",
            "_view_count": null,
            "_view_module": "@jupyter-widgets/base",
            "_view_module_version": "1.2.0",
            "_view_name": "StyleView",
            "description_width": ""
          }
        },
        "affd5bc09b6748dd886cf4412bc50078": {
          "model_module": "@jupyter-widgets/controls",
          "model_name": "HBoxModel",
          "model_module_version": "1.5.0",
          "state": {
            "_dom_classes": [],
            "_model_module": "@jupyter-widgets/controls",
            "_model_module_version": "1.5.0",
            "_model_name": "HBoxModel",
            "_view_count": null,
            "_view_module": "@jupyter-widgets/controls",
            "_view_module_version": "1.5.0",
            "_view_name": "HBoxView",
            "box_style": "",
            "children": [
              "IPY_MODEL_ced8310e983745258940028f55d3ec00",
              "IPY_MODEL_ab67700b7e6a4fc498d3cd9831592917",
              "IPY_MODEL_79d6b2abd75a4d488ee1178208f261ed"
            ],
            "layout": "IPY_MODEL_e4342534171b4b7e840500d107ec83ec"
          }
        },
        "ced8310e983745258940028f55d3ec00": {
          "model_module": "@jupyter-widgets/controls",
          "model_name": "HTMLModel",
          "model_module_version": "1.5.0",
          "state": {
            "_dom_classes": [],
            "_model_module": "@jupyter-widgets/controls",
            "_model_module_version": "1.5.0",
            "_model_name": "HTMLModel",
            "_view_count": null,
            "_view_module": "@jupyter-widgets/controls",
            "_view_module_version": "1.5.0",
            "_view_name": "HTMLView",
            "description": "",
            "description_tooltip": null,
            "layout": "IPY_MODEL_6be82fdb386544cfa0a13a5768f26962",
            "placeholder": "​",
            "style": "IPY_MODEL_e9e85b2a467845469489ba939b7a7958",
            "value": "Batches: 100%"
          }
        },
        "ab67700b7e6a4fc498d3cd9831592917": {
          "model_module": "@jupyter-widgets/controls",
          "model_name": "FloatProgressModel",
          "model_module_version": "1.5.0",
          "state": {
            "_dom_classes": [],
            "_model_module": "@jupyter-widgets/controls",
            "_model_module_version": "1.5.0",
            "_model_name": "FloatProgressModel",
            "_view_count": null,
            "_view_module": "@jupyter-widgets/controls",
            "_view_module_version": "1.5.0",
            "_view_name": "ProgressView",
            "bar_style": "success",
            "description": "",
            "description_tooltip": null,
            "layout": "IPY_MODEL_0e8757e2ab6b4585ada15f3d3c5f95f2",
            "max": 91,
            "min": 0,
            "orientation": "horizontal",
            "style": "IPY_MODEL_5ed4d70cb15d465a90e3862b7c289512",
            "value": 91
          }
        },
        "79d6b2abd75a4d488ee1178208f261ed": {
          "model_module": "@jupyter-widgets/controls",
          "model_name": "HTMLModel",
          "model_module_version": "1.5.0",
          "state": {
            "_dom_classes": [],
            "_model_module": "@jupyter-widgets/controls",
            "_model_module_version": "1.5.0",
            "_model_name": "HTMLModel",
            "_view_count": null,
            "_view_module": "@jupyter-widgets/controls",
            "_view_module_version": "1.5.0",
            "_view_name": "HTMLView",
            "description": "",
            "description_tooltip": null,
            "layout": "IPY_MODEL_a2d2cc1029e64712b7d650285812eaf4",
            "placeholder": "​",
            "style": "IPY_MODEL_e6184bcc13ff4af3a51de5d04f9127f4",
            "value": " 91/91 [05:01&lt;00:00,  3.15s/it]"
          }
        },
        "e4342534171b4b7e840500d107ec83ec": {
          "model_module": "@jupyter-widgets/base",
          "model_name": "LayoutModel",
          "model_module_version": "1.2.0",
          "state": {
            "_model_module": "@jupyter-widgets/base",
            "_model_module_version": "1.2.0",
            "_model_name": "LayoutModel",
            "_view_count": null,
            "_view_module": "@jupyter-widgets/base",
            "_view_module_version": "1.2.0",
            "_view_name": "LayoutView",
            "align_content": null,
            "align_items": null,
            "align_self": null,
            "border": null,
            "bottom": null,
            "display": null,
            "flex": null,
            "flex_flow": null,
            "grid_area": null,
            "grid_auto_columns": null,
            "grid_auto_flow": null,
            "grid_auto_rows": null,
            "grid_column": null,
            "grid_gap": null,
            "grid_row": null,
            "grid_template_areas": null,
            "grid_template_columns": null,
            "grid_template_rows": null,
            "height": null,
            "justify_content": null,
            "justify_items": null,
            "left": null,
            "margin": null,
            "max_height": null,
            "max_width": null,
            "min_height": null,
            "min_width": null,
            "object_fit": null,
            "object_position": null,
            "order": null,
            "overflow": null,
            "overflow_x": null,
            "overflow_y": null,
            "padding": null,
            "right": null,
            "top": null,
            "visibility": null,
            "width": null
          }
        },
        "6be82fdb386544cfa0a13a5768f26962": {
          "model_module": "@jupyter-widgets/base",
          "model_name": "LayoutModel",
          "model_module_version": "1.2.0",
          "state": {
            "_model_module": "@jupyter-widgets/base",
            "_model_module_version": "1.2.0",
            "_model_name": "LayoutModel",
            "_view_count": null,
            "_view_module": "@jupyter-widgets/base",
            "_view_module_version": "1.2.0",
            "_view_name": "LayoutView",
            "align_content": null,
            "align_items": null,
            "align_self": null,
            "border": null,
            "bottom": null,
            "display": null,
            "flex": null,
            "flex_flow": null,
            "grid_area": null,
            "grid_auto_columns": null,
            "grid_auto_flow": null,
            "grid_auto_rows": null,
            "grid_column": null,
            "grid_gap": null,
            "grid_row": null,
            "grid_template_areas": null,
            "grid_template_columns": null,
            "grid_template_rows": null,
            "height": null,
            "justify_content": null,
            "justify_items": null,
            "left": null,
            "margin": null,
            "max_height": null,
            "max_width": null,
            "min_height": null,
            "min_width": null,
            "object_fit": null,
            "object_position": null,
            "order": null,
            "overflow": null,
            "overflow_x": null,
            "overflow_y": null,
            "padding": null,
            "right": null,
            "top": null,
            "visibility": null,
            "width": null
          }
        },
        "e9e85b2a467845469489ba939b7a7958": {
          "model_module": "@jupyter-widgets/controls",
          "model_name": "DescriptionStyleModel",
          "model_module_version": "1.5.0",
          "state": {
            "_model_module": "@jupyter-widgets/controls",
            "_model_module_version": "1.5.0",
            "_model_name": "DescriptionStyleModel",
            "_view_count": null,
            "_view_module": "@jupyter-widgets/base",
            "_view_module_version": "1.2.0",
            "_view_name": "StyleView",
            "description_width": ""
          }
        },
        "0e8757e2ab6b4585ada15f3d3c5f95f2": {
          "model_module": "@jupyter-widgets/base",
          "model_name": "LayoutModel",
          "model_module_version": "1.2.0",
          "state": {
            "_model_module": "@jupyter-widgets/base",
            "_model_module_version": "1.2.0",
            "_model_name": "LayoutModel",
            "_view_count": null,
            "_view_module": "@jupyter-widgets/base",
            "_view_module_version": "1.2.0",
            "_view_name": "LayoutView",
            "align_content": null,
            "align_items": null,
            "align_self": null,
            "border": null,
            "bottom": null,
            "display": null,
            "flex": null,
            "flex_flow": null,
            "grid_area": null,
            "grid_auto_columns": null,
            "grid_auto_flow": null,
            "grid_auto_rows": null,
            "grid_column": null,
            "grid_gap": null,
            "grid_row": null,
            "grid_template_areas": null,
            "grid_template_columns": null,
            "grid_template_rows": null,
            "height": null,
            "justify_content": null,
            "justify_items": null,
            "left": null,
            "margin": null,
            "max_height": null,
            "max_width": null,
            "min_height": null,
            "min_width": null,
            "object_fit": null,
            "object_position": null,
            "order": null,
            "overflow": null,
            "overflow_x": null,
            "overflow_y": null,
            "padding": null,
            "right": null,
            "top": null,
            "visibility": null,
            "width": null
          }
        },
        "5ed4d70cb15d465a90e3862b7c289512": {
          "model_module": "@jupyter-widgets/controls",
          "model_name": "ProgressStyleModel",
          "model_module_version": "1.5.0",
          "state": {
            "_model_module": "@jupyter-widgets/controls",
            "_model_module_version": "1.5.0",
            "_model_name": "ProgressStyleModel",
            "_view_count": null,
            "_view_module": "@jupyter-widgets/base",
            "_view_module_version": "1.2.0",
            "_view_name": "StyleView",
            "bar_color": null,
            "description_width": ""
          }
        },
        "a2d2cc1029e64712b7d650285812eaf4": {
          "model_module": "@jupyter-widgets/base",
          "model_name": "LayoutModel",
          "model_module_version": "1.2.0",
          "state": {
            "_model_module": "@jupyter-widgets/base",
            "_model_module_version": "1.2.0",
            "_model_name": "LayoutModel",
            "_view_count": null,
            "_view_module": "@jupyter-widgets/base",
            "_view_module_version": "1.2.0",
            "_view_name": "LayoutView",
            "align_content": null,
            "align_items": null,
            "align_self": null,
            "border": null,
            "bottom": null,
            "display": null,
            "flex": null,
            "flex_flow": null,
            "grid_area": null,
            "grid_auto_columns": null,
            "grid_auto_flow": null,
            "grid_auto_rows": null,
            "grid_column": null,
            "grid_gap": null,
            "grid_row": null,
            "grid_template_areas": null,
            "grid_template_columns": null,
            "grid_template_rows": null,
            "height": null,
            "justify_content": null,
            "justify_items": null,
            "left": null,
            "margin": null,
            "max_height": null,
            "max_width": null,
            "min_height": null,
            "min_width": null,
            "object_fit": null,
            "object_position": null,
            "order": null,
            "overflow": null,
            "overflow_x": null,
            "overflow_y": null,
            "padding": null,
            "right": null,
            "top": null,
            "visibility": null,
            "width": null
          }
        },
        "e6184bcc13ff4af3a51de5d04f9127f4": {
          "model_module": "@jupyter-widgets/controls",
          "model_name": "DescriptionStyleModel",
          "model_module_version": "1.5.0",
          "state": {
            "_model_module": "@jupyter-widgets/controls",
            "_model_module_version": "1.5.0",
            "_model_name": "DescriptionStyleModel",
            "_view_count": null,
            "_view_module": "@jupyter-widgets/base",
            "_view_module_version": "1.2.0",
            "_view_name": "StyleView",
            "description_width": ""
          }
        }
      }
    }
  },
  "cells": [
    {
      "cell_type": "code",
      "execution_count": 1,
      "metadata": {
        "id": "u4qT3LIib0jl",
        "outputId": "609d8627-c23a-487c-fc5f-e26e2848abb2",
        "colab": {
          "base_uri": "https://localhost:8080/"
        }
      },
      "outputs": [
        {
          "output_type": "stream",
          "name": "stdout",
          "text": [
            "Collecting bertopic\n",
            "  Downloading bertopic-0.9.4-py2.py3-none-any.whl (57 kB)\n",
            "\u001b[?25l\r\u001b[K     |█████▊                          | 10 kB 24.1 MB/s eta 0:00:01\r\u001b[K     |███████████▍                    | 20 kB 24.9 MB/s eta 0:00:01\r\u001b[K     |█████████████████               | 30 kB 25.9 MB/s eta 0:00:01\r\u001b[K     |██████████████████████▊         | 40 kB 14.0 MB/s eta 0:00:01\r\u001b[K     |████████████████████████████▍   | 51 kB 13.3 MB/s eta 0:00:01\r\u001b[K     |████████████████████████████████| 57 kB 3.4 MB/s \n",
            "\u001b[?25hRequirement already satisfied: pandas>=1.1.5 in /usr/local/lib/python3.7/dist-packages (from bertopic) (1.3.5)\n",
            "Requirement already satisfied: plotly>=4.7.0 in /usr/local/lib/python3.7/dist-packages (from bertopic) (5.5.0)\n",
            "Collecting hdbscan>=0.8.27\n",
            "  Downloading hdbscan-0.8.28.tar.gz (5.2 MB)\n",
            "\u001b[K     |████████████████████████████████| 5.2 MB 23.9 MB/s \n",
            "\u001b[?25h  Installing build dependencies ... \u001b[?25l\u001b[?25hdone\n",
            "  Getting requirements to build wheel ... \u001b[?25l\u001b[?25hdone\n",
            "    Preparing wheel metadata ... \u001b[?25l\u001b[?25hdone\n",
            "Requirement already satisfied: tqdm>=4.41.1 in /usr/local/lib/python3.7/dist-packages (from bertopic) (4.64.0)\n",
            "Collecting sentence-transformers>=0.4.1\n",
            "  Downloading sentence-transformers-2.2.0.tar.gz (79 kB)\n",
            "\u001b[K     |████████████████████████████████| 79 kB 9.5 MB/s \n",
            "\u001b[?25hCollecting umap-learn>=0.5.0\n",
            "  Downloading umap-learn-0.5.3.tar.gz (88 kB)\n",
            "\u001b[K     |████████████████████████████████| 88 kB 8.3 MB/s \n",
            "\u001b[?25hRequirement already satisfied: pyyaml<6.0 in /usr/local/lib/python3.7/dist-packages (from bertopic) (3.13)\n",
            "Requirement already satisfied: scikit-learn>=0.22.2.post1 in /usr/local/lib/python3.7/dist-packages (from bertopic) (1.0.2)\n",
            "Requirement already satisfied: numpy>=1.20.0 in /usr/local/lib/python3.7/dist-packages (from bertopic) (1.21.6)\n",
            "Requirement already satisfied: cython>=0.27 in /usr/local/lib/python3.7/dist-packages (from hdbscan>=0.8.27->bertopic) (0.29.28)\n",
            "Requirement already satisfied: joblib>=1.0 in /usr/local/lib/python3.7/dist-packages (from hdbscan>=0.8.27->bertopic) (1.1.0)\n",
            "Requirement already satisfied: scipy>=1.0 in /usr/local/lib/python3.7/dist-packages (from hdbscan>=0.8.27->bertopic) (1.4.1)\n",
            "Requirement already satisfied: pytz>=2017.3 in /usr/local/lib/python3.7/dist-packages (from pandas>=1.1.5->bertopic) (2022.1)\n",
            "Requirement already satisfied: python-dateutil>=2.7.3 in /usr/local/lib/python3.7/dist-packages (from pandas>=1.1.5->bertopic) (2.8.2)\n",
            "Requirement already satisfied: six in /usr/local/lib/python3.7/dist-packages (from plotly>=4.7.0->bertopic) (1.15.0)\n",
            "Requirement already satisfied: tenacity>=6.2.0 in /usr/local/lib/python3.7/dist-packages (from plotly>=4.7.0->bertopic) (8.0.1)\n",
            "Requirement already satisfied: threadpoolctl>=2.0.0 in /usr/local/lib/python3.7/dist-packages (from scikit-learn>=0.22.2.post1->bertopic) (3.1.0)\n",
            "Collecting transformers<5.0.0,>=4.6.0\n",
            "  Downloading transformers-4.18.0-py3-none-any.whl (4.0 MB)\n",
            "\u001b[K     |████████████████████████████████| 4.0 MB 42.5 MB/s \n",
            "\u001b[?25hRequirement already satisfied: torch>=1.6.0 in /usr/local/lib/python3.7/dist-packages (from sentence-transformers>=0.4.1->bertopic) (1.10.0+cu111)\n",
            "Requirement already satisfied: torchvision in /usr/local/lib/python3.7/dist-packages (from sentence-transformers>=0.4.1->bertopic) (0.11.1+cu111)\n",
            "Requirement already satisfied: nltk in /usr/local/lib/python3.7/dist-packages (from sentence-transformers>=0.4.1->bertopic) (3.2.5)\n",
            "Collecting sentencepiece\n",
            "  Downloading sentencepiece-0.1.96-cp37-cp37m-manylinux_2_17_x86_64.manylinux2014_x86_64.whl (1.2 MB)\n",
            "\u001b[K     |████████████████████████████████| 1.2 MB 46.8 MB/s \n",
            "\u001b[?25hCollecting huggingface-hub\n",
            "  Downloading huggingface_hub-0.5.1-py3-none-any.whl (77 kB)\n",
            "\u001b[K     |████████████████████████████████| 77 kB 8.6 MB/s \n",
            "\u001b[?25hRequirement already satisfied: typing-extensions in /usr/local/lib/python3.7/dist-packages (from torch>=1.6.0->sentence-transformers>=0.4.1->bertopic) (4.1.1)\n",
            "Collecting tokenizers!=0.11.3,<0.13,>=0.11.1\n",
            "  Downloading tokenizers-0.12.1-cp37-cp37m-manylinux_2_12_x86_64.manylinux2010_x86_64.whl (6.6 MB)\n",
            "\u001b[K     |████████████████████████████████| 6.6 MB 52.4 MB/s \n",
            "\u001b[?25hRequirement already satisfied: filelock in /usr/local/lib/python3.7/dist-packages (from transformers<5.0.0,>=4.6.0->sentence-transformers>=0.4.1->bertopic) (3.6.0)\n",
            "Requirement already satisfied: requests in /usr/local/lib/python3.7/dist-packages (from transformers<5.0.0,>=4.6.0->sentence-transformers>=0.4.1->bertopic) (2.23.0)\n",
            "Requirement already satisfied: importlib-metadata in /usr/local/lib/python3.7/dist-packages (from transformers<5.0.0,>=4.6.0->sentence-transformers>=0.4.1->bertopic) (4.11.3)\n",
            "Requirement already satisfied: packaging>=20.0 in /usr/local/lib/python3.7/dist-packages (from transformers<5.0.0,>=4.6.0->sentence-transformers>=0.4.1->bertopic) (21.3)\n",
            "Collecting sacremoses\n",
            "  Downloading sacremoses-0.0.49-py3-none-any.whl (895 kB)\n",
            "\u001b[K     |████████████████████████████████| 895 kB 50.0 MB/s \n",
            "\u001b[?25hRequirement already satisfied: regex!=2019.12.17 in /usr/local/lib/python3.7/dist-packages (from transformers<5.0.0,>=4.6.0->sentence-transformers>=0.4.1->bertopic) (2019.12.20)\n",
            "Collecting pyyaml<6.0\n",
            "  Downloading PyYAML-5.4.1-cp37-cp37m-manylinux1_x86_64.whl (636 kB)\n",
            "\u001b[K     |████████████████████████████████| 636 kB 54.7 MB/s \n",
            "\u001b[?25hRequirement already satisfied: pyparsing!=3.0.5,>=2.0.2 in /usr/local/lib/python3.7/dist-packages (from packaging>=20.0->transformers<5.0.0,>=4.6.0->sentence-transformers>=0.4.1->bertopic) (3.0.8)\n",
            "Requirement already satisfied: numba>=0.49 in /usr/local/lib/python3.7/dist-packages (from umap-learn>=0.5.0->bertopic) (0.51.2)\n",
            "Collecting pynndescent>=0.5\n",
            "  Downloading pynndescent-0.5.6.tar.gz (1.1 MB)\n",
            "\u001b[K     |████████████████████████████████| 1.1 MB 55.2 MB/s \n",
            "\u001b[?25hRequirement already satisfied: setuptools in /usr/local/lib/python3.7/dist-packages (from numba>=0.49->umap-learn>=0.5.0->bertopic) (57.4.0)\n",
            "Requirement already satisfied: llvmlite<0.35,>=0.34.0.dev0 in /usr/local/lib/python3.7/dist-packages (from numba>=0.49->umap-learn>=0.5.0->bertopic) (0.34.0)\n",
            "Requirement already satisfied: zipp>=0.5 in /usr/local/lib/python3.7/dist-packages (from importlib-metadata->transformers<5.0.0,>=4.6.0->sentence-transformers>=0.4.1->bertopic) (3.8.0)\n",
            "Requirement already satisfied: chardet<4,>=3.0.2 in /usr/local/lib/python3.7/dist-packages (from requests->transformers<5.0.0,>=4.6.0->sentence-transformers>=0.4.1->bertopic) (3.0.4)\n",
            "Requirement already satisfied: idna<3,>=2.5 in /usr/local/lib/python3.7/dist-packages (from requests->transformers<5.0.0,>=4.6.0->sentence-transformers>=0.4.1->bertopic) (2.10)\n",
            "Requirement already satisfied: urllib3!=1.25.0,!=1.25.1,<1.26,>=1.21.1 in /usr/local/lib/python3.7/dist-packages (from requests->transformers<5.0.0,>=4.6.0->sentence-transformers>=0.4.1->bertopic) (1.24.3)\n",
            "Requirement already satisfied: certifi>=2017.4.17 in /usr/local/lib/python3.7/dist-packages (from requests->transformers<5.0.0,>=4.6.0->sentence-transformers>=0.4.1->bertopic) (2021.10.8)\n",
            "Requirement already satisfied: click in /usr/local/lib/python3.7/dist-packages (from sacremoses->transformers<5.0.0,>=4.6.0->sentence-transformers>=0.4.1->bertopic) (7.1.2)\n",
            "Requirement already satisfied: pillow!=8.3.0,>=5.3.0 in /usr/local/lib/python3.7/dist-packages (from torchvision->sentence-transformers>=0.4.1->bertopic) (7.1.2)\n",
            "Building wheels for collected packages: hdbscan, sentence-transformers, umap-learn, pynndescent\n",
            "  Building wheel for hdbscan (PEP 517) ... \u001b[?25l\u001b[?25hdone\n",
            "  Created wheel for hdbscan: filename=hdbscan-0.8.28-cp37-cp37m-linux_x86_64.whl size=2330769 sha256=a2dc6d2e87777afb1558426c1c2276f533b4bd90229efec1e364e10772e2059f\n",
            "  Stored in directory: /root/.cache/pip/wheels/6e/7a/5e/259ccc841c085fc41b99ef4a71e896b62f5161f2bc8a14c97a\n",
            "  Building wheel for sentence-transformers (setup.py) ... \u001b[?25l\u001b[?25hdone\n",
            "  Created wheel for sentence-transformers: filename=sentence_transformers-2.2.0-py3-none-any.whl size=120747 sha256=6d4bc5cd11256a847a4428e2b70153b0942f44ed509a606fa2b71757dad9c553\n",
            "  Stored in directory: /root/.cache/pip/wheels/83/c0/df/b6873ab7aac3f2465aa9144b6b4c41c4391cfecc027c8b07e7\n",
            "  Building wheel for umap-learn (setup.py) ... \u001b[?25l\u001b[?25hdone\n",
            "  Created wheel for umap-learn: filename=umap_learn-0.5.3-py3-none-any.whl size=82829 sha256=da8dc6ea6a5c9f3fed44a1692b576cb9010fbe25f608c710411db4ffb5cf4422\n",
            "  Stored in directory: /root/.cache/pip/wheels/b3/52/a5/1fd9e3e76a7ab34f134c07469cd6f16e27ef3a37aeff1fe821\n",
            "  Building wheel for pynndescent (setup.py) ... \u001b[?25l\u001b[?25hdone\n",
            "  Created wheel for pynndescent: filename=pynndescent-0.5.6-py3-none-any.whl size=53943 sha256=fa44b5cb82a9e7d62996d309886e27a94bd4f2f1a39e28b6d8ca3d00d82a83a7\n",
            "  Stored in directory: /root/.cache/pip/wheels/03/f1/56/f80d72741e400345b5a5b50ec3d929aca581bf45e0225d5c50\n",
            "Successfully built hdbscan sentence-transformers umap-learn pynndescent\n",
            "Installing collected packages: pyyaml, tokenizers, sacremoses, huggingface-hub, transformers, sentencepiece, pynndescent, umap-learn, sentence-transformers, hdbscan, bertopic\n",
            "  Attempting uninstall: pyyaml\n",
            "    Found existing installation: PyYAML 3.13\n",
            "    Uninstalling PyYAML-3.13:\n",
            "      Successfully uninstalled PyYAML-3.13\n",
            "Successfully installed bertopic-0.9.4 hdbscan-0.8.28 huggingface-hub-0.5.1 pynndescent-0.5.6 pyyaml-5.4.1 sacremoses-0.0.49 sentence-transformers-2.2.0 sentencepiece-0.1.96 tokenizers-0.12.1 transformers-4.18.0 umap-learn-0.5.3\n"
          ]
        }
      ],
      "source": [
        "!pip install bertopic"
      ]
    },
    {
      "cell_type": "code",
      "source": [
        "from bertopic import BERTopic\n",
        "import pandas as pd"
      ],
      "metadata": {
        "id": "QqDJtLKXcM-m"
      },
      "execution_count": 2,
      "outputs": []
    },
    {
      "cell_type": "markdown",
      "source": [
        "## Data scarcity issue\n",
        "\n",
        "First I tried `nrows=10`, thinking to speed up the exploratory part with just a little bit of data. But I kept getting the error `zero-size array to reduction operation maximum which has no identity` even after increasing to 100 rows. Luckily I found an issue in `MaartenGr/BERTopic` about this, which revealed that too little data will do that as there is not enough text from which to extract any meaningful topics.\n",
        "\n",
        "I then increased to `nrows=500`, since the issue indicated that this seemed to be the minimum amount of data required. Then I had another problem: "
      ],
      "metadata": {
        "id": "-k3AoYSNjKqg"
      }
    },
    {
      "cell_type": "code",
      "source": [
        "# Change to nrows=5563 for the full dataset\n",
        "#df = pd.read_json('https://files.ifi.uzh.ch/cl/siclemat/lehre/fs21/tm/data/all_de_topics.jsonl', lines=True, nrows=500)\n",
        "df = pd.read_json('https://files.ifi.uzh.ch/cl/siclemat/lehre/fs21/tm/data/all_de_topics.jsonl',lines = True, nrows=5563)\n",
        "docs = df.iloc[:,0].tolist()\n",
        "\n",
        "topic_model = BERTopic(verbose=True, language='German')\n",
        "topics, probs = topic_model.fit_transform(docs)\n",
        "topic_model.get_topic_info()\n",
        "topic_model.get_topic(0) # full of stop-words "
      ],
      "metadata": {
        "id": "kDJWf1QkcWpa",
        "outputId": "c0cd9321-17eb-4f9d-d4b5-afad48b461c3",
        "colab": {
          "base_uri": "https://localhost:8080/",
          "height": 229,
          "referenced_widgets": [
            "1616a1f856ab4d27a585abc95203746c",
            "c2b2f498456e43e6ae069524ad065c9d",
            "20ad0def24df4f508f0f1cc15f49c8e8",
            "1c72d6fa67ce4752be60e6350a1721b3",
            "1842adbd53db452299bf41428014f157",
            "44b46297ea8c43d4ba3cbe88a16ada61",
            "fb7a9c35879241fa8da821381c75d3c4",
            "cb76cf4673de498c91cb545a82b09266",
            "c5e52dbe464944f287f0a6d22c7a68b9",
            "a41089160d5049d3b29e829519bdfa82",
            "50c3a87b0e1843d8ae598cbfcd2539de"
          ]
        }
      },
      "execution_count": 79,
      "outputs": [
        {
          "output_type": "display_data",
          "data": {
            "text/plain": [
              "Batches:   0%|          | 0/174 [00:00<?, ?it/s]"
            ],
            "application/vnd.jupyter.widget-view+json": {
              "version_major": 2,
              "version_minor": 0,
              "model_id": "1616a1f856ab4d27a585abc95203746c"
            }
          },
          "metadata": {}
        },
        {
          "output_type": "stream",
          "name": "stderr",
          "text": [
            "2022-04-24 12:42:19,074 - BERTopic - Transformed documents to Embeddings\n",
            "2022-04-24 12:42:35,513 - BERTopic - Reduced dimensionality with UMAP\n",
            "2022-04-24 12:42:35,749 - BERTopic - Clustered UMAP embeddings with HDBSCAN\n"
          ]
        },
        {
          "output_type": "execute_result",
          "data": {
            "text/plain": [
              "                                             content  \\\n",
              "0  Ich bitte Sie namens der Minderheit, diese Mot...   \n",
              "1  Die Kommission für Verkehr und Fernmeldewesen ...   \n",
              "2  Ich bitte Sie, in dieser Frage dem Weg der Kom...   \n",
              "\n",
              "                            target_names  \n",
              "0  FraktionderSchweizerischenVolkspartei  \n",
              "1  FraktionderSchweizerischenVolkspartei  \n",
              "2  FraktionderSchweizerischenVolkspartei  "
            ],
            "text/html": [
              "\n",
              "  <div id=\"df-40a7c0d4-1efe-4c88-8388-04e55adc1dff\">\n",
              "    <div class=\"colab-df-container\">\n",
              "      <div>\n",
              "<style scoped>\n",
              "    .dataframe tbody tr th:only-of-type {\n",
              "        vertical-align: middle;\n",
              "    }\n",
              "\n",
              "    .dataframe tbody tr th {\n",
              "        vertical-align: top;\n",
              "    }\n",
              "\n",
              "    .dataframe thead th {\n",
              "        text-align: right;\n",
              "    }\n",
              "</style>\n",
              "<table border=\"1\" class=\"dataframe\">\n",
              "  <thead>\n",
              "    <tr style=\"text-align: right;\">\n",
              "      <th></th>\n",
              "      <th>content</th>\n",
              "      <th>target_names</th>\n",
              "    </tr>\n",
              "  </thead>\n",
              "  <tbody>\n",
              "    <tr>\n",
              "      <th>0</th>\n",
              "      <td>Ich bitte Sie namens der Minderheit, diese Mot...</td>\n",
              "      <td>FraktionderSchweizerischenVolkspartei</td>\n",
              "    </tr>\n",
              "    <tr>\n",
              "      <th>1</th>\n",
              "      <td>Die Kommission für Verkehr und Fernmeldewesen ...</td>\n",
              "      <td>FraktionderSchweizerischenVolkspartei</td>\n",
              "    </tr>\n",
              "    <tr>\n",
              "      <th>2</th>\n",
              "      <td>Ich bitte Sie, in dieser Frage dem Weg der Kom...</td>\n",
              "      <td>FraktionderSchweizerischenVolkspartei</td>\n",
              "    </tr>\n",
              "  </tbody>\n",
              "</table>\n",
              "</div>\n",
              "      <button class=\"colab-df-convert\" onclick=\"convertToInteractive('df-40a7c0d4-1efe-4c88-8388-04e55adc1dff')\"\n",
              "              title=\"Convert this dataframe to an interactive table.\"\n",
              "              style=\"display:none;\">\n",
              "        \n",
              "  <svg xmlns=\"http://www.w3.org/2000/svg\" height=\"24px\"viewBox=\"0 0 24 24\"\n",
              "       width=\"24px\">\n",
              "    <path d=\"M0 0h24v24H0V0z\" fill=\"none\"/>\n",
              "    <path d=\"M18.56 5.44l.94 2.06.94-2.06 2.06-.94-2.06-.94-.94-2.06-.94 2.06-2.06.94zm-11 1L8.5 8.5l.94-2.06 2.06-.94-2.06-.94L8.5 2.5l-.94 2.06-2.06.94zm10 10l.94 2.06.94-2.06 2.06-.94-2.06-.94-.94-2.06-.94 2.06-2.06.94z\"/><path d=\"M17.41 7.96l-1.37-1.37c-.4-.4-.92-.59-1.43-.59-.52 0-1.04.2-1.43.59L10.3 9.45l-7.72 7.72c-.78.78-.78 2.05 0 2.83L4 21.41c.39.39.9.59 1.41.59.51 0 1.02-.2 1.41-.59l7.78-7.78 2.81-2.81c.8-.78.8-2.07 0-2.86zM5.41 20L4 18.59l7.72-7.72 1.47 1.35L5.41 20z\"/>\n",
              "  </svg>\n",
              "      </button>\n",
              "      \n",
              "  <style>\n",
              "    .colab-df-container {\n",
              "      display:flex;\n",
              "      flex-wrap:wrap;\n",
              "      gap: 12px;\n",
              "    }\n",
              "\n",
              "    .colab-df-convert {\n",
              "      background-color: #E8F0FE;\n",
              "      border: none;\n",
              "      border-radius: 50%;\n",
              "      cursor: pointer;\n",
              "      display: none;\n",
              "      fill: #1967D2;\n",
              "      height: 32px;\n",
              "      padding: 0 0 0 0;\n",
              "      width: 32px;\n",
              "    }\n",
              "\n",
              "    .colab-df-convert:hover {\n",
              "      background-color: #E2EBFA;\n",
              "      box-shadow: 0px 1px 2px rgba(60, 64, 67, 0.3), 0px 1px 3px 1px rgba(60, 64, 67, 0.15);\n",
              "      fill: #174EA6;\n",
              "    }\n",
              "\n",
              "    [theme=dark] .colab-df-convert {\n",
              "      background-color: #3B4455;\n",
              "      fill: #D2E3FC;\n",
              "    }\n",
              "\n",
              "    [theme=dark] .colab-df-convert:hover {\n",
              "      background-color: #434B5C;\n",
              "      box-shadow: 0px 1px 3px 1px rgba(0, 0, 0, 0.15);\n",
              "      filter: drop-shadow(0px 1px 2px rgba(0, 0, 0, 0.3));\n",
              "      fill: #FFFFFF;\n",
              "    }\n",
              "  </style>\n",
              "\n",
              "      <script>\n",
              "        const buttonEl =\n",
              "          document.querySelector('#df-40a7c0d4-1efe-4c88-8388-04e55adc1dff button.colab-df-convert');\n",
              "        buttonEl.style.display =\n",
              "          google.colab.kernel.accessAllowed ? 'block' : 'none';\n",
              "\n",
              "        async function convertToInteractive(key) {\n",
              "          const element = document.querySelector('#df-40a7c0d4-1efe-4c88-8388-04e55adc1dff');\n",
              "          const dataTable =\n",
              "            await google.colab.kernel.invokeFunction('convertToInteractive',\n",
              "                                                     [key], {});\n",
              "          if (!dataTable) return;\n",
              "\n",
              "          const docLinkHtml = 'Like what you see? Visit the ' +\n",
              "            '<a target=\"_blank\" href=https://colab.research.google.com/notebooks/data_table.ipynb>data table notebook</a>'\n",
              "            + ' to learn more about interactive tables.';\n",
              "          element.innerHTML = '';\n",
              "          dataTable['output_type'] = 'display_data';\n",
              "          await google.colab.output.renderOutput(dataTable, element);\n",
              "          const docLink = document.createElement('div');\n",
              "          docLink.innerHTML = docLinkHtml;\n",
              "          element.appendChild(docLink);\n",
              "        }\n",
              "      </script>\n",
              "    </div>\n",
              "  </div>\n",
              "  "
            ]
          },
          "metadata": {},
          "execution_count": 79
        }
      ]
    },
    {
      "cell_type": "code",
      "source": [
        "from sklearn.feature_extraction.text import CountVectorizer\n",
        "import nltk\n",
        "nltk.download('stopwords')\n",
        "from nltk.corpus import stopwords\n",
        "stop_words = stopwords.words('german')\n",
        "#stops = set(stopwords.words('german'))\n",
        "stop_words.extend(['geht', 'müssen', 'muss','ja','sagen','frage','mehr','immer','schon','wurde','000', 'gesagt','sowie','de','bänziger','gibt'])\n",
        "stops = set(stop_words)\n",
        "\n",
        "vectorizer_model = CountVectorizer(ngram_range=(1, 2), stop_words=stops)\n",
        "\n",
        "topic_model = BERTopic(verbose=True, language='German', vectorizer_model=vectorizer_model)\n",
        "topics_svp, probs = topic_model.fit_transform(docs)\n",
        "\n",
        "topic_model.get_topic_info()\n",
        "topic_model.get_topic(0)"
      ],
      "metadata": {
        "id": "3QvmqCBC0mWk"
      },
      "execution_count": null,
      "outputs": []
    },
    {
      "cell_type": "code",
      "source": [
        "parteis = set(df.iloc[:,1].tolist()) # two main parties (SVP/SP)\n",
        "\n",
        "# get SVP - speeches -> create doc_svp out of it\n",
        "# get SP - speeches -> create doc_sp out of it\n",
        "df_svp = df[df['target_names']=='FraktionderSchweizerischenVolkspartei']\n",
        "df_sp = df[df['target_names']=='SozialdemokratischeFraktion']\n",
        "docs_svp = df_svp.iloc[:,0].tolist()\n",
        "docs_sp = df_sp.iloc[:,0].tolist()\n",
        "\n",
        "\"\"\"\n",
        "# SVP topic model - stop-word problem:\n",
        "\n",
        "topic_model = BERTopic(verbose=True, language='German')\n",
        "topics_svp, probs = topic_model.fit_transform(docs_svp)\n",
        "topic_model.get_topic_info()\n",
        "topic_model.get_topic(0) # full of stop-words \n",
        "\"\"\""
      ],
      "metadata": {
        "id": "NbHiPlJkohVL",
        "outputId": "496147ea-4aa5-4057-ff5c-375317f45aff",
        "colab": {
          "base_uri": "https://localhost:8080/",
          "height": 71
        }
      },
      "execution_count": 99,
      "outputs": [
        {
          "output_type": "execute_result",
          "data": {
            "text/plain": [
              "\"\\n# SVP topic model - stop-word problem:\\n\\ntopic_model = BERTopic(verbose=True, language='German')\\ntopics_svp, probs = topic_model.fit_transform(docs_svp)\\ntopic_model.get_topic_info()\\ntopic_model.get_topic(0) # full of stop-words \\n\""
            ],
            "application/vnd.google.colaboratory.intrinsic+json": {
              "type": "string"
            }
          },
          "metadata": {},
          "execution_count": 99
        }
      ]
    },
    {
      "cell_type": "markdown",
      "source": [
        "The topics were full of stopwords! I found yet another issue in `MaartenGr/BERTopic` about this, where they said again that too little data will result in stopwords flooding the results.\n",
        "\n",
        "## Stopword issue\n",
        "\n",
        "For dev I didn't want to increase the data, though, since it takes so long to train, so I threw in the code I found there assigning the `vectorizer_model` to `CountVectorizer` with German stop words as an argument. I'll remove this step for the final model."
      ],
      "metadata": {
        "id": "9HF6uP6Ukqf-"
      }
    },
    {
      "cell_type": "markdown",
      "source": [
        "# Full Data Analysis ( SVP & SP ) "
      ],
      "metadata": {
        "id": "Ngmf1hqT01lM"
      }
    },
    {
      "cell_type": "code",
      "source": [
        "from sklearn.feature_extraction.text import CountVectorizer\n",
        "import nltk\n",
        "nltk.download('stopwords')\n",
        "from nltk.corpus import stopwords\n",
        "stop_words = stopwords.words('german')\n",
        "#stops = set(stopwords.words('german'))\n",
        "stop_words.extend(['geht', 'müssen', 'muss','ja','sagen','frage','mehr','immer','schon','wurde','000', 'gesagt','sowie','de','bänziger','gibt','deshalb'])\n",
        "stops = set(stop_words)\n",
        "\n",
        "vectorizer_model = CountVectorizer(ngram_range=(1, 2), stop_words=stops)\n",
        "\n",
        "topic_model = BERTopic(verbose=True, language='German', vectorizer_model=vectorizer_model)\n",
        "topics, probs = topic_model.fit_transform(docs)\n",
        "\n",
        "topic_model.get_topic_info()\n",
        "topic_model.get_topic(0)"
      ],
      "metadata": {
        "id": "KNBNOk1s0yqi",
        "outputId": "d318c18e-2e25-4b84-8954-347400118adb",
        "colab": {
          "base_uri": "https://localhost:8080/",
          "height": 317,
          "referenced_widgets": [
            "46f1e880612d43d78cba5b25143a44c8",
            "6a31f105f3554674aee570b6268e235a",
            "08c5f1e131d347708387a82773e4abaf",
            "4010aab779854328afc0d0ca075c26e4",
            "2650679424cb4735bf19e5d84d148c94",
            "11e061232bf042c089225d3688e43bb7",
            "84fa355a3fce4eef9c9a2477ac275f50",
            "216a28f7c29942088db261d67bce72ea",
            "58c1c82e06fb4ea9bd7cdbb214a4e1e7",
            "a7dea894c3cb4dcab97e644e7ede7919",
            "7f9b573e90344f5bac48c283f2b84ba6"
          ]
        }
      },
      "execution_count": 129,
      "outputs": [
        {
          "output_type": "stream",
          "name": "stdout",
          "text": [
            "[nltk_data] Downloading package stopwords to /root/nltk_data...\n",
            "[nltk_data]   Package stopwords is already up-to-date!\n"
          ]
        },
        {
          "output_type": "display_data",
          "data": {
            "text/plain": [
              "Batches:   0%|          | 0/174 [00:00<?, ?it/s]"
            ],
            "application/vnd.jupyter.widget-view+json": {
              "version_major": 2,
              "version_minor": 0,
              "model_id": "46f1e880612d43d78cba5b25143a44c8"
            }
          },
          "metadata": {}
        },
        {
          "output_type": "stream",
          "name": "stderr",
          "text": [
            "2022-04-24 14:34:30,167 - BERTopic - Transformed documents to Embeddings\n",
            "2022-04-24 14:34:46,540 - BERTopic - Reduced dimensionality with UMAP\n",
            "2022-04-24 14:34:46,777 - BERTopic - Clustered UMAP embeddings with HDBSCAN\n"
          ]
        },
        {
          "output_type": "execute_result",
          "data": {
            "text/plain": [
              "[('kommission', 0.0058161546705156626),\n",
              " ('bundesrat', 0.0054529228576496395),\n",
              " ('heute', 0.004848917864558722),\n",
              " ('minderheit', 0.004667703747043915),\n",
              " ('initiative', 0.004188996847788368),\n",
              " ('artikel', 0.004007288003161748),\n",
              " ('schweiz', 0.003975946503917055),\n",
              " ('vorlage', 0.003955318067026467),\n",
              " ('herr', 0.0037283346949688197),\n",
              " ('antrag', 0.0037179997701869464)]"
            ]
          },
          "metadata": {},
          "execution_count": 129
        }
      ]
    },
    {
      "cell_type": "code",
      "source": [
        "topic_model.visualize_topics()"
      ],
      "metadata": {
        "id": "7cBAASBh1KIZ",
        "outputId": "5e8d7154-4c2f-4b5f-de31-79bd25a08400",
        "colab": {
          "base_uri": "https://localhost:8080/",
          "height": 667
        }
      },
      "execution_count": 130,
      "outputs": [
        {
          "output_type": "display_data",
          "data": {
            "text/html": [
              "<html>\n",
              "<head><meta charset=\"utf-8\" /></head>\n",
              "<body>\n",
              "    <div>            <script src=\"https://cdnjs.cloudflare.com/ajax/libs/mathjax/2.7.5/MathJax.js?config=TeX-AMS-MML_SVG\"></script><script type=\"text/javascript\">if (window.MathJax) {MathJax.Hub.Config({SVG: {font: \"STIX-Web\"}});}</script>                <script type=\"text/javascript\">window.PlotlyConfig = {MathJaxConfig: 'local'};</script>\n",
              "        <script src=\"https://cdn.plot.ly/plotly-2.8.3.min.js\"></script>                <div id=\"f9d3ed29-3a7a-46f2-b9b5-75fc8debacb2\" class=\"plotly-graph-div\" style=\"height:650px; width:650px;\"></div>            <script type=\"text/javascript\">                                    window.PLOTLYENV=window.PLOTLYENV || {};                                    if (document.getElementById(\"f9d3ed29-3a7a-46f2-b9b5-75fc8debacb2\")) {                    Plotly.newPlot(                        \"f9d3ed29-3a7a-46f2-b9b5-75fc8debacb2\",                        [{\"customdata\":[[0,\"kommission | bundesrat | heute | minderheit | initiative\",875],[1,\"gesundheitswesen | patienten | kosten | versicherten | bundesrat\",561],[2,\"armee | franken | sicherheit | vbs | millionen\",464],[3,\"franken | millionen | millionen franken | milliarden | prozent\",267],[4,\"armee | schweiz | einsatz | sicherheit | schweizer\",132],[5,\"zuwanderung | schweiz | einb\\u00fcrgerung | land | schweizer\",76],[6,\"eu | beitritt | bilateralen | europa | bundesrat\",74],[7,\"initiative | artikel | ausl\\u00e4nder | personen | landesverweisung\",71],[8,\"verkehr | velo | \\u00f6ffentlichen | bundesrat | heute\",66],[9,\"kinder | familien | kindern | eltern | kind\",61],[10,\"bundesrat | restwassermengen | motion | uvp | initiative\",59],[11,\"landwirtschaft | bauern | direktzahlungen | initiative | agrarpolitik\",55],[12,\"landwirtschaft | lebensmittel | schweiz | produkte | konsumenten\",53],[13,\"online | konsumenten | konsumentinnen | konsumentinnen konsumenten | wettbewerb\",50],[14,\"schweiz | banken | nationalbank | eu | schweizer\",47],[15,\"swisscom | schweiz | unternehmen | schweizer | ausland\",47],[16,\"tiere | fleisch | tieren | tierschutz | tier\",46],[17,\"ahv | erg\\u00e4nzungsleistungen | rente | renten | alter\",44],[18,\"schweiz | fl\\u00fcchtlinge | aufnahme | personen | asyl\",44],[19,\"mehrwertsteuer | pauschalbesteuerung | besteuerung | steuern | erbschaftssteuer\",43],[20,\"energien | erneuerbaren | erneuerbaren energien | strom | energie\",43],[21,\"co2 | schweiz | wirtschaft | abgabe | umwelt\",42],[22,\"verfahren | personen | artikel | asylsuchenden | asylgesetz\",42],[23,\"schweiz | demokratie | eu | land | vorrang\",38],[24,\"rauchen | passivrauchen | zigaretten | raucher | schutz passivrauchen\",36],[25,\"pauschalbesteuerung | schweiz | steuern | besteuerung | prozent\",35],[26,\"landwirtschaft | gvo | moratorium | forschung | gentechnisch\",35],[27,\"srg | radio | tv | fernsehen | set top\",32],[28,\"gpk | gpdel | oberaufsicht | gesch\\u00e4ftspr\\u00fcfungsdelegation | ndb\",32],[29,\"cannabis | konsum | cannabiskonsum | heroin | jugendschutz\",31],[30,\"sport | fifa | sports | millionen | sportverb\\u00e4nde\",28],[31,\"frauen | gleichstellung | frau | mann | m\\u00e4nner\",27],[32,\"berufsbildung | fachhochschulen | gsk | berufsbildungsgesetz | bildung\",27],[33,\"strom | preise | konsumenten | artikel | markt\",24],[34,\"kinder | eltern | sexuelle | kindergarten | kindern\",24],[35,\"luftfahrt | flughafen | z\\u00fcrich | skyguide | asde\",23],[36,\"rasa | zuwanderung | migration | initiative | pakt\",23],[37,\"mindestlohn | schweiz | l\\u00f6hne | initiative | lohn\",21],[38,\"bericht | schweiz | europarat | menschenrechte | bundesrat\",21],[39,\"wto | freihandelsabkommen | abkommen | efta | schweiz\",20],[40,\"akw | kernkraftwerke | ausstieg | strom | wasserkraft\",19],[41,\"schwangerschaft | abtreibung | frauen | abtreibungen | initiative\",18],[42,\"mehrwertsteuer | motion | vorlage | bundesrat | mehreinnahmen\",18],[43,\"leasingvertr\\u00e4ge | 15 prozent | konsumkreditgesetz | leasingvertrag | kleinkredite\",17],[44,\"alkohol | bier | alcopops | werbung | jugendlichen\",17],[45,\"ersch\\u00f6pfung | parallelimporte | patentrecht | internationale ersch\\u00f6pfung | schweiz\",15],[46,\"trinkwasser | wasser | umwelt | aktionsplan | gew\\u00e4sser\",15],[47,\"arbeitnehmer | arbeitszeit | stunden | ferien | arbeitnehmerinnen\",15],[48,\"uno | neutralit\\u00e4t | roma | schweiz | kosovo\",13],[49,\"menschenrechte | initiative | schweiz | emrk | v\\u00f6lkerrecht\",12],[50,\"schengen | dublin | schengen dublin | aussengrenze | schengener\",11],[51,\"service public | public | service | initiative | post\",11],[52,\"beruf | reynard | gesundheitsberufegesetz | minderheitsantrag | gesetz\",11],[53,\"ausl\\u00e4nderinnen | ausl\\u00e4nder | gesetz |  | vorstoss 00\",10]],\"hovertemplate\":\"<b>Topic %{customdata[0]}</b><br>Words: %{customdata[1]}<br>Size: %{customdata[2]}\",\"legendgroup\":\"\",\"marker\":{\"color\":\"#B0BEC5\",\"size\":[875,561,464,267,132,76,74,71,66,61,59,55,53,50,47,47,46,44,44,43,43,42,42,38,36,35,35,32,32,31,28,27,27,24,24,23,23,21,21,20,19,18,18,17,17,15,15,15,13,12,11,11,11,10],\"sizemode\":\"area\",\"sizeref\":0.546875,\"symbol\":\"circle\",\"line\":{\"color\":\"DarkSlateGrey\",\"width\":2}},\"mode\":\"markers\",\"name\":\"\",\"orientation\":\"v\",\"showlegend\":false,\"x\":[19.192153930664062,19.116924285888672,9.437760353088379,9.252039909362793,9.437834739685059,0.75835782289505,-1.338979959487915,-7.256316184997559,7.148148536682129,1.9932039976119995,-8.410604476928711,-5.231443405151367,-5.170589923858643,-2.0079598426818848,9.388989448547363,9.519065856933594,-4.8785247802734375,1.8782877922058105,-7.1243438720703125,9.06249713897705,7.329261302947998,7.0351481437683105,-7.162581920623779,-1.4004014730453491,-3.085315704345703,9.128052711486816,-5.068270683288574,7.76237678527832,-1.3878227472305298,-3.0199759006500244,-7.864592552185059,1.6856887340545654,-7.709634780883789,7.693469524383545,-2.1996195316314697,-2.785005569458008,1.1191209554672241,1.4395833015441895,-1.412331223487854,-8.583184242248535,7.3730998039245605,-2.227663040161133,9.193658828735352,-2.2626683712005615,-2.8953702449798584,-2.064202308654785,-8.511529922485352,1.8039251565933228,-8.651183128356934,-1.8502084016799927,0.9560064673423767,-1.9503694772720337,-2.5990407466888428,1.1217018365859985],\"xaxis\":\"x\",\"y\":[-12.490039825439453,-12.414841651916504,7.422460079193115,0.09068933129310608,7.422377109527588,15.674264907836914,3.029578685760498,21.034025192260742,-6.055606365203857,15.734024047851562,7.56804084777832,-8.047810554504395,-7.987321376800537,-1.207526445388794,0.17075499892234802,0.33386075496673584,-7.695115566253662,15.77881145477295,20.901798248291016,-0.7258294224739075,-5.8721489906311035,-6.168590545654297,20.94014549255371,3.27504825592041,-2.7916769981384277,-0.6016101241111755,-7.884862899780273,-5.444479942321777,3.186876058578491,-2.7024149894714355,8.092354774475098,16.307493209838867,8.246350288391113,-5.513423919677734,-2.2715470790863037,-1.9883687496185303,15.822345733642578,15.939064025878906,3.05556583404541,7.385929584503174,-5.826251983642578,-2.2584927082061768,-0.41617846488952637,-1.6188478469848633,-2.517120361328125,-1.379726767539978,7.464227676391602,16.2028865814209,7.3195977210998535,3.165334701538086,15.642558097839355,3.2509777545928955,-2.079751491546631,15.48575496673584],\"yaxis\":\"y\",\"type\":\"scatter\"}],                        {\"template\":{\"data\":{\"barpolar\":[{\"marker\":{\"line\":{\"color\":\"white\",\"width\":0.5},\"pattern\":{\"fillmode\":\"overlay\",\"size\":10,\"solidity\":0.2}},\"type\":\"barpolar\"}],\"bar\":[{\"error_x\":{\"color\":\"rgb(36,36,36)\"},\"error_y\":{\"color\":\"rgb(36,36,36)\"},\"marker\":{\"line\":{\"color\":\"white\",\"width\":0.5},\"pattern\":{\"fillmode\":\"overlay\",\"size\":10,\"solidity\":0.2}},\"type\":\"bar\"}],\"carpet\":[{\"aaxis\":{\"endlinecolor\":\"rgb(36,36,36)\",\"gridcolor\":\"white\",\"linecolor\":\"white\",\"minorgridcolor\":\"white\",\"startlinecolor\":\"rgb(36,36,36)\"},\"baxis\":{\"endlinecolor\":\"rgb(36,36,36)\",\"gridcolor\":\"white\",\"linecolor\":\"white\",\"minorgridcolor\":\"white\",\"startlinecolor\":\"rgb(36,36,36)\"},\"type\":\"carpet\"}],\"choropleth\":[{\"colorbar\":{\"outlinewidth\":1,\"tickcolor\":\"rgb(36,36,36)\",\"ticks\":\"outside\"},\"type\":\"choropleth\"}],\"contourcarpet\":[{\"colorbar\":{\"outlinewidth\":1,\"tickcolor\":\"rgb(36,36,36)\",\"ticks\":\"outside\"},\"type\":\"contourcarpet\"}],\"contour\":[{\"colorbar\":{\"outlinewidth\":1,\"tickcolor\":\"rgb(36,36,36)\",\"ticks\":\"outside\"},\"colorscale\":[[0.0,\"#440154\"],[0.1111111111111111,\"#482878\"],[0.2222222222222222,\"#3e4989\"],[0.3333333333333333,\"#31688e\"],[0.4444444444444444,\"#26828e\"],[0.5555555555555556,\"#1f9e89\"],[0.6666666666666666,\"#35b779\"],[0.7777777777777778,\"#6ece58\"],[0.8888888888888888,\"#b5de2b\"],[1.0,\"#fde725\"]],\"type\":\"contour\"}],\"heatmapgl\":[{\"colorbar\":{\"outlinewidth\":1,\"tickcolor\":\"rgb(36,36,36)\",\"ticks\":\"outside\"},\"colorscale\":[[0.0,\"#440154\"],[0.1111111111111111,\"#482878\"],[0.2222222222222222,\"#3e4989\"],[0.3333333333333333,\"#31688e\"],[0.4444444444444444,\"#26828e\"],[0.5555555555555556,\"#1f9e89\"],[0.6666666666666666,\"#35b779\"],[0.7777777777777778,\"#6ece58\"],[0.8888888888888888,\"#b5de2b\"],[1.0,\"#fde725\"]],\"type\":\"heatmapgl\"}],\"heatmap\":[{\"colorbar\":{\"outlinewidth\":1,\"tickcolor\":\"rgb(36,36,36)\",\"ticks\":\"outside\"},\"colorscale\":[[0.0,\"#440154\"],[0.1111111111111111,\"#482878\"],[0.2222222222222222,\"#3e4989\"],[0.3333333333333333,\"#31688e\"],[0.4444444444444444,\"#26828e\"],[0.5555555555555556,\"#1f9e89\"],[0.6666666666666666,\"#35b779\"],[0.7777777777777778,\"#6ece58\"],[0.8888888888888888,\"#b5de2b\"],[1.0,\"#fde725\"]],\"type\":\"heatmap\"}],\"histogram2dcontour\":[{\"colorbar\":{\"outlinewidth\":1,\"tickcolor\":\"rgb(36,36,36)\",\"ticks\":\"outside\"},\"colorscale\":[[0.0,\"#440154\"],[0.1111111111111111,\"#482878\"],[0.2222222222222222,\"#3e4989\"],[0.3333333333333333,\"#31688e\"],[0.4444444444444444,\"#26828e\"],[0.5555555555555556,\"#1f9e89\"],[0.6666666666666666,\"#35b779\"],[0.7777777777777778,\"#6ece58\"],[0.8888888888888888,\"#b5de2b\"],[1.0,\"#fde725\"]],\"type\":\"histogram2dcontour\"}],\"histogram2d\":[{\"colorbar\":{\"outlinewidth\":1,\"tickcolor\":\"rgb(36,36,36)\",\"ticks\":\"outside\"},\"colorscale\":[[0.0,\"#440154\"],[0.1111111111111111,\"#482878\"],[0.2222222222222222,\"#3e4989\"],[0.3333333333333333,\"#31688e\"],[0.4444444444444444,\"#26828e\"],[0.5555555555555556,\"#1f9e89\"],[0.6666666666666666,\"#35b779\"],[0.7777777777777778,\"#6ece58\"],[0.8888888888888888,\"#b5de2b\"],[1.0,\"#fde725\"]],\"type\":\"histogram2d\"}],\"histogram\":[{\"marker\":{\"line\":{\"color\":\"white\",\"width\":0.6}},\"type\":\"histogram\"}],\"mesh3d\":[{\"colorbar\":{\"outlinewidth\":1,\"tickcolor\":\"rgb(36,36,36)\",\"ticks\":\"outside\"},\"type\":\"mesh3d\"}],\"parcoords\":[{\"line\":{\"colorbar\":{\"outlinewidth\":1,\"tickcolor\":\"rgb(36,36,36)\",\"ticks\":\"outside\"}},\"type\":\"parcoords\"}],\"pie\":[{\"automargin\":true,\"type\":\"pie\"}],\"scatter3d\":[{\"line\":{\"colorbar\":{\"outlinewidth\":1,\"tickcolor\":\"rgb(36,36,36)\",\"ticks\":\"outside\"}},\"marker\":{\"colorbar\":{\"outlinewidth\":1,\"tickcolor\":\"rgb(36,36,36)\",\"ticks\":\"outside\"}},\"type\":\"scatter3d\"}],\"scattercarpet\":[{\"marker\":{\"colorbar\":{\"outlinewidth\":1,\"tickcolor\":\"rgb(36,36,36)\",\"ticks\":\"outside\"}},\"type\":\"scattercarpet\"}],\"scattergeo\":[{\"marker\":{\"colorbar\":{\"outlinewidth\":1,\"tickcolor\":\"rgb(36,36,36)\",\"ticks\":\"outside\"}},\"type\":\"scattergeo\"}],\"scattergl\":[{\"marker\":{\"colorbar\":{\"outlinewidth\":1,\"tickcolor\":\"rgb(36,36,36)\",\"ticks\":\"outside\"}},\"type\":\"scattergl\"}],\"scattermapbox\":[{\"marker\":{\"colorbar\":{\"outlinewidth\":1,\"tickcolor\":\"rgb(36,36,36)\",\"ticks\":\"outside\"}},\"type\":\"scattermapbox\"}],\"scatterpolargl\":[{\"marker\":{\"colorbar\":{\"outlinewidth\":1,\"tickcolor\":\"rgb(36,36,36)\",\"ticks\":\"outside\"}},\"type\":\"scatterpolargl\"}],\"scatterpolar\":[{\"marker\":{\"colorbar\":{\"outlinewidth\":1,\"tickcolor\":\"rgb(36,36,36)\",\"ticks\":\"outside\"}},\"type\":\"scatterpolar\"}],\"scatter\":[{\"marker\":{\"colorbar\":{\"outlinewidth\":1,\"tickcolor\":\"rgb(36,36,36)\",\"ticks\":\"outside\"}},\"type\":\"scatter\"}],\"scatterternary\":[{\"marker\":{\"colorbar\":{\"outlinewidth\":1,\"tickcolor\":\"rgb(36,36,36)\",\"ticks\":\"outside\"}},\"type\":\"scatterternary\"}],\"surface\":[{\"colorbar\":{\"outlinewidth\":1,\"tickcolor\":\"rgb(36,36,36)\",\"ticks\":\"outside\"},\"colorscale\":[[0.0,\"#440154\"],[0.1111111111111111,\"#482878\"],[0.2222222222222222,\"#3e4989\"],[0.3333333333333333,\"#31688e\"],[0.4444444444444444,\"#26828e\"],[0.5555555555555556,\"#1f9e89\"],[0.6666666666666666,\"#35b779\"],[0.7777777777777778,\"#6ece58\"],[0.8888888888888888,\"#b5de2b\"],[1.0,\"#fde725\"]],\"type\":\"surface\"}],\"table\":[{\"cells\":{\"fill\":{\"color\":\"rgb(237,237,237)\"},\"line\":{\"color\":\"white\"}},\"header\":{\"fill\":{\"color\":\"rgb(217,217,217)\"},\"line\":{\"color\":\"white\"}},\"type\":\"table\"}]},\"layout\":{\"annotationdefaults\":{\"arrowhead\":0,\"arrowwidth\":1},\"autotypenumbers\":\"strict\",\"coloraxis\":{\"colorbar\":{\"outlinewidth\":1,\"tickcolor\":\"rgb(36,36,36)\",\"ticks\":\"outside\"}},\"colorscale\":{\"diverging\":[[0.0,\"rgb(103,0,31)\"],[0.1,\"rgb(178,24,43)\"],[0.2,\"rgb(214,96,77)\"],[0.3,\"rgb(244,165,130)\"],[0.4,\"rgb(253,219,199)\"],[0.5,\"rgb(247,247,247)\"],[0.6,\"rgb(209,229,240)\"],[0.7,\"rgb(146,197,222)\"],[0.8,\"rgb(67,147,195)\"],[0.9,\"rgb(33,102,172)\"],[1.0,\"rgb(5,48,97)\"]],\"sequential\":[[0.0,\"#440154\"],[0.1111111111111111,\"#482878\"],[0.2222222222222222,\"#3e4989\"],[0.3333333333333333,\"#31688e\"],[0.4444444444444444,\"#26828e\"],[0.5555555555555556,\"#1f9e89\"],[0.6666666666666666,\"#35b779\"],[0.7777777777777778,\"#6ece58\"],[0.8888888888888888,\"#b5de2b\"],[1.0,\"#fde725\"]],\"sequentialminus\":[[0.0,\"#440154\"],[0.1111111111111111,\"#482878\"],[0.2222222222222222,\"#3e4989\"],[0.3333333333333333,\"#31688e\"],[0.4444444444444444,\"#26828e\"],[0.5555555555555556,\"#1f9e89\"],[0.6666666666666666,\"#35b779\"],[0.7777777777777778,\"#6ece58\"],[0.8888888888888888,\"#b5de2b\"],[1.0,\"#fde725\"]]},\"colorway\":[\"#1F77B4\",\"#FF7F0E\",\"#2CA02C\",\"#D62728\",\"#9467BD\",\"#8C564B\",\"#E377C2\",\"#7F7F7F\",\"#BCBD22\",\"#17BECF\"],\"font\":{\"color\":\"rgb(36,36,36)\"},\"geo\":{\"bgcolor\":\"white\",\"lakecolor\":\"white\",\"landcolor\":\"white\",\"showlakes\":true,\"showland\":true,\"subunitcolor\":\"white\"},\"hoverlabel\":{\"align\":\"left\"},\"hovermode\":\"closest\",\"mapbox\":{\"style\":\"light\"},\"paper_bgcolor\":\"white\",\"plot_bgcolor\":\"white\",\"polar\":{\"angularaxis\":{\"gridcolor\":\"rgb(232,232,232)\",\"linecolor\":\"rgb(36,36,36)\",\"showgrid\":false,\"showline\":true,\"ticks\":\"outside\"},\"bgcolor\":\"white\",\"radialaxis\":{\"gridcolor\":\"rgb(232,232,232)\",\"linecolor\":\"rgb(36,36,36)\",\"showgrid\":false,\"showline\":true,\"ticks\":\"outside\"}},\"scene\":{\"xaxis\":{\"backgroundcolor\":\"white\",\"gridcolor\":\"rgb(232,232,232)\",\"gridwidth\":2,\"linecolor\":\"rgb(36,36,36)\",\"showbackground\":true,\"showgrid\":false,\"showline\":true,\"ticks\":\"outside\",\"zeroline\":false,\"zerolinecolor\":\"rgb(36,36,36)\"},\"yaxis\":{\"backgroundcolor\":\"white\",\"gridcolor\":\"rgb(232,232,232)\",\"gridwidth\":2,\"linecolor\":\"rgb(36,36,36)\",\"showbackground\":true,\"showgrid\":false,\"showline\":true,\"ticks\":\"outside\",\"zeroline\":false,\"zerolinecolor\":\"rgb(36,36,36)\"},\"zaxis\":{\"backgroundcolor\":\"white\",\"gridcolor\":\"rgb(232,232,232)\",\"gridwidth\":2,\"linecolor\":\"rgb(36,36,36)\",\"showbackground\":true,\"showgrid\":false,\"showline\":true,\"ticks\":\"outside\",\"zeroline\":false,\"zerolinecolor\":\"rgb(36,36,36)\"}},\"shapedefaults\":{\"fillcolor\":\"black\",\"line\":{\"width\":0},\"opacity\":0.3},\"ternary\":{\"aaxis\":{\"gridcolor\":\"rgb(232,232,232)\",\"linecolor\":\"rgb(36,36,36)\",\"showgrid\":false,\"showline\":true,\"ticks\":\"outside\"},\"baxis\":{\"gridcolor\":\"rgb(232,232,232)\",\"linecolor\":\"rgb(36,36,36)\",\"showgrid\":false,\"showline\":true,\"ticks\":\"outside\"},\"bgcolor\":\"white\",\"caxis\":{\"gridcolor\":\"rgb(232,232,232)\",\"linecolor\":\"rgb(36,36,36)\",\"showgrid\":false,\"showline\":true,\"ticks\":\"outside\"}},\"title\":{\"x\":0.05},\"xaxis\":{\"automargin\":true,\"gridcolor\":\"rgb(232,232,232)\",\"linecolor\":\"rgb(36,36,36)\",\"showgrid\":false,\"showline\":true,\"ticks\":\"outside\",\"title\":{\"standoff\":15},\"zeroline\":false,\"zerolinecolor\":\"rgb(36,36,36)\"},\"yaxis\":{\"automargin\":true,\"gridcolor\":\"rgb(232,232,232)\",\"linecolor\":\"rgb(36,36,36)\",\"showgrid\":false,\"showline\":true,\"ticks\":\"outside\",\"title\":{\"standoff\":15},\"zeroline\":false,\"zerolinecolor\":\"rgb(36,36,36)\"}}},\"xaxis\":{\"anchor\":\"y\",\"domain\":[0.0,1.0],\"title\":{\"text\":\"\"},\"visible\":false,\"range\":[-9.948860597610473,22.070977020263673]},\"yaxis\":{\"anchor\":\"x\",\"domain\":[0.0,1.0],\"title\":{\"text\":\"\"},\"visible\":false,\"range\":[-14.363545799255371,24.189128971099855]},\"legend\":{\"tracegroupgap\":0,\"itemsizing\":\"constant\"},\"margin\":{\"t\":60},\"title\":{\"font\":{\"size\":22,\"color\":\"Black\"},\"text\":\"<b>Intertopic Distance Map\",\"y\":0.95,\"x\":0.5,\"xanchor\":\"center\",\"yanchor\":\"top\"},\"hoverlabel\":{\"font\":{\"size\":16,\"family\":\"Rockwell\"},\"bgcolor\":\"white\"},\"width\":650,\"height\":650,\"sliders\":[{\"active\":0,\"pad\":{\"t\":50},\"steps\":[{\"args\":[{\"marker.color\":[[\"red\",\"#B0BEC5\",\"#B0BEC5\",\"#B0BEC5\",\"#B0BEC5\",\"#B0BEC5\",\"#B0BEC5\",\"#B0BEC5\",\"#B0BEC5\",\"#B0BEC5\",\"#B0BEC5\",\"#B0BEC5\",\"#B0BEC5\",\"#B0BEC5\",\"#B0BEC5\",\"#B0BEC5\",\"#B0BEC5\",\"#B0BEC5\",\"#B0BEC5\",\"#B0BEC5\",\"#B0BEC5\",\"#B0BEC5\",\"#B0BEC5\",\"#B0BEC5\",\"#B0BEC5\",\"#B0BEC5\",\"#B0BEC5\",\"#B0BEC5\",\"#B0BEC5\",\"#B0BEC5\",\"#B0BEC5\",\"#B0BEC5\",\"#B0BEC5\",\"#B0BEC5\",\"#B0BEC5\",\"#B0BEC5\",\"#B0BEC5\",\"#B0BEC5\",\"#B0BEC5\",\"#B0BEC5\",\"#B0BEC5\",\"#B0BEC5\",\"#B0BEC5\",\"#B0BEC5\",\"#B0BEC5\",\"#B0BEC5\",\"#B0BEC5\",\"#B0BEC5\",\"#B0BEC5\",\"#B0BEC5\",\"#B0BEC5\",\"#B0BEC5\",\"#B0BEC5\",\"#B0BEC5\"]]}],\"label\":\"Topic 0\",\"method\":\"update\"},{\"args\":[{\"marker.color\":[[\"#B0BEC5\",\"red\",\"#B0BEC5\",\"#B0BEC5\",\"#B0BEC5\",\"#B0BEC5\",\"#B0BEC5\",\"#B0BEC5\",\"#B0BEC5\",\"#B0BEC5\",\"#B0BEC5\",\"#B0BEC5\",\"#B0BEC5\",\"#B0BEC5\",\"#B0BEC5\",\"#B0BEC5\",\"#B0BEC5\",\"#B0BEC5\",\"#B0BEC5\",\"#B0BEC5\",\"#B0BEC5\",\"#B0BEC5\",\"#B0BEC5\",\"#B0BEC5\",\"#B0BEC5\",\"#B0BEC5\",\"#B0BEC5\",\"#B0BEC5\",\"#B0BEC5\",\"#B0BEC5\",\"#B0BEC5\",\"#B0BEC5\",\"#B0BEC5\",\"#B0BEC5\",\"#B0BEC5\",\"#B0BEC5\",\"#B0BEC5\",\"#B0BEC5\",\"#B0BEC5\",\"#B0BEC5\",\"#B0BEC5\",\"#B0BEC5\",\"#B0BEC5\",\"#B0BEC5\",\"#B0BEC5\",\"#B0BEC5\",\"#B0BEC5\",\"#B0BEC5\",\"#B0BEC5\",\"#B0BEC5\",\"#B0BEC5\",\"#B0BEC5\",\"#B0BEC5\",\"#B0BEC5\"]]}],\"label\":\"Topic 1\",\"method\":\"update\"},{\"args\":[{\"marker.color\":[[\"#B0BEC5\",\"#B0BEC5\",\"red\",\"#B0BEC5\",\"#B0BEC5\",\"#B0BEC5\",\"#B0BEC5\",\"#B0BEC5\",\"#B0BEC5\",\"#B0BEC5\",\"#B0BEC5\",\"#B0BEC5\",\"#B0BEC5\",\"#B0BEC5\",\"#B0BEC5\",\"#B0BEC5\",\"#B0BEC5\",\"#B0BEC5\",\"#B0BEC5\",\"#B0BEC5\",\"#B0BEC5\",\"#B0BEC5\",\"#B0BEC5\",\"#B0BEC5\",\"#B0BEC5\",\"#B0BEC5\",\"#B0BEC5\",\"#B0BEC5\",\"#B0BEC5\",\"#B0BEC5\",\"#B0BEC5\",\"#B0BEC5\",\"#B0BEC5\",\"#B0BEC5\",\"#B0BEC5\",\"#B0BEC5\",\"#B0BEC5\",\"#B0BEC5\",\"#B0BEC5\",\"#B0BEC5\",\"#B0BEC5\",\"#B0BEC5\",\"#B0BEC5\",\"#B0BEC5\",\"#B0BEC5\",\"#B0BEC5\",\"#B0BEC5\",\"#B0BEC5\",\"#B0BEC5\",\"#B0BEC5\",\"#B0BEC5\",\"#B0BEC5\",\"#B0BEC5\",\"#B0BEC5\"]]}],\"label\":\"Topic 2\",\"method\":\"update\"},{\"args\":[{\"marker.color\":[[\"#B0BEC5\",\"#B0BEC5\",\"#B0BEC5\",\"red\",\"#B0BEC5\",\"#B0BEC5\",\"#B0BEC5\",\"#B0BEC5\",\"#B0BEC5\",\"#B0BEC5\",\"#B0BEC5\",\"#B0BEC5\",\"#B0BEC5\",\"#B0BEC5\",\"#B0BEC5\",\"#B0BEC5\",\"#B0BEC5\",\"#B0BEC5\",\"#B0BEC5\",\"#B0BEC5\",\"#B0BEC5\",\"#B0BEC5\",\"#B0BEC5\",\"#B0BEC5\",\"#B0BEC5\",\"#B0BEC5\",\"#B0BEC5\",\"#B0BEC5\",\"#B0BEC5\",\"#B0BEC5\",\"#B0BEC5\",\"#B0BEC5\",\"#B0BEC5\",\"#B0BEC5\",\"#B0BEC5\",\"#B0BEC5\",\"#B0BEC5\",\"#B0BEC5\",\"#B0BEC5\",\"#B0BEC5\",\"#B0BEC5\",\"#B0BEC5\",\"#B0BEC5\",\"#B0BEC5\",\"#B0BEC5\",\"#B0BEC5\",\"#B0BEC5\",\"#B0BEC5\",\"#B0BEC5\",\"#B0BEC5\",\"#B0BEC5\",\"#B0BEC5\",\"#B0BEC5\",\"#B0BEC5\"]]}],\"label\":\"Topic 3\",\"method\":\"update\"},{\"args\":[{\"marker.color\":[[\"#B0BEC5\",\"#B0BEC5\",\"#B0BEC5\",\"#B0BEC5\",\"red\",\"#B0BEC5\",\"#B0BEC5\",\"#B0BEC5\",\"#B0BEC5\",\"#B0BEC5\",\"#B0BEC5\",\"#B0BEC5\",\"#B0BEC5\",\"#B0BEC5\",\"#B0BEC5\",\"#B0BEC5\",\"#B0BEC5\",\"#B0BEC5\",\"#B0BEC5\",\"#B0BEC5\",\"#B0BEC5\",\"#B0BEC5\",\"#B0BEC5\",\"#B0BEC5\",\"#B0BEC5\",\"#B0BEC5\",\"#B0BEC5\",\"#B0BEC5\",\"#B0BEC5\",\"#B0BEC5\",\"#B0BEC5\",\"#B0BEC5\",\"#B0BEC5\",\"#B0BEC5\",\"#B0BEC5\",\"#B0BEC5\",\"#B0BEC5\",\"#B0BEC5\",\"#B0BEC5\",\"#B0BEC5\",\"#B0BEC5\",\"#B0BEC5\",\"#B0BEC5\",\"#B0BEC5\",\"#B0BEC5\",\"#B0BEC5\",\"#B0BEC5\",\"#B0BEC5\",\"#B0BEC5\",\"#B0BEC5\",\"#B0BEC5\",\"#B0BEC5\",\"#B0BEC5\",\"#B0BEC5\"]]}],\"label\":\"Topic 4\",\"method\":\"update\"},{\"args\":[{\"marker.color\":[[\"#B0BEC5\",\"#B0BEC5\",\"#B0BEC5\",\"#B0BEC5\",\"#B0BEC5\",\"red\",\"#B0BEC5\",\"#B0BEC5\",\"#B0BEC5\",\"#B0BEC5\",\"#B0BEC5\",\"#B0BEC5\",\"#B0BEC5\",\"#B0BEC5\",\"#B0BEC5\",\"#B0BEC5\",\"#B0BEC5\",\"#B0BEC5\",\"#B0BEC5\",\"#B0BEC5\",\"#B0BEC5\",\"#B0BEC5\",\"#B0BEC5\",\"#B0BEC5\",\"#B0BEC5\",\"#B0BEC5\",\"#B0BEC5\",\"#B0BEC5\",\"#B0BEC5\",\"#B0BEC5\",\"#B0BEC5\",\"#B0BEC5\",\"#B0BEC5\",\"#B0BEC5\",\"#B0BEC5\",\"#B0BEC5\",\"#B0BEC5\",\"#B0BEC5\",\"#B0BEC5\",\"#B0BEC5\",\"#B0BEC5\",\"#B0BEC5\",\"#B0BEC5\",\"#B0BEC5\",\"#B0BEC5\",\"#B0BEC5\",\"#B0BEC5\",\"#B0BEC5\",\"#B0BEC5\",\"#B0BEC5\",\"#B0BEC5\",\"#B0BEC5\",\"#B0BEC5\",\"#B0BEC5\"]]}],\"label\":\"Topic 5\",\"method\":\"update\"},{\"args\":[{\"marker.color\":[[\"#B0BEC5\",\"#B0BEC5\",\"#B0BEC5\",\"#B0BEC5\",\"#B0BEC5\",\"#B0BEC5\",\"red\",\"#B0BEC5\",\"#B0BEC5\",\"#B0BEC5\",\"#B0BEC5\",\"#B0BEC5\",\"#B0BEC5\",\"#B0BEC5\",\"#B0BEC5\",\"#B0BEC5\",\"#B0BEC5\",\"#B0BEC5\",\"#B0BEC5\",\"#B0BEC5\",\"#B0BEC5\",\"#B0BEC5\",\"#B0BEC5\",\"#B0BEC5\",\"#B0BEC5\",\"#B0BEC5\",\"#B0BEC5\",\"#B0BEC5\",\"#B0BEC5\",\"#B0BEC5\",\"#B0BEC5\",\"#B0BEC5\",\"#B0BEC5\",\"#B0BEC5\",\"#B0BEC5\",\"#B0BEC5\",\"#B0BEC5\",\"#B0BEC5\",\"#B0BEC5\",\"#B0BEC5\",\"#B0BEC5\",\"#B0BEC5\",\"#B0BEC5\",\"#B0BEC5\",\"#B0BEC5\",\"#B0BEC5\",\"#B0BEC5\",\"#B0BEC5\",\"#B0BEC5\",\"#B0BEC5\",\"#B0BEC5\",\"#B0BEC5\",\"#B0BEC5\",\"#B0BEC5\"]]}],\"label\":\"Topic 6\",\"method\":\"update\"},{\"args\":[{\"marker.color\":[[\"#B0BEC5\",\"#B0BEC5\",\"#B0BEC5\",\"#B0BEC5\",\"#B0BEC5\",\"#B0BEC5\",\"#B0BEC5\",\"red\",\"#B0BEC5\",\"#B0BEC5\",\"#B0BEC5\",\"#B0BEC5\",\"#B0BEC5\",\"#B0BEC5\",\"#B0BEC5\",\"#B0BEC5\",\"#B0BEC5\",\"#B0BEC5\",\"#B0BEC5\",\"#B0BEC5\",\"#B0BEC5\",\"#B0BEC5\",\"#B0BEC5\",\"#B0BEC5\",\"#B0BEC5\",\"#B0BEC5\",\"#B0BEC5\",\"#B0BEC5\",\"#B0BEC5\",\"#B0BEC5\",\"#B0BEC5\",\"#B0BEC5\",\"#B0BEC5\",\"#B0BEC5\",\"#B0BEC5\",\"#B0BEC5\",\"#B0BEC5\",\"#B0BEC5\",\"#B0BEC5\",\"#B0BEC5\",\"#B0BEC5\",\"#B0BEC5\",\"#B0BEC5\",\"#B0BEC5\",\"#B0BEC5\",\"#B0BEC5\",\"#B0BEC5\",\"#B0BEC5\",\"#B0BEC5\",\"#B0BEC5\",\"#B0BEC5\",\"#B0BEC5\",\"#B0BEC5\",\"#B0BEC5\"]]}],\"label\":\"Topic 7\",\"method\":\"update\"},{\"args\":[{\"marker.color\":[[\"#B0BEC5\",\"#B0BEC5\",\"#B0BEC5\",\"#B0BEC5\",\"#B0BEC5\",\"#B0BEC5\",\"#B0BEC5\",\"#B0BEC5\",\"red\",\"#B0BEC5\",\"#B0BEC5\",\"#B0BEC5\",\"#B0BEC5\",\"#B0BEC5\",\"#B0BEC5\",\"#B0BEC5\",\"#B0BEC5\",\"#B0BEC5\",\"#B0BEC5\",\"#B0BEC5\",\"#B0BEC5\",\"#B0BEC5\",\"#B0BEC5\",\"#B0BEC5\",\"#B0BEC5\",\"#B0BEC5\",\"#B0BEC5\",\"#B0BEC5\",\"#B0BEC5\",\"#B0BEC5\",\"#B0BEC5\",\"#B0BEC5\",\"#B0BEC5\",\"#B0BEC5\",\"#B0BEC5\",\"#B0BEC5\",\"#B0BEC5\",\"#B0BEC5\",\"#B0BEC5\",\"#B0BEC5\",\"#B0BEC5\",\"#B0BEC5\",\"#B0BEC5\",\"#B0BEC5\",\"#B0BEC5\",\"#B0BEC5\",\"#B0BEC5\",\"#B0BEC5\",\"#B0BEC5\",\"#B0BEC5\",\"#B0BEC5\",\"#B0BEC5\",\"#B0BEC5\",\"#B0BEC5\"]]}],\"label\":\"Topic 8\",\"method\":\"update\"},{\"args\":[{\"marker.color\":[[\"#B0BEC5\",\"#B0BEC5\",\"#B0BEC5\",\"#B0BEC5\",\"#B0BEC5\",\"#B0BEC5\",\"#B0BEC5\",\"#B0BEC5\",\"#B0BEC5\",\"red\",\"#B0BEC5\",\"#B0BEC5\",\"#B0BEC5\",\"#B0BEC5\",\"#B0BEC5\",\"#B0BEC5\",\"#B0BEC5\",\"#B0BEC5\",\"#B0BEC5\",\"#B0BEC5\",\"#B0BEC5\",\"#B0BEC5\",\"#B0BEC5\",\"#B0BEC5\",\"#B0BEC5\",\"#B0BEC5\",\"#B0BEC5\",\"#B0BEC5\",\"#B0BEC5\",\"#B0BEC5\",\"#B0BEC5\",\"#B0BEC5\",\"#B0BEC5\",\"#B0BEC5\",\"#B0BEC5\",\"#B0BEC5\",\"#B0BEC5\",\"#B0BEC5\",\"#B0BEC5\",\"#B0BEC5\",\"#B0BEC5\",\"#B0BEC5\",\"#B0BEC5\",\"#B0BEC5\",\"#B0BEC5\",\"#B0BEC5\",\"#B0BEC5\",\"#B0BEC5\",\"#B0BEC5\",\"#B0BEC5\",\"#B0BEC5\",\"#B0BEC5\",\"#B0BEC5\",\"#B0BEC5\"]]}],\"label\":\"Topic 9\",\"method\":\"update\"},{\"args\":[{\"marker.color\":[[\"#B0BEC5\",\"#B0BEC5\",\"#B0BEC5\",\"#B0BEC5\",\"#B0BEC5\",\"#B0BEC5\",\"#B0BEC5\",\"#B0BEC5\",\"#B0BEC5\",\"#B0BEC5\",\"red\",\"#B0BEC5\",\"#B0BEC5\",\"#B0BEC5\",\"#B0BEC5\",\"#B0BEC5\",\"#B0BEC5\",\"#B0BEC5\",\"#B0BEC5\",\"#B0BEC5\",\"#B0BEC5\",\"#B0BEC5\",\"#B0BEC5\",\"#B0BEC5\",\"#B0BEC5\",\"#B0BEC5\",\"#B0BEC5\",\"#B0BEC5\",\"#B0BEC5\",\"#B0BEC5\",\"#B0BEC5\",\"#B0BEC5\",\"#B0BEC5\",\"#B0BEC5\",\"#B0BEC5\",\"#B0BEC5\",\"#B0BEC5\",\"#B0BEC5\",\"#B0BEC5\",\"#B0BEC5\",\"#B0BEC5\",\"#B0BEC5\",\"#B0BEC5\",\"#B0BEC5\",\"#B0BEC5\",\"#B0BEC5\",\"#B0BEC5\",\"#B0BEC5\",\"#B0BEC5\",\"#B0BEC5\",\"#B0BEC5\",\"#B0BEC5\",\"#B0BEC5\",\"#B0BEC5\"]]}],\"label\":\"Topic 10\",\"method\":\"update\"},{\"args\":[{\"marker.color\":[[\"#B0BEC5\",\"#B0BEC5\",\"#B0BEC5\",\"#B0BEC5\",\"#B0BEC5\",\"#B0BEC5\",\"#B0BEC5\",\"#B0BEC5\",\"#B0BEC5\",\"#B0BEC5\",\"#B0BEC5\",\"red\",\"#B0BEC5\",\"#B0BEC5\",\"#B0BEC5\",\"#B0BEC5\",\"#B0BEC5\",\"#B0BEC5\",\"#B0BEC5\",\"#B0BEC5\",\"#B0BEC5\",\"#B0BEC5\",\"#B0BEC5\",\"#B0BEC5\",\"#B0BEC5\",\"#B0BEC5\",\"#B0BEC5\",\"#B0BEC5\",\"#B0BEC5\",\"#B0BEC5\",\"#B0BEC5\",\"#B0BEC5\",\"#B0BEC5\",\"#B0BEC5\",\"#B0BEC5\",\"#B0BEC5\",\"#B0BEC5\",\"#B0BEC5\",\"#B0BEC5\",\"#B0BEC5\",\"#B0BEC5\",\"#B0BEC5\",\"#B0BEC5\",\"#B0BEC5\",\"#B0BEC5\",\"#B0BEC5\",\"#B0BEC5\",\"#B0BEC5\",\"#B0BEC5\",\"#B0BEC5\",\"#B0BEC5\",\"#B0BEC5\",\"#B0BEC5\",\"#B0BEC5\"]]}],\"label\":\"Topic 11\",\"method\":\"update\"},{\"args\":[{\"marker.color\":[[\"#B0BEC5\",\"#B0BEC5\",\"#B0BEC5\",\"#B0BEC5\",\"#B0BEC5\",\"#B0BEC5\",\"#B0BEC5\",\"#B0BEC5\",\"#B0BEC5\",\"#B0BEC5\",\"#B0BEC5\",\"#B0BEC5\",\"red\",\"#B0BEC5\",\"#B0BEC5\",\"#B0BEC5\",\"#B0BEC5\",\"#B0BEC5\",\"#B0BEC5\",\"#B0BEC5\",\"#B0BEC5\",\"#B0BEC5\",\"#B0BEC5\",\"#B0BEC5\",\"#B0BEC5\",\"#B0BEC5\",\"#B0BEC5\",\"#B0BEC5\",\"#B0BEC5\",\"#B0BEC5\",\"#B0BEC5\",\"#B0BEC5\",\"#B0BEC5\",\"#B0BEC5\",\"#B0BEC5\",\"#B0BEC5\",\"#B0BEC5\",\"#B0BEC5\",\"#B0BEC5\",\"#B0BEC5\",\"#B0BEC5\",\"#B0BEC5\",\"#B0BEC5\",\"#B0BEC5\",\"#B0BEC5\",\"#B0BEC5\",\"#B0BEC5\",\"#B0BEC5\",\"#B0BEC5\",\"#B0BEC5\",\"#B0BEC5\",\"#B0BEC5\",\"#B0BEC5\",\"#B0BEC5\"]]}],\"label\":\"Topic 12\",\"method\":\"update\"},{\"args\":[{\"marker.color\":[[\"#B0BEC5\",\"#B0BEC5\",\"#B0BEC5\",\"#B0BEC5\",\"#B0BEC5\",\"#B0BEC5\",\"#B0BEC5\",\"#B0BEC5\",\"#B0BEC5\",\"#B0BEC5\",\"#B0BEC5\",\"#B0BEC5\",\"#B0BEC5\",\"red\",\"#B0BEC5\",\"#B0BEC5\",\"#B0BEC5\",\"#B0BEC5\",\"#B0BEC5\",\"#B0BEC5\",\"#B0BEC5\",\"#B0BEC5\",\"#B0BEC5\",\"#B0BEC5\",\"#B0BEC5\",\"#B0BEC5\",\"#B0BEC5\",\"#B0BEC5\",\"#B0BEC5\",\"#B0BEC5\",\"#B0BEC5\",\"#B0BEC5\",\"#B0BEC5\",\"#B0BEC5\",\"#B0BEC5\",\"#B0BEC5\",\"#B0BEC5\",\"#B0BEC5\",\"#B0BEC5\",\"#B0BEC5\",\"#B0BEC5\",\"#B0BEC5\",\"#B0BEC5\",\"#B0BEC5\",\"#B0BEC5\",\"#B0BEC5\",\"#B0BEC5\",\"#B0BEC5\",\"#B0BEC5\",\"#B0BEC5\",\"#B0BEC5\",\"#B0BEC5\",\"#B0BEC5\",\"#B0BEC5\"]]}],\"label\":\"Topic 13\",\"method\":\"update\"},{\"args\":[{\"marker.color\":[[\"#B0BEC5\",\"#B0BEC5\",\"#B0BEC5\",\"#B0BEC5\",\"#B0BEC5\",\"#B0BEC5\",\"#B0BEC5\",\"#B0BEC5\",\"#B0BEC5\",\"#B0BEC5\",\"#B0BEC5\",\"#B0BEC5\",\"#B0BEC5\",\"#B0BEC5\",\"red\",\"#B0BEC5\",\"#B0BEC5\",\"#B0BEC5\",\"#B0BEC5\",\"#B0BEC5\",\"#B0BEC5\",\"#B0BEC5\",\"#B0BEC5\",\"#B0BEC5\",\"#B0BEC5\",\"#B0BEC5\",\"#B0BEC5\",\"#B0BEC5\",\"#B0BEC5\",\"#B0BEC5\",\"#B0BEC5\",\"#B0BEC5\",\"#B0BEC5\",\"#B0BEC5\",\"#B0BEC5\",\"#B0BEC5\",\"#B0BEC5\",\"#B0BEC5\",\"#B0BEC5\",\"#B0BEC5\",\"#B0BEC5\",\"#B0BEC5\",\"#B0BEC5\",\"#B0BEC5\",\"#B0BEC5\",\"#B0BEC5\",\"#B0BEC5\",\"#B0BEC5\",\"#B0BEC5\",\"#B0BEC5\",\"#B0BEC5\",\"#B0BEC5\",\"#B0BEC5\",\"#B0BEC5\"]]}],\"label\":\"Topic 14\",\"method\":\"update\"},{\"args\":[{\"marker.color\":[[\"#B0BEC5\",\"#B0BEC5\",\"#B0BEC5\",\"#B0BEC5\",\"#B0BEC5\",\"#B0BEC5\",\"#B0BEC5\",\"#B0BEC5\",\"#B0BEC5\",\"#B0BEC5\",\"#B0BEC5\",\"#B0BEC5\",\"#B0BEC5\",\"#B0BEC5\",\"#B0BEC5\",\"red\",\"#B0BEC5\",\"#B0BEC5\",\"#B0BEC5\",\"#B0BEC5\",\"#B0BEC5\",\"#B0BEC5\",\"#B0BEC5\",\"#B0BEC5\",\"#B0BEC5\",\"#B0BEC5\",\"#B0BEC5\",\"#B0BEC5\",\"#B0BEC5\",\"#B0BEC5\",\"#B0BEC5\",\"#B0BEC5\",\"#B0BEC5\",\"#B0BEC5\",\"#B0BEC5\",\"#B0BEC5\",\"#B0BEC5\",\"#B0BEC5\",\"#B0BEC5\",\"#B0BEC5\",\"#B0BEC5\",\"#B0BEC5\",\"#B0BEC5\",\"#B0BEC5\",\"#B0BEC5\",\"#B0BEC5\",\"#B0BEC5\",\"#B0BEC5\",\"#B0BEC5\",\"#B0BEC5\",\"#B0BEC5\",\"#B0BEC5\",\"#B0BEC5\",\"#B0BEC5\"]]}],\"label\":\"Topic 15\",\"method\":\"update\"},{\"args\":[{\"marker.color\":[[\"#B0BEC5\",\"#B0BEC5\",\"#B0BEC5\",\"#B0BEC5\",\"#B0BEC5\",\"#B0BEC5\",\"#B0BEC5\",\"#B0BEC5\",\"#B0BEC5\",\"#B0BEC5\",\"#B0BEC5\",\"#B0BEC5\",\"#B0BEC5\",\"#B0BEC5\",\"#B0BEC5\",\"#B0BEC5\",\"red\",\"#B0BEC5\",\"#B0BEC5\",\"#B0BEC5\",\"#B0BEC5\",\"#B0BEC5\",\"#B0BEC5\",\"#B0BEC5\",\"#B0BEC5\",\"#B0BEC5\",\"#B0BEC5\",\"#B0BEC5\",\"#B0BEC5\",\"#B0BEC5\",\"#B0BEC5\",\"#B0BEC5\",\"#B0BEC5\",\"#B0BEC5\",\"#B0BEC5\",\"#B0BEC5\",\"#B0BEC5\",\"#B0BEC5\",\"#B0BEC5\",\"#B0BEC5\",\"#B0BEC5\",\"#B0BEC5\",\"#B0BEC5\",\"#B0BEC5\",\"#B0BEC5\",\"#B0BEC5\",\"#B0BEC5\",\"#B0BEC5\",\"#B0BEC5\",\"#B0BEC5\",\"#B0BEC5\",\"#B0BEC5\",\"#B0BEC5\",\"#B0BEC5\"]]}],\"label\":\"Topic 16\",\"method\":\"update\"},{\"args\":[{\"marker.color\":[[\"#B0BEC5\",\"#B0BEC5\",\"#B0BEC5\",\"#B0BEC5\",\"#B0BEC5\",\"#B0BEC5\",\"#B0BEC5\",\"#B0BEC5\",\"#B0BEC5\",\"#B0BEC5\",\"#B0BEC5\",\"#B0BEC5\",\"#B0BEC5\",\"#B0BEC5\",\"#B0BEC5\",\"#B0BEC5\",\"#B0BEC5\",\"red\",\"#B0BEC5\",\"#B0BEC5\",\"#B0BEC5\",\"#B0BEC5\",\"#B0BEC5\",\"#B0BEC5\",\"#B0BEC5\",\"#B0BEC5\",\"#B0BEC5\",\"#B0BEC5\",\"#B0BEC5\",\"#B0BEC5\",\"#B0BEC5\",\"#B0BEC5\",\"#B0BEC5\",\"#B0BEC5\",\"#B0BEC5\",\"#B0BEC5\",\"#B0BEC5\",\"#B0BEC5\",\"#B0BEC5\",\"#B0BEC5\",\"#B0BEC5\",\"#B0BEC5\",\"#B0BEC5\",\"#B0BEC5\",\"#B0BEC5\",\"#B0BEC5\",\"#B0BEC5\",\"#B0BEC5\",\"#B0BEC5\",\"#B0BEC5\",\"#B0BEC5\",\"#B0BEC5\",\"#B0BEC5\",\"#B0BEC5\"]]}],\"label\":\"Topic 17\",\"method\":\"update\"},{\"args\":[{\"marker.color\":[[\"#B0BEC5\",\"#B0BEC5\",\"#B0BEC5\",\"#B0BEC5\",\"#B0BEC5\",\"#B0BEC5\",\"#B0BEC5\",\"#B0BEC5\",\"#B0BEC5\",\"#B0BEC5\",\"#B0BEC5\",\"#B0BEC5\",\"#B0BEC5\",\"#B0BEC5\",\"#B0BEC5\",\"#B0BEC5\",\"#B0BEC5\",\"#B0BEC5\",\"red\",\"#B0BEC5\",\"#B0BEC5\",\"#B0BEC5\",\"#B0BEC5\",\"#B0BEC5\",\"#B0BEC5\",\"#B0BEC5\",\"#B0BEC5\",\"#B0BEC5\",\"#B0BEC5\",\"#B0BEC5\",\"#B0BEC5\",\"#B0BEC5\",\"#B0BEC5\",\"#B0BEC5\",\"#B0BEC5\",\"#B0BEC5\",\"#B0BEC5\",\"#B0BEC5\",\"#B0BEC5\",\"#B0BEC5\",\"#B0BEC5\",\"#B0BEC5\",\"#B0BEC5\",\"#B0BEC5\",\"#B0BEC5\",\"#B0BEC5\",\"#B0BEC5\",\"#B0BEC5\",\"#B0BEC5\",\"#B0BEC5\",\"#B0BEC5\",\"#B0BEC5\",\"#B0BEC5\",\"#B0BEC5\"]]}],\"label\":\"Topic 18\",\"method\":\"update\"},{\"args\":[{\"marker.color\":[[\"#B0BEC5\",\"#B0BEC5\",\"#B0BEC5\",\"#B0BEC5\",\"#B0BEC5\",\"#B0BEC5\",\"#B0BEC5\",\"#B0BEC5\",\"#B0BEC5\",\"#B0BEC5\",\"#B0BEC5\",\"#B0BEC5\",\"#B0BEC5\",\"#B0BEC5\",\"#B0BEC5\",\"#B0BEC5\",\"#B0BEC5\",\"#B0BEC5\",\"#B0BEC5\",\"red\",\"#B0BEC5\",\"#B0BEC5\",\"#B0BEC5\",\"#B0BEC5\",\"#B0BEC5\",\"#B0BEC5\",\"#B0BEC5\",\"#B0BEC5\",\"#B0BEC5\",\"#B0BEC5\",\"#B0BEC5\",\"#B0BEC5\",\"#B0BEC5\",\"#B0BEC5\",\"#B0BEC5\",\"#B0BEC5\",\"#B0BEC5\",\"#B0BEC5\",\"#B0BEC5\",\"#B0BEC5\",\"#B0BEC5\",\"#B0BEC5\",\"#B0BEC5\",\"#B0BEC5\",\"#B0BEC5\",\"#B0BEC5\",\"#B0BEC5\",\"#B0BEC5\",\"#B0BEC5\",\"#B0BEC5\",\"#B0BEC5\",\"#B0BEC5\",\"#B0BEC5\",\"#B0BEC5\"]]}],\"label\":\"Topic 19\",\"method\":\"update\"},{\"args\":[{\"marker.color\":[[\"#B0BEC5\",\"#B0BEC5\",\"#B0BEC5\",\"#B0BEC5\",\"#B0BEC5\",\"#B0BEC5\",\"#B0BEC5\",\"#B0BEC5\",\"#B0BEC5\",\"#B0BEC5\",\"#B0BEC5\",\"#B0BEC5\",\"#B0BEC5\",\"#B0BEC5\",\"#B0BEC5\",\"#B0BEC5\",\"#B0BEC5\",\"#B0BEC5\",\"#B0BEC5\",\"#B0BEC5\",\"red\",\"#B0BEC5\",\"#B0BEC5\",\"#B0BEC5\",\"#B0BEC5\",\"#B0BEC5\",\"#B0BEC5\",\"#B0BEC5\",\"#B0BEC5\",\"#B0BEC5\",\"#B0BEC5\",\"#B0BEC5\",\"#B0BEC5\",\"#B0BEC5\",\"#B0BEC5\",\"#B0BEC5\",\"#B0BEC5\",\"#B0BEC5\",\"#B0BEC5\",\"#B0BEC5\",\"#B0BEC5\",\"#B0BEC5\",\"#B0BEC5\",\"#B0BEC5\",\"#B0BEC5\",\"#B0BEC5\",\"#B0BEC5\",\"#B0BEC5\",\"#B0BEC5\",\"#B0BEC5\",\"#B0BEC5\",\"#B0BEC5\",\"#B0BEC5\",\"#B0BEC5\"]]}],\"label\":\"Topic 20\",\"method\":\"update\"},{\"args\":[{\"marker.color\":[[\"#B0BEC5\",\"#B0BEC5\",\"#B0BEC5\",\"#B0BEC5\",\"#B0BEC5\",\"#B0BEC5\",\"#B0BEC5\",\"#B0BEC5\",\"#B0BEC5\",\"#B0BEC5\",\"#B0BEC5\",\"#B0BEC5\",\"#B0BEC5\",\"#B0BEC5\",\"#B0BEC5\",\"#B0BEC5\",\"#B0BEC5\",\"#B0BEC5\",\"#B0BEC5\",\"#B0BEC5\",\"#B0BEC5\",\"red\",\"#B0BEC5\",\"#B0BEC5\",\"#B0BEC5\",\"#B0BEC5\",\"#B0BEC5\",\"#B0BEC5\",\"#B0BEC5\",\"#B0BEC5\",\"#B0BEC5\",\"#B0BEC5\",\"#B0BEC5\",\"#B0BEC5\",\"#B0BEC5\",\"#B0BEC5\",\"#B0BEC5\",\"#B0BEC5\",\"#B0BEC5\",\"#B0BEC5\",\"#B0BEC5\",\"#B0BEC5\",\"#B0BEC5\",\"#B0BEC5\",\"#B0BEC5\",\"#B0BEC5\",\"#B0BEC5\",\"#B0BEC5\",\"#B0BEC5\",\"#B0BEC5\",\"#B0BEC5\",\"#B0BEC5\",\"#B0BEC5\",\"#B0BEC5\"]]}],\"label\":\"Topic 21\",\"method\":\"update\"},{\"args\":[{\"marker.color\":[[\"#B0BEC5\",\"#B0BEC5\",\"#B0BEC5\",\"#B0BEC5\",\"#B0BEC5\",\"#B0BEC5\",\"#B0BEC5\",\"#B0BEC5\",\"#B0BEC5\",\"#B0BEC5\",\"#B0BEC5\",\"#B0BEC5\",\"#B0BEC5\",\"#B0BEC5\",\"#B0BEC5\",\"#B0BEC5\",\"#B0BEC5\",\"#B0BEC5\",\"#B0BEC5\",\"#B0BEC5\",\"#B0BEC5\",\"#B0BEC5\",\"red\",\"#B0BEC5\",\"#B0BEC5\",\"#B0BEC5\",\"#B0BEC5\",\"#B0BEC5\",\"#B0BEC5\",\"#B0BEC5\",\"#B0BEC5\",\"#B0BEC5\",\"#B0BEC5\",\"#B0BEC5\",\"#B0BEC5\",\"#B0BEC5\",\"#B0BEC5\",\"#B0BEC5\",\"#B0BEC5\",\"#B0BEC5\",\"#B0BEC5\",\"#B0BEC5\",\"#B0BEC5\",\"#B0BEC5\",\"#B0BEC5\",\"#B0BEC5\",\"#B0BEC5\",\"#B0BEC5\",\"#B0BEC5\",\"#B0BEC5\",\"#B0BEC5\",\"#B0BEC5\",\"#B0BEC5\",\"#B0BEC5\"]]}],\"label\":\"Topic 22\",\"method\":\"update\"},{\"args\":[{\"marker.color\":[[\"#B0BEC5\",\"#B0BEC5\",\"#B0BEC5\",\"#B0BEC5\",\"#B0BEC5\",\"#B0BEC5\",\"#B0BEC5\",\"#B0BEC5\",\"#B0BEC5\",\"#B0BEC5\",\"#B0BEC5\",\"#B0BEC5\",\"#B0BEC5\",\"#B0BEC5\",\"#B0BEC5\",\"#B0BEC5\",\"#B0BEC5\",\"#B0BEC5\",\"#B0BEC5\",\"#B0BEC5\",\"#B0BEC5\",\"#B0BEC5\",\"#B0BEC5\",\"red\",\"#B0BEC5\",\"#B0BEC5\",\"#B0BEC5\",\"#B0BEC5\",\"#B0BEC5\",\"#B0BEC5\",\"#B0BEC5\",\"#B0BEC5\",\"#B0BEC5\",\"#B0BEC5\",\"#B0BEC5\",\"#B0BEC5\",\"#B0BEC5\",\"#B0BEC5\",\"#B0BEC5\",\"#B0BEC5\",\"#B0BEC5\",\"#B0BEC5\",\"#B0BEC5\",\"#B0BEC5\",\"#B0BEC5\",\"#B0BEC5\",\"#B0BEC5\",\"#B0BEC5\",\"#B0BEC5\",\"#B0BEC5\",\"#B0BEC5\",\"#B0BEC5\",\"#B0BEC5\",\"#B0BEC5\"]]}],\"label\":\"Topic 23\",\"method\":\"update\"},{\"args\":[{\"marker.color\":[[\"#B0BEC5\",\"#B0BEC5\",\"#B0BEC5\",\"#B0BEC5\",\"#B0BEC5\",\"#B0BEC5\",\"#B0BEC5\",\"#B0BEC5\",\"#B0BEC5\",\"#B0BEC5\",\"#B0BEC5\",\"#B0BEC5\",\"#B0BEC5\",\"#B0BEC5\",\"#B0BEC5\",\"#B0BEC5\",\"#B0BEC5\",\"#B0BEC5\",\"#B0BEC5\",\"#B0BEC5\",\"#B0BEC5\",\"#B0BEC5\",\"#B0BEC5\",\"#B0BEC5\",\"red\",\"#B0BEC5\",\"#B0BEC5\",\"#B0BEC5\",\"#B0BEC5\",\"#B0BEC5\",\"#B0BEC5\",\"#B0BEC5\",\"#B0BEC5\",\"#B0BEC5\",\"#B0BEC5\",\"#B0BEC5\",\"#B0BEC5\",\"#B0BEC5\",\"#B0BEC5\",\"#B0BEC5\",\"#B0BEC5\",\"#B0BEC5\",\"#B0BEC5\",\"#B0BEC5\",\"#B0BEC5\",\"#B0BEC5\",\"#B0BEC5\",\"#B0BEC5\",\"#B0BEC5\",\"#B0BEC5\",\"#B0BEC5\",\"#B0BEC5\",\"#B0BEC5\",\"#B0BEC5\"]]}],\"label\":\"Topic 24\",\"method\":\"update\"},{\"args\":[{\"marker.color\":[[\"#B0BEC5\",\"#B0BEC5\",\"#B0BEC5\",\"#B0BEC5\",\"#B0BEC5\",\"#B0BEC5\",\"#B0BEC5\",\"#B0BEC5\",\"#B0BEC5\",\"#B0BEC5\",\"#B0BEC5\",\"#B0BEC5\",\"#B0BEC5\",\"#B0BEC5\",\"#B0BEC5\",\"#B0BEC5\",\"#B0BEC5\",\"#B0BEC5\",\"#B0BEC5\",\"#B0BEC5\",\"#B0BEC5\",\"#B0BEC5\",\"#B0BEC5\",\"#B0BEC5\",\"#B0BEC5\",\"red\",\"#B0BEC5\",\"#B0BEC5\",\"#B0BEC5\",\"#B0BEC5\",\"#B0BEC5\",\"#B0BEC5\",\"#B0BEC5\",\"#B0BEC5\",\"#B0BEC5\",\"#B0BEC5\",\"#B0BEC5\",\"#B0BEC5\",\"#B0BEC5\",\"#B0BEC5\",\"#B0BEC5\",\"#B0BEC5\",\"#B0BEC5\",\"#B0BEC5\",\"#B0BEC5\",\"#B0BEC5\",\"#B0BEC5\",\"#B0BEC5\",\"#B0BEC5\",\"#B0BEC5\",\"#B0BEC5\",\"#B0BEC5\",\"#B0BEC5\",\"#B0BEC5\"]]}],\"label\":\"Topic 25\",\"method\":\"update\"},{\"args\":[{\"marker.color\":[[\"#B0BEC5\",\"#B0BEC5\",\"#B0BEC5\",\"#B0BEC5\",\"#B0BEC5\",\"#B0BEC5\",\"#B0BEC5\",\"#B0BEC5\",\"#B0BEC5\",\"#B0BEC5\",\"#B0BEC5\",\"#B0BEC5\",\"#B0BEC5\",\"#B0BEC5\",\"#B0BEC5\",\"#B0BEC5\",\"#B0BEC5\",\"#B0BEC5\",\"#B0BEC5\",\"#B0BEC5\",\"#B0BEC5\",\"#B0BEC5\",\"#B0BEC5\",\"#B0BEC5\",\"#B0BEC5\",\"#B0BEC5\",\"red\",\"#B0BEC5\",\"#B0BEC5\",\"#B0BEC5\",\"#B0BEC5\",\"#B0BEC5\",\"#B0BEC5\",\"#B0BEC5\",\"#B0BEC5\",\"#B0BEC5\",\"#B0BEC5\",\"#B0BEC5\",\"#B0BEC5\",\"#B0BEC5\",\"#B0BEC5\",\"#B0BEC5\",\"#B0BEC5\",\"#B0BEC5\",\"#B0BEC5\",\"#B0BEC5\",\"#B0BEC5\",\"#B0BEC5\",\"#B0BEC5\",\"#B0BEC5\",\"#B0BEC5\",\"#B0BEC5\",\"#B0BEC5\",\"#B0BEC5\"]]}],\"label\":\"Topic 26\",\"method\":\"update\"},{\"args\":[{\"marker.color\":[[\"#B0BEC5\",\"#B0BEC5\",\"#B0BEC5\",\"#B0BEC5\",\"#B0BEC5\",\"#B0BEC5\",\"#B0BEC5\",\"#B0BEC5\",\"#B0BEC5\",\"#B0BEC5\",\"#B0BEC5\",\"#B0BEC5\",\"#B0BEC5\",\"#B0BEC5\",\"#B0BEC5\",\"#B0BEC5\",\"#B0BEC5\",\"#B0BEC5\",\"#B0BEC5\",\"#B0BEC5\",\"#B0BEC5\",\"#B0BEC5\",\"#B0BEC5\",\"#B0BEC5\",\"#B0BEC5\",\"#B0BEC5\",\"#B0BEC5\",\"red\",\"#B0BEC5\",\"#B0BEC5\",\"#B0BEC5\",\"#B0BEC5\",\"#B0BEC5\",\"#B0BEC5\",\"#B0BEC5\",\"#B0BEC5\",\"#B0BEC5\",\"#B0BEC5\",\"#B0BEC5\",\"#B0BEC5\",\"#B0BEC5\",\"#B0BEC5\",\"#B0BEC5\",\"#B0BEC5\",\"#B0BEC5\",\"#B0BEC5\",\"#B0BEC5\",\"#B0BEC5\",\"#B0BEC5\",\"#B0BEC5\",\"#B0BEC5\",\"#B0BEC5\",\"#B0BEC5\",\"#B0BEC5\"]]}],\"label\":\"Topic 27\",\"method\":\"update\"},{\"args\":[{\"marker.color\":[[\"#B0BEC5\",\"#B0BEC5\",\"#B0BEC5\",\"#B0BEC5\",\"#B0BEC5\",\"#B0BEC5\",\"#B0BEC5\",\"#B0BEC5\",\"#B0BEC5\",\"#B0BEC5\",\"#B0BEC5\",\"#B0BEC5\",\"#B0BEC5\",\"#B0BEC5\",\"#B0BEC5\",\"#B0BEC5\",\"#B0BEC5\",\"#B0BEC5\",\"#B0BEC5\",\"#B0BEC5\",\"#B0BEC5\",\"#B0BEC5\",\"#B0BEC5\",\"#B0BEC5\",\"#B0BEC5\",\"#B0BEC5\",\"#B0BEC5\",\"#B0BEC5\",\"red\",\"#B0BEC5\",\"#B0BEC5\",\"#B0BEC5\",\"#B0BEC5\",\"#B0BEC5\",\"#B0BEC5\",\"#B0BEC5\",\"#B0BEC5\",\"#B0BEC5\",\"#B0BEC5\",\"#B0BEC5\",\"#B0BEC5\",\"#B0BEC5\",\"#B0BEC5\",\"#B0BEC5\",\"#B0BEC5\",\"#B0BEC5\",\"#B0BEC5\",\"#B0BEC5\",\"#B0BEC5\",\"#B0BEC5\",\"#B0BEC5\",\"#B0BEC5\",\"#B0BEC5\",\"#B0BEC5\"]]}],\"label\":\"Topic 28\",\"method\":\"update\"},{\"args\":[{\"marker.color\":[[\"#B0BEC5\",\"#B0BEC5\",\"#B0BEC5\",\"#B0BEC5\",\"#B0BEC5\",\"#B0BEC5\",\"#B0BEC5\",\"#B0BEC5\",\"#B0BEC5\",\"#B0BEC5\",\"#B0BEC5\",\"#B0BEC5\",\"#B0BEC5\",\"#B0BEC5\",\"#B0BEC5\",\"#B0BEC5\",\"#B0BEC5\",\"#B0BEC5\",\"#B0BEC5\",\"#B0BEC5\",\"#B0BEC5\",\"#B0BEC5\",\"#B0BEC5\",\"#B0BEC5\",\"#B0BEC5\",\"#B0BEC5\",\"#B0BEC5\",\"#B0BEC5\",\"#B0BEC5\",\"red\",\"#B0BEC5\",\"#B0BEC5\",\"#B0BEC5\",\"#B0BEC5\",\"#B0BEC5\",\"#B0BEC5\",\"#B0BEC5\",\"#B0BEC5\",\"#B0BEC5\",\"#B0BEC5\",\"#B0BEC5\",\"#B0BEC5\",\"#B0BEC5\",\"#B0BEC5\",\"#B0BEC5\",\"#B0BEC5\",\"#B0BEC5\",\"#B0BEC5\",\"#B0BEC5\",\"#B0BEC5\",\"#B0BEC5\",\"#B0BEC5\",\"#B0BEC5\",\"#B0BEC5\"]]}],\"label\":\"Topic 29\",\"method\":\"update\"},{\"args\":[{\"marker.color\":[[\"#B0BEC5\",\"#B0BEC5\",\"#B0BEC5\",\"#B0BEC5\",\"#B0BEC5\",\"#B0BEC5\",\"#B0BEC5\",\"#B0BEC5\",\"#B0BEC5\",\"#B0BEC5\",\"#B0BEC5\",\"#B0BEC5\",\"#B0BEC5\",\"#B0BEC5\",\"#B0BEC5\",\"#B0BEC5\",\"#B0BEC5\",\"#B0BEC5\",\"#B0BEC5\",\"#B0BEC5\",\"#B0BEC5\",\"#B0BEC5\",\"#B0BEC5\",\"#B0BEC5\",\"#B0BEC5\",\"#B0BEC5\",\"#B0BEC5\",\"#B0BEC5\",\"#B0BEC5\",\"#B0BEC5\",\"red\",\"#B0BEC5\",\"#B0BEC5\",\"#B0BEC5\",\"#B0BEC5\",\"#B0BEC5\",\"#B0BEC5\",\"#B0BEC5\",\"#B0BEC5\",\"#B0BEC5\",\"#B0BEC5\",\"#B0BEC5\",\"#B0BEC5\",\"#B0BEC5\",\"#B0BEC5\",\"#B0BEC5\",\"#B0BEC5\",\"#B0BEC5\",\"#B0BEC5\",\"#B0BEC5\",\"#B0BEC5\",\"#B0BEC5\",\"#B0BEC5\",\"#B0BEC5\"]]}],\"label\":\"Topic 30\",\"method\":\"update\"},{\"args\":[{\"marker.color\":[[\"#B0BEC5\",\"#B0BEC5\",\"#B0BEC5\",\"#B0BEC5\",\"#B0BEC5\",\"#B0BEC5\",\"#B0BEC5\",\"#B0BEC5\",\"#B0BEC5\",\"#B0BEC5\",\"#B0BEC5\",\"#B0BEC5\",\"#B0BEC5\",\"#B0BEC5\",\"#B0BEC5\",\"#B0BEC5\",\"#B0BEC5\",\"#B0BEC5\",\"#B0BEC5\",\"#B0BEC5\",\"#B0BEC5\",\"#B0BEC5\",\"#B0BEC5\",\"#B0BEC5\",\"#B0BEC5\",\"#B0BEC5\",\"#B0BEC5\",\"#B0BEC5\",\"#B0BEC5\",\"#B0BEC5\",\"#B0BEC5\",\"red\",\"#B0BEC5\",\"#B0BEC5\",\"#B0BEC5\",\"#B0BEC5\",\"#B0BEC5\",\"#B0BEC5\",\"#B0BEC5\",\"#B0BEC5\",\"#B0BEC5\",\"#B0BEC5\",\"#B0BEC5\",\"#B0BEC5\",\"#B0BEC5\",\"#B0BEC5\",\"#B0BEC5\",\"#B0BEC5\",\"#B0BEC5\",\"#B0BEC5\",\"#B0BEC5\",\"#B0BEC5\",\"#B0BEC5\",\"#B0BEC5\"]]}],\"label\":\"Topic 31\",\"method\":\"update\"},{\"args\":[{\"marker.color\":[[\"#B0BEC5\",\"#B0BEC5\",\"#B0BEC5\",\"#B0BEC5\",\"#B0BEC5\",\"#B0BEC5\",\"#B0BEC5\",\"#B0BEC5\",\"#B0BEC5\",\"#B0BEC5\",\"#B0BEC5\",\"#B0BEC5\",\"#B0BEC5\",\"#B0BEC5\",\"#B0BEC5\",\"#B0BEC5\",\"#B0BEC5\",\"#B0BEC5\",\"#B0BEC5\",\"#B0BEC5\",\"#B0BEC5\",\"#B0BEC5\",\"#B0BEC5\",\"#B0BEC5\",\"#B0BEC5\",\"#B0BEC5\",\"#B0BEC5\",\"#B0BEC5\",\"#B0BEC5\",\"#B0BEC5\",\"#B0BEC5\",\"#B0BEC5\",\"red\",\"#B0BEC5\",\"#B0BEC5\",\"#B0BEC5\",\"#B0BEC5\",\"#B0BEC5\",\"#B0BEC5\",\"#B0BEC5\",\"#B0BEC5\",\"#B0BEC5\",\"#B0BEC5\",\"#B0BEC5\",\"#B0BEC5\",\"#B0BEC5\",\"#B0BEC5\",\"#B0BEC5\",\"#B0BEC5\",\"#B0BEC5\",\"#B0BEC5\",\"#B0BEC5\",\"#B0BEC5\",\"#B0BEC5\"]]}],\"label\":\"Topic 32\",\"method\":\"update\"},{\"args\":[{\"marker.color\":[[\"#B0BEC5\",\"#B0BEC5\",\"#B0BEC5\",\"#B0BEC5\",\"#B0BEC5\",\"#B0BEC5\",\"#B0BEC5\",\"#B0BEC5\",\"#B0BEC5\",\"#B0BEC5\",\"#B0BEC5\",\"#B0BEC5\",\"#B0BEC5\",\"#B0BEC5\",\"#B0BEC5\",\"#B0BEC5\",\"#B0BEC5\",\"#B0BEC5\",\"#B0BEC5\",\"#B0BEC5\",\"#B0BEC5\",\"#B0BEC5\",\"#B0BEC5\",\"#B0BEC5\",\"#B0BEC5\",\"#B0BEC5\",\"#B0BEC5\",\"#B0BEC5\",\"#B0BEC5\",\"#B0BEC5\",\"#B0BEC5\",\"#B0BEC5\",\"#B0BEC5\",\"red\",\"#B0BEC5\",\"#B0BEC5\",\"#B0BEC5\",\"#B0BEC5\",\"#B0BEC5\",\"#B0BEC5\",\"#B0BEC5\",\"#B0BEC5\",\"#B0BEC5\",\"#B0BEC5\",\"#B0BEC5\",\"#B0BEC5\",\"#B0BEC5\",\"#B0BEC5\",\"#B0BEC5\",\"#B0BEC5\",\"#B0BEC5\",\"#B0BEC5\",\"#B0BEC5\",\"#B0BEC5\"]]}],\"label\":\"Topic 33\",\"method\":\"update\"},{\"args\":[{\"marker.color\":[[\"#B0BEC5\",\"#B0BEC5\",\"#B0BEC5\",\"#B0BEC5\",\"#B0BEC5\",\"#B0BEC5\",\"#B0BEC5\",\"#B0BEC5\",\"#B0BEC5\",\"#B0BEC5\",\"#B0BEC5\",\"#B0BEC5\",\"#B0BEC5\",\"#B0BEC5\",\"#B0BEC5\",\"#B0BEC5\",\"#B0BEC5\",\"#B0BEC5\",\"#B0BEC5\",\"#B0BEC5\",\"#B0BEC5\",\"#B0BEC5\",\"#B0BEC5\",\"#B0BEC5\",\"#B0BEC5\",\"#B0BEC5\",\"#B0BEC5\",\"#B0BEC5\",\"#B0BEC5\",\"#B0BEC5\",\"#B0BEC5\",\"#B0BEC5\",\"#B0BEC5\",\"#B0BEC5\",\"red\",\"#B0BEC5\",\"#B0BEC5\",\"#B0BEC5\",\"#B0BEC5\",\"#B0BEC5\",\"#B0BEC5\",\"#B0BEC5\",\"#B0BEC5\",\"#B0BEC5\",\"#B0BEC5\",\"#B0BEC5\",\"#B0BEC5\",\"#B0BEC5\",\"#B0BEC5\",\"#B0BEC5\",\"#B0BEC5\",\"#B0BEC5\",\"#B0BEC5\",\"#B0BEC5\"]]}],\"label\":\"Topic 34\",\"method\":\"update\"},{\"args\":[{\"marker.color\":[[\"#B0BEC5\",\"#B0BEC5\",\"#B0BEC5\",\"#B0BEC5\",\"#B0BEC5\",\"#B0BEC5\",\"#B0BEC5\",\"#B0BEC5\",\"#B0BEC5\",\"#B0BEC5\",\"#B0BEC5\",\"#B0BEC5\",\"#B0BEC5\",\"#B0BEC5\",\"#B0BEC5\",\"#B0BEC5\",\"#B0BEC5\",\"#B0BEC5\",\"#B0BEC5\",\"#B0BEC5\",\"#B0BEC5\",\"#B0BEC5\",\"#B0BEC5\",\"#B0BEC5\",\"#B0BEC5\",\"#B0BEC5\",\"#B0BEC5\",\"#B0BEC5\",\"#B0BEC5\",\"#B0BEC5\",\"#B0BEC5\",\"#B0BEC5\",\"#B0BEC5\",\"#B0BEC5\",\"#B0BEC5\",\"red\",\"#B0BEC5\",\"#B0BEC5\",\"#B0BEC5\",\"#B0BEC5\",\"#B0BEC5\",\"#B0BEC5\",\"#B0BEC5\",\"#B0BEC5\",\"#B0BEC5\",\"#B0BEC5\",\"#B0BEC5\",\"#B0BEC5\",\"#B0BEC5\",\"#B0BEC5\",\"#B0BEC5\",\"#B0BEC5\",\"#B0BEC5\",\"#B0BEC5\"]]}],\"label\":\"Topic 35\",\"method\":\"update\"},{\"args\":[{\"marker.color\":[[\"#B0BEC5\",\"#B0BEC5\",\"#B0BEC5\",\"#B0BEC5\",\"#B0BEC5\",\"#B0BEC5\",\"#B0BEC5\",\"#B0BEC5\",\"#B0BEC5\",\"#B0BEC5\",\"#B0BEC5\",\"#B0BEC5\",\"#B0BEC5\",\"#B0BEC5\",\"#B0BEC5\",\"#B0BEC5\",\"#B0BEC5\",\"#B0BEC5\",\"#B0BEC5\",\"#B0BEC5\",\"#B0BEC5\",\"#B0BEC5\",\"#B0BEC5\",\"#B0BEC5\",\"#B0BEC5\",\"#B0BEC5\",\"#B0BEC5\",\"#B0BEC5\",\"#B0BEC5\",\"#B0BEC5\",\"#B0BEC5\",\"#B0BEC5\",\"#B0BEC5\",\"#B0BEC5\",\"#B0BEC5\",\"#B0BEC5\",\"red\",\"#B0BEC5\",\"#B0BEC5\",\"#B0BEC5\",\"#B0BEC5\",\"#B0BEC5\",\"#B0BEC5\",\"#B0BEC5\",\"#B0BEC5\",\"#B0BEC5\",\"#B0BEC5\",\"#B0BEC5\",\"#B0BEC5\",\"#B0BEC5\",\"#B0BEC5\",\"#B0BEC5\",\"#B0BEC5\",\"#B0BEC5\"]]}],\"label\":\"Topic 36\",\"method\":\"update\"},{\"args\":[{\"marker.color\":[[\"#B0BEC5\",\"#B0BEC5\",\"#B0BEC5\",\"#B0BEC5\",\"#B0BEC5\",\"#B0BEC5\",\"#B0BEC5\",\"#B0BEC5\",\"#B0BEC5\",\"#B0BEC5\",\"#B0BEC5\",\"#B0BEC5\",\"#B0BEC5\",\"#B0BEC5\",\"#B0BEC5\",\"#B0BEC5\",\"#B0BEC5\",\"#B0BEC5\",\"#B0BEC5\",\"#B0BEC5\",\"#B0BEC5\",\"#B0BEC5\",\"#B0BEC5\",\"#B0BEC5\",\"#B0BEC5\",\"#B0BEC5\",\"#B0BEC5\",\"#B0BEC5\",\"#B0BEC5\",\"#B0BEC5\",\"#B0BEC5\",\"#B0BEC5\",\"#B0BEC5\",\"#B0BEC5\",\"#B0BEC5\",\"#B0BEC5\",\"#B0BEC5\",\"red\",\"#B0BEC5\",\"#B0BEC5\",\"#B0BEC5\",\"#B0BEC5\",\"#B0BEC5\",\"#B0BEC5\",\"#B0BEC5\",\"#B0BEC5\",\"#B0BEC5\",\"#B0BEC5\",\"#B0BEC5\",\"#B0BEC5\",\"#B0BEC5\",\"#B0BEC5\",\"#B0BEC5\",\"#B0BEC5\"]]}],\"label\":\"Topic 37\",\"method\":\"update\"},{\"args\":[{\"marker.color\":[[\"#B0BEC5\",\"#B0BEC5\",\"#B0BEC5\",\"#B0BEC5\",\"#B0BEC5\",\"#B0BEC5\",\"#B0BEC5\",\"#B0BEC5\",\"#B0BEC5\",\"#B0BEC5\",\"#B0BEC5\",\"#B0BEC5\",\"#B0BEC5\",\"#B0BEC5\",\"#B0BEC5\",\"#B0BEC5\",\"#B0BEC5\",\"#B0BEC5\",\"#B0BEC5\",\"#B0BEC5\",\"#B0BEC5\",\"#B0BEC5\",\"#B0BEC5\",\"#B0BEC5\",\"#B0BEC5\",\"#B0BEC5\",\"#B0BEC5\",\"#B0BEC5\",\"#B0BEC5\",\"#B0BEC5\",\"#B0BEC5\",\"#B0BEC5\",\"#B0BEC5\",\"#B0BEC5\",\"#B0BEC5\",\"#B0BEC5\",\"#B0BEC5\",\"#B0BEC5\",\"red\",\"#B0BEC5\",\"#B0BEC5\",\"#B0BEC5\",\"#B0BEC5\",\"#B0BEC5\",\"#B0BEC5\",\"#B0BEC5\",\"#B0BEC5\",\"#B0BEC5\",\"#B0BEC5\",\"#B0BEC5\",\"#B0BEC5\",\"#B0BEC5\",\"#B0BEC5\",\"#B0BEC5\"]]}],\"label\":\"Topic 38\",\"method\":\"update\"},{\"args\":[{\"marker.color\":[[\"#B0BEC5\",\"#B0BEC5\",\"#B0BEC5\",\"#B0BEC5\",\"#B0BEC5\",\"#B0BEC5\",\"#B0BEC5\",\"#B0BEC5\",\"#B0BEC5\",\"#B0BEC5\",\"#B0BEC5\",\"#B0BEC5\",\"#B0BEC5\",\"#B0BEC5\",\"#B0BEC5\",\"#B0BEC5\",\"#B0BEC5\",\"#B0BEC5\",\"#B0BEC5\",\"#B0BEC5\",\"#B0BEC5\",\"#B0BEC5\",\"#B0BEC5\",\"#B0BEC5\",\"#B0BEC5\",\"#B0BEC5\",\"#B0BEC5\",\"#B0BEC5\",\"#B0BEC5\",\"#B0BEC5\",\"#B0BEC5\",\"#B0BEC5\",\"#B0BEC5\",\"#B0BEC5\",\"#B0BEC5\",\"#B0BEC5\",\"#B0BEC5\",\"#B0BEC5\",\"#B0BEC5\",\"red\",\"#B0BEC5\",\"#B0BEC5\",\"#B0BEC5\",\"#B0BEC5\",\"#B0BEC5\",\"#B0BEC5\",\"#B0BEC5\",\"#B0BEC5\",\"#B0BEC5\",\"#B0BEC5\",\"#B0BEC5\",\"#B0BEC5\",\"#B0BEC5\",\"#B0BEC5\"]]}],\"label\":\"Topic 39\",\"method\":\"update\"},{\"args\":[{\"marker.color\":[[\"#B0BEC5\",\"#B0BEC5\",\"#B0BEC5\",\"#B0BEC5\",\"#B0BEC5\",\"#B0BEC5\",\"#B0BEC5\",\"#B0BEC5\",\"#B0BEC5\",\"#B0BEC5\",\"#B0BEC5\",\"#B0BEC5\",\"#B0BEC5\",\"#B0BEC5\",\"#B0BEC5\",\"#B0BEC5\",\"#B0BEC5\",\"#B0BEC5\",\"#B0BEC5\",\"#B0BEC5\",\"#B0BEC5\",\"#B0BEC5\",\"#B0BEC5\",\"#B0BEC5\",\"#B0BEC5\",\"#B0BEC5\",\"#B0BEC5\",\"#B0BEC5\",\"#B0BEC5\",\"#B0BEC5\",\"#B0BEC5\",\"#B0BEC5\",\"#B0BEC5\",\"#B0BEC5\",\"#B0BEC5\",\"#B0BEC5\",\"#B0BEC5\",\"#B0BEC5\",\"#B0BEC5\",\"#B0BEC5\",\"red\",\"#B0BEC5\",\"#B0BEC5\",\"#B0BEC5\",\"#B0BEC5\",\"#B0BEC5\",\"#B0BEC5\",\"#B0BEC5\",\"#B0BEC5\",\"#B0BEC5\",\"#B0BEC5\",\"#B0BEC5\",\"#B0BEC5\",\"#B0BEC5\"]]}],\"label\":\"Topic 40\",\"method\":\"update\"},{\"args\":[{\"marker.color\":[[\"#B0BEC5\",\"#B0BEC5\",\"#B0BEC5\",\"#B0BEC5\",\"#B0BEC5\",\"#B0BEC5\",\"#B0BEC5\",\"#B0BEC5\",\"#B0BEC5\",\"#B0BEC5\",\"#B0BEC5\",\"#B0BEC5\",\"#B0BEC5\",\"#B0BEC5\",\"#B0BEC5\",\"#B0BEC5\",\"#B0BEC5\",\"#B0BEC5\",\"#B0BEC5\",\"#B0BEC5\",\"#B0BEC5\",\"#B0BEC5\",\"#B0BEC5\",\"#B0BEC5\",\"#B0BEC5\",\"#B0BEC5\",\"#B0BEC5\",\"#B0BEC5\",\"#B0BEC5\",\"#B0BEC5\",\"#B0BEC5\",\"#B0BEC5\",\"#B0BEC5\",\"#B0BEC5\",\"#B0BEC5\",\"#B0BEC5\",\"#B0BEC5\",\"#B0BEC5\",\"#B0BEC5\",\"#B0BEC5\",\"#B0BEC5\",\"red\",\"#B0BEC5\",\"#B0BEC5\",\"#B0BEC5\",\"#B0BEC5\",\"#B0BEC5\",\"#B0BEC5\",\"#B0BEC5\",\"#B0BEC5\",\"#B0BEC5\",\"#B0BEC5\",\"#B0BEC5\",\"#B0BEC5\"]]}],\"label\":\"Topic 41\",\"method\":\"update\"},{\"args\":[{\"marker.color\":[[\"#B0BEC5\",\"#B0BEC5\",\"#B0BEC5\",\"#B0BEC5\",\"#B0BEC5\",\"#B0BEC5\",\"#B0BEC5\",\"#B0BEC5\",\"#B0BEC5\",\"#B0BEC5\",\"#B0BEC5\",\"#B0BEC5\",\"#B0BEC5\",\"#B0BEC5\",\"#B0BEC5\",\"#B0BEC5\",\"#B0BEC5\",\"#B0BEC5\",\"#B0BEC5\",\"#B0BEC5\",\"#B0BEC5\",\"#B0BEC5\",\"#B0BEC5\",\"#B0BEC5\",\"#B0BEC5\",\"#B0BEC5\",\"#B0BEC5\",\"#B0BEC5\",\"#B0BEC5\",\"#B0BEC5\",\"#B0BEC5\",\"#B0BEC5\",\"#B0BEC5\",\"#B0BEC5\",\"#B0BEC5\",\"#B0BEC5\",\"#B0BEC5\",\"#B0BEC5\",\"#B0BEC5\",\"#B0BEC5\",\"#B0BEC5\",\"#B0BEC5\",\"red\",\"#B0BEC5\",\"#B0BEC5\",\"#B0BEC5\",\"#B0BEC5\",\"#B0BEC5\",\"#B0BEC5\",\"#B0BEC5\",\"#B0BEC5\",\"#B0BEC5\",\"#B0BEC5\",\"#B0BEC5\"]]}],\"label\":\"Topic 42\",\"method\":\"update\"},{\"args\":[{\"marker.color\":[[\"#B0BEC5\",\"#B0BEC5\",\"#B0BEC5\",\"#B0BEC5\",\"#B0BEC5\",\"#B0BEC5\",\"#B0BEC5\",\"#B0BEC5\",\"#B0BEC5\",\"#B0BEC5\",\"#B0BEC5\",\"#B0BEC5\",\"#B0BEC5\",\"#B0BEC5\",\"#B0BEC5\",\"#B0BEC5\",\"#B0BEC5\",\"#B0BEC5\",\"#B0BEC5\",\"#B0BEC5\",\"#B0BEC5\",\"#B0BEC5\",\"#B0BEC5\",\"#B0BEC5\",\"#B0BEC5\",\"#B0BEC5\",\"#B0BEC5\",\"#B0BEC5\",\"#B0BEC5\",\"#B0BEC5\",\"#B0BEC5\",\"#B0BEC5\",\"#B0BEC5\",\"#B0BEC5\",\"#B0BEC5\",\"#B0BEC5\",\"#B0BEC5\",\"#B0BEC5\",\"#B0BEC5\",\"#B0BEC5\",\"#B0BEC5\",\"#B0BEC5\",\"#B0BEC5\",\"red\",\"#B0BEC5\",\"#B0BEC5\",\"#B0BEC5\",\"#B0BEC5\",\"#B0BEC5\",\"#B0BEC5\",\"#B0BEC5\",\"#B0BEC5\",\"#B0BEC5\",\"#B0BEC5\"]]}],\"label\":\"Topic 43\",\"method\":\"update\"},{\"args\":[{\"marker.color\":[[\"#B0BEC5\",\"#B0BEC5\",\"#B0BEC5\",\"#B0BEC5\",\"#B0BEC5\",\"#B0BEC5\",\"#B0BEC5\",\"#B0BEC5\",\"#B0BEC5\",\"#B0BEC5\",\"#B0BEC5\",\"#B0BEC5\",\"#B0BEC5\",\"#B0BEC5\",\"#B0BEC5\",\"#B0BEC5\",\"#B0BEC5\",\"#B0BEC5\",\"#B0BEC5\",\"#B0BEC5\",\"#B0BEC5\",\"#B0BEC5\",\"#B0BEC5\",\"#B0BEC5\",\"#B0BEC5\",\"#B0BEC5\",\"#B0BEC5\",\"#B0BEC5\",\"#B0BEC5\",\"#B0BEC5\",\"#B0BEC5\",\"#B0BEC5\",\"#B0BEC5\",\"#B0BEC5\",\"#B0BEC5\",\"#B0BEC5\",\"#B0BEC5\",\"#B0BEC5\",\"#B0BEC5\",\"#B0BEC5\",\"#B0BEC5\",\"#B0BEC5\",\"#B0BEC5\",\"#B0BEC5\",\"red\",\"#B0BEC5\",\"#B0BEC5\",\"#B0BEC5\",\"#B0BEC5\",\"#B0BEC5\",\"#B0BEC5\",\"#B0BEC5\",\"#B0BEC5\",\"#B0BEC5\"]]}],\"label\":\"Topic 44\",\"method\":\"update\"},{\"args\":[{\"marker.color\":[[\"#B0BEC5\",\"#B0BEC5\",\"#B0BEC5\",\"#B0BEC5\",\"#B0BEC5\",\"#B0BEC5\",\"#B0BEC5\",\"#B0BEC5\",\"#B0BEC5\",\"#B0BEC5\",\"#B0BEC5\",\"#B0BEC5\",\"#B0BEC5\",\"#B0BEC5\",\"#B0BEC5\",\"#B0BEC5\",\"#B0BEC5\",\"#B0BEC5\",\"#B0BEC5\",\"#B0BEC5\",\"#B0BEC5\",\"#B0BEC5\",\"#B0BEC5\",\"#B0BEC5\",\"#B0BEC5\",\"#B0BEC5\",\"#B0BEC5\",\"#B0BEC5\",\"#B0BEC5\",\"#B0BEC5\",\"#B0BEC5\",\"#B0BEC5\",\"#B0BEC5\",\"#B0BEC5\",\"#B0BEC5\",\"#B0BEC5\",\"#B0BEC5\",\"#B0BEC5\",\"#B0BEC5\",\"#B0BEC5\",\"#B0BEC5\",\"#B0BEC5\",\"#B0BEC5\",\"#B0BEC5\",\"#B0BEC5\",\"red\",\"#B0BEC5\",\"#B0BEC5\",\"#B0BEC5\",\"#B0BEC5\",\"#B0BEC5\",\"#B0BEC5\",\"#B0BEC5\",\"#B0BEC5\"]]}],\"label\":\"Topic 45\",\"method\":\"update\"},{\"args\":[{\"marker.color\":[[\"#B0BEC5\",\"#B0BEC5\",\"#B0BEC5\",\"#B0BEC5\",\"#B0BEC5\",\"#B0BEC5\",\"#B0BEC5\",\"#B0BEC5\",\"#B0BEC5\",\"#B0BEC5\",\"#B0BEC5\",\"#B0BEC5\",\"#B0BEC5\",\"#B0BEC5\",\"#B0BEC5\",\"#B0BEC5\",\"#B0BEC5\",\"#B0BEC5\",\"#B0BEC5\",\"#B0BEC5\",\"#B0BEC5\",\"#B0BEC5\",\"#B0BEC5\",\"#B0BEC5\",\"#B0BEC5\",\"#B0BEC5\",\"#B0BEC5\",\"#B0BEC5\",\"#B0BEC5\",\"#B0BEC5\",\"#B0BEC5\",\"#B0BEC5\",\"#B0BEC5\",\"#B0BEC5\",\"#B0BEC5\",\"#B0BEC5\",\"#B0BEC5\",\"#B0BEC5\",\"#B0BEC5\",\"#B0BEC5\",\"#B0BEC5\",\"#B0BEC5\",\"#B0BEC5\",\"#B0BEC5\",\"#B0BEC5\",\"#B0BEC5\",\"red\",\"#B0BEC5\",\"#B0BEC5\",\"#B0BEC5\",\"#B0BEC5\",\"#B0BEC5\",\"#B0BEC5\",\"#B0BEC5\"]]}],\"label\":\"Topic 46\",\"method\":\"update\"},{\"args\":[{\"marker.color\":[[\"#B0BEC5\",\"#B0BEC5\",\"#B0BEC5\",\"#B0BEC5\",\"#B0BEC5\",\"#B0BEC5\",\"#B0BEC5\",\"#B0BEC5\",\"#B0BEC5\",\"#B0BEC5\",\"#B0BEC5\",\"#B0BEC5\",\"#B0BEC5\",\"#B0BEC5\",\"#B0BEC5\",\"#B0BEC5\",\"#B0BEC5\",\"#B0BEC5\",\"#B0BEC5\",\"#B0BEC5\",\"#B0BEC5\",\"#B0BEC5\",\"#B0BEC5\",\"#B0BEC5\",\"#B0BEC5\",\"#B0BEC5\",\"#B0BEC5\",\"#B0BEC5\",\"#B0BEC5\",\"#B0BEC5\",\"#B0BEC5\",\"#B0BEC5\",\"#B0BEC5\",\"#B0BEC5\",\"#B0BEC5\",\"#B0BEC5\",\"#B0BEC5\",\"#B0BEC5\",\"#B0BEC5\",\"#B0BEC5\",\"#B0BEC5\",\"#B0BEC5\",\"#B0BEC5\",\"#B0BEC5\",\"#B0BEC5\",\"#B0BEC5\",\"#B0BEC5\",\"red\",\"#B0BEC5\",\"#B0BEC5\",\"#B0BEC5\",\"#B0BEC5\",\"#B0BEC5\",\"#B0BEC5\"]]}],\"label\":\"Topic 47\",\"method\":\"update\"},{\"args\":[{\"marker.color\":[[\"#B0BEC5\",\"#B0BEC5\",\"#B0BEC5\",\"#B0BEC5\",\"#B0BEC5\",\"#B0BEC5\",\"#B0BEC5\",\"#B0BEC5\",\"#B0BEC5\",\"#B0BEC5\",\"#B0BEC5\",\"#B0BEC5\",\"#B0BEC5\",\"#B0BEC5\",\"#B0BEC5\",\"#B0BEC5\",\"#B0BEC5\",\"#B0BEC5\",\"#B0BEC5\",\"#B0BEC5\",\"#B0BEC5\",\"#B0BEC5\",\"#B0BEC5\",\"#B0BEC5\",\"#B0BEC5\",\"#B0BEC5\",\"#B0BEC5\",\"#B0BEC5\",\"#B0BEC5\",\"#B0BEC5\",\"#B0BEC5\",\"#B0BEC5\",\"#B0BEC5\",\"#B0BEC5\",\"#B0BEC5\",\"#B0BEC5\",\"#B0BEC5\",\"#B0BEC5\",\"#B0BEC5\",\"#B0BEC5\",\"#B0BEC5\",\"#B0BEC5\",\"#B0BEC5\",\"#B0BEC5\",\"#B0BEC5\",\"#B0BEC5\",\"#B0BEC5\",\"#B0BEC5\",\"red\",\"#B0BEC5\",\"#B0BEC5\",\"#B0BEC5\",\"#B0BEC5\",\"#B0BEC5\"]]}],\"label\":\"Topic 48\",\"method\":\"update\"},{\"args\":[{\"marker.color\":[[\"#B0BEC5\",\"#B0BEC5\",\"#B0BEC5\",\"#B0BEC5\",\"#B0BEC5\",\"#B0BEC5\",\"#B0BEC5\",\"#B0BEC5\",\"#B0BEC5\",\"#B0BEC5\",\"#B0BEC5\",\"#B0BEC5\",\"#B0BEC5\",\"#B0BEC5\",\"#B0BEC5\",\"#B0BEC5\",\"#B0BEC5\",\"#B0BEC5\",\"#B0BEC5\",\"#B0BEC5\",\"#B0BEC5\",\"#B0BEC5\",\"#B0BEC5\",\"#B0BEC5\",\"#B0BEC5\",\"#B0BEC5\",\"#B0BEC5\",\"#B0BEC5\",\"#B0BEC5\",\"#B0BEC5\",\"#B0BEC5\",\"#B0BEC5\",\"#B0BEC5\",\"#B0BEC5\",\"#B0BEC5\",\"#B0BEC5\",\"#B0BEC5\",\"#B0BEC5\",\"#B0BEC5\",\"#B0BEC5\",\"#B0BEC5\",\"#B0BEC5\",\"#B0BEC5\",\"#B0BEC5\",\"#B0BEC5\",\"#B0BEC5\",\"#B0BEC5\",\"#B0BEC5\",\"#B0BEC5\",\"red\",\"#B0BEC5\",\"#B0BEC5\",\"#B0BEC5\",\"#B0BEC5\"]]}],\"label\":\"Topic 49\",\"method\":\"update\"},{\"args\":[{\"marker.color\":[[\"#B0BEC5\",\"#B0BEC5\",\"#B0BEC5\",\"#B0BEC5\",\"#B0BEC5\",\"#B0BEC5\",\"#B0BEC5\",\"#B0BEC5\",\"#B0BEC5\",\"#B0BEC5\",\"#B0BEC5\",\"#B0BEC5\",\"#B0BEC5\",\"#B0BEC5\",\"#B0BEC5\",\"#B0BEC5\",\"#B0BEC5\",\"#B0BEC5\",\"#B0BEC5\",\"#B0BEC5\",\"#B0BEC5\",\"#B0BEC5\",\"#B0BEC5\",\"#B0BEC5\",\"#B0BEC5\",\"#B0BEC5\",\"#B0BEC5\",\"#B0BEC5\",\"#B0BEC5\",\"#B0BEC5\",\"#B0BEC5\",\"#B0BEC5\",\"#B0BEC5\",\"#B0BEC5\",\"#B0BEC5\",\"#B0BEC5\",\"#B0BEC5\",\"#B0BEC5\",\"#B0BEC5\",\"#B0BEC5\",\"#B0BEC5\",\"#B0BEC5\",\"#B0BEC5\",\"#B0BEC5\",\"#B0BEC5\",\"#B0BEC5\",\"#B0BEC5\",\"#B0BEC5\",\"#B0BEC5\",\"#B0BEC5\",\"red\",\"#B0BEC5\",\"#B0BEC5\",\"#B0BEC5\"]]}],\"label\":\"Topic 50\",\"method\":\"update\"},{\"args\":[{\"marker.color\":[[\"#B0BEC5\",\"#B0BEC5\",\"#B0BEC5\",\"#B0BEC5\",\"#B0BEC5\",\"#B0BEC5\",\"#B0BEC5\",\"#B0BEC5\",\"#B0BEC5\",\"#B0BEC5\",\"#B0BEC5\",\"#B0BEC5\",\"#B0BEC5\",\"#B0BEC5\",\"#B0BEC5\",\"#B0BEC5\",\"#B0BEC5\",\"#B0BEC5\",\"#B0BEC5\",\"#B0BEC5\",\"#B0BEC5\",\"#B0BEC5\",\"#B0BEC5\",\"#B0BEC5\",\"#B0BEC5\",\"#B0BEC5\",\"#B0BEC5\",\"#B0BEC5\",\"#B0BEC5\",\"#B0BEC5\",\"#B0BEC5\",\"#B0BEC5\",\"#B0BEC5\",\"#B0BEC5\",\"#B0BEC5\",\"#B0BEC5\",\"#B0BEC5\",\"#B0BEC5\",\"#B0BEC5\",\"#B0BEC5\",\"#B0BEC5\",\"#B0BEC5\",\"#B0BEC5\",\"#B0BEC5\",\"#B0BEC5\",\"#B0BEC5\",\"#B0BEC5\",\"#B0BEC5\",\"#B0BEC5\",\"#B0BEC5\",\"#B0BEC5\",\"red\",\"#B0BEC5\",\"#B0BEC5\"]]}],\"label\":\"Topic 51\",\"method\":\"update\"},{\"args\":[{\"marker.color\":[[\"#B0BEC5\",\"#B0BEC5\",\"#B0BEC5\",\"#B0BEC5\",\"#B0BEC5\",\"#B0BEC5\",\"#B0BEC5\",\"#B0BEC5\",\"#B0BEC5\",\"#B0BEC5\",\"#B0BEC5\",\"#B0BEC5\",\"#B0BEC5\",\"#B0BEC5\",\"#B0BEC5\",\"#B0BEC5\",\"#B0BEC5\",\"#B0BEC5\",\"#B0BEC5\",\"#B0BEC5\",\"#B0BEC5\",\"#B0BEC5\",\"#B0BEC5\",\"#B0BEC5\",\"#B0BEC5\",\"#B0BEC5\",\"#B0BEC5\",\"#B0BEC5\",\"#B0BEC5\",\"#B0BEC5\",\"#B0BEC5\",\"#B0BEC5\",\"#B0BEC5\",\"#B0BEC5\",\"#B0BEC5\",\"#B0BEC5\",\"#B0BEC5\",\"#B0BEC5\",\"#B0BEC5\",\"#B0BEC5\",\"#B0BEC5\",\"#B0BEC5\",\"#B0BEC5\",\"#B0BEC5\",\"#B0BEC5\",\"#B0BEC5\",\"#B0BEC5\",\"#B0BEC5\",\"#B0BEC5\",\"#B0BEC5\",\"#B0BEC5\",\"#B0BEC5\",\"red\",\"#B0BEC5\"]]}],\"label\":\"Topic 52\",\"method\":\"update\"},{\"args\":[{\"marker.color\":[[\"#B0BEC5\",\"#B0BEC5\",\"#B0BEC5\",\"#B0BEC5\",\"#B0BEC5\",\"#B0BEC5\",\"#B0BEC5\",\"#B0BEC5\",\"#B0BEC5\",\"#B0BEC5\",\"#B0BEC5\",\"#B0BEC5\",\"#B0BEC5\",\"#B0BEC5\",\"#B0BEC5\",\"#B0BEC5\",\"#B0BEC5\",\"#B0BEC5\",\"#B0BEC5\",\"#B0BEC5\",\"#B0BEC5\",\"#B0BEC5\",\"#B0BEC5\",\"#B0BEC5\",\"#B0BEC5\",\"#B0BEC5\",\"#B0BEC5\",\"#B0BEC5\",\"#B0BEC5\",\"#B0BEC5\",\"#B0BEC5\",\"#B0BEC5\",\"#B0BEC5\",\"#B0BEC5\",\"#B0BEC5\",\"#B0BEC5\",\"#B0BEC5\",\"#B0BEC5\",\"#B0BEC5\",\"#B0BEC5\",\"#B0BEC5\",\"#B0BEC5\",\"#B0BEC5\",\"#B0BEC5\",\"#B0BEC5\",\"#B0BEC5\",\"#B0BEC5\",\"#B0BEC5\",\"#B0BEC5\",\"#B0BEC5\",\"#B0BEC5\",\"#B0BEC5\",\"#B0BEC5\",\"red\"]]}],\"label\":\"Topic 53\",\"method\":\"update\"}]}],\"shapes\":[{\"line\":{\"color\":\"#CFD8DC\",\"width\":2},\"type\":\"line\",\"x0\":6.0610582113266,\"x1\":6.0610582113266,\"y0\":-14.363545799255371,\"y1\":24.189128971099855},{\"line\":{\"color\":\"#9E9E9E\",\"width\":2},\"type\":\"line\",\"x0\":-9.948860597610473,\"x1\":22.070977020263673,\"y0\":4.912791585922242,\"y1\":4.912791585922242}],\"annotations\":[{\"showarrow\":false,\"text\":\"D1\",\"x\":-9.948860597610473,\"y\":4.912791585922242,\"yshift\":10},{\"showarrow\":false,\"text\":\"D2\",\"x\":6.0610582113266,\"xshift\":10,\"y\":24.189128971099855}]},                        {\"responsive\": true}                    ).then(function(){\n",
              "                            \n",
              "var gd = document.getElementById('f9d3ed29-3a7a-46f2-b9b5-75fc8debacb2');\n",
              "var x = new MutationObserver(function (mutations, observer) {{\n",
              "        var display = window.getComputedStyle(gd).display;\n",
              "        if (!display || display === 'none') {{\n",
              "            console.log([gd, 'removed!']);\n",
              "            Plotly.purge(gd);\n",
              "            observer.disconnect();\n",
              "        }}\n",
              "}});\n",
              "\n",
              "// Listen for the removal of the full notebook cells\n",
              "var notebookContainer = gd.closest('#notebook-container');\n",
              "if (notebookContainer) {{\n",
              "    x.observe(notebookContainer, {childList: true});\n",
              "}}\n",
              "\n",
              "// Listen for the clearing of the current output cell\n",
              "var outputEl = gd.closest('.output');\n",
              "if (outputEl) {{\n",
              "    x.observe(outputEl, {childList: true});\n",
              "}}\n",
              "\n",
              "                        })                };                            </script>        </div>\n",
              "</body>\n",
              "</html>"
            ]
          },
          "metadata": {}
        }
      ]
    },
    {
      "cell_type": "code",
      "source": [
        "topic_model.visualize_barchart(top_n_topics = 48,  n_words = 3) "
      ],
      "metadata": {
        "id": "jSTpzIJi1M5K",
        "outputId": "bf764b0d-1677-4a98-dd2d-c9c8122be84c",
        "colab": {
          "base_uri": "https://localhost:8080/",
          "height": 1000
        }
      },
      "execution_count": 131,
      "outputs": [
        {
          "output_type": "display_data",
          "data": {
            "text/html": [
              "<html>\n",
              "<head><meta charset=\"utf-8\" /></head>\n",
              "<body>\n",
              "    <div>            <script src=\"https://cdnjs.cloudflare.com/ajax/libs/mathjax/2.7.5/MathJax.js?config=TeX-AMS-MML_SVG\"></script><script type=\"text/javascript\">if (window.MathJax) {MathJax.Hub.Config({SVG: {font: \"STIX-Web\"}});}</script>                <script type=\"text/javascript\">window.PlotlyConfig = {MathJaxConfig: 'local'};</script>\n",
              "        <script src=\"https://cdn.plot.ly/plotly-2.8.3.min.js\"></script>                <div id=\"bf0e87d7-80ce-46fd-b89a-a0e725b47175\" class=\"plotly-graph-div\" style=\"height:3000px; width:1000px;\"></div>            <script type=\"text/javascript\">                                    window.PLOTLYENV=window.PLOTLYENV || {};                                    if (document.getElementById(\"bf0e87d7-80ce-46fd-b89a-a0e725b47175\")) {                    Plotly.newPlot(                        \"bf0e87d7-80ce-46fd-b89a-a0e725b47175\",                        [{\"marker\":{\"color\":\"#D55E00\"},\"orientation\":\"h\",\"x\":[0.004848917864558722,0.0054529228576496395,0.0058161546705156626],\"y\":[\"heute  \",\"bundesrat  \",\"kommission  \"],\"type\":\"bar\",\"xaxis\":\"x\",\"yaxis\":\"y\"},{\"marker\":{\"color\":\"#0072B2\"},\"orientation\":\"h\",\"x\":[0.0064051964127920654,0.007058599276839661,0.007716758448467448],\"y\":[\"kosten  \",\"patienten  \",\"gesundheitswesen  \"],\"type\":\"bar\",\"xaxis\":\"x2\",\"yaxis\":\"y2\"},{\"marker\":{\"color\":\"#CC79A7\"},\"orientation\":\"h\",\"x\":[0.006567033728452608,0.006794258705753697,0.024305653332316088],\"y\":[\"sicherheit  \",\"franken  \",\"armee  \"],\"type\":\"bar\",\"xaxis\":\"x3\",\"yaxis\":\"y3\"},{\"marker\":{\"color\":\"#E69F00\"},\"orientation\":\"h\",\"x\":[0.011768484774577691,0.012444096658324315,0.017025137515132113],\"y\":[\"millionen franken  \",\"millionen  \",\"franken  \"],\"type\":\"bar\",\"xaxis\":\"x4\",\"yaxis\":\"y4\"},{\"marker\":{\"color\":\"#56B4E9\"},\"orientation\":\"h\",\"x\":[0.008162672826637043,0.008912924379678699,0.019911573388160783],\"y\":[\"einsatz  \",\"schweiz  \",\"armee  \"],\"type\":\"bar\",\"xaxis\":\"x5\",\"yaxis\":\"y5\"},{\"marker\":{\"color\":\"#009E73\"},\"orientation\":\"h\",\"x\":[0.009270263698600425,0.012904697426039124,0.01492784146812044],\"y\":[\"einb\\u00fcrgerung  \",\"schweiz  \",\"zuwanderung  \"],\"type\":\"bar\",\"xaxis\":\"x6\",\"yaxis\":\"y6\"},{\"marker\":{\"color\":\"#F0E442\"},\"orientation\":\"h\",\"x\":[0.013181459564267715,0.01363055781023532,0.02931641972063563],\"y\":[\"bilateralen  \",\"beitritt  \",\"eu  \"],\"type\":\"bar\",\"xaxis\":\"x7\",\"yaxis\":\"y7\"},{\"marker\":{\"color\":\"#D55E00\"},\"orientation\":\"h\",\"x\":[0.00846644616405193,0.009308298097283188,0.009437638844178054],\"y\":[\"ausl\\u00e4nder  \",\"artikel  \",\"initiative  \"],\"type\":\"bar\",\"xaxis\":\"x8\",\"yaxis\":\"y8\"},{\"marker\":{\"color\":\"#0072B2\"},\"orientation\":\"h\",\"x\":[0.00686549580256948,0.006951425749409225,0.008939022364660189],\"y\":[\"\\u00f6ffentlichen  \",\"velo  \",\"verkehr  \"],\"type\":\"bar\",\"xaxis\":\"x9\",\"yaxis\":\"y9\"},{\"marker\":{\"color\":\"#CC79A7\"},\"orientation\":\"h\",\"x\":[0.011611653359948097,0.01896092945509923,0.01928519339402924],\"y\":[\"kindern  \",\"familien  \",\"kinder  \"],\"type\":\"bar\",\"xaxis\":\"x10\",\"yaxis\":\"y10\"},{\"marker\":{\"color\":\"#E69F00\"},\"orientation\":\"h\",\"x\":[0.005451949368336215,0.005774532143958739,0.006736260585260141],\"y\":[\"motion  \",\"restwassermengen  \",\"bundesrat  \"],\"type\":\"bar\",\"xaxis\":\"x11\",\"yaxis\":\"y11\"},{\"marker\":{\"color\":\"#56B4E9\"},\"orientation\":\"h\",\"x\":[0.011876291162123452,0.02288954553437352,0.024572125207707695],\"y\":[\"direktzahlungen  \",\"bauern  \",\"landwirtschaft  \"],\"type\":\"bar\",\"xaxis\":\"x12\",\"yaxis\":\"y12\"},{\"marker\":{\"color\":\"#009E73\"},\"orientation\":\"h\",\"x\":[0.008769491641997522,0.009176474604109766,0.02063191693416004],\"y\":[\"schweiz  \",\"lebensmittel  \",\"landwirtschaft  \"],\"type\":\"bar\",\"xaxis\":\"x13\",\"yaxis\":\"y13\"},{\"marker\":{\"color\":\"#F0E442\"},\"orientation\":\"h\",\"x\":[0.008783998511791532,0.011328649420164202,0.011869997190284438],\"y\":[\"konsumentinnen  \",\"konsumenten  \",\"online  \"],\"type\":\"bar\",\"xaxis\":\"x14\",\"yaxis\":\"y14\"},{\"marker\":{\"color\":\"#D55E00\"},\"orientation\":\"h\",\"x\":[0.007470076406006053,0.007764491513882222,0.012737856461324549],\"y\":[\"nationalbank  \",\"banken  \",\"schweiz  \"],\"type\":\"bar\",\"xaxis\":\"x15\",\"yaxis\":\"y15\"},{\"marker\":{\"color\":\"#0072B2\"},\"orientation\":\"h\",\"x\":[0.010228306568916145,0.013609313977160687,0.015900344891417346],\"y\":[\"unternehmen  \",\"schweiz  \",\"swisscom  \"],\"type\":\"bar\",\"xaxis\":\"x16\",\"yaxis\":\"y16\"},{\"marker\":{\"color\":\"#CC79A7\"},\"orientation\":\"h\",\"x\":[0.012376677184307596,0.014004327798183613,0.016881088654900962],\"y\":[\"tieren  \",\"fleisch  \",\"tiere  \"],\"type\":\"bar\",\"xaxis\":\"x17\",\"yaxis\":\"y17\"},{\"marker\":{\"color\":\"#E69F00\"},\"orientation\":\"h\",\"x\":[0.011961591027997202,0.01268816357084653,0.025539133506428766],\"y\":[\"rente  \",\"erg\\u00e4nzungsleistungen  \",\"ahv  \"],\"type\":\"bar\",\"xaxis\":\"x18\",\"yaxis\":\"y18\"},{\"marker\":{\"color\":\"#56B4E9\"},\"orientation\":\"h\",\"x\":[0.009148857119162267,0.01158761016183197,0.011885998193509762],\"y\":[\"aufnahme  \",\"fl\\u00fcchtlinge  \",\"schweiz  \"],\"type\":\"bar\",\"xaxis\":\"x19\",\"yaxis\":\"y19\"},{\"marker\":{\"color\":\"#009E73\"},\"orientation\":\"h\",\"x\":[0.01120810803834606,0.012235908283074312,0.014765656290885663],\"y\":[\"besteuerung  \",\"pauschalbesteuerung  \",\"mehrwertsteuer  \"],\"type\":\"bar\",\"xaxis\":\"x20\",\"yaxis\":\"y20\"},{\"marker\":{\"color\":\"#F0E442\"},\"orientation\":\"h\",\"x\":[0.01574057370474677,0.016164287134561386,0.02412289121444404],\"y\":[\"erneuerbaren energien  \",\"erneuerbaren  \",\"energien  \"],\"type\":\"bar\",\"xaxis\":\"x21\",\"yaxis\":\"y21\"},{\"marker\":{\"color\":\"#D55E00\"},\"orientation\":\"h\",\"x\":[0.009222590520378672,0.011407127169253968,0.02402669575992115],\"y\":[\"wirtschaft  \",\"schweiz  \",\"co2  \"],\"type\":\"bar\",\"xaxis\":\"x22\",\"yaxis\":\"y22\"},{\"marker\":{\"color\":\"#0072B2\"},\"orientation\":\"h\",\"x\":[0.007971007923828365,0.008426000413427425,0.009380176370656055],\"y\":[\"artikel  \",\"personen  \",\"verfahren  \"],\"type\":\"bar\",\"xaxis\":\"x23\",\"yaxis\":\"y23\"},{\"marker\":{\"color\":\"#CC79A7\"},\"orientation\":\"h\",\"x\":[0.006408768334109645,0.009796554843828121,0.014716402604659085],\"y\":[\"eu  \",\"demokratie  \",\"schweiz  \"],\"type\":\"bar\",\"xaxis\":\"x24\",\"yaxis\":\"y24\"},{\"marker\":{\"color\":\"#E69F00\"},\"orientation\":\"h\",\"x\":[0.013599410744454197,0.016671101603526903,0.02198771172310196],\"y\":[\"zigaretten  \",\"passivrauchen  \",\"rauchen  \"],\"type\":\"bar\",\"xaxis\":\"x25\",\"yaxis\":\"y25\"},{\"marker\":{\"color\":\"#56B4E9\"},\"orientation\":\"h\",\"x\":[0.012209945946831181,0.012640700322019666,0.019622757559190886],\"y\":[\"steuern  \",\"schweiz  \",\"pauschalbesteuerung  \"],\"type\":\"bar\",\"xaxis\":\"x26\",\"yaxis\":\"y26\"},{\"marker\":{\"color\":\"#009E73\"},\"orientation\":\"h\",\"x\":[0.019360013369295735,0.023114702845002555,0.02520988099902989],\"y\":[\"moratorium  \",\"gvo  \",\"landwirtschaft  \"],\"type\":\"bar\",\"xaxis\":\"x27\",\"yaxis\":\"y27\"},{\"marker\":{\"color\":\"#F0E442\"},\"orientation\":\"h\",\"x\":[0.014254578770362942,0.016996156853934942,0.017119323316684337],\"y\":[\"tv  \",\"radio  \",\"srg  \"],\"type\":\"bar\",\"xaxis\":\"x28\",\"yaxis\":\"y28\"},{\"marker\":{\"color\":\"#D55E00\"},\"orientation\":\"h\",\"x\":[0.011959205237926093,0.02386512763843915,0.04047976120823013],\"y\":[\"oberaufsicht  \",\"gpdel  \",\"gpk  \"],\"type\":\"bar\",\"xaxis\":\"x29\",\"yaxis\":\"y29\"},{\"marker\":{\"color\":\"#0072B2\"},\"orientation\":\"h\",\"x\":[0.0137212360170723,0.017037191562338697,0.0379680636192757],\"y\":[\"cannabiskonsum  \",\"konsum  \",\"cannabis  \"],\"type\":\"bar\",\"xaxis\":\"x30\",\"yaxis\":\"y30\"},{\"marker\":{\"color\":\"#CC79A7\"},\"orientation\":\"h\",\"x\":[0.01155556551713647,0.013961685697018597,0.042590493057624156],\"y\":[\"sports  \",\"fifa  \",\"sport  \"],\"type\":\"bar\",\"xaxis\":\"x31\",\"yaxis\":\"y31\"},{\"marker\":{\"color\":\"#E69F00\"},\"orientation\":\"h\",\"x\":[0.015736995551118967,0.025899370093496847,0.03943438348689036],\"y\":[\"frau  \",\"gleichstellung  \",\"frauen  \"],\"type\":\"bar\",\"xaxis\":\"x32\",\"yaxis\":\"y32\"},{\"marker\":{\"color\":\"#56B4E9\"},\"orientation\":\"h\",\"x\":[0.015235439622867318,0.017942255916896663,0.02007518738903155],\"y\":[\"gsk  \",\"fachhochschulen  \",\"berufsbildung  \"],\"type\":\"bar\",\"xaxis\":\"x33\",\"yaxis\":\"y33\"},{\"marker\":{\"color\":\"#009E73\"},\"orientation\":\"h\",\"x\":[0.009332476583056587,0.009573544487773275,0.012677071138492962],\"y\":[\"konsumenten  \",\"preise  \",\"strom  \"],\"type\":\"bar\",\"xaxis\":\"x34\",\"yaxis\":\"y34\"},{\"marker\":{\"color\":\"#F0E442\"},\"orientation\":\"h\",\"x\":[0.012700412044230834,0.014656811767219073,0.030692043531184775],\"y\":[\"sexuelle  \",\"eltern  \",\"kinder  \"],\"type\":\"bar\",\"xaxis\":\"x35\",\"yaxis\":\"y35\"},{\"marker\":{\"color\":\"#D55E00\"},\"orientation\":\"h\",\"x\":[0.010517472753393167,0.013965156686785576,0.014709390450418332],\"y\":[\"z\\u00fcrich  \",\"flughafen  \",\"luftfahrt  \"],\"type\":\"bar\",\"xaxis\":\"x36\",\"yaxis\":\"y36\"},{\"marker\":{\"color\":\"#0072B2\"},\"orientation\":\"h\",\"x\":[0.013971722705791416,0.014338816571679925,0.01615873604287772],\"y\":[\"migration  \",\"zuwanderung  \",\"rasa  \"],\"type\":\"bar\",\"xaxis\":\"x37\",\"yaxis\":\"y37\"},{\"marker\":{\"color\":\"#CC79A7\"},\"orientation\":\"h\",\"x\":[0.014662481127475131,0.016448232167476397,0.019270362511132896],\"y\":[\"l\\u00f6hne  \",\"schweiz  \",\"mindestlohn  \"],\"type\":\"bar\",\"xaxis\":\"x38\",\"yaxis\":\"y38\"},{\"marker\":{\"color\":\"#E69F00\"},\"orientation\":\"h\",\"x\":[0.009439040519797777,0.01275462150709344,0.018565387317396126],\"y\":[\"europarat  \",\"schweiz  \",\"bericht  \"],\"type\":\"bar\",\"xaxis\":\"x39\",\"yaxis\":\"y39\"},{\"marker\":{\"color\":\"#56B4E9\"},\"orientation\":\"h\",\"x\":[0.02021806953711206,0.024308074322208783,0.028278285440083265],\"y\":[\"abkommen  \",\"freihandelsabkommen  \",\"wto  \"],\"type\":\"bar\",\"xaxis\":\"x40\",\"yaxis\":\"y40\"},{\"marker\":{\"color\":\"#009E73\"},\"orientation\":\"h\",\"x\":[0.01073234001256581,0.01171062234335864,0.018939423551586725],\"y\":[\"ausstieg  \",\"kernkraftwerke  \",\"akw  \"],\"type\":\"bar\",\"xaxis\":\"x41\",\"yaxis\":\"y41\"},{\"marker\":{\"color\":\"#F0E442\"},\"orientation\":\"h\",\"x\":[0.020388974941226087,0.021491053629390876,0.02452422850274699],\"y\":[\"frauen  \",\"abtreibung  \",\"schwangerschaft  \"],\"type\":\"bar\",\"xaxis\":\"x42\",\"yaxis\":\"y42\"},{\"marker\":{\"color\":\"#D55E00\"},\"orientation\":\"h\",\"x\":[0.009472106713788894,0.009945645524287554,0.01090083195630799],\"y\":[\"vorlage  \",\"motion  \",\"mehrwertsteuer  \"],\"type\":\"bar\",\"xaxis\":\"x43\",\"yaxis\":\"y43\"},{\"marker\":{\"color\":\"#0072B2\"},\"orientation\":\"h\",\"x\":[0.013174044488782974,0.013470643548233649,0.025949054713828898],\"y\":[\"konsumkreditgesetz  \",\"15 prozent  \",\"leasingvertr\\u00e4ge  \"],\"type\":\"bar\",\"xaxis\":\"x44\",\"yaxis\":\"y44\"},{\"marker\":{\"color\":\"#CC79A7\"},\"orientation\":\"h\",\"x\":[0.020942937619959717,0.026722509065174094,0.026809400158425672],\"y\":[\"alcopops  \",\"bier  \",\"alkohol  \"],\"type\":\"bar\",\"xaxis\":\"x45\",\"yaxis\":\"y45\"},{\"marker\":{\"color\":\"#E69F00\"},\"orientation\":\"h\",\"x\":[0.012376758546939594,0.01648644252412255,0.054674365992945215],\"y\":[\"patentrecht  \",\"parallelimporte  \",\"ersch\\u00f6pfung  \"],\"type\":\"bar\",\"xaxis\":\"x46\",\"yaxis\":\"y46\"},{\"marker\":{\"color\":\"#56B4E9\"},\"orientation\":\"h\",\"x\":[0.012439265161027549,0.015223836139988128,0.025440095189191093],\"y\":[\"umwelt  \",\"wasser  \",\"trinkwasser  \"],\"type\":\"bar\",\"xaxis\":\"x47\",\"yaxis\":\"y47\"},{\"marker\":{\"color\":\"#009E73\"},\"orientation\":\"h\",\"x\":[0.012225361407636307,0.016900423393935802,0.017882960934787542],\"y\":[\"stunden  \",\"arbeitszeit  \",\"arbeitnehmer  \"],\"type\":\"bar\",\"xaxis\":\"x48\",\"yaxis\":\"y48\"}],                        {\"template\":{\"data\":{\"barpolar\":[{\"marker\":{\"line\":{\"color\":\"white\",\"width\":0.5},\"pattern\":{\"fillmode\":\"overlay\",\"size\":10,\"solidity\":0.2}},\"type\":\"barpolar\"}],\"bar\":[{\"error_x\":{\"color\":\"#2a3f5f\"},\"error_y\":{\"color\":\"#2a3f5f\"},\"marker\":{\"line\":{\"color\":\"white\",\"width\":0.5},\"pattern\":{\"fillmode\":\"overlay\",\"size\":10,\"solidity\":0.2}},\"type\":\"bar\"}],\"carpet\":[{\"aaxis\":{\"endlinecolor\":\"#2a3f5f\",\"gridcolor\":\"#C8D4E3\",\"linecolor\":\"#C8D4E3\",\"minorgridcolor\":\"#C8D4E3\",\"startlinecolor\":\"#2a3f5f\"},\"baxis\":{\"endlinecolor\":\"#2a3f5f\",\"gridcolor\":\"#C8D4E3\",\"linecolor\":\"#C8D4E3\",\"minorgridcolor\":\"#C8D4E3\",\"startlinecolor\":\"#2a3f5f\"},\"type\":\"carpet\"}],\"choropleth\":[{\"colorbar\":{\"outlinewidth\":0,\"ticks\":\"\"},\"type\":\"choropleth\"}],\"contourcarpet\":[{\"colorbar\":{\"outlinewidth\":0,\"ticks\":\"\"},\"type\":\"contourcarpet\"}],\"contour\":[{\"colorbar\":{\"outlinewidth\":0,\"ticks\":\"\"},\"colorscale\":[[0.0,\"#0d0887\"],[0.1111111111111111,\"#46039f\"],[0.2222222222222222,\"#7201a8\"],[0.3333333333333333,\"#9c179e\"],[0.4444444444444444,\"#bd3786\"],[0.5555555555555556,\"#d8576b\"],[0.6666666666666666,\"#ed7953\"],[0.7777777777777778,\"#fb9f3a\"],[0.8888888888888888,\"#fdca26\"],[1.0,\"#f0f921\"]],\"type\":\"contour\"}],\"heatmapgl\":[{\"colorbar\":{\"outlinewidth\":0,\"ticks\":\"\"},\"colorscale\":[[0.0,\"#0d0887\"],[0.1111111111111111,\"#46039f\"],[0.2222222222222222,\"#7201a8\"],[0.3333333333333333,\"#9c179e\"],[0.4444444444444444,\"#bd3786\"],[0.5555555555555556,\"#d8576b\"],[0.6666666666666666,\"#ed7953\"],[0.7777777777777778,\"#fb9f3a\"],[0.8888888888888888,\"#fdca26\"],[1.0,\"#f0f921\"]],\"type\":\"heatmapgl\"}],\"heatmap\":[{\"colorbar\":{\"outlinewidth\":0,\"ticks\":\"\"},\"colorscale\":[[0.0,\"#0d0887\"],[0.1111111111111111,\"#46039f\"],[0.2222222222222222,\"#7201a8\"],[0.3333333333333333,\"#9c179e\"],[0.4444444444444444,\"#bd3786\"],[0.5555555555555556,\"#d8576b\"],[0.6666666666666666,\"#ed7953\"],[0.7777777777777778,\"#fb9f3a\"],[0.8888888888888888,\"#fdca26\"],[1.0,\"#f0f921\"]],\"type\":\"heatmap\"}],\"histogram2dcontour\":[{\"colorbar\":{\"outlinewidth\":0,\"ticks\":\"\"},\"colorscale\":[[0.0,\"#0d0887\"],[0.1111111111111111,\"#46039f\"],[0.2222222222222222,\"#7201a8\"],[0.3333333333333333,\"#9c179e\"],[0.4444444444444444,\"#bd3786\"],[0.5555555555555556,\"#d8576b\"],[0.6666666666666666,\"#ed7953\"],[0.7777777777777778,\"#fb9f3a\"],[0.8888888888888888,\"#fdca26\"],[1.0,\"#f0f921\"]],\"type\":\"histogram2dcontour\"}],\"histogram2d\":[{\"colorbar\":{\"outlinewidth\":0,\"ticks\":\"\"},\"colorscale\":[[0.0,\"#0d0887\"],[0.1111111111111111,\"#46039f\"],[0.2222222222222222,\"#7201a8\"],[0.3333333333333333,\"#9c179e\"],[0.4444444444444444,\"#bd3786\"],[0.5555555555555556,\"#d8576b\"],[0.6666666666666666,\"#ed7953\"],[0.7777777777777778,\"#fb9f3a\"],[0.8888888888888888,\"#fdca26\"],[1.0,\"#f0f921\"]],\"type\":\"histogram2d\"}],\"histogram\":[{\"marker\":{\"pattern\":{\"fillmode\":\"overlay\",\"size\":10,\"solidity\":0.2}},\"type\":\"histogram\"}],\"mesh3d\":[{\"colorbar\":{\"outlinewidth\":0,\"ticks\":\"\"},\"type\":\"mesh3d\"}],\"parcoords\":[{\"line\":{\"colorbar\":{\"outlinewidth\":0,\"ticks\":\"\"}},\"type\":\"parcoords\"}],\"pie\":[{\"automargin\":true,\"type\":\"pie\"}],\"scatter3d\":[{\"line\":{\"colorbar\":{\"outlinewidth\":0,\"ticks\":\"\"}},\"marker\":{\"colorbar\":{\"outlinewidth\":0,\"ticks\":\"\"}},\"type\":\"scatter3d\"}],\"scattercarpet\":[{\"marker\":{\"colorbar\":{\"outlinewidth\":0,\"ticks\":\"\"}},\"type\":\"scattercarpet\"}],\"scattergeo\":[{\"marker\":{\"colorbar\":{\"outlinewidth\":0,\"ticks\":\"\"}},\"type\":\"scattergeo\"}],\"scattergl\":[{\"marker\":{\"colorbar\":{\"outlinewidth\":0,\"ticks\":\"\"}},\"type\":\"scattergl\"}],\"scattermapbox\":[{\"marker\":{\"colorbar\":{\"outlinewidth\":0,\"ticks\":\"\"}},\"type\":\"scattermapbox\"}],\"scatterpolargl\":[{\"marker\":{\"colorbar\":{\"outlinewidth\":0,\"ticks\":\"\"}},\"type\":\"scatterpolargl\"}],\"scatterpolar\":[{\"marker\":{\"colorbar\":{\"outlinewidth\":0,\"ticks\":\"\"}},\"type\":\"scatterpolar\"}],\"scatter\":[{\"marker\":{\"colorbar\":{\"outlinewidth\":0,\"ticks\":\"\"}},\"type\":\"scatter\"}],\"scatterternary\":[{\"marker\":{\"colorbar\":{\"outlinewidth\":0,\"ticks\":\"\"}},\"type\":\"scatterternary\"}],\"surface\":[{\"colorbar\":{\"outlinewidth\":0,\"ticks\":\"\"},\"colorscale\":[[0.0,\"#0d0887\"],[0.1111111111111111,\"#46039f\"],[0.2222222222222222,\"#7201a8\"],[0.3333333333333333,\"#9c179e\"],[0.4444444444444444,\"#bd3786\"],[0.5555555555555556,\"#d8576b\"],[0.6666666666666666,\"#ed7953\"],[0.7777777777777778,\"#fb9f3a\"],[0.8888888888888888,\"#fdca26\"],[1.0,\"#f0f921\"]],\"type\":\"surface\"}],\"table\":[{\"cells\":{\"fill\":{\"color\":\"#EBF0F8\"},\"line\":{\"color\":\"white\"}},\"header\":{\"fill\":{\"color\":\"#C8D4E3\"},\"line\":{\"color\":\"white\"}},\"type\":\"table\"}]},\"layout\":{\"annotationdefaults\":{\"arrowcolor\":\"#2a3f5f\",\"arrowhead\":0,\"arrowwidth\":1},\"autotypenumbers\":\"strict\",\"coloraxis\":{\"colorbar\":{\"outlinewidth\":0,\"ticks\":\"\"}},\"colorscale\":{\"diverging\":[[0,\"#8e0152\"],[0.1,\"#c51b7d\"],[0.2,\"#de77ae\"],[0.3,\"#f1b6da\"],[0.4,\"#fde0ef\"],[0.5,\"#f7f7f7\"],[0.6,\"#e6f5d0\"],[0.7,\"#b8e186\"],[0.8,\"#7fbc41\"],[0.9,\"#4d9221\"],[1,\"#276419\"]],\"sequential\":[[0.0,\"#0d0887\"],[0.1111111111111111,\"#46039f\"],[0.2222222222222222,\"#7201a8\"],[0.3333333333333333,\"#9c179e\"],[0.4444444444444444,\"#bd3786\"],[0.5555555555555556,\"#d8576b\"],[0.6666666666666666,\"#ed7953\"],[0.7777777777777778,\"#fb9f3a\"],[0.8888888888888888,\"#fdca26\"],[1.0,\"#f0f921\"]],\"sequentialminus\":[[0.0,\"#0d0887\"],[0.1111111111111111,\"#46039f\"],[0.2222222222222222,\"#7201a8\"],[0.3333333333333333,\"#9c179e\"],[0.4444444444444444,\"#bd3786\"],[0.5555555555555556,\"#d8576b\"],[0.6666666666666666,\"#ed7953\"],[0.7777777777777778,\"#fb9f3a\"],[0.8888888888888888,\"#fdca26\"],[1.0,\"#f0f921\"]]},\"colorway\":[\"#636efa\",\"#EF553B\",\"#00cc96\",\"#ab63fa\",\"#FFA15A\",\"#19d3f3\",\"#FF6692\",\"#B6E880\",\"#FF97FF\",\"#FECB52\"],\"font\":{\"color\":\"#2a3f5f\"},\"geo\":{\"bgcolor\":\"white\",\"lakecolor\":\"white\",\"landcolor\":\"white\",\"showlakes\":true,\"showland\":true,\"subunitcolor\":\"#C8D4E3\"},\"hoverlabel\":{\"align\":\"left\"},\"hovermode\":\"closest\",\"mapbox\":{\"style\":\"light\"},\"paper_bgcolor\":\"white\",\"plot_bgcolor\":\"white\",\"polar\":{\"angularaxis\":{\"gridcolor\":\"#EBF0F8\",\"linecolor\":\"#EBF0F8\",\"ticks\":\"\"},\"bgcolor\":\"white\",\"radialaxis\":{\"gridcolor\":\"#EBF0F8\",\"linecolor\":\"#EBF0F8\",\"ticks\":\"\"}},\"scene\":{\"xaxis\":{\"backgroundcolor\":\"white\",\"gridcolor\":\"#DFE8F3\",\"gridwidth\":2,\"linecolor\":\"#EBF0F8\",\"showbackground\":true,\"ticks\":\"\",\"zerolinecolor\":\"#EBF0F8\"},\"yaxis\":{\"backgroundcolor\":\"white\",\"gridcolor\":\"#DFE8F3\",\"gridwidth\":2,\"linecolor\":\"#EBF0F8\",\"showbackground\":true,\"ticks\":\"\",\"zerolinecolor\":\"#EBF0F8\"},\"zaxis\":{\"backgroundcolor\":\"white\",\"gridcolor\":\"#DFE8F3\",\"gridwidth\":2,\"linecolor\":\"#EBF0F8\",\"showbackground\":true,\"ticks\":\"\",\"zerolinecolor\":\"#EBF0F8\"}},\"shapedefaults\":{\"line\":{\"color\":\"#2a3f5f\"}},\"ternary\":{\"aaxis\":{\"gridcolor\":\"#DFE8F3\",\"linecolor\":\"#A2B1C6\",\"ticks\":\"\"},\"baxis\":{\"gridcolor\":\"#DFE8F3\",\"linecolor\":\"#A2B1C6\",\"ticks\":\"\"},\"bgcolor\":\"white\",\"caxis\":{\"gridcolor\":\"#DFE8F3\",\"linecolor\":\"#A2B1C6\",\"ticks\":\"\"}},\"title\":{\"x\":0.05},\"xaxis\":{\"automargin\":true,\"gridcolor\":\"#EBF0F8\",\"linecolor\":\"#EBF0F8\",\"ticks\":\"\",\"title\":{\"standoff\":15},\"zerolinecolor\":\"#EBF0F8\",\"zerolinewidth\":2},\"yaxis\":{\"automargin\":true,\"gridcolor\":\"#EBF0F8\",\"linecolor\":\"#EBF0F8\",\"ticks\":\"\",\"title\":{\"standoff\":15},\"zerolinecolor\":\"#EBF0F8\",\"zerolinewidth\":2}}},\"xaxis\":{\"anchor\":\"y\",\"domain\":[0.0,0.175],\"showgrid\":true},\"yaxis\":{\"anchor\":\"x\",\"domain\":[0.9472222222222222,1.0],\"showgrid\":true},\"xaxis2\":{\"anchor\":\"y2\",\"domain\":[0.275,0.45],\"showgrid\":true},\"yaxis2\":{\"anchor\":\"x2\",\"domain\":[0.9472222222222222,1.0],\"showgrid\":true},\"xaxis3\":{\"anchor\":\"y3\",\"domain\":[0.55,0.7250000000000001],\"showgrid\":true},\"yaxis3\":{\"anchor\":\"x3\",\"domain\":[0.9472222222222222,1.0],\"showgrid\":true},\"xaxis4\":{\"anchor\":\"y4\",\"domain\":[0.825,1.0],\"showgrid\":true},\"yaxis4\":{\"anchor\":\"x4\",\"domain\":[0.9472222222222222,1.0],\"showgrid\":true},\"xaxis5\":{\"anchor\":\"y5\",\"domain\":[0.0,0.175],\"showgrid\":true},\"yaxis5\":{\"anchor\":\"x5\",\"domain\":[0.8611111111111109,0.9138888888888888],\"showgrid\":true},\"xaxis6\":{\"anchor\":\"y6\",\"domain\":[0.275,0.45],\"showgrid\":true},\"yaxis6\":{\"anchor\":\"x6\",\"domain\":[0.8611111111111109,0.9138888888888888],\"showgrid\":true},\"xaxis7\":{\"anchor\":\"y7\",\"domain\":[0.55,0.7250000000000001],\"showgrid\":true},\"yaxis7\":{\"anchor\":\"x7\",\"domain\":[0.8611111111111109,0.9138888888888888],\"showgrid\":true},\"xaxis8\":{\"anchor\":\"y8\",\"domain\":[0.825,1.0],\"showgrid\":true},\"yaxis8\":{\"anchor\":\"x8\",\"domain\":[0.8611111111111109,0.9138888888888888],\"showgrid\":true},\"xaxis9\":{\"anchor\":\"y9\",\"domain\":[0.0,0.175],\"showgrid\":true},\"yaxis9\":{\"anchor\":\"x9\",\"domain\":[0.7749999999999999,0.8277777777777777],\"showgrid\":true},\"xaxis10\":{\"anchor\":\"y10\",\"domain\":[0.275,0.45],\"showgrid\":true},\"yaxis10\":{\"anchor\":\"x10\",\"domain\":[0.7749999999999999,0.8277777777777777],\"showgrid\":true},\"xaxis11\":{\"anchor\":\"y11\",\"domain\":[0.55,0.7250000000000001],\"showgrid\":true},\"yaxis11\":{\"anchor\":\"x11\",\"domain\":[0.7749999999999999,0.8277777777777777],\"showgrid\":true},\"xaxis12\":{\"anchor\":\"y12\",\"domain\":[0.825,1.0],\"showgrid\":true},\"yaxis12\":{\"anchor\":\"x12\",\"domain\":[0.7749999999999999,0.8277777777777777],\"showgrid\":true},\"xaxis13\":{\"anchor\":\"y13\",\"domain\":[0.0,0.175],\"showgrid\":true},\"yaxis13\":{\"anchor\":\"x13\",\"domain\":[0.6888888888888889,0.7416666666666667],\"showgrid\":true},\"xaxis14\":{\"anchor\":\"y14\",\"domain\":[0.275,0.45],\"showgrid\":true},\"yaxis14\":{\"anchor\":\"x14\",\"domain\":[0.6888888888888889,0.7416666666666667],\"showgrid\":true},\"xaxis15\":{\"anchor\":\"y15\",\"domain\":[0.55,0.7250000000000001],\"showgrid\":true},\"yaxis15\":{\"anchor\":\"x15\",\"domain\":[0.6888888888888889,0.7416666666666667],\"showgrid\":true},\"xaxis16\":{\"anchor\":\"y16\",\"domain\":[0.825,1.0],\"showgrid\":true},\"yaxis16\":{\"anchor\":\"x16\",\"domain\":[0.6888888888888889,0.7416666666666667],\"showgrid\":true},\"xaxis17\":{\"anchor\":\"y17\",\"domain\":[0.0,0.175],\"showgrid\":true},\"yaxis17\":{\"anchor\":\"x17\",\"domain\":[0.6027777777777777,0.6555555555555556],\"showgrid\":true},\"xaxis18\":{\"anchor\":\"y18\",\"domain\":[0.275,0.45],\"showgrid\":true},\"yaxis18\":{\"anchor\":\"x18\",\"domain\":[0.6027777777777777,0.6555555555555556],\"showgrid\":true},\"xaxis19\":{\"anchor\":\"y19\",\"domain\":[0.55,0.7250000000000001],\"showgrid\":true},\"yaxis19\":{\"anchor\":\"x19\",\"domain\":[0.6027777777777777,0.6555555555555556],\"showgrid\":true},\"xaxis20\":{\"anchor\":\"y20\",\"domain\":[0.825,1.0],\"showgrid\":true},\"yaxis20\":{\"anchor\":\"x20\",\"domain\":[0.6027777777777777,0.6555555555555556],\"showgrid\":true},\"xaxis21\":{\"anchor\":\"y21\",\"domain\":[0.0,0.175],\"showgrid\":true},\"yaxis21\":{\"anchor\":\"x21\",\"domain\":[0.5166666666666666,0.5694444444444444],\"showgrid\":true},\"xaxis22\":{\"anchor\":\"y22\",\"domain\":[0.275,0.45],\"showgrid\":true},\"yaxis22\":{\"anchor\":\"x22\",\"domain\":[0.5166666666666666,0.5694444444444444],\"showgrid\":true},\"xaxis23\":{\"anchor\":\"y23\",\"domain\":[0.55,0.7250000000000001],\"showgrid\":true},\"yaxis23\":{\"anchor\":\"x23\",\"domain\":[0.5166666666666666,0.5694444444444444],\"showgrid\":true},\"xaxis24\":{\"anchor\":\"y24\",\"domain\":[0.825,1.0],\"showgrid\":true},\"yaxis24\":{\"anchor\":\"x24\",\"domain\":[0.5166666666666666,0.5694444444444444],\"showgrid\":true},\"xaxis25\":{\"anchor\":\"y25\",\"domain\":[0.0,0.175],\"showgrid\":true},\"yaxis25\":{\"anchor\":\"x25\",\"domain\":[0.4305555555555556,0.48333333333333334],\"showgrid\":true},\"xaxis26\":{\"anchor\":\"y26\",\"domain\":[0.275,0.45],\"showgrid\":true},\"yaxis26\":{\"anchor\":\"x26\",\"domain\":[0.4305555555555556,0.48333333333333334],\"showgrid\":true},\"xaxis27\":{\"anchor\":\"y27\",\"domain\":[0.55,0.7250000000000001],\"showgrid\":true},\"yaxis27\":{\"anchor\":\"x27\",\"domain\":[0.4305555555555556,0.48333333333333334],\"showgrid\":true},\"xaxis28\":{\"anchor\":\"y28\",\"domain\":[0.825,1.0],\"showgrid\":true},\"yaxis28\":{\"anchor\":\"x28\",\"domain\":[0.4305555555555556,0.48333333333333334],\"showgrid\":true},\"xaxis29\":{\"anchor\":\"y29\",\"domain\":[0.0,0.175],\"showgrid\":true},\"yaxis29\":{\"anchor\":\"x29\",\"domain\":[0.34444444444444444,0.3972222222222222],\"showgrid\":true},\"xaxis30\":{\"anchor\":\"y30\",\"domain\":[0.275,0.45],\"showgrid\":true},\"yaxis30\":{\"anchor\":\"x30\",\"domain\":[0.34444444444444444,0.3972222222222222],\"showgrid\":true},\"xaxis31\":{\"anchor\":\"y31\",\"domain\":[0.55,0.7250000000000001],\"showgrid\":true},\"yaxis31\":{\"anchor\":\"x31\",\"domain\":[0.34444444444444444,0.3972222222222222],\"showgrid\":true},\"xaxis32\":{\"anchor\":\"y32\",\"domain\":[0.825,1.0],\"showgrid\":true},\"yaxis32\":{\"anchor\":\"x32\",\"domain\":[0.34444444444444444,0.3972222222222222],\"showgrid\":true},\"xaxis33\":{\"anchor\":\"y33\",\"domain\":[0.0,0.175],\"showgrid\":true},\"yaxis33\":{\"anchor\":\"x33\",\"domain\":[0.2583333333333333,0.31111111111111106],\"showgrid\":true},\"xaxis34\":{\"anchor\":\"y34\",\"domain\":[0.275,0.45],\"showgrid\":true},\"yaxis34\":{\"anchor\":\"x34\",\"domain\":[0.2583333333333333,0.31111111111111106],\"showgrid\":true},\"xaxis35\":{\"anchor\":\"y35\",\"domain\":[0.55,0.7250000000000001],\"showgrid\":true},\"yaxis35\":{\"anchor\":\"x35\",\"domain\":[0.2583333333333333,0.31111111111111106],\"showgrid\":true},\"xaxis36\":{\"anchor\":\"y36\",\"domain\":[0.825,1.0],\"showgrid\":true},\"yaxis36\":{\"anchor\":\"x36\",\"domain\":[0.2583333333333333,0.31111111111111106],\"showgrid\":true},\"xaxis37\":{\"anchor\":\"y37\",\"domain\":[0.0,0.175],\"showgrid\":true},\"yaxis37\":{\"anchor\":\"x37\",\"domain\":[0.17222222222222222,0.225],\"showgrid\":true},\"xaxis38\":{\"anchor\":\"y38\",\"domain\":[0.275,0.45],\"showgrid\":true},\"yaxis38\":{\"anchor\":\"x38\",\"domain\":[0.17222222222222222,0.225],\"showgrid\":true},\"xaxis39\":{\"anchor\":\"y39\",\"domain\":[0.55,0.7250000000000001],\"showgrid\":true},\"yaxis39\":{\"anchor\":\"x39\",\"domain\":[0.17222222222222222,0.225],\"showgrid\":true},\"xaxis40\":{\"anchor\":\"y40\",\"domain\":[0.825,1.0],\"showgrid\":true},\"yaxis40\":{\"anchor\":\"x40\",\"domain\":[0.17222222222222222,0.225],\"showgrid\":true},\"xaxis41\":{\"anchor\":\"y41\",\"domain\":[0.0,0.175],\"showgrid\":true},\"yaxis41\":{\"anchor\":\"x41\",\"domain\":[0.08611111111111111,0.1388888888888889],\"showgrid\":true},\"xaxis42\":{\"anchor\":\"y42\",\"domain\":[0.275,0.45],\"showgrid\":true},\"yaxis42\":{\"anchor\":\"x42\",\"domain\":[0.08611111111111111,0.1388888888888889],\"showgrid\":true},\"xaxis43\":{\"anchor\":\"y43\",\"domain\":[0.55,0.7250000000000001],\"showgrid\":true},\"yaxis43\":{\"anchor\":\"x43\",\"domain\":[0.08611111111111111,0.1388888888888889],\"showgrid\":true},\"xaxis44\":{\"anchor\":\"y44\",\"domain\":[0.825,1.0],\"showgrid\":true},\"yaxis44\":{\"anchor\":\"x44\",\"domain\":[0.08611111111111111,0.1388888888888889],\"showgrid\":true},\"xaxis45\":{\"anchor\":\"y45\",\"domain\":[0.0,0.175],\"showgrid\":true},\"yaxis45\":{\"anchor\":\"x45\",\"domain\":[0.0,0.05277777777777778],\"showgrid\":true},\"xaxis46\":{\"anchor\":\"y46\",\"domain\":[0.275,0.45],\"showgrid\":true},\"yaxis46\":{\"anchor\":\"x46\",\"domain\":[0.0,0.05277777777777778],\"showgrid\":true},\"xaxis47\":{\"anchor\":\"y47\",\"domain\":[0.55,0.7250000000000001],\"showgrid\":true},\"yaxis47\":{\"anchor\":\"x47\",\"domain\":[0.0,0.05277777777777778],\"showgrid\":true},\"xaxis48\":{\"anchor\":\"y48\",\"domain\":[0.825,1.0],\"showgrid\":true},\"yaxis48\":{\"anchor\":\"x48\",\"domain\":[0.0,0.05277777777777778],\"showgrid\":true},\"annotations\":[{\"font\":{\"size\":16},\"showarrow\":false,\"text\":\"Topic 0\",\"x\":0.0875,\"xanchor\":\"center\",\"xref\":\"paper\",\"y\":1.0,\"yanchor\":\"bottom\",\"yref\":\"paper\"},{\"font\":{\"size\":16},\"showarrow\":false,\"text\":\"Topic 1\",\"x\":0.36250000000000004,\"xanchor\":\"center\",\"xref\":\"paper\",\"y\":1.0,\"yanchor\":\"bottom\",\"yref\":\"paper\"},{\"font\":{\"size\":16},\"showarrow\":false,\"text\":\"Topic 2\",\"x\":0.6375000000000001,\"xanchor\":\"center\",\"xref\":\"paper\",\"y\":1.0,\"yanchor\":\"bottom\",\"yref\":\"paper\"},{\"font\":{\"size\":16},\"showarrow\":false,\"text\":\"Topic 3\",\"x\":0.9125,\"xanchor\":\"center\",\"xref\":\"paper\",\"y\":1.0,\"yanchor\":\"bottom\",\"yref\":\"paper\"},{\"font\":{\"size\":16},\"showarrow\":false,\"text\":\"Topic 4\",\"x\":0.0875,\"xanchor\":\"center\",\"xref\":\"paper\",\"y\":0.9138888888888888,\"yanchor\":\"bottom\",\"yref\":\"paper\"},{\"font\":{\"size\":16},\"showarrow\":false,\"text\":\"Topic 5\",\"x\":0.36250000000000004,\"xanchor\":\"center\",\"xref\":\"paper\",\"y\":0.9138888888888888,\"yanchor\":\"bottom\",\"yref\":\"paper\"},{\"font\":{\"size\":16},\"showarrow\":false,\"text\":\"Topic 6\",\"x\":0.6375000000000001,\"xanchor\":\"center\",\"xref\":\"paper\",\"y\":0.9138888888888888,\"yanchor\":\"bottom\",\"yref\":\"paper\"},{\"font\":{\"size\":16},\"showarrow\":false,\"text\":\"Topic 7\",\"x\":0.9125,\"xanchor\":\"center\",\"xref\":\"paper\",\"y\":0.9138888888888888,\"yanchor\":\"bottom\",\"yref\":\"paper\"},{\"font\":{\"size\":16},\"showarrow\":false,\"text\":\"Topic 8\",\"x\":0.0875,\"xanchor\":\"center\",\"xref\":\"paper\",\"y\":0.8277777777777777,\"yanchor\":\"bottom\",\"yref\":\"paper\"},{\"font\":{\"size\":16},\"showarrow\":false,\"text\":\"Topic 9\",\"x\":0.36250000000000004,\"xanchor\":\"center\",\"xref\":\"paper\",\"y\":0.8277777777777777,\"yanchor\":\"bottom\",\"yref\":\"paper\"},{\"font\":{\"size\":16},\"showarrow\":false,\"text\":\"Topic 10\",\"x\":0.6375000000000001,\"xanchor\":\"center\",\"xref\":\"paper\",\"y\":0.8277777777777777,\"yanchor\":\"bottom\",\"yref\":\"paper\"},{\"font\":{\"size\":16},\"showarrow\":false,\"text\":\"Topic 11\",\"x\":0.9125,\"xanchor\":\"center\",\"xref\":\"paper\",\"y\":0.8277777777777777,\"yanchor\":\"bottom\",\"yref\":\"paper\"},{\"font\":{\"size\":16},\"showarrow\":false,\"text\":\"Topic 12\",\"x\":0.0875,\"xanchor\":\"center\",\"xref\":\"paper\",\"y\":0.7416666666666667,\"yanchor\":\"bottom\",\"yref\":\"paper\"},{\"font\":{\"size\":16},\"showarrow\":false,\"text\":\"Topic 13\",\"x\":0.36250000000000004,\"xanchor\":\"center\",\"xref\":\"paper\",\"y\":0.7416666666666667,\"yanchor\":\"bottom\",\"yref\":\"paper\"},{\"font\":{\"size\":16},\"showarrow\":false,\"text\":\"Topic 14\",\"x\":0.6375000000000001,\"xanchor\":\"center\",\"xref\":\"paper\",\"y\":0.7416666666666667,\"yanchor\":\"bottom\",\"yref\":\"paper\"},{\"font\":{\"size\":16},\"showarrow\":false,\"text\":\"Topic 15\",\"x\":0.9125,\"xanchor\":\"center\",\"xref\":\"paper\",\"y\":0.7416666666666667,\"yanchor\":\"bottom\",\"yref\":\"paper\"},{\"font\":{\"size\":16},\"showarrow\":false,\"text\":\"Topic 16\",\"x\":0.0875,\"xanchor\":\"center\",\"xref\":\"paper\",\"y\":0.6555555555555556,\"yanchor\":\"bottom\",\"yref\":\"paper\"},{\"font\":{\"size\":16},\"showarrow\":false,\"text\":\"Topic 17\",\"x\":0.36250000000000004,\"xanchor\":\"center\",\"xref\":\"paper\",\"y\":0.6555555555555556,\"yanchor\":\"bottom\",\"yref\":\"paper\"},{\"font\":{\"size\":16},\"showarrow\":false,\"text\":\"Topic 18\",\"x\":0.6375000000000001,\"xanchor\":\"center\",\"xref\":\"paper\",\"y\":0.6555555555555556,\"yanchor\":\"bottom\",\"yref\":\"paper\"},{\"font\":{\"size\":16},\"showarrow\":false,\"text\":\"Topic 19\",\"x\":0.9125,\"xanchor\":\"center\",\"xref\":\"paper\",\"y\":0.6555555555555556,\"yanchor\":\"bottom\",\"yref\":\"paper\"},{\"font\":{\"size\":16},\"showarrow\":false,\"text\":\"Topic 20\",\"x\":0.0875,\"xanchor\":\"center\",\"xref\":\"paper\",\"y\":0.5694444444444444,\"yanchor\":\"bottom\",\"yref\":\"paper\"},{\"font\":{\"size\":16},\"showarrow\":false,\"text\":\"Topic 21\",\"x\":0.36250000000000004,\"xanchor\":\"center\",\"xref\":\"paper\",\"y\":0.5694444444444444,\"yanchor\":\"bottom\",\"yref\":\"paper\"},{\"font\":{\"size\":16},\"showarrow\":false,\"text\":\"Topic 22\",\"x\":0.6375000000000001,\"xanchor\":\"center\",\"xref\":\"paper\",\"y\":0.5694444444444444,\"yanchor\":\"bottom\",\"yref\":\"paper\"},{\"font\":{\"size\":16},\"showarrow\":false,\"text\":\"Topic 23\",\"x\":0.9125,\"xanchor\":\"center\",\"xref\":\"paper\",\"y\":0.5694444444444444,\"yanchor\":\"bottom\",\"yref\":\"paper\"},{\"font\":{\"size\":16},\"showarrow\":false,\"text\":\"Topic 24\",\"x\":0.0875,\"xanchor\":\"center\",\"xref\":\"paper\",\"y\":0.48333333333333334,\"yanchor\":\"bottom\",\"yref\":\"paper\"},{\"font\":{\"size\":16},\"showarrow\":false,\"text\":\"Topic 25\",\"x\":0.36250000000000004,\"xanchor\":\"center\",\"xref\":\"paper\",\"y\":0.48333333333333334,\"yanchor\":\"bottom\",\"yref\":\"paper\"},{\"font\":{\"size\":16},\"showarrow\":false,\"text\":\"Topic 26\",\"x\":0.6375000000000001,\"xanchor\":\"center\",\"xref\":\"paper\",\"y\":0.48333333333333334,\"yanchor\":\"bottom\",\"yref\":\"paper\"},{\"font\":{\"size\":16},\"showarrow\":false,\"text\":\"Topic 27\",\"x\":0.9125,\"xanchor\":\"center\",\"xref\":\"paper\",\"y\":0.48333333333333334,\"yanchor\":\"bottom\",\"yref\":\"paper\"},{\"font\":{\"size\":16},\"showarrow\":false,\"text\":\"Topic 28\",\"x\":0.0875,\"xanchor\":\"center\",\"xref\":\"paper\",\"y\":0.3972222222222222,\"yanchor\":\"bottom\",\"yref\":\"paper\"},{\"font\":{\"size\":16},\"showarrow\":false,\"text\":\"Topic 29\",\"x\":0.36250000000000004,\"xanchor\":\"center\",\"xref\":\"paper\",\"y\":0.3972222222222222,\"yanchor\":\"bottom\",\"yref\":\"paper\"},{\"font\":{\"size\":16},\"showarrow\":false,\"text\":\"Topic 30\",\"x\":0.6375000000000001,\"xanchor\":\"center\",\"xref\":\"paper\",\"y\":0.3972222222222222,\"yanchor\":\"bottom\",\"yref\":\"paper\"},{\"font\":{\"size\":16},\"showarrow\":false,\"text\":\"Topic 31\",\"x\":0.9125,\"xanchor\":\"center\",\"xref\":\"paper\",\"y\":0.3972222222222222,\"yanchor\":\"bottom\",\"yref\":\"paper\"},{\"font\":{\"size\":16},\"showarrow\":false,\"text\":\"Topic 32\",\"x\":0.0875,\"xanchor\":\"center\",\"xref\":\"paper\",\"y\":0.31111111111111106,\"yanchor\":\"bottom\",\"yref\":\"paper\"},{\"font\":{\"size\":16},\"showarrow\":false,\"text\":\"Topic 33\",\"x\":0.36250000000000004,\"xanchor\":\"center\",\"xref\":\"paper\",\"y\":0.31111111111111106,\"yanchor\":\"bottom\",\"yref\":\"paper\"},{\"font\":{\"size\":16},\"showarrow\":false,\"text\":\"Topic 34\",\"x\":0.6375000000000001,\"xanchor\":\"center\",\"xref\":\"paper\",\"y\":0.31111111111111106,\"yanchor\":\"bottom\",\"yref\":\"paper\"},{\"font\":{\"size\":16},\"showarrow\":false,\"text\":\"Topic 35\",\"x\":0.9125,\"xanchor\":\"center\",\"xref\":\"paper\",\"y\":0.31111111111111106,\"yanchor\":\"bottom\",\"yref\":\"paper\"},{\"font\":{\"size\":16},\"showarrow\":false,\"text\":\"Topic 36\",\"x\":0.0875,\"xanchor\":\"center\",\"xref\":\"paper\",\"y\":0.225,\"yanchor\":\"bottom\",\"yref\":\"paper\"},{\"font\":{\"size\":16},\"showarrow\":false,\"text\":\"Topic 37\",\"x\":0.36250000000000004,\"xanchor\":\"center\",\"xref\":\"paper\",\"y\":0.225,\"yanchor\":\"bottom\",\"yref\":\"paper\"},{\"font\":{\"size\":16},\"showarrow\":false,\"text\":\"Topic 38\",\"x\":0.6375000000000001,\"xanchor\":\"center\",\"xref\":\"paper\",\"y\":0.225,\"yanchor\":\"bottom\",\"yref\":\"paper\"},{\"font\":{\"size\":16},\"showarrow\":false,\"text\":\"Topic 39\",\"x\":0.9125,\"xanchor\":\"center\",\"xref\":\"paper\",\"y\":0.225,\"yanchor\":\"bottom\",\"yref\":\"paper\"},{\"font\":{\"size\":16},\"showarrow\":false,\"text\":\"Topic 40\",\"x\":0.0875,\"xanchor\":\"center\",\"xref\":\"paper\",\"y\":0.1388888888888889,\"yanchor\":\"bottom\",\"yref\":\"paper\"},{\"font\":{\"size\":16},\"showarrow\":false,\"text\":\"Topic 41\",\"x\":0.36250000000000004,\"xanchor\":\"center\",\"xref\":\"paper\",\"y\":0.1388888888888889,\"yanchor\":\"bottom\",\"yref\":\"paper\"},{\"font\":{\"size\":16},\"showarrow\":false,\"text\":\"Topic 42\",\"x\":0.6375000000000001,\"xanchor\":\"center\",\"xref\":\"paper\",\"y\":0.1388888888888889,\"yanchor\":\"bottom\",\"yref\":\"paper\"},{\"font\":{\"size\":16},\"showarrow\":false,\"text\":\"Topic 43\",\"x\":0.9125,\"xanchor\":\"center\",\"xref\":\"paper\",\"y\":0.1388888888888889,\"yanchor\":\"bottom\",\"yref\":\"paper\"},{\"font\":{\"size\":16},\"showarrow\":false,\"text\":\"Topic 44\",\"x\":0.0875,\"xanchor\":\"center\",\"xref\":\"paper\",\"y\":0.05277777777777778,\"yanchor\":\"bottom\",\"yref\":\"paper\"},{\"font\":{\"size\":16},\"showarrow\":false,\"text\":\"Topic 45\",\"x\":0.36250000000000004,\"xanchor\":\"center\",\"xref\":\"paper\",\"y\":0.05277777777777778,\"yanchor\":\"bottom\",\"yref\":\"paper\"},{\"font\":{\"size\":16},\"showarrow\":false,\"text\":\"Topic 46\",\"x\":0.6375000000000001,\"xanchor\":\"center\",\"xref\":\"paper\",\"y\":0.05277777777777778,\"yanchor\":\"bottom\",\"yref\":\"paper\"},{\"font\":{\"size\":16},\"showarrow\":false,\"text\":\"Topic 47\",\"x\":0.9125,\"xanchor\":\"center\",\"xref\":\"paper\",\"y\":0.05277777777777778,\"yanchor\":\"bottom\",\"yref\":\"paper\"}],\"title\":{\"font\":{\"size\":22,\"color\":\"Black\"},\"text\":\"<b>Topic Word Scores\",\"x\":0.5,\"xanchor\":\"center\",\"yanchor\":\"top\"},\"hoverlabel\":{\"font\":{\"size\":16,\"family\":\"Rockwell\"},\"bgcolor\":\"white\"},\"showlegend\":false,\"width\":1000,\"height\":3000},                        {\"responsive\": true}                    ).then(function(){\n",
              "                            \n",
              "var gd = document.getElementById('bf0e87d7-80ce-46fd-b89a-a0e725b47175');\n",
              "var x = new MutationObserver(function (mutations, observer) {{\n",
              "        var display = window.getComputedStyle(gd).display;\n",
              "        if (!display || display === 'none') {{\n",
              "            console.log([gd, 'removed!']);\n",
              "            Plotly.purge(gd);\n",
              "            observer.disconnect();\n",
              "        }}\n",
              "}});\n",
              "\n",
              "// Listen for the removal of the full notebook cells\n",
              "var notebookContainer = gd.closest('#notebook-container');\n",
              "if (notebookContainer) {{\n",
              "    x.observe(notebookContainer, {childList: true});\n",
              "}}\n",
              "\n",
              "// Listen for the clearing of the current output cell\n",
              "var outputEl = gd.closest('.output');\n",
              "if (outputEl) {{\n",
              "    x.observe(outputEl, {childList: true});\n",
              "}}\n",
              "\n",
              "                        })                };                            </script>        </div>\n",
              "</body>\n",
              "</html>"
            ]
          },
          "metadata": {}
        }
      ]
    },
    {
      "cell_type": "code",
      "source": [
        "topic_model.visualize_heatmap()"
      ],
      "metadata": {
        "id": "dV79hhqX1Qe3",
        "outputId": "743d05b8-527b-4b8b-cab4-81b8211bebb5",
        "colab": {
          "base_uri": "https://localhost:8080/",
          "height": 817
        }
      },
      "execution_count": 132,
      "outputs": [
        {
          "output_type": "display_data",
          "data": {
            "text/html": [
              "<html>\n",
              "<head><meta charset=\"utf-8\" /></head>\n",
              "<body>\n",
              "    <div>            <script src=\"https://cdnjs.cloudflare.com/ajax/libs/mathjax/2.7.5/MathJax.js?config=TeX-AMS-MML_SVG\"></script><script type=\"text/javascript\">if (window.MathJax) {MathJax.Hub.Config({SVG: {font: \"STIX-Web\"}});}</script>                <script type=\"text/javascript\">window.PlotlyConfig = {MathJaxConfig: 'local'};</script>\n",
              "        <script src=\"https://cdn.plot.ly/plotly-2.8.3.min.js\"></script>                <div id=\"3fef3921-e80e-4eca-b6f8-783a9c76c3cc\" class=\"plotly-graph-div\" style=\"height:800px; width:800px;\"></div>            <script type=\"text/javascript\">                                    window.PLOTLYENV=window.PLOTLYENV || {};                                    if (document.getElementById(\"3fef3921-e80e-4eca-b6f8-783a9c76c3cc\")) {                    Plotly.newPlot(                        \"3fef3921-e80e-4eca-b6f8-783a9c76c3cc\",                        [{\"coloraxis\":\"coloraxis\",\"name\":\"0\",\"x\":[\"-1_schweiz_bundesrat_heute\",\"0_kommission_bundesrat_heute\",\"1_gesundheitswesen_patiente...\",\"2_armee_franken_sicherheit\",\"3_franken_millionen_million...\",\"4_armee_schweiz_einsatz\",\"5_zuwanderung_schweiz_einb\\u00fc...\",\"6_eu_beitritt_bilateralen\",\"7_initiative_artikel_ausl\\u00e4n...\",\"8_verkehr_velo_\\u00f6ffentlichen\",\"9_kinder_familien_kindern\",\"10_bundesrat_restwassermeng...\",\"11_landwirtschaft_bauern_di...\",\"12_landwirtschaft_lebensmit...\",\"13_online_konsumenten_konsu...\",\"14_schweiz_banken_nationalb...\",\"15_swisscom_schweiz_unterne...\",\"16_tiere_fleisch_tieren\",\"17_ahv_erg\\u00e4nzungsleistungen...\",\"18_schweiz_fl\\u00fcchtlinge_aufn...\",\"19_mehrwertsteuer_pauschalb...\",\"20_energien_erneuerbaren_er...\",\"21_co2_schweiz_wirtschaft\",\"22_verfahren_personen_artikel\",\"23_schweiz_demokratie_eu\",\"24_rauchen_passivrauchen_zi...\",\"25_pauschalbesteuerung_schw...\",\"26_landwirtschaft_gvo_morat...\",\"27_srg_radio_tv\",\"28_gpk_gpdel_oberaufsicht\",\"29_cannabis_konsum_cannabis...\",\"30_sport_fifa_sports\",\"31_frauen_gleichstellung_frau\",\"32_berufsbildung_fachhochsc...\",\"33_strom_preise_konsumenten\",\"34_kinder_eltern_sexuelle\",\"35_luftfahrt_flughafen_z\\u00fcrich\",\"36_rasa_zuwanderung_migration\",\"37_mindestlohn_schweiz_l\\u00f6hne\",\"38_bericht_schweiz_europarat\",\"39_wto_freihandelsabkommen_...\",\"40_akw_kernkraftwerke_ausst...\",\"41_schwangerschaft_abtreibu...\",\"42_mehrwertsteuer_motion_vo...\",\"43_leasingvertr\\u00e4ge_15 proze...\",\"44_alkohol_bier_alcopops\",\"45_ersch\\u00f6pfung_parallelimpo...\",\"46_trinkwasser_wasser_umwelt\",\"47_arbeitnehmer_arbeitszeit...\",\"48_uno_neutralit\\u00e4t_roma\",\"49_menschenrechte_initiativ...\",\"50_schengen_dublin_schengen...\",\"51_service public_public_se...\",\"52_beruf_reynard_gesundheit...\",\"53_ausl\\u00e4nderinnen_ausl\\u00e4nder...\"],\"y\":[\"-1_schweiz_bundesrat_heute\",\"0_kommission_bundesrat_heute\",\"1_gesundheitswesen_patiente...\",\"2_armee_franken_sicherheit\",\"3_franken_millionen_million...\",\"4_armee_schweiz_einsatz\",\"5_zuwanderung_schweiz_einb\\u00fc...\",\"6_eu_beitritt_bilateralen\",\"7_initiative_artikel_ausl\\u00e4n...\",\"8_verkehr_velo_\\u00f6ffentlichen\",\"9_kinder_familien_kindern\",\"10_bundesrat_restwassermeng...\",\"11_landwirtschaft_bauern_di...\",\"12_landwirtschaft_lebensmit...\",\"13_online_konsumenten_konsu...\",\"14_schweiz_banken_nationalb...\",\"15_swisscom_schweiz_unterne...\",\"16_tiere_fleisch_tieren\",\"17_ahv_erg\\u00e4nzungsleistungen...\",\"18_schweiz_fl\\u00fcchtlinge_aufn...\",\"19_mehrwertsteuer_pauschalb...\",\"20_energien_erneuerbaren_er...\",\"21_co2_schweiz_wirtschaft\",\"22_verfahren_personen_artikel\",\"23_schweiz_demokratie_eu\",\"24_rauchen_passivrauchen_zi...\",\"25_pauschalbesteuerung_schw...\",\"26_landwirtschaft_gvo_morat...\",\"27_srg_radio_tv\",\"28_gpk_gpdel_oberaufsicht\",\"29_cannabis_konsum_cannabis...\",\"30_sport_fifa_sports\",\"31_frauen_gleichstellung_frau\",\"32_berufsbildung_fachhochsc...\",\"33_strom_preise_konsumenten\",\"34_kinder_eltern_sexuelle\",\"35_luftfahrt_flughafen_z\\u00fcrich\",\"36_rasa_zuwanderung_migration\",\"37_mindestlohn_schweiz_l\\u00f6hne\",\"38_bericht_schweiz_europarat\",\"39_wto_freihandelsabkommen_...\",\"40_akw_kernkraftwerke_ausst...\",\"41_schwangerschaft_abtreibu...\",\"42_mehrwertsteuer_motion_vo...\",\"43_leasingvertr\\u00e4ge_15 proze...\",\"44_alkohol_bier_alcopops\",\"45_ersch\\u00f6pfung_parallelimpo...\",\"46_trinkwasser_wasser_umwelt\",\"47_arbeitnehmer_arbeitszeit...\",\"48_uno_neutralit\\u00e4t_roma\",\"49_menschenrechte_initiativ...\",\"50_schengen_dublin_schengen...\",\"51_service public_public_se...\",\"52_beruf_reynard_gesundheit...\",\"53_ausl\\u00e4nderinnen_ausl\\u00e4nder...\"],\"z\":[[0.9999999999999993,0.9579941082462096,0.849496805114124,0.7834012975622515,0.7882364158252693,0.8653517903180755,0.8526697573066331,0.9128678409768096,0.9008030175248158,0.8938841581552918,0.8378095606470737,0.866074284954153,0.7841810744147995,0.8350105907740109,0.7631925071247926,0.8968015395398065,0.9267080646619431,0.8210338347142407,0.8705849347666617,0.7548309776323179,0.776725529942125,0.5810831831452823,0.7809852157948549,0.7979698655367611,0.9509536629932545,0.7232193707292991,0.912358841271582,0.7520174397368221,0.7286590335383062,0.8159628052109642,0.5518058155898162,0.6553588287198847,0.8415906000947639,0.8268076302527976,0.764580090755807,0.8024611606506712,0.7663920012655311,0.8005165497563893,0.9359368623098009,0.9084184310724581,0.864548785697275,0.6905848335595897,0.6777046800090745,0.8736725305766546,0.6558639193837056,0.6218407104118492,0.8574132118158623,0.7468110631496331,0.6364483774300993,0.9036605503931525,0.88515155765966,0.8772846062324706,0.7298264876443559,0.7943140839871166,0.8242609648208693],[0.9579941082462096,1.0,0.8809404223343343,0.8042823042973027,0.7698806903064248,0.8376531657514035,0.8278070388147301,0.8901842157837851,0.924568877715735,0.8980978187061155,0.8662724901799037,0.8968069746021237,0.8169330557218477,0.8150147317518935,0.7799491273094006,0.8306893291272366,0.8480390339355843,0.8514140558392564,0.8954916605786618,0.7523015775677167,0.7915359037235985,0.5988172960671877,0.7774487391725122,0.8327124103974184,0.9065614010632521,0.7342681163049054,0.8843370170194957,0.7967749970010392,0.7530617027381954,0.8483904617267193,0.5746524275026621,0.6444813942316703,0.8815413130048471,0.8563750339655345,0.7968732582843874,0.8424190119275241,0.7378506072043878,0.843595023987411,0.9191176580697213,0.8940029597948691,0.8722174122165346,0.7171814708238061,0.703052333864683,0.8882140561876826,0.6948978085006847,0.6527428920942557,0.856404598036699,0.7583452106569726,0.6611980999376127,0.9078052422188762,0.9138054226692879,0.8580908847742021,0.76886956351118,0.865462183650917,0.851975645269111],[0.849496805114124,0.8809404223343343,1.0000000000000004,0.7502914204707589,0.7339177792807456,0.7680278637026156,0.7255335892886674,0.7869419629768333,0.8670534315176707,0.8560600499482713,0.8058978855799698,0.8499071062417647,0.7684189310258271,0.7426691989878135,0.7529743112123931,0.768442006641763,0.737120327541614,0.80613981050414,0.8557706531020444,0.7219810828377118,0.8048236184566787,0.5739953586805938,0.7260359942106768,0.8199689398074623,0.7902832775271592,0.7261802309460728,0.837373223218451,0.7353371565832432,0.7341681732183998,0.836785756074517,0.6077187240938511,0.5635530906878411,0.7880633835174238,0.7871167416473623,0.7952187111809337,0.7710700029608539,0.6846336089148337,0.7706610658892706,0.8658371184336968,0.8082527798540913,0.7957041869908384,0.6687273946770557,0.7330171201366429,0.8481744653982166,0.7155590200918209,0.6334100610131224,0.7772566446417428,0.734092407668044,0.6317819594136186,0.792024975954472,0.8463864564165368,0.777363924405124,0.7757995778872515,0.8355150293576776,0.7539326734995558],[0.7834012975622515,0.8042823042973027,0.7502914204707589,0.9999999999999997,0.7144254108686041,0.9529884482754385,0.7061254113588649,0.7698613638968519,0.7726889473447326,0.7735295444799504,0.7201054576596567,0.7743986507030298,0.7017544806043237,0.6894636331078133,0.5852270730888043,0.7296510657117334,0.7301053379778958,0.7688141493487036,0.7828544965144527,0.6857338277286988,0.6482998742258146,0.5434220116188968,0.6826830747581722,0.7408172125020822,0.7561431171148487,0.6227737437175992,0.7343573734504222,0.697145471359866,0.689328397299884,0.7803907468952529,0.4866374881669834,0.6593019737276481,0.7754630029513047,0.7719480692303998,0.6698694355898397,0.6974172722768897,0.7031160113669658,0.7157478276566127,0.7704262152674493,0.7667449870604166,0.763447562857764,0.7025845655450447,0.5922643547997,0.7477482092661097,0.5748976645514343,0.5353118401603688,0.7326204421816569,0.6385783024285161,0.598841795495654,0.7622853712163791,0.7882157850142804,0.7708660259386264,0.6707010347042948,0.7449138443316949,0.7286657180171368],[0.7882364158252693,0.7698806903064248,0.7339177792807456,0.7144254108686041,0.9999999999999993,0.6807455237324066,0.6792750789892585,0.7240686437440341,0.7388241408554317,0.755551864208015,0.7101512355650152,0.7077513932979147,0.7039934260014584,0.7216450488559972,0.6950018030652715,0.8439243847170396,0.7656353344308321,0.7003098698666325,0.7671628706083136,0.630485873764395,0.7263503978493859,0.5196459381183219,0.6844356079951778,0.6690499161042414,0.7686533557938297,0.5650237846278979,0.7986461388314018,0.6381131102789003,0.6179959436157354,0.6851946709416639,0.487201932695332,0.5609618415577805,0.7214475939580867,0.6858170278379323,0.7382960311463453,0.6406484281074185,0.6034472144733796,0.6454282233618788,0.7775961352825211,0.8091469383755445,0.7398032693380194,0.6247043885977401,0.5556234599145861,0.7467313635269872,0.6634978612835829,0.5799259218073015,0.7331202777095696,0.6243647589812327,0.5133383340474855,0.735411546784288,0.7239155530617134,0.7381620893234309,0.6060380008011349,0.6442409651888314,0.7026601937884448],[0.8653517903180755,0.8376531657514035,0.7680278637026156,0.9529884482754385,0.6807455237324066,0.9999999999999992,0.8008878027084243,0.8408150399155067,0.8131746739186121,0.822643241508842,0.755497878289687,0.8037931054807637,0.7379928963190578,0.7721315937889788,0.6190515079315697,0.8102588056176082,0.8410655169052255,0.7936588978887699,0.8038757980987602,0.7434481295971279,0.6767785541569101,0.5610311429747181,0.720224869753135,0.7674820180277808,0.8566311774103265,0.6585636720049682,0.8102061782041897,0.7196397386773821,0.7105998592007255,0.7904450294133928,0.502972745038013,0.6841594933502618,0.7991135146975561,0.7960797233270167,0.6796854477574275,0.7304996185267765,0.7652843898863397,0.7471469177734766,0.835156447425738,0.8062957071777173,0.8122055817696847,0.7023016915654541,0.6121825018187135,0.7792358224568455,0.5821124409375906,0.548003900369778,0.7858865648879828,0.6890746899365189,0.6075431003797802,0.8314637887989929,0.8264152354660057,0.8407979321018729,0.6789466108221198,0.7620580951177851,0.760683039946719],[0.8526697573066331,0.8278070388147301,0.7255335892886674,0.7061254113588649,0.6792750789892585,0.8008878027084243,0.9999999999999997,0.8376851755095519,0.8440454633557946,0.8237845045026113,0.770042708889769,0.7537528293583844,0.7272059371944688,0.7614272687116093,0.6818984485308406,0.8127258655139382,0.8186497003000567,0.6989500183858988,0.770102650518472,0.8535812658017667,0.6983964073047724,0.5092437603524287,0.6696893151359271,0.8217076245600553,0.8869207176137159,0.5968100734469273,0.8336690926057078,0.6965754061958302,0.6259827591663918,0.6936393544516294,0.5139621228188901,0.5928545401894181,0.7351913864538864,0.7604977771117637,0.6682646249013868,0.7064826451233069,0.7348650714027891,0.9124761962797734,0.8176231583923613,0.7919587176207288,0.8197896432637873,0.5714764601928607,0.6231083881638837,0.7594008581502981,0.6363011087976101,0.532058988485713,0.7711601339318757,0.6589552230576242,0.6004704709914623,0.8452954138184012,0.8130191799822781,0.832506549496935,0.67306235581803,0.7536693191228414,0.8777726725169066],[0.9128678409768096,0.8901842157837851,0.7869419629768333,0.7698613638968519,0.7240686437440341,0.8408150399155067,0.8376851755095519,1.0,0.8624324596387036,0.8523353564910974,0.8412736348735101,0.8205234380664662,0.7462056200674496,0.7826350814668004,0.7469585490140217,0.832085606025705,0.8677505411558208,0.7948251828139254,0.8742887213950659,0.7831058033392579,0.6927819533180487,0.5187245504173511,0.7612514354302271,0.8199354150597605,0.9022291105957576,0.6980063611829543,0.8462171252757443,0.7080143535374162,0.7101097667438582,0.8025486738794284,0.5545551264675234,0.6771268962795975,0.8730666914635222,0.8037064148188942,0.7236098590891857,0.7957089791513081,0.7507118024918239,0.8047737364294718,0.9002956132767821,0.8711407881964185,0.897127319109275,0.6700546308656652,0.652097738571029,0.8085935789056782,0.6388643911186516,0.6371084264815993,0.8360609210184405,0.6993928536710927,0.6134492696719994,0.8988247256657269,0.855591739809775,0.8861520812309315,0.6620012694051374,0.7879295901908101,0.863563515173264],[0.9008030175248158,0.924568877715735,0.8670534315176707,0.7726889473447326,0.7388241408554317,0.8131746739186121,0.8440454633557946,0.8624324596387036,1.0,0.8791724319126049,0.858198520336763,0.9117844278321686,0.8430727415436319,0.8236224495455794,0.7681619429270834,0.7869669588863558,0.791677056844301,0.8343923853546538,0.8823215070841304,0.766515090460428,0.7695164090089646,0.6450203495091846,0.7761654251178287,0.8442856951238532,0.8739867481980022,0.712267913136256,0.8423725783535689,0.83474812290366,0.729224237434392,0.8308540193867759,0.5886131673737786,0.622874771417554,0.8552405529297786,0.8520658018449363,0.8083828391393112,0.8282536200666132,0.7500891653317701,0.8985948873749676,0.9212091307523261,0.8235233778101099,0.8757746909134627,0.7278596336989711,0.7357897396580089,0.8408383888238049,0.6770117661898039,0.6468895454249174,0.8623176262042229,0.7996899157525701,0.6739202153206405,0.873240789828652,0.8917366447445961,0.8305554277088402,0.7767831638723472,0.8117769022415855,0.8498793747240565],[0.8938841581552918,0.8980978187061155,0.8560600499482713,0.7735295444799504,0.755551864208015,0.822643241508842,0.8237845045026113,0.8523353564910974,0.8791724319126049,0.9999999999999991,0.8262871175022121,0.8887577074566524,0.7853316503664177,0.788978770380349,0.8186504317313966,0.8285024427255251,0.8223774536135299,0.8074471613430165,0.8856921607972223,0.7245202149587933,0.8120143606049186,0.6220074760364301,0.7757071675401636,0.7867606253195439,0.872343926054425,0.7219903458546475,0.8875867568629814,0.7450653039458246,0.8038507193648923,0.8166202130767544,0.5919605502518953,0.6285940415617282,0.8358832974897552,0.803980658585564,0.8540312047233287,0.7902906134141832,0.776636766345085,0.8111794567099976,0.8821677941446217,0.8371485177926468,0.858650104861884,0.7197882797591824,0.6556851267029017,0.8826593726015014,0.7197117292246882,0.6727469395134652,0.829198864994847,0.724988556789282,0.639419870972791,0.8535277025106999,0.8499547935576017,0.8275983357341044,0.7899893041122431,0.7954245927481396,0.8284839355654788],[0.8378095606470737,0.8662724901799037,0.8058978855799698,0.7201054576596567,0.7101512355650152,0.755497878289687,0.770042708889769,0.8412736348735101,0.858198520336763,0.8262871175022121,0.9999999999999994,0.8364192660094942,0.7966290695219405,0.797768118451148,0.7419789345898631,0.7300106617895323,0.7693850046564321,0.8493954237699106,0.8946254708847023,0.7557702400321895,0.6985897309496266,0.5531868509419675,0.6851067987448679,0.7915402253566951,0.8067797853542492,0.7216221315161295,0.790673470701749,0.7891142661605378,0.7147104460607407,0.7904612512578083,0.5575112620466794,0.6041121829578857,0.8808164843070332,0.8112326003003578,0.7609210702493812,0.9144322129854933,0.6894893490676435,0.7959338752646741,0.8996207316520651,0.7473273526183676,0.8164055802112967,0.6845584279303591,0.7390353410653699,0.7875621460332096,0.6458186723398096,0.6513018080870825,0.7777366829387061,0.7265691438313069,0.595142176658451,0.8372336089125121,0.8354655235523352,0.7979315998799166,0.6940922437129758,0.7857580607762427,0.8015115736471536],[0.866074284954153,0.8968069746021237,0.8499071062417647,0.7743986507030298,0.7077513932979147,0.8037931054807637,0.7537528293583844,0.8205234380664662,0.9117844278321686,0.8887577074566524,0.8364192660094942,1.0,0.8381428562088564,0.8126403584990132,0.745018319493044,0.7450619520708566,0.7562597377672851,0.870052516493537,0.8821575128287837,0.6883063770459046,0.756251874454404,0.7197872006298565,0.7907214555774047,0.7785543296476649,0.8304672393978633,0.7335858415300858,0.8213200179387419,0.8214762974377392,0.7458494593621204,0.8367647833307208,0.5888560354025221,0.621875664642128,0.8529112984721174,0.812934756380793,0.8546809740620803,0.8214201600647204,0.7352586697110393,0.8069149209909465,0.889537793849974,0.8000216147048366,0.8419213507886953,0.7964324437341807,0.6801465465168736,0.8639138474987886,0.6839505310775436,0.6669013597606229,0.8372861943495075,0.8685142288371749,0.6223744031476497,0.8261038272446146,0.8631202759634559,0.7904350222694778,0.7638491352664911,0.7810033512607213,0.7826804349851939],[0.7841810744147995,0.8169330557218477,0.7684189310258271,0.7017544806043237,0.7039934260014584,0.7379928963190578,0.7272059371944688,0.7462056200674496,0.8430727415436319,0.7853316503664177,0.7966290695219405,0.8381428562088564,1.0000000000000009,0.9462909347575372,0.7175875524663775,0.7458203503293961,0.6935198504911977,0.8009578660106895,0.8203808655305194,0.602318396546499,0.7716321603109952,0.6175741165322555,0.7280499474233804,0.6741959091877809,0.7739410658734847,0.6455774040686245,0.8014452938337994,0.8620495552021379,0.6372825362718028,0.7238024522749082,0.5363348729725453,0.5767700481693124,0.7832755860714331,0.7947605730052323,0.7868998254717138,0.7773728324911648,0.6481497599757431,0.7321612069712035,0.7973665907176489,0.7207164121221741,0.843433608236535,0.6840448858710206,0.6543997098343384,0.7949818075228929,0.7070842532826518,0.5820137803686544,0.7473012166867237,0.7794483905848657,0.6474799974031923,0.7545387690551786,0.7781885750345451,0.740531305635654,0.6920104486210277,0.7015714178411354,0.7255165625946438],[0.8350105907740109,0.8150147317518935,0.7426691989878135,0.6894636331078133,0.7216450488559972,0.7721315937889788,0.7614272687116093,0.7826350814668004,0.8236224495455794,0.788978770380349,0.797768118451148,0.8126403584990132,0.9462909347575372,0.9999999999999998,0.7488342078025266,0.8058198410575304,0.7983529516377548,0.7992400043291124,0.7974542234409481,0.6271535227393689,0.7188311466668066,0.5977824030030486,0.7496386991450457,0.655199602339511,0.8237046201226452,0.6562504272415572,0.819195496219288,0.8399179907336898,0.6523166074441319,0.7111413077514916,0.5371578728481409,0.6309089404355471,0.7806111583944115,0.7839200801887943,0.765867733238274,0.773282594032173,0.685497219971179,0.7048567267815199,0.8231488829063138,0.7574278695893069,0.8372771612871222,0.6608706238578604,0.6211899297083469,0.772487851577813,0.6496437820381747,0.5889773963650619,0.7878104946764344,0.786360194676849,0.60906339622393,0.7913464775061797,0.7595892725115485,0.7755254290244875,0.6483922759480967,0.6962201054774712,0.7264447816201806],[0.7631925071247926,0.7799491273094006,0.7529743112123931,0.5852270730888043,0.6950018030652715,0.6190515079315697,0.6818984485308406,0.7469585490140217,0.7681619429270834,0.8186504317313966,0.7419789345898631,0.745018319493044,0.7175875524663775,0.7488342078025266,0.9999999999999998,0.7430680640030556,0.7202507549555773,0.709770683646709,0.7683746340840689,0.5948167879788491,0.7013238465387259,0.510359005831265,0.675811010273815,0.654263004458216,0.742392016256673,0.6054452167263804,0.7589783414282318,0.6703814999635982,0.7005818214104186,0.7233589420013351,0.543861579518477,0.591348654888065,0.7308845851738097,0.7024237931900476,0.799259993302262,0.7030215704803996,0.623871162888094,0.6847421253456119,0.7583848651509784,0.7765217036176019,0.7518852228701396,0.5666256689828474,0.5710428282656368,0.7593592732900837,0.7486249235626329,0.6420102246580155,0.7392960535796373,0.6302846639819603,0.5623639009129605,0.7449025096411795,0.7394192498379852,0.7271153150310335,0.722543425895545,0.6796714572564989,0.7219817520278569],[0.8968015395398065,0.8306893291272366,0.768442006641763,0.7296510657117334,0.8439243847170396,0.8102588056176082,0.8127258655139382,0.832085606025705,0.7869669588863558,0.8285024427255251,0.7300106617895323,0.7450619520708566,0.7458203503293961,0.8058198410575304,0.7430680640030556,0.9999999999999991,0.9198721782123866,0.7303281961119069,0.8032417869425688,0.7172868761161291,0.7729242725118912,0.5349111384218996,0.7560268059977795,0.7233499591516201,0.8892700682365274,0.625502514129884,0.8929874432237888,0.6721177880999597,0.667294795015776,0.7558711123266978,0.5237125890893661,0.6063294252488245,0.7510961019660262,0.753722761603724,0.7259011186585658,0.6758277282134599,0.7088699480133859,0.7119003263421668,0.8472173353713432,0.8780438300377085,0.8229064056101751,0.6331813105758319,0.5897404973050947,0.8155157229161973,0.7066115092293671,0.6170992255859115,0.7881185591910169,0.6789597512695453,0.556546995666157,0.819045000240622,0.7829988455556266,0.837923146003864,0.6569317601900094,0.6986634546103689,0.7535614761277406],[0.9267080646619431,0.8480390339355843,0.737120327541614,0.7301053379778958,0.7656353344308321,0.8410655169052255,0.8186497003000567,0.8677505411558208,0.791677056844301,0.8223774536135299,0.7693850046564321,0.7562597377672851,0.6935198504911977,0.7983529516377548,0.7202507549555773,0.9198721782123866,1.0000000000000002,0.753673555547953,0.8021291930552672,0.7357149803721932,0.6959355643668312,0.528456875291198,0.7154252974840869,0.726874346496006,0.9053486532700445,0.6470128606192549,0.875410562409755,0.6600797702698454,0.6919811905244119,0.7651887026391474,0.4857046728105938,0.636847461061663,0.7868995133673998,0.7630578251199261,0.7035439111275452,0.7149384672844411,0.7305550315292585,0.7058341515990505,0.8749841331833432,0.8682040478239432,0.8128235030947173,0.6434458255613325,0.5744074643511775,0.7881930192639206,0.5989929849533863,0.5922842446775902,0.8193352183635616,0.6733027190038033,0.543201113211712,0.8753580620532635,0.7968931715827949,0.8704439831294222,0.626836950170621,0.7299285002701694,0.7701377551843095],[0.8210338347142407,0.8514140558392564,0.80613981050414,0.7688141493487036,0.7003098698666325,0.7936588978887699,0.6989500183858988,0.7948251828139254,0.8343923853546538,0.8074471613430165,0.8493954237699106,0.870052516493537,0.8009578660106895,0.7992400043291124,0.709770683646709,0.7303281961119069,0.753673555547953,1.0,0.8596965684431219,0.6596405656954427,0.7059942837791496,0.5731961113311493,0.6944645623414443,0.7322762938068501,0.7701438854347307,0.735256575571455,0.7807088001485081,0.7837809850446026,0.7271696176862624,0.7980993403091617,0.5576870129833249,0.6224236684915452,0.8578514889409062,0.7693749329986521,0.7716365646469844,0.8217597977095104,0.658360903137162,0.7353114190232904,0.8608514487482128,0.7526547384004314,0.808055306766615,0.7153649082858544,0.6579793103173114,0.7904743050967968,0.6514853326753052,0.6413643058688249,0.7843420737253876,0.7622015098006518,0.5449301071746073,0.8063015216765816,0.8193217868154955,0.7837294738534675,0.6775728934482295,0.761529668702003,0.7424788521057045],[0.8705849347666617,0.8954916605786618,0.8557706531020444,0.7828544965144527,0.7671628706083136,0.8038757980987602,0.770102650518472,0.8742887213950659,0.8823215070841304,0.8856921607972223,0.8946254708847023,0.8821575128287837,0.8203808655305194,0.7974542234409481,0.7683746340840689,0.8032417869425688,0.8021291930552672,0.8596965684431219,1.0000000000000004,0.7397259650187356,0.7946112603102551,0.6327930197991923,0.7676587451838901,0.8183322893361166,0.8330694908252287,0.7539406364256496,0.8688075978203815,0.7928525524632946,0.7636967549380799,0.870643325053519,0.6056728665046369,0.6189806996019189,0.9189707830382233,0.8281904588677549,0.8146068801143833,0.8502402472552679,0.7346588434910799,0.8129711798136043,0.9186288195336396,0.8178096880602626,0.8732608110543534,0.7757461249459605,0.706646943444472,0.8756797275697423,0.7400264216500572,0.6930207449268816,0.834487598536096,0.7419099396849672,0.6206596600350542,0.8527055761101547,0.8687246455003114,0.8332190528053859,0.7008582622094223,0.7982221141830946,0.8169250571490652],[0.7548309776323179,0.7523015775677167,0.7219810828377118,0.6857338277286988,0.630485873764395,0.7434481295971279,0.8535812658017667,0.7831058033392579,0.766515090460428,0.7245202149587933,0.7557702400321895,0.6883063770459046,0.602318396546499,0.6271535227393689,0.5948167879788491,0.7172868761161291,0.7357149803721932,0.6596405656954427,0.7397259650187356,1.0000000000000004,0.5774523635857808,0.3945693494067583,0.5745563204183006,0.9173318527106453,0.778609487510675,0.6019181458039061,0.7168781231044814,0.6032779472327825,0.5916995458894556,0.6757763726986399,0.5559421781055625,0.5255190902454764,0.72364581029922,0.6988993866856076,0.568315334653273,0.6683768988971888,0.6828221473652969,0.8116575087644388,0.7906795099869339,0.7160718224382812,0.7346054884500355,0.5024134338069435,0.6249346985071358,0.6460712352048151,0.53951229827595,0.5614839084689429,0.7194347847808962,0.6284513525802726,0.5460233015722613,0.7887839833876109,0.7513663125893302,0.7770722683404437,0.631850001258629,0.7103228969419535,0.8138557942552755],[0.776725529942125,0.7915359037235985,0.8048236184566787,0.6482998742258146,0.7263503978493859,0.6767785541569101,0.6983964073047724,0.6927819533180487,0.7695164090089646,0.8120143606049186,0.6985897309496266,0.756251874454404,0.7716321603109952,0.7188311466668066,0.7013238465387259,0.7729242725118912,0.6959355643668312,0.7059942837791496,0.7946112603102551,0.5774523635857808,1.0,0.6032859858917403,0.6981266153231191,0.6752152889549188,0.7597714555856865,0.6965425287868405,0.931105249248911,0.6834809204542003,0.6425880670403006,0.6998959363099531,0.6194568914242499,0.4953239880237959,0.6901856732776828,0.699693280864572,0.7814403415382236,0.6614063502616783,0.6105315142866621,0.690117909694368,0.7605532064717104,0.7442956243013705,0.7641529694239956,0.6395088442586879,0.612197030087497,0.9222183448733566,0.7677140319060646,0.6543593120808281,0.7301961169421394,0.6523307242512759,0.5689596398155844,0.7458110345238219,0.7803536347589617,0.7158658518533643,0.6910041709612463,0.7111072712717789,0.6910869907447554],[0.5810831831452823,0.5988172960671877,0.5739953586805938,0.5434220116188968,0.5196459381183219,0.5610311429747181,0.5092437603524287,0.5187245504173511,0.6450203495091846,0.6220074760364301,0.5531868509419675,0.7197872006298565,0.6175741165322555,0.5977824030030486,0.510359005831265,0.5349111384218996,0.528456875291198,0.5731961113311493,0.6327930197991923,0.3945693494067583,0.6032859858917403,0.9999999999999999,0.7129995569493559,0.446988107556056,0.5650362960800586,0.5450332165182036,0.6028555194036116,0.6342532227625672,0.5252982189418747,0.5846937813927731,0.4027887374743936,0.4648308279689119,0.5633331185714188,0.5887879466347063,0.7484737509601813,0.5442225881483338,0.533326784191675,0.5502385997192047,0.607569803616601,0.5372579367181161,0.5700122785461256,0.8667279570790865,0.4072900206456625,0.61542160052554,0.5318735365060612,0.5504404356040213,0.5867041362958613,0.6493535067576419,0.519147178787136,0.5590795675968518,0.5772752080774215,0.5441307564978466,0.5244336373876184,0.5584757883649213,0.48757077178730907],[0.7809852157948549,0.7774487391725122,0.7260359942106768,0.6826830747581722,0.6844356079951778,0.720224869753135,0.6696893151359271,0.7612514354302271,0.7761654251178287,0.7757071675401636,0.6851067987448679,0.7907214555774047,0.7280499474233804,0.7496386991450457,0.675811010273815,0.7560268059977795,0.7154252974840869,0.6944645623414443,0.7676587451838901,0.5745563204183006,0.6981266153231191,0.7129995569493559,1.0000000000000007,0.6197909461214335,0.7517688785473695,0.6696508047912569,0.771805342229827,0.7343442919493463,0.6376487250106304,0.7342400806797568,0.518421019630083,0.5412378950268243,0.7216679370647295,0.6923417065009321,0.7340156423216405,0.6508995637135879,0.7116473990201881,0.6994715139411192,0.7546026109691657,0.7597821174247752,0.7991917481440587,0.7703755516210604,0.5409145884120607,0.7569866491570513,0.6368756943619835,0.6058499644978224,0.7860448322362947,0.685539308697607,0.5691292042262706,0.758046499330398,0.7228554069143002,0.7423776841895621,0.5967113565876729,0.6737987183690166,0.6874733675949741],[0.7979698655367611,0.8327124103974184,0.8199689398074623,0.7408172125020822,0.6690499161042414,0.7674820180277808,0.8217076245600553,0.8199354150597605,0.8442856951238532,0.7867606253195439,0.7915402253566951,0.7785543296476649,0.6741959091877809,0.655199602339511,0.654263004458216,0.7233499591516201,0.726874346496006,0.7322762938068501,0.8183322893361166,0.9173318527106453,0.6752152889549188,0.446988107556056,0.6197909461214335,1.0,0.785805850780847,0.6886282555982405,0.7704282584766657,0.677837510186382,0.6652081751058138,0.7667948306412944,0.6217342384040578,0.5326885738464926,0.8020178705917338,0.7671702935388536,0.6769273989621049,0.7416480003177177,0.6819832193115841,0.8445224461901877,0.8347281556957801,0.7536921197052135,0.7802635678468515,0.5899975767295476,0.7036817147275739,0.7379612740057773,0.6408883987477453,0.6050361780699552,0.7605292493655005,0.6941247046297807,0.6118866706851029,0.8160871587749299,0.8416672229082962,0.7731998085307367,0.7180770770996567,0.8098778693738228,0.83952727285231],[0.9509536629932545,0.9065614010632521,0.7902832775271592,0.7561431171148487,0.7686533557938297,0.8566311774103265,0.8869207176137159,0.9022291105957576,0.8739867481980022,0.872343926054425,0.8067797853542492,0.8304672393978633,0.7739410658734847,0.8237046201226452,0.742392016256673,0.8892700682365274,0.9053486532700445,0.7701438854347307,0.8330694908252287,0.778609487510675,0.7597714555856865,0.5650362960800586,0.7517688785473695,0.785805850780847,0.9999999999999999,0.6649641807458404,0.8961635134378626,0.7333606053477504,0.7101465081059006,0.7582400955574203,0.5400223202972142,0.6582945749082122,0.8092160135562165,0.7878145646168706,0.7306437140177504,0.766799778933083,0.7441827443522833,0.8022880435090887,0.8994207677542689,0.8807806857039997,0.8658815934496176,0.6492467011327867,0.6526831089640583,0.8288106879865016,0.655349630079289,0.607304384819213,0.8246947845149228,0.7356276725244161,0.5777923734538821,0.9001430916220783,0.8845536817047868,0.8741911213385404,0.7231184590726549,0.770098791580228,0.825549884768191],[0.7232193707292991,0.7342681163049054,0.7261802309460728,0.6227737437175992,0.5650237846278979,0.6585636720049682,0.5968100734469273,0.6980063611829543,0.712267913136256,0.7219903458546475,0.7216221315161295,0.7335858415300858,0.6455774040686245,0.6562504272415572,0.6054452167263804,0.625502514129884,0.6470128606192549,0.735256575571455,0.7539406364256496,0.6019181458039061,0.6965425287868405,0.5450332165182036,0.6696508047912569,0.6886282555982405,0.6649641807458404,1.0000000000000004,0.7505603353072874,0.6607275830351966,0.5947983672460194,0.7063870829798993,0.7841602166761406,0.5274904544290586,0.7493987278709564,0.6690708630871264,0.6854680143950851,0.702793739589016,0.6721409838647576,0.6146910722215766,0.756212249479032,0.6210963356511886,0.6878547982520102,0.649862727205267,0.622321715987733,0.7388366345328343,0.5374424005019994,0.7370859579436112,0.708201012327309,0.6497733194968459,0.4804117874251632,0.7158358873207609,0.7344410426769532,0.6605229709087731,0.5533914615243457,0.6765538584259421,0.6820115962173889],[0.912358841271582,0.8843370170194957,0.837373223218451,0.7343573734504222,0.7986461388314018,0.8102061782041897,0.8336690926057078,0.8462171252757443,0.8423725783535689,0.8875867568629814,0.790673470701749,0.8213200179387419,0.8014452938337994,0.819195496219288,0.7589783414282318,0.8929874432237888,0.875410562409755,0.7807088001485081,0.8688075978203815,0.7168781231044814,0.931105249248911,0.6028555194036116,0.771805342229827,0.7704282584766657,0.8961635134378626,0.7505603353072874,1.0000000000000002,0.7326873938158295,0.7048741438059625,0.7776250862003873,0.6150487225659873,0.6009844516614904,0.799861275015862,0.782702339976672,0.7988938319315655,0.7408829274571241,0.7446135010470314,0.7657184152811769,0.8733431333798978,0.8616978995593307,0.8589623268715092,0.6857793250737536,0.6492038767700082,0.937516627986114,0.7562718444976526,0.6738746077709175,0.8541477925873262,0.7161144845379717,0.6005612548972886,0.8787754219743981,0.8536653601958304,0.8541354245684928,0.7013586273515241,0.7774726526887443,0.8089796295550926],[0.7520174397368221,0.7967749970010392,0.7353371565832432,0.697145471359866,0.6381131102789003,0.7196397386773821,0.6965754061958302,0.7080143535374162,0.83474812290366,0.7450653039458246,0.7891142661605378,0.8214762974377392,0.8620495552021379,0.8399179907336898,0.6703814999635982,0.6721177880999597,0.6600797702698454,0.7837809850446026,0.7928525524632946,0.6032779472327825,0.6834809204542003,0.6342532227625672,0.7343442919493463,0.677837510186382,0.7333606053477504,0.6607275830351966,0.7326873938158295,0.9999999999999996,0.6556469597274148,0.7535725405387946,0.5217795652322823,0.5627870685208082,0.7751163558133185,0.7935122844378315,0.7433102246116298,0.8076931934507305,0.655410038760202,0.7580346881819275,0.77888468310859,0.6868465486671873,0.7794964627980101,0.724928186406906,0.7045772848545212,0.7307601638832596,0.6432109908529204,0.5803351036214971,0.7821704908833115,0.7465633980875104,0.5719828791705107,0.7555308186591594,0.7715156988611263,0.7174918652080075,0.6504610680905053,0.7491227598436944,0.6947447114868082],[0.7286590335383062,0.7530617027381954,0.7341681732183998,0.689328397299884,0.6179959436157354,0.7105998592007255,0.6259827591663918,0.7101097667438582,0.729224237434392,0.8038507193648923,0.7147104460607407,0.7458494593621204,0.6372825362718028,0.6523166074441319,0.7005818214104186,0.667294795015776,0.6919811905244119,0.7271696176862624,0.7636967549380799,0.5916995458894556,0.6425880670403006,0.5252982189418747,0.6376487250106304,0.6652081751058138,0.7101465081059006,0.5947983672460194,0.7048741438059625,0.6556469597274148,0.9999999999999999,0.7747722285946861,0.4773763480098225,0.5529832991525206,0.7294172595049729,0.6996765764421565,0.7150254872439876,0.7095894524401875,0.6897883705744401,0.6562483014862589,0.7382691889256832,0.6979244886147112,0.7060553076768592,0.6416989600793901,0.5553138137929877,0.7248323033813849,0.5950884717977274,0.5460361061453958,0.6808265444353995,0.5948180254183744,0.5018878310382222,0.7315585813702615,0.7139513953903316,0.7098769074298874,0.6981675745322069,0.7417678527070174,0.664814144016166],[0.8159628052109642,0.8483904617267193,0.836785756074517,0.7803907468952529,0.6851946709416639,0.7904450294133928,0.6936393544516294,0.8025486738794284,0.8308540193867759,0.8166202130767544,0.7904612512578083,0.8367647833307208,0.7238024522749082,0.7111413077514916,0.7233589420013351,0.7558711123266978,0.7651887026391474,0.7980993403091617,0.870643325053519,0.6757763726986399,0.6998959363099531,0.5846937813927731,0.7342400806797568,0.7667948306412944,0.7582400955574203,0.7063870829798993,0.7776250862003873,0.7535725405387946,0.7747722285946861,0.9999999999999994,0.5735662444447356,0.562692051725602,0.8083800553312116,0.8283361255307198,0.7621058570576182,0.7733421011284949,0.7024851437318884,0.7583444559409047,0.84927300908917,0.7924851200480003,0.8032939655111005,0.74595981704804,0.661704840436502,0.7965230933732725,0.6608264009050008,0.6189778716694048,0.789873249083302,0.6900028278189134,0.5672173223134566,0.8047350112988566,0.806003627858725,0.7813859849740933,0.7091917227006608,0.7871649863800321,0.7620963493495454],[0.5518058155898162,0.5746524275026621,0.6077187240938511,0.4866374881669834,0.487201932695332,0.502972745038013,0.5139621228188901,0.5545551264675234,0.5886131673737786,0.5919605502518953,0.5575112620466794,0.5888560354025221,0.5363348729725453,0.5371578728481409,0.543861579518477,0.5237125890893661,0.4857046728105938,0.5576870129833249,0.6056728665046369,0.5559421781055625,0.6194568914242499,0.4027887374743936,0.518421019630083,0.6217342384040578,0.5400223202972142,0.7841602166761406,0.6150487225659873,0.5217795652322823,0.4773763480098225,0.5735662444447356,1.0000000000000004,0.393400028892251,0.5871609774942678,0.5263880879441885,0.5579393339107106,0.5802981968877725,0.4601187497426018,0.5208072387563161,0.6126027485602095,0.508765371025337,0.5728594687566407,0.4794903535983406,0.4952463137432864,0.5943489341935498,0.47852814641482266,0.7796269059478752,0.5635482202974802,0.5921258189262195,0.38116486201981314,0.551006818069464,0.5979223267126671,0.5290465219682676,0.48857814853840714,0.5420793107243776,0.5642976560114448],[0.6553588287198847,0.6444813942316703,0.5635530906878411,0.6593019737276481,0.5609618415577805,0.6841594933502618,0.5928545401894181,0.6771268962795975,0.622874771417554,0.6285940415617282,0.6041121829578857,0.621875664642128,0.5767700481693124,0.6309089404355471,0.591348654888065,0.6063294252488245,0.636847461061663,0.6224236684915452,0.6189806996019189,0.5255190902454764,0.4953239880237959,0.4648308279689119,0.5412378950268243,0.5326885738464926,0.6582945749082122,0.5274904544290586,0.6009844516614904,0.5627870685208082,0.5529832991525206,0.562692051725602,0.393400028892251,1.0000000000000002,0.6561112074377629,0.6276817591960685,0.5689975481553725,0.5968521496920743,0.5940843236566461,0.5536844985355663,0.6450701335217401,0.6176976860722562,0.6104655759737774,0.515075641986795,0.4601673302381236,0.5962200610974144,0.4245264932090951,0.5252220928877127,0.597872371196058,0.548117839172295,0.43910276020507355,0.6575934295295638,0.6085244920282761,0.6715962384984734,0.4998478542386707,0.617943364753013,0.569369341464576],[0.8415906000947639,0.8815413130048471,0.7880633835174238,0.7754630029513047,0.7214475939580867,0.7991135146975561,0.7351913864538864,0.8730666914635222,0.8552405529297786,0.8358832974897552,0.8808164843070332,0.8529112984721174,0.7832755860714331,0.7806111583944115,0.7308845851738097,0.7510961019660262,0.7868995133673998,0.8578514889409062,0.9189707830382233,0.72364581029922,0.6901856732776828,0.5633331185714188,0.7216679370647295,0.8020178705917338,0.8092160135562165,0.7493987278709564,0.799861275015862,0.7751163558133185,0.7294172595049729,0.8083800553312116,0.5871609774942678,0.6561112074377629,1.0,0.81415654861681,0.7759879361697377,0.8518766301968285,0.6971831655536822,0.7666703454944639,0.8922811900355629,0.7581306433605499,0.8381453209890914,0.7320935385361953,0.6697269131915347,0.8093535315304439,0.6117287585758824,0.6705869874679913,0.8373543021782721,0.7234687637021469,0.6206533637479719,0.8625127730966765,0.8495299305182342,0.8002292525631167,0.6396141441717595,0.8171763096201146,0.8147328791634459],[0.8268076302527976,0.8563750339655345,0.7871167416473623,0.7719480692303998,0.6858170278379323,0.7960797233270167,0.7604977771117637,0.8037064148188942,0.8520658018449363,0.803980658585564,0.8112326003003578,0.812934756380793,0.7947605730052323,0.7839200801887943,0.7024237931900476,0.753722761603724,0.7630578251199261,0.7693749329986521,0.8281904588677549,0.6988993866856076,0.699693280864572,0.5887879466347063,0.6923417065009321,0.7671702935388536,0.7878145646168706,0.6690708630871264,0.782702339976672,0.7935122844378315,0.6996765764421565,0.8283361255307198,0.5263880879441885,0.6276817591960685,0.81415654861681,1.0000000000000002,0.7581947447347142,0.8532958299587861,0.6818429898319471,0.780991798316591,0.8544808386231315,0.7431018459675502,0.791890570909854,0.7052967060018118,0.6859087025121444,0.7947317911069187,0.6329353780385418,0.5806025814585924,0.7872218635226296,0.6858874193595319,0.7465701311965336,0.8026919601560341,0.8007738619220403,0.7927683135827305,0.7288067941730094,0.8263099704796114,0.7832489388598552],[0.764580090755807,0.7968732582843874,0.7952187111809337,0.6698694355898397,0.7382960311463453,0.6796854477574275,0.6682646249013868,0.7236098590891857,0.8083828391393112,0.8540312047233287,0.7609210702493812,0.8546809740620803,0.7868998254717138,0.765867733238274,0.799259993302262,0.7259011186585658,0.7035439111275452,0.7716365646469844,0.8146068801143833,0.568315334653273,0.7814403415382236,0.7484737509601813,0.7340156423216405,0.6769273989621049,0.7306437140177504,0.6854680143950851,0.7988938319315655,0.7433102246116298,0.7150254872439876,0.7621058570576182,0.5579393339107106,0.5689975481553725,0.7759879361697377,0.7581947447347142,1.0000000000000007,0.7332786324659663,0.6497402941234867,0.6999937650848853,0.786439550850442,0.7360144875198497,0.7611511416067491,0.7874716210907878,0.602235206802712,0.8428509673255894,0.7137165003522006,0.6710005966070518,0.7673682239037412,0.7176957528112962,0.5875751683731132,0.7400474903305665,0.7636040842600289,0.7071081341670858,0.6807603201955985,0.7383870973751316,0.7080089361730226],[0.8024611606506712,0.8424190119275241,0.7710700029608539,0.6974172722768897,0.6406484281074185,0.7304996185267765,0.7064826451233069,0.7957089791513081,0.8282536200666132,0.7902906134141832,0.9144322129854933,0.8214201600647204,0.7773728324911648,0.773282594032173,0.7030215704803996,0.6758277282134599,0.7149384672844411,0.8217597977095104,0.8502402472552679,0.6683768988971888,0.6614063502616783,0.5442225881483338,0.6508995637135879,0.7416480003177177,0.766799778933083,0.702793739589016,0.7408829274571241,0.8076931934507305,0.7095894524401875,0.7733421011284949,0.5802981968877725,0.5968521496920743,0.8518766301968285,0.8532958299587861,0.7332786324659663,1.0000000000000013,0.6459360174919988,0.7445790794609499,0.8645004175980124,0.7053476775804316,0.7558561832222059,0.672049816944457,0.7441253058959898,0.7597758501663364,0.6087357762944008,0.6372947121230705,0.7412058120492402,0.7068998795484875,0.548907989510153,0.7919150581743168,0.8046977205400465,0.753751077565096,0.6844342362514401,0.7633597445628689,0.7394632309024776],[0.7663920012655311,0.7378506072043878,0.6846336089148337,0.7031160113669658,0.6034472144733796,0.7652843898863397,0.7348650714027891,0.7507118024918239,0.7500891653317701,0.776636766345085,0.6894893490676435,0.7352586697110393,0.6481497599757431,0.685497219971179,0.623871162888094,0.7088699480133859,0.7305550315292585,0.658360903137162,0.7346588434910799,0.6828221473652969,0.6105315142866621,0.533326784191675,0.7116473990201881,0.6819832193115841,0.7441827443522833,0.6721409838647576,0.7446135010470314,0.655410038760202,0.6897883705744401,0.7024851437318884,0.4601187497426018,0.5940843236566461,0.6971831655536822,0.6818429898319471,0.6497402941234867,0.6459360174919988,1.0000000000000002,0.69646630835607,0.7656684246534715,0.7020416734737409,0.7490503629139942,0.6493641935391297,0.5754826547750591,0.7129687185450246,0.538288446494461,0.5549066017333197,0.7506920296798356,0.6235952943714889,0.5101004551680525,0.7386323057054471,0.6906185910787466,0.7648890681596341,0.5954932023771007,0.6478860062250037,0.7240339597846881],[0.8005165497563893,0.843595023987411,0.7706610658892706,0.7157478276566127,0.6454282233618788,0.7471469177734766,0.9124761962797734,0.8047737364294718,0.8985948873749676,0.8111794567099976,0.7959338752646741,0.8069149209909465,0.7321612069712035,0.7048567267815199,0.6847421253456119,0.7119003263421668,0.7058341515990505,0.7353114190232904,0.8129711798136043,0.8116575087644388,0.690117909694368,0.5502385997192047,0.6994715139411192,0.8445224461901877,0.8022880435090887,0.6146910722215766,0.7657184152811769,0.7580346881819275,0.6562483014862589,0.7583444559409047,0.5208072387563161,0.5536844985355663,0.7666703454944639,0.780991798316591,0.6999937650848853,0.7445790794609499,0.69646630835607,1.0000000000000004,0.8178102419567692,0.7555367245747444,0.821967172581902,0.635975865921957,0.6766342944922658,0.7611390554653781,0.6655484395632287,0.5498999540363293,0.7789470051608776,0.6758971753923165,0.6309841902689974,0.8262186214971623,0.8299955172041751,0.7927154869844915,0.7079579603311034,0.7938996547738648,0.8528839955037611],[0.9359368623098009,0.9191176580697213,0.8658371184336968,0.7704262152674493,0.7775961352825211,0.835156447425738,0.8176231583923613,0.9002956132767821,0.9212091307523261,0.8821677941446217,0.8996207316520651,0.889537793849974,0.7973665907176489,0.8231488829063138,0.7583848651509784,0.8472173353713432,0.8749841331833432,0.8608514487482128,0.9186288195336396,0.7906795099869339,0.7605532064717104,0.607569803616601,0.7546026109691657,0.8347281556957801,0.8994207677542689,0.756212249479032,0.8733431333798978,0.77888468310859,0.7382691889256832,0.84927300908917,0.6126027485602095,0.6450701335217401,0.8922811900355629,0.8544808386231315,0.786439550850442,0.8645004175980124,0.7656684246534715,0.8178102419567692,0.9999999999999997,0.8345468247157164,0.8629470450706644,0.7339016298092322,0.7265508755902896,0.8469059904134072,0.6258684927690372,0.6749055685212157,0.854748508413358,0.7806359229586213,0.629135617357498,0.8886503594858401,0.8893382730606301,0.86733102507836,0.7301559233044563,0.8025539761484226,0.8196240836782301],[0.9084184310724581,0.8940029597948691,0.8082527798540913,0.7667449870604166,0.8091469383755445,0.8062957071777173,0.7919587176207288,0.8711407881964185,0.8235233778101099,0.8371485177926468,0.7473273526183676,0.8000216147048366,0.7207164121221741,0.7574278695893069,0.7765217036176019,0.8780438300377085,0.8682040478239432,0.7526547384004314,0.8178096880602626,0.7160718224382812,0.7442956243013705,0.5372579367181161,0.7597821174247752,0.7536921197052135,0.8807806857039997,0.6210963356511886,0.8616978995593307,0.6868465486671873,0.6979244886147112,0.7924851200480003,0.508765371025337,0.6176976860722562,0.7581306433605499,0.7431018459675502,0.7360144875198497,0.7053476775804316,0.7020416734737409,0.7555367245747444,0.8345468247157164,1.0000000000000007,0.8481877760314683,0.6554420940869521,0.6075038961235604,0.831561484232945,0.7018181155537898,0.5933100383212828,0.8159295475483432,0.6798484231950147,0.5551213139131477,0.8529088492606602,0.8463876856593944,0.8602301926463491,0.7019391218570592,0.7562040201005047,0.8034673970481869],[0.864548785697275,0.8722174122165346,0.7957041869908384,0.763447562857764,0.7398032693380194,0.8122055817696847,0.8197896432637873,0.897127319109275,0.8757746909134627,0.858650104861884,0.8164055802112967,0.8419213507886953,0.843433608236535,0.8372771612871222,0.7518852228701396,0.8229064056101751,0.8128235030947173,0.808055306766615,0.8732608110543534,0.7346054884500355,0.7641529694239956,0.5700122785461256,0.7991917481440587,0.7802635678468515,0.8658815934496176,0.6878547982520102,0.8589623268715092,0.7794964627980101,0.7060553076768592,0.8032939655111005,0.5728594687566407,0.6104655759737774,0.8381453209890914,0.791890570909854,0.7611511416067491,0.7558561832222059,0.7490503629139942,0.821967172581902,0.8629470450706644,0.8481877760314683,1.0000000000000004,0.7196745740759751,0.6436015037832872,0.8253313809409287,0.6899314596420361,0.6108814795241031,0.8383095774324855,0.7377640243448691,0.6119562616519288,0.8658804886099596,0.8592067153257023,0.8446638382485079,0.6936157495087373,0.7548709040970116,0.8469805141478562],[0.6905848335595897,0.7171814708238061,0.6687273946770557,0.7025845655450447,0.6247043885977401,0.7023016915654541,0.5714764601928607,0.6700546308656652,0.7278596336989711,0.7197882797591824,0.6845584279303591,0.7964324437341807,0.6840448858710206,0.6608706238578604,0.5666256689828474,0.6331813105758319,0.6434458255613325,0.7153649082858544,0.7757461249459605,0.5024134338069435,0.6395088442586879,0.8667279570790865,0.7703755516210604,0.5899975767295476,0.6492467011327867,0.649862727205267,0.6857793250737536,0.724928186406906,0.6416989600793901,0.74595981704804,0.4794903535983406,0.515075641986795,0.7320935385361953,0.7052967060018118,0.7874716210907878,0.672049816944457,0.6493641935391297,0.635975865921957,0.7339016298092322,0.6554420940869521,0.7196745740759751,0.9999999999999993,0.53533279046305,0.7083163561025557,0.5604242334514336,0.616459852963353,0.7270835587671909,0.7092594122019926,0.5425884019208729,0.6839357673031766,0.6956413856370653,0.6753999536541777,0.5646039652001353,0.6594409001776147,0.6156959295768719],[0.6777046800090745,0.703052333864683,0.7330171201366429,0.5922643547997,0.5556234599145861,0.6121825018187135,0.6231083881638837,0.652097738571029,0.7357897396580089,0.6556851267029017,0.7390353410653699,0.6801465465168736,0.6543997098343384,0.6211899297083469,0.5710428282656368,0.5897404973050947,0.5744074643511775,0.6579793103173114,0.706646943444472,0.6249346985071358,0.612197030087497,0.4072900206456625,0.5409145884120607,0.7036817147275739,0.6526831089640583,0.622321715987733,0.6492038767700082,0.7045772848545212,0.5553138137929877,0.661704840436502,0.4952463137432864,0.4601673302381236,0.6697269131915347,0.6859087025121444,0.602235206802712,0.7441253058959898,0.5754826547750591,0.6766342944922658,0.7265508755902896,0.6075038961235604,0.6436015037832872,0.53533279046305,1.0,0.6489225253389337,0.5606712907885092,0.5188151901793312,0.6519847488679453,0.6060760842260251,0.4835937958208574,0.6690415825157732,0.7154191916962891,0.6296776172499443,0.6038534237750156,0.6914346184962782,0.6398008615426705],[0.8736725305766546,0.8882140561876826,0.8481744653982166,0.7477482092661097,0.7467313635269872,0.7792358224568455,0.7594008581502981,0.8085935789056782,0.8408383888238049,0.8826593726015014,0.7875621460332096,0.8639138474987886,0.7949818075228929,0.772487851577813,0.7593592732900837,0.8155157229161973,0.7881930192639206,0.7904743050967968,0.8756797275697423,0.6460712352048151,0.9222183448733566,0.61542160052554,0.7569866491570513,0.7379612740057773,0.8288106879865016,0.7388366345328343,0.937516627986114,0.7307601638832596,0.7248323033813849,0.7965230933732725,0.5943489341935498,0.5962200610974144,0.8093535315304439,0.7947317911069187,0.8428509673255894,0.7597758501663364,0.7129687185450246,0.7611390554653781,0.8469059904134072,0.831561484232945,0.8253313809409287,0.7083163561025557,0.6489225253389337,0.999999999999999,0.736146732994049,0.6448159158920745,0.8342492000771116,0.6911131837501929,0.6171319090186269,0.8229002020018459,0.8410716900086009,0.7940549486863626,0.6929245778953134,0.7724121946904715,0.7736411383566428],[0.6558639193837056,0.6948978085006847,0.7155590200918209,0.5748976645514343,0.6634978612835829,0.5821124409375906,0.6363011087976101,0.6388643911186516,0.6770117661898039,0.7197117292246882,0.6458186723398096,0.6839505310775436,0.7070842532826518,0.6496437820381747,0.7486249235626329,0.7066115092293671,0.5989929849533863,0.6514853326753052,0.7400264216500572,0.53951229827595,0.7677140319060646,0.5318735365060612,0.6368756943619835,0.6408883987477453,0.655349630079289,0.5374424005019994,0.7562718444976526,0.6432109908529204,0.5950884717977274,0.6608264009050008,0.47852814641482266,0.4245264932090951,0.6117287585758824,0.6329353780385418,0.7137165003522006,0.6087357762944008,0.538288446494461,0.6655484395632287,0.6258684927690372,0.7018181155537898,0.6899314596420361,0.5604242334514336,0.5606712907885092,0.736146732994049,0.9999999999999996,0.6165942282324602,0.6574951236871803,0.5874698628716083,0.5213104717324424,0.6391733723365295,0.7293861865076136,0.6604285225227922,0.6530370303531586,0.6505380974189983,0.6584701717139385],[0.6218407104118492,0.6527428920942557,0.6334100610131224,0.5353118401603688,0.5799259218073015,0.548003900369778,0.532058988485713,0.6371084264815993,0.6468895454249174,0.6727469395134652,0.6513018080870825,0.6669013597606229,0.5820137803686544,0.5889773963650619,0.6420102246580155,0.6170992255859115,0.5922842446775902,0.6413643058688249,0.6930207449268816,0.5614839084689429,0.6543593120808281,0.5504404356040213,0.6058499644978224,0.6050361780699552,0.607304384819213,0.7370859579436112,0.6738746077709175,0.5803351036214971,0.5460361061453958,0.6189778716694048,0.7796269059478752,0.5252220928877127,0.6705869874679913,0.5806025814585924,0.6710005966070518,0.6372947121230705,0.5549066017333197,0.5498999540363293,0.6749055685212157,0.5933100383212828,0.6108814795241031,0.616459852963353,0.5188151901793312,0.6448159158920745,0.6165942282324602,1.0000000000000004,0.6442303363168105,0.6872490498919094,0.4152180094690076,0.6387064347655163,0.6375704063104999,0.6068107018885365,0.5407218980451574,0.6042977973432588,0.6099779502043003],[0.8574132118158623,0.856404598036699,0.7772566446417428,0.7326204421816569,0.7331202777095696,0.7858865648879828,0.7711601339318757,0.8360609210184405,0.8623176262042229,0.829198864994847,0.7777366829387061,0.8372861943495075,0.7473012166867237,0.7878104946764344,0.7392960535796373,0.7881185591910169,0.8193352183635616,0.7843420737253876,0.834487598536096,0.7194347847808962,0.7301961169421394,0.5867041362958613,0.7860448322362947,0.7605292493655005,0.8246947845149228,0.708201012327309,0.8541477925873262,0.7821704908833115,0.6808265444353995,0.789873249083302,0.5635482202974802,0.597872371196058,0.8373543021782721,0.7872218635226296,0.7673682239037412,0.7412058120492402,0.7506920296798356,0.7789470051608776,0.854748508413358,0.8159295475483432,0.8383095774324855,0.7270835587671909,0.6519847488679453,0.8342492000771116,0.6574951236871803,0.6442303363168105,1.0,0.7138762579539215,0.6066883510668724,0.8707497811826124,0.8083892283223868,0.82241973844063,0.6133355858728221,0.7604551237495037,0.792652246356757],[0.7468110631496331,0.7583452106569726,0.734092407668044,0.6385783024285161,0.6243647589812327,0.6890746899365189,0.6589552230576242,0.6993928536710927,0.7996899157525701,0.724988556789282,0.7265691438313069,0.8685142288371749,0.7794483905848657,0.786360194676849,0.6302846639819603,0.6789597512695453,0.6733027190038033,0.7622015098006518,0.7419099396849672,0.6284513525802726,0.6523307242512759,0.6493535067576419,0.685539308697607,0.6941247046297807,0.7356276725244161,0.6497733194968459,0.7161144845379717,0.7465633980875104,0.5948180254183744,0.6900028278189134,0.5921258189262195,0.548117839172295,0.7234687637021469,0.6858874193595319,0.7176957528112962,0.7068998795484875,0.6235952943714889,0.6758971753923165,0.7806359229586213,0.6798484231950147,0.7377640243448691,0.7092594122019926,0.6060760842260251,0.6911131837501929,0.5874698628716083,0.6872490498919094,0.7138762579539215,1.0,0.532275904129404,0.7101443625458039,0.7450649083044675,0.6840852628549503,0.678565789828752,0.6693529054040783,0.6560597898683806],[0.6364483774300993,0.6611980999376127,0.6317819594136186,0.598841795495654,0.5133383340474855,0.6075431003797802,0.6004704709914623,0.6134492696719994,0.6739202153206405,0.639419870972791,0.595142176658451,0.6223744031476497,0.6474799974031923,0.60906339622393,0.5623639009129605,0.556546995666157,0.543201113211712,0.5449301071746073,0.6206596600350542,0.5460233015722613,0.5689596398155844,0.519147178787136,0.5691292042262706,0.6118866706851029,0.5777923734538821,0.4804117874251632,0.6005612548972886,0.5719828791705107,0.5018878310382222,0.5672173223134566,0.38116486201981314,0.43910276020507355,0.6206533637479719,0.7465701311965336,0.5875751683731132,0.548907989510153,0.5101004551680525,0.6309841902689974,0.629135617357498,0.5551213139131477,0.6119562616519288,0.5425884019208729,0.4835937958208574,0.6171319090186269,0.5213104717324424,0.4152180094690076,0.6066883510668724,0.532275904129404,1.0000000000000004,0.592529725942781,0.5827239002596396,0.578366485441754,0.5974226177337283,0.6806484117462253,0.6237034684457666],[0.9036605503931525,0.9078052422188762,0.792024975954472,0.7622853712163791,0.735411546784288,0.8314637887989929,0.8452954138184012,0.8988247256657269,0.873240789828652,0.8535277025106999,0.8372336089125121,0.8261038272446146,0.7545387690551786,0.7913464775061797,0.7449025096411795,0.819045000240622,0.8753580620532635,0.8063015216765816,0.8527055761101547,0.7887839833876109,0.7458110345238219,0.5590795675968518,0.758046499330398,0.8160871587749299,0.9001430916220783,0.7158358873207609,0.8787754219743981,0.7555308186591594,0.7315585813702615,0.8047350112988566,0.551006818069464,0.6575934295295638,0.8625127730966765,0.8026919601560341,0.7400474903305665,0.7919150581743168,0.7386323057054471,0.8262186214971623,0.8886503594858401,0.8529088492606602,0.8658804886099596,0.6839357673031766,0.6690415825157732,0.8229002020018459,0.6391733723365295,0.6387064347655163,0.8707497811826124,0.7101443625458039,0.592529725942781,0.9999999999999998,0.8684459392970911,0.884816088746264,0.6921974394877368,0.8249630523090002,0.8429162539366365],[0.88515155765966,0.9138054226692879,0.8463864564165368,0.7882157850142804,0.7239155530617134,0.8264152354660057,0.8130191799822781,0.855591739809775,0.8917366447445961,0.8499547935576017,0.8354655235523352,0.8631202759634559,0.7781885750345451,0.7595892725115485,0.7394192498379852,0.7829988455556266,0.7968931715827949,0.8193217868154955,0.8687246455003114,0.7513663125893302,0.7803536347589617,0.5772752080774215,0.7228554069143002,0.8416672229082962,0.8845536817047868,0.7344410426769532,0.8536653601958304,0.7715156988611263,0.7139513953903316,0.806003627858725,0.5979223267126671,0.6085244920282761,0.8495299305182342,0.8007738619220403,0.7636040842600289,0.8046977205400465,0.6906185910787466,0.8299955172041751,0.8893382730606301,0.8463876856593944,0.8592067153257023,0.6956413856370653,0.7154191916962891,0.8410716900086009,0.7293861865076136,0.6375704063104999,0.8083892283223868,0.7450649083044675,0.5827239002596396,0.8684459392970911,1.0000000000000002,0.8325449768415895,0.7611157729196327,0.8451128731267098,0.8342715881321205],[0.8772846062324706,0.8580908847742021,0.777363924405124,0.7708660259386264,0.7381620893234309,0.8407979321018729,0.832506549496935,0.8861520812309315,0.8305554277088402,0.8275983357341044,0.7979315998799166,0.7904350222694778,0.740531305635654,0.7755254290244875,0.7271153150310335,0.837923146003864,0.8704439831294222,0.7837294738534675,0.8332190528053859,0.7770722683404437,0.7158658518533643,0.5441307564978466,0.7423776841895621,0.7731998085307367,0.8741911213385404,0.6605229709087731,0.8541354245684928,0.7174918652080075,0.7098769074298874,0.7813859849740933,0.5290465219682676,0.6715962384984734,0.8002292525631167,0.7927683135827305,0.7071081341670858,0.753751077565096,0.7648890681596341,0.7927154869844915,0.86733102507836,0.8602301926463491,0.8446638382485079,0.6753999536541777,0.6296776172499443,0.7940549486863626,0.6604285225227922,0.6068107018885365,0.82241973844063,0.6840852628549503,0.578366485441754,0.884816088746264,0.8325449768415895,1.0,0.6816892157727199,0.7768080690930441,0.8103483342442965],[0.7298264876443559,0.76886956351118,0.7757995778872515,0.6707010347042948,0.6060380008011349,0.6789466108221198,0.67306235581803,0.6620012694051374,0.7767831638723472,0.7899893041122431,0.6940922437129758,0.7638491352664911,0.6920104486210277,0.6483922759480967,0.722543425895545,0.6569317601900094,0.626836950170621,0.6775728934482295,0.7008582622094223,0.631850001258629,0.6910041709612463,0.5244336373876184,0.5967113565876729,0.7180770770996567,0.7231184590726549,0.5533914615243457,0.7013586273515241,0.6504610680905053,0.6981675745322069,0.7091917227006608,0.48857814853840714,0.4998478542386707,0.6396141441717595,0.7288067941730094,0.6807603201955985,0.6844342362514401,0.5954932023771007,0.7079579603311034,0.7301559233044563,0.7019391218570592,0.6936157495087373,0.5646039652001353,0.6038534237750156,0.6929245778953134,0.6530370303531586,0.5407218980451574,0.6133355858728221,0.678565789828752,0.5974226177337283,0.6921974394877368,0.7611157729196327,0.6816892157727199,0.9999999999999996,0.7185800777970528,0.6881092026978401],[0.7943140839871166,0.865462183650917,0.8355150293576776,0.7449138443316949,0.6442409651888314,0.7620580951177851,0.7536693191228414,0.7879295901908101,0.8117769022415855,0.7954245927481396,0.7857580607762427,0.7810033512607213,0.7015714178411354,0.6962201054774712,0.6796714572564989,0.6986634546103689,0.7299285002701694,0.761529668702003,0.7982221141830946,0.7103228969419535,0.7111072712717789,0.5584757883649213,0.6737987183690166,0.8098778693738228,0.770098791580228,0.6765538584259421,0.7774726526887443,0.7491227598436944,0.7417678527070174,0.7871649863800321,0.5420793107243776,0.617943364753013,0.8171763096201146,0.8263099704796114,0.7383870973751316,0.7633597445628689,0.6478860062250037,0.7938996547738648,0.8025539761484226,0.7562040201005047,0.7548709040970116,0.6594409001776147,0.6914346184962782,0.7724121946904715,0.6505380974189983,0.6042977973432588,0.7604551237495037,0.6693529054040783,0.6806484117462253,0.8249630523090002,0.8451128731267098,0.7768080690930441,0.7185800777970528,0.9999999999999996,0.7957919779850684],[0.8242609648208693,0.851975645269111,0.7539326734995558,0.7286657180171368,0.7026601937884448,0.760683039946719,0.8777726725169066,0.863563515173264,0.8498793747240565,0.8284839355654788,0.8015115736471536,0.7826804349851939,0.7255165625946438,0.7264447816201806,0.7219817520278569,0.7535614761277406,0.7701377551843095,0.7424788521057045,0.8169250571490652,0.8138557942552755,0.6910869907447554,0.48757077178730907,0.6874733675949741,0.83952727285231,0.825549884768191,0.6820115962173889,0.8089796295550926,0.6947447114868082,0.664814144016166,0.7620963493495454,0.5642976560114448,0.569369341464576,0.8147328791634459,0.7832489388598552,0.7080089361730226,0.7394632309024776,0.7240339597846881,0.8528839955037611,0.8196240836782301,0.8034673970481869,0.8469805141478562,0.6156959295768719,0.6398008615426705,0.7736411383566428,0.6584701717139385,0.6099779502043003,0.792652246356757,0.6560597898683806,0.6237034684457666,0.8429162539366365,0.8342715881321205,0.8103483342442965,0.6881092026978401,0.7957919779850684,1.0000000000000009]],\"type\":\"heatmap\",\"xaxis\":\"x\",\"yaxis\":\"y\",\"hovertemplate\":\"x: %{x}<br>y: %{y}<br>Similarity Score: %{z}<extra></extra>\"}],                        {\"template\":{\"data\":{\"bar\":[{\"error_x\":{\"color\":\"#2a3f5f\"},\"error_y\":{\"color\":\"#2a3f5f\"},\"marker\":{\"line\":{\"color\":\"#E5ECF6\",\"width\":0.5},\"pattern\":{\"fillmode\":\"overlay\",\"size\":10,\"solidity\":0.2}},\"type\":\"bar\"}],\"barpolar\":[{\"marker\":{\"line\":{\"color\":\"#E5ECF6\",\"width\":0.5},\"pattern\":{\"fillmode\":\"overlay\",\"size\":10,\"solidity\":0.2}},\"type\":\"barpolar\"}],\"carpet\":[{\"aaxis\":{\"endlinecolor\":\"#2a3f5f\",\"gridcolor\":\"white\",\"linecolor\":\"white\",\"minorgridcolor\":\"white\",\"startlinecolor\":\"#2a3f5f\"},\"baxis\":{\"endlinecolor\":\"#2a3f5f\",\"gridcolor\":\"white\",\"linecolor\":\"white\",\"minorgridcolor\":\"white\",\"startlinecolor\":\"#2a3f5f\"},\"type\":\"carpet\"}],\"choropleth\":[{\"colorbar\":{\"outlinewidth\":0,\"ticks\":\"\"},\"type\":\"choropleth\"}],\"contour\":[{\"colorbar\":{\"outlinewidth\":0,\"ticks\":\"\"},\"colorscale\":[[0.0,\"#0d0887\"],[0.1111111111111111,\"#46039f\"],[0.2222222222222222,\"#7201a8\"],[0.3333333333333333,\"#9c179e\"],[0.4444444444444444,\"#bd3786\"],[0.5555555555555556,\"#d8576b\"],[0.6666666666666666,\"#ed7953\"],[0.7777777777777778,\"#fb9f3a\"],[0.8888888888888888,\"#fdca26\"],[1.0,\"#f0f921\"]],\"type\":\"contour\"}],\"contourcarpet\":[{\"colorbar\":{\"outlinewidth\":0,\"ticks\":\"\"},\"type\":\"contourcarpet\"}],\"heatmap\":[{\"colorbar\":{\"outlinewidth\":0,\"ticks\":\"\"},\"colorscale\":[[0.0,\"#0d0887\"],[0.1111111111111111,\"#46039f\"],[0.2222222222222222,\"#7201a8\"],[0.3333333333333333,\"#9c179e\"],[0.4444444444444444,\"#bd3786\"],[0.5555555555555556,\"#d8576b\"],[0.6666666666666666,\"#ed7953\"],[0.7777777777777778,\"#fb9f3a\"],[0.8888888888888888,\"#fdca26\"],[1.0,\"#f0f921\"]],\"type\":\"heatmap\"}],\"heatmapgl\":[{\"colorbar\":{\"outlinewidth\":0,\"ticks\":\"\"},\"colorscale\":[[0.0,\"#0d0887\"],[0.1111111111111111,\"#46039f\"],[0.2222222222222222,\"#7201a8\"],[0.3333333333333333,\"#9c179e\"],[0.4444444444444444,\"#bd3786\"],[0.5555555555555556,\"#d8576b\"],[0.6666666666666666,\"#ed7953\"],[0.7777777777777778,\"#fb9f3a\"],[0.8888888888888888,\"#fdca26\"],[1.0,\"#f0f921\"]],\"type\":\"heatmapgl\"}],\"histogram\":[{\"marker\":{\"pattern\":{\"fillmode\":\"overlay\",\"size\":10,\"solidity\":0.2}},\"type\":\"histogram\"}],\"histogram2d\":[{\"colorbar\":{\"outlinewidth\":0,\"ticks\":\"\"},\"colorscale\":[[0.0,\"#0d0887\"],[0.1111111111111111,\"#46039f\"],[0.2222222222222222,\"#7201a8\"],[0.3333333333333333,\"#9c179e\"],[0.4444444444444444,\"#bd3786\"],[0.5555555555555556,\"#d8576b\"],[0.6666666666666666,\"#ed7953\"],[0.7777777777777778,\"#fb9f3a\"],[0.8888888888888888,\"#fdca26\"],[1.0,\"#f0f921\"]],\"type\":\"histogram2d\"}],\"histogram2dcontour\":[{\"colorbar\":{\"outlinewidth\":0,\"ticks\":\"\"},\"colorscale\":[[0.0,\"#0d0887\"],[0.1111111111111111,\"#46039f\"],[0.2222222222222222,\"#7201a8\"],[0.3333333333333333,\"#9c179e\"],[0.4444444444444444,\"#bd3786\"],[0.5555555555555556,\"#d8576b\"],[0.6666666666666666,\"#ed7953\"],[0.7777777777777778,\"#fb9f3a\"],[0.8888888888888888,\"#fdca26\"],[1.0,\"#f0f921\"]],\"type\":\"histogram2dcontour\"}],\"mesh3d\":[{\"colorbar\":{\"outlinewidth\":0,\"ticks\":\"\"},\"type\":\"mesh3d\"}],\"parcoords\":[{\"line\":{\"colorbar\":{\"outlinewidth\":0,\"ticks\":\"\"}},\"type\":\"parcoords\"}],\"pie\":[{\"automargin\":true,\"type\":\"pie\"}],\"scatter\":[{\"marker\":{\"colorbar\":{\"outlinewidth\":0,\"ticks\":\"\"}},\"type\":\"scatter\"}],\"scatter3d\":[{\"line\":{\"colorbar\":{\"outlinewidth\":0,\"ticks\":\"\"}},\"marker\":{\"colorbar\":{\"outlinewidth\":0,\"ticks\":\"\"}},\"type\":\"scatter3d\"}],\"scattercarpet\":[{\"marker\":{\"colorbar\":{\"outlinewidth\":0,\"ticks\":\"\"}},\"type\":\"scattercarpet\"}],\"scattergeo\":[{\"marker\":{\"colorbar\":{\"outlinewidth\":0,\"ticks\":\"\"}},\"type\":\"scattergeo\"}],\"scattergl\":[{\"marker\":{\"colorbar\":{\"outlinewidth\":0,\"ticks\":\"\"}},\"type\":\"scattergl\"}],\"scattermapbox\":[{\"marker\":{\"colorbar\":{\"outlinewidth\":0,\"ticks\":\"\"}},\"type\":\"scattermapbox\"}],\"scatterpolar\":[{\"marker\":{\"colorbar\":{\"outlinewidth\":0,\"ticks\":\"\"}},\"type\":\"scatterpolar\"}],\"scatterpolargl\":[{\"marker\":{\"colorbar\":{\"outlinewidth\":0,\"ticks\":\"\"}},\"type\":\"scatterpolargl\"}],\"scatterternary\":[{\"marker\":{\"colorbar\":{\"outlinewidth\":0,\"ticks\":\"\"}},\"type\":\"scatterternary\"}],\"surface\":[{\"colorbar\":{\"outlinewidth\":0,\"ticks\":\"\"},\"colorscale\":[[0.0,\"#0d0887\"],[0.1111111111111111,\"#46039f\"],[0.2222222222222222,\"#7201a8\"],[0.3333333333333333,\"#9c179e\"],[0.4444444444444444,\"#bd3786\"],[0.5555555555555556,\"#d8576b\"],[0.6666666666666666,\"#ed7953\"],[0.7777777777777778,\"#fb9f3a\"],[0.8888888888888888,\"#fdca26\"],[1.0,\"#f0f921\"]],\"type\":\"surface\"}],\"table\":[{\"cells\":{\"fill\":{\"color\":\"#EBF0F8\"},\"line\":{\"color\":\"white\"}},\"header\":{\"fill\":{\"color\":\"#C8D4E3\"},\"line\":{\"color\":\"white\"}},\"type\":\"table\"}]},\"layout\":{\"annotationdefaults\":{\"arrowcolor\":\"#2a3f5f\",\"arrowhead\":0,\"arrowwidth\":1},\"autotypenumbers\":\"strict\",\"coloraxis\":{\"colorbar\":{\"outlinewidth\":0,\"ticks\":\"\"}},\"colorscale\":{\"diverging\":[[0,\"#8e0152\"],[0.1,\"#c51b7d\"],[0.2,\"#de77ae\"],[0.3,\"#f1b6da\"],[0.4,\"#fde0ef\"],[0.5,\"#f7f7f7\"],[0.6,\"#e6f5d0\"],[0.7,\"#b8e186\"],[0.8,\"#7fbc41\"],[0.9,\"#4d9221\"],[1,\"#276419\"]],\"sequential\":[[0.0,\"#0d0887\"],[0.1111111111111111,\"#46039f\"],[0.2222222222222222,\"#7201a8\"],[0.3333333333333333,\"#9c179e\"],[0.4444444444444444,\"#bd3786\"],[0.5555555555555556,\"#d8576b\"],[0.6666666666666666,\"#ed7953\"],[0.7777777777777778,\"#fb9f3a\"],[0.8888888888888888,\"#fdca26\"],[1.0,\"#f0f921\"]],\"sequentialminus\":[[0.0,\"#0d0887\"],[0.1111111111111111,\"#46039f\"],[0.2222222222222222,\"#7201a8\"],[0.3333333333333333,\"#9c179e\"],[0.4444444444444444,\"#bd3786\"],[0.5555555555555556,\"#d8576b\"],[0.6666666666666666,\"#ed7953\"],[0.7777777777777778,\"#fb9f3a\"],[0.8888888888888888,\"#fdca26\"],[1.0,\"#f0f921\"]]},\"colorway\":[\"#636efa\",\"#EF553B\",\"#00cc96\",\"#ab63fa\",\"#FFA15A\",\"#19d3f3\",\"#FF6692\",\"#B6E880\",\"#FF97FF\",\"#FECB52\"],\"font\":{\"color\":\"#2a3f5f\"},\"geo\":{\"bgcolor\":\"white\",\"lakecolor\":\"white\",\"landcolor\":\"#E5ECF6\",\"showlakes\":true,\"showland\":true,\"subunitcolor\":\"white\"},\"hoverlabel\":{\"align\":\"left\"},\"hovermode\":\"closest\",\"mapbox\":{\"style\":\"light\"},\"paper_bgcolor\":\"white\",\"plot_bgcolor\":\"#E5ECF6\",\"polar\":{\"angularaxis\":{\"gridcolor\":\"white\",\"linecolor\":\"white\",\"ticks\":\"\"},\"bgcolor\":\"#E5ECF6\",\"radialaxis\":{\"gridcolor\":\"white\",\"linecolor\":\"white\",\"ticks\":\"\"}},\"scene\":{\"xaxis\":{\"backgroundcolor\":\"#E5ECF6\",\"gridcolor\":\"white\",\"gridwidth\":2,\"linecolor\":\"white\",\"showbackground\":true,\"ticks\":\"\",\"zerolinecolor\":\"white\"},\"yaxis\":{\"backgroundcolor\":\"#E5ECF6\",\"gridcolor\":\"white\",\"gridwidth\":2,\"linecolor\":\"white\",\"showbackground\":true,\"ticks\":\"\",\"zerolinecolor\":\"white\"},\"zaxis\":{\"backgroundcolor\":\"#E5ECF6\",\"gridcolor\":\"white\",\"gridwidth\":2,\"linecolor\":\"white\",\"showbackground\":true,\"ticks\":\"\",\"zerolinecolor\":\"white\"}},\"shapedefaults\":{\"line\":{\"color\":\"#2a3f5f\"}},\"ternary\":{\"aaxis\":{\"gridcolor\":\"white\",\"linecolor\":\"white\",\"ticks\":\"\"},\"baxis\":{\"gridcolor\":\"white\",\"linecolor\":\"white\",\"ticks\":\"\"},\"bgcolor\":\"#E5ECF6\",\"caxis\":{\"gridcolor\":\"white\",\"linecolor\":\"white\",\"ticks\":\"\"}},\"title\":{\"x\":0.05},\"xaxis\":{\"automargin\":true,\"gridcolor\":\"white\",\"linecolor\":\"white\",\"ticks\":\"\",\"title\":{\"standoff\":15},\"zerolinecolor\":\"white\",\"zerolinewidth\":2},\"yaxis\":{\"automargin\":true,\"gridcolor\":\"white\",\"linecolor\":\"white\",\"ticks\":\"\",\"title\":{\"standoff\":15},\"zerolinecolor\":\"white\",\"zerolinewidth\":2}}},\"xaxis\":{\"anchor\":\"y\",\"domain\":[0.0,1.0],\"scaleanchor\":\"y\",\"constrain\":\"domain\"},\"yaxis\":{\"anchor\":\"x\",\"domain\":[0.0,1.0],\"autorange\":\"reversed\",\"constrain\":\"domain\"},\"coloraxis\":{\"colorbar\":{\"title\":{\"text\":\"Similarity Score\"}},\"colorscale\":[[0.0,\"rgb(247,252,240)\"],[0.125,\"rgb(224,243,219)\"],[0.25,\"rgb(204,235,197)\"],[0.375,\"rgb(168,221,181)\"],[0.5,\"rgb(123,204,196)\"],[0.625,\"rgb(78,179,211)\"],[0.75,\"rgb(43,140,190)\"],[0.875,\"rgb(8,104,172)\"],[1.0,\"rgb(8,64,129)\"]]},\"margin\":{\"t\":60},\"title\":{\"font\":{\"size\":22,\"color\":\"Black\"},\"text\":\"<b>Similarity Matrix\",\"y\":0.95,\"x\":0.55,\"xanchor\":\"center\",\"yanchor\":\"top\"},\"hoverlabel\":{\"font\":{\"size\":16,\"family\":\"Rockwell\"},\"bgcolor\":\"white\"},\"width\":800,\"height\":800,\"showlegend\":true,\"legend\":{\"title\":{\"text\":\"Trend\"}}},                        {\"responsive\": true}                    ).then(function(){\n",
              "                            \n",
              "var gd = document.getElementById('3fef3921-e80e-4eca-b6f8-783a9c76c3cc');\n",
              "var x = new MutationObserver(function (mutations, observer) {{\n",
              "        var display = window.getComputedStyle(gd).display;\n",
              "        if (!display || display === 'none') {{\n",
              "            console.log([gd, 'removed!']);\n",
              "            Plotly.purge(gd);\n",
              "            observer.disconnect();\n",
              "        }}\n",
              "}});\n",
              "\n",
              "// Listen for the removal of the full notebook cells\n",
              "var notebookContainer = gd.closest('#notebook-container');\n",
              "if (notebookContainer) {{\n",
              "    x.observe(notebookContainer, {childList: true});\n",
              "}}\n",
              "\n",
              "// Listen for the clearing of the current output cell\n",
              "var outputEl = gd.closest('.output');\n",
              "if (outputEl) {{\n",
              "    x.observe(outputEl, {childList: true});\n",
              "}}\n",
              "\n",
              "                        })                };                            </script>        </div>\n",
              "</body>\n",
              "</html>"
            ]
          },
          "metadata": {}
        }
      ]
    },
    {
      "cell_type": "code",
      "source": [
        "topic_model.visualize_hierarchy()"
      ],
      "metadata": {
        "id": "BCaPry9t1aGr",
        "outputId": "e207d7d4-f335-41fb-9856-8357786f34ad",
        "colab": {
          "base_uri": "https://localhost:8080/",
          "height": 1000
        }
      },
      "execution_count": 133,
      "outputs": [
        {
          "output_type": "display_data",
          "data": {
            "text/html": [
              "<html>\n",
              "<head><meta charset=\"utf-8\" /></head>\n",
              "<body>\n",
              "    <div>            <script src=\"https://cdnjs.cloudflare.com/ajax/libs/mathjax/2.7.5/MathJax.js?config=TeX-AMS-MML_SVG\"></script><script type=\"text/javascript\">if (window.MathJax) {MathJax.Hub.Config({SVG: {font: \"STIX-Web\"}});}</script>                <script type=\"text/javascript\">window.PlotlyConfig = {MathJaxConfig: 'local'};</script>\n",
              "        <script src=\"https://cdn.plot.ly/plotly-2.8.3.min.js\"></script>                <div id=\"0473d649-0bb1-4a94-a5f5-3f77a3b07ed6\" class=\"plotly-graph-div\" style=\"height:1025px; width:1000px;\"></div>            <script type=\"text/javascript\">                                    window.PLOTLYENV=window.PLOTLYENV || {};                                    if (document.getElementById(\"0473d649-0bb1-4a94-a5f5-3f77a3b07ed6\")) {                    Plotly.newPlot(                        \"0473d649-0bb1-4a94-a5f5-3f77a3b07ed6\",                        [{\"hoverinfo\":\"text\",\"marker\":{\"color\":\"rgb(61,153,112)\"},\"mode\":\"lines\",\"x\":[0.0,0.3069276051181437,0.3069276051181437,0.0],\"xaxis\":\"x\",\"y\":[-25.0,-25.0,-35.0,-35.0],\"yaxis\":\"y\",\"type\":\"scatter\"},{\"hoverinfo\":\"text\",\"marker\":{\"color\":\"rgb(61,153,112)\"},\"mode\":\"lines\",\"x\":[0.0,0.331074503037916,0.331074503037916,0.3069276051181437],\"xaxis\":\"x\",\"y\":[-15.0,-15.0,-30.0,-30.0],\"yaxis\":\"y\",\"type\":\"scatter\"},{\"hoverinfo\":\"text\",\"marker\":{\"color\":\"rgb(61,153,112)\"},\"mode\":\"lines\",\"x\":[0.0,0.43465801037800395,0.43465801037800395,0.331074503037916],\"xaxis\":\"x\",\"y\":[-5.0,-5.0,-22.5,-22.5],\"yaxis\":\"y\",\"type\":\"scatter\"},{\"hoverinfo\":\"text\",\"marker\":{\"color\":\"rgb(61,153,112)\"},\"mode\":\"lines\",\"x\":[0.0,0.3515553485278528,0.3515553485278528,0.0],\"xaxis\":\"x\",\"y\":[-45.0,-45.0,-55.0,-55.0],\"yaxis\":\"y\",\"type\":\"scatter\"},{\"hoverinfo\":\"text\",\"marker\":{\"color\":\"rgb(61,153,112)\"},\"mode\":\"lines\",\"x\":[0.0,0.6610002321548332,0.6610002321548332,0.0],\"xaxis\":\"x\",\"y\":[-65.0,-65.0,-75.0,-75.0],\"yaxis\":\"y\",\"type\":\"scatter\"},{\"hoverinfo\":\"text\",\"marker\":{\"color\":\"rgb(61,153,112)\"},\"mode\":\"lines\",\"x\":[0.3515553485278528,0.8537961919936893,0.8537961919936893,0.6610002321548332],\"xaxis\":\"x\",\"y\":[-50.0,-50.0,-70.0,-70.0],\"yaxis\":\"y\",\"type\":\"scatter\"},{\"hoverinfo\":\"text\",\"marker\":{\"color\":\"rgb(61,153,112)\"},\"mode\":\"lines\",\"x\":[0.43465801037800395,0.8829508753726603,0.8829508753726603,0.8537961919936893],\"xaxis\":\"x\",\"y\":[-13.75,-13.75,-60.0,-60.0],\"yaxis\":\"y\",\"type\":\"scatter\"},{\"hoverinfo\":\"text\",\"marker\":{\"color\":\"rgb(255,65,54)\"},\"mode\":\"lines\",\"x\":[0.0,0.26547197649656096,0.26547197649656096,0.0],\"xaxis\":\"x\",\"y\":[-105.0,-105.0,-115.0,-115.0],\"yaxis\":\"y\",\"type\":\"scatter\"},{\"hoverinfo\":\"text\",\"marker\":{\"color\":\"rgb(255,65,54)\"},\"mode\":\"lines\",\"x\":[0.0,0.3502990922182995,0.3502990922182995,0.26547197649656096],\"xaxis\":\"x\",\"y\":[-95.0,-95.0,-110.0,-110.0],\"yaxis\":\"y\",\"type\":\"scatter\"},{\"hoverinfo\":\"text\",\"marker\":{\"color\":\"rgb(255,65,54)\"},\"mode\":\"lines\",\"x\":[0.0,0.3956257628348361,0.3956257628348361,0.3502990922182995],\"xaxis\":\"x\",\"y\":[-85.0,-85.0,-102.5,-102.5],\"yaxis\":\"y\",\"type\":\"scatter\"},{\"hoverinfo\":\"text\",\"marker\":{\"color\":\"rgb(255,65,54)\"},\"mode\":\"lines\",\"x\":[0.0,0.3584193148665137,0.3584193148665137,0.0],\"xaxis\":\"x\",\"y\":[-125.0,-125.0,-135.0,-135.0],\"yaxis\":\"y\",\"type\":\"scatter\"},{\"hoverinfo\":\"text\",\"marker\":{\"color\":\"rgb(255,65,54)\"},\"mode\":\"lines\",\"x\":[0.0,0.35954649979418685,0.35954649979418685,0.0],\"xaxis\":\"x\",\"y\":[-145.0,-145.0,-155.0,-155.0],\"yaxis\":\"y\",\"type\":\"scatter\"},{\"hoverinfo\":\"text\",\"marker\":{\"color\":\"rgb(255,65,54)\"},\"mode\":\"lines\",\"x\":[0.3584193148665137,0.46152733136940655,0.46152733136940655,0.35954649979418685],\"xaxis\":\"x\",\"y\":[-130.0,-130.0,-150.0,-150.0],\"yaxis\":\"y\",\"type\":\"scatter\"},{\"hoverinfo\":\"text\",\"marker\":{\"color\":\"rgb(255,65,54)\"},\"mode\":\"lines\",\"x\":[0.3956257628348361,0.6149881327471359,0.6149881327471359,0.46152733136940655],\"xaxis\":\"x\",\"y\":[-93.75,-93.75,-140.0,-140.0],\"yaxis\":\"y\",\"type\":\"scatter\"},{\"hoverinfo\":\"text\",\"marker\":{\"color\":\"rgb(35,205,205)\"},\"mode\":\"lines\",\"x\":[0.0,0.26078502308116264,0.26078502308116264,0.0],\"xaxis\":\"x\",\"y\":[-165.0,-165.0,-175.0,-175.0],\"yaxis\":\"y\",\"type\":\"scatter\"},{\"hoverinfo\":\"text\",\"marker\":{\"color\":\"rgb(35,205,205)\"},\"mode\":\"lines\",\"x\":[0.0,0.29449950138856135,0.29449950138856135,0.0],\"xaxis\":\"x\",\"y\":[-195.0,-195.0,-205.0,-205.0],\"yaxis\":\"y\",\"type\":\"scatter\"},{\"hoverinfo\":\"text\",\"marker\":{\"color\":\"rgb(35,205,205)\"},\"mode\":\"lines\",\"x\":[0.0,0.2179538947145872,0.2179538947145872,0.0],\"xaxis\":\"x\",\"y\":[-235.0,-235.0,-245.0,-245.0],\"yaxis\":\"y\",\"type\":\"scatter\"},{\"hoverinfo\":\"text\",\"marker\":{\"color\":\"rgb(35,205,205)\"},\"mode\":\"lines\",\"x\":[0.0,0.2554203614016693,0.2554203614016693,0.2179538947145872],\"xaxis\":\"x\",\"y\":[-225.0,-225.0,-240.0,-240.0],\"yaxis\":\"y\",\"type\":\"scatter\"},{\"hoverinfo\":\"text\",\"marker\":{\"color\":\"rgb(35,205,205)\"},\"mode\":\"lines\",\"x\":[0.0,0.3324535509988241,0.3324535509988241,0.2554203614016693],\"xaxis\":\"x\",\"y\":[-215.0,-215.0,-232.5,-232.5],\"yaxis\":\"y\",\"type\":\"scatter\"},{\"hoverinfo\":\"text\",\"marker\":{\"color\":\"rgb(35,205,205)\"},\"mode\":\"lines\",\"x\":[0.29449950138856135,0.3499124018738969,0.3499124018738969,0.3324535509988241],\"xaxis\":\"x\",\"y\":[-200.0,-200.0,-223.75,-223.75],\"yaxis\":\"y\",\"type\":\"scatter\"},{\"hoverinfo\":\"text\",\"marker\":{\"color\":\"rgb(35,205,205)\"},\"mode\":\"lines\",\"x\":[0.0,0.4125018271379072,0.4125018271379072,0.3499124018738969],\"xaxis\":\"x\",\"y\":[-185.0,-185.0,-211.875,-211.875],\"yaxis\":\"y\",\"type\":\"scatter\"},{\"hoverinfo\":\"text\",\"marker\":{\"color\":\"rgb(35,205,205)\"},\"mode\":\"lines\",\"x\":[0.26078502308116264,0.640012833742926,0.640012833742926,0.4125018271379072],\"xaxis\":\"x\",\"y\":[-170.0,-170.0,-198.4375,-198.4375],\"yaxis\":\"y\",\"type\":\"scatter\"},{\"hoverinfo\":\"text\",\"marker\":{\"color\":\"rgb(133,20,75)\"},\"mode\":\"lines\",\"x\":[0.0,0.25910798032034693,0.25910798032034693,0.0],\"xaxis\":\"x\",\"y\":[-265.0,-265.0,-275.0,-275.0],\"yaxis\":\"y\",\"type\":\"scatter\"},{\"hoverinfo\":\"text\",\"marker\":{\"color\":\"rgb(133,20,75)\"},\"mode\":\"lines\",\"x\":[0.0,0.3109811052932791,0.3109811052932791,0.25910798032034693],\"xaxis\":\"x\",\"y\":[-255.0,-255.0,-270.0,-270.0],\"yaxis\":\"y\",\"type\":\"scatter\"},{\"hoverinfo\":\"text\",\"marker\":{\"color\":\"rgb(133,20,75)\"},\"mode\":\"lines\",\"x\":[0.0,0.3203129293802086,0.3203129293802086,0.0],\"xaxis\":\"x\",\"y\":[-285.0,-285.0,-295.0,-295.0],\"yaxis\":\"y\",\"type\":\"scatter\"},{\"hoverinfo\":\"text\",\"marker\":{\"color\":\"rgb(133,20,75)\"},\"mode\":\"lines\",\"x\":[0.0,0.22229884204419104,0.22229884204419104,0.0],\"xaxis\":\"x\",\"y\":[-305.0,-305.0,-315.0,-315.0],\"yaxis\":\"y\",\"type\":\"scatter\"},{\"hoverinfo\":\"text\",\"marker\":{\"color\":\"rgb(133,20,75)\"},\"mode\":\"lines\",\"x\":[0.0,0.19781452519619222,0.19781452519619222,0.0],\"xaxis\":\"x\",\"y\":[-335.0,-335.0,-345.0,-345.0],\"yaxis\":\"y\",\"type\":\"scatter\"},{\"hoverinfo\":\"text\",\"marker\":{\"color\":\"rgb(133,20,75)\"},\"mode\":\"lines\",\"x\":[0.0,0.273657044747433,0.273657044747433,0.19781452519619222],\"xaxis\":\"x\",\"y\":[-325.0,-325.0,-340.0,-340.0],\"yaxis\":\"y\",\"type\":\"scatter\"},{\"hoverinfo\":\"text\",\"marker\":{\"color\":\"rgb(133,20,75)\"},\"mode\":\"lines\",\"x\":[0.22229884204419104,0.36173776468801105,0.36173776468801105,0.273657044747433],\"xaxis\":\"x\",\"y\":[-310.0,-310.0,-332.5,-332.5],\"yaxis\":\"y\",\"type\":\"scatter\"},{\"hoverinfo\":\"text\",\"marker\":{\"color\":\"rgb(133,20,75)\"},\"mode\":\"lines\",\"x\":[0.3203129293802086,0.4591838055834857,0.4591838055834857,0.36173776468801105],\"xaxis\":\"x\",\"y\":[-290.0,-290.0,-321.25,-321.25],\"yaxis\":\"y\",\"type\":\"scatter\"},{\"hoverinfo\":\"text\",\"marker\":{\"color\":\"rgb(133,20,75)\"},\"mode\":\"lines\",\"x\":[0.3109811052932791,0.698928233467469,0.698928233467469,0.4591838055834857],\"xaxis\":\"x\",\"y\":[-262.5,-262.5,-305.625,-305.625],\"yaxis\":\"y\",\"type\":\"scatter\"},{\"hoverinfo\":\"text\",\"marker\":{\"color\":\"rgb(0,116,217)\"},\"mode\":\"lines\",\"x\":[0.640012833742926,1.0207858688938425,1.0207858688938425,0.698928233467469],\"xaxis\":\"x\",\"y\":[-184.21875,-184.21875,-284.0625,-284.0625],\"yaxis\":\"y\",\"type\":\"scatter\"},{\"hoverinfo\":\"text\",\"marker\":{\"color\":\"rgb(0,116,217)\"},\"mode\":\"lines\",\"x\":[0.6149881327471359,1.2554112703980977,1.2554112703980977,1.0207858688938425],\"xaxis\":\"x\",\"y\":[-116.875,-116.875,-234.140625,-234.140625],\"yaxis\":\"y\",\"type\":\"scatter\"},{\"hoverinfo\":\"text\",\"marker\":{\"color\":\"rgb(0,116,217)\"},\"mode\":\"lines\",\"x\":[0.8829508753726603,1.7161721284706966,1.7161721284706966,1.2554112703980977],\"xaxis\":\"x\",\"y\":[-36.875,-36.875,-175.5078125,-175.5078125],\"yaxis\":\"y\",\"type\":\"scatter\"},{\"hoverinfo\":\"text\",\"marker\":{\"color\":\"rgb(255,220,0)\"},\"mode\":\"lines\",\"x\":[0.0,0.5355732498122967,0.5355732498122967,0.0],\"xaxis\":\"x\",\"y\":[-375.0,-375.0,-385.0,-385.0],\"yaxis\":\"y\",\"type\":\"scatter\"},{\"hoverinfo\":\"text\",\"marker\":{\"color\":\"rgb(255,220,0)\"},\"mode\":\"lines\",\"x\":[0.0,0.7548041817924874,0.7548041817924874,0.5355732498122967],\"xaxis\":\"x\",\"y\":[-365.0,-365.0,-380.0,-380.0],\"yaxis\":\"y\",\"type\":\"scatter\"},{\"hoverinfo\":\"text\",\"marker\":{\"color\":\"rgb(255,220,0)\"},\"mode\":\"lines\",\"x\":[0.0,0.8312808865647247,0.8312808865647247,0.7548041817924874],\"xaxis\":\"x\",\"y\":[-355.0,-355.0,-372.5,-372.5],\"yaxis\":\"y\",\"type\":\"scatter\"},{\"hoverinfo\":\"text\",\"marker\":{\"color\":\"rgb(40,35,35)\"},\"mode\":\"lines\",\"x\":[0.0,0.5514000089449561,0.5514000089449561,0.0],\"xaxis\":\"x\",\"y\":[-405.0,-405.0,-415.0,-415.0],\"yaxis\":\"y\",\"type\":\"scatter\"},{\"hoverinfo\":\"text\",\"marker\":{\"color\":\"rgb(40,35,35)\"},\"mode\":\"lines\",\"x\":[0.0,0.6157527049692411,0.6157527049692411,0.5514000089449561],\"xaxis\":\"x\",\"y\":[-395.0,-395.0,-410.0,-410.0],\"yaxis\":\"y\",\"type\":\"scatter\"},{\"hoverinfo\":\"text\",\"marker\":{\"color\":\"rgb(40,35,35)\"},\"mode\":\"lines\",\"x\":[0.0,0.24476715438923732,0.24476715438923732,0.0],\"xaxis\":\"x\",\"y\":[-435.0,-435.0,-445.0,-445.0],\"yaxis\":\"y\",\"type\":\"scatter\"},{\"hoverinfo\":\"text\",\"marker\":{\"color\":\"rgb(40,35,35)\"},\"mode\":\"lines\",\"x\":[0.0,0.4394877700330952,0.4394877700330952,0.24476715438923732],\"xaxis\":\"x\",\"y\":[-425.0,-425.0,-440.0,-440.0],\"yaxis\":\"y\",\"type\":\"scatter\"},{\"hoverinfo\":\"text\",\"marker\":{\"color\":\"rgb(40,35,35)\"},\"mode\":\"lines\",\"x\":[0.0,0.5042829471100102,0.5042829471100102,0.0],\"xaxis\":\"x\",\"y\":[-455.0,-455.0,-465.0,-465.0],\"yaxis\":\"y\",\"type\":\"scatter\"},{\"hoverinfo\":\"text\",\"marker\":{\"color\":\"rgb(40,35,35)\"},\"mode\":\"lines\",\"x\":[0.0,0.5411128236845189,0.5411128236845189,0.0],\"xaxis\":\"x\",\"y\":[-475.0,-475.0,-485.0,-485.0],\"yaxis\":\"y\",\"type\":\"scatter\"},{\"hoverinfo\":\"text\",\"marker\":{\"color\":\"rgb(40,35,35)\"},\"mode\":\"lines\",\"x\":[0.5042829471100102,0.6461480551970555,0.6461480551970555,0.5411128236845189],\"xaxis\":\"x\",\"y\":[-460.0,-460.0,-480.0,-480.0],\"yaxis\":\"y\",\"type\":\"scatter\"},{\"hoverinfo\":\"text\",\"marker\":{\"color\":\"rgb(40,35,35)\"},\"mode\":\"lines\",\"x\":[0.4394877700330952,0.9286081958160798,0.9286081958160798,0.6461480551970555],\"xaxis\":\"x\",\"y\":[-432.5,-432.5,-470.0,-470.0],\"yaxis\":\"y\",\"type\":\"scatter\"},{\"hoverinfo\":\"text\",\"marker\":{\"color\":\"rgb(40,35,35)\"},\"mode\":\"lines\",\"x\":[0.6157527049692411,0.9434229492449728,0.9434229492449728,0.9286081958160798],\"xaxis\":\"x\",\"y\":[-402.5,-402.5,-451.25,-451.25],\"yaxis\":\"y\",\"type\":\"scatter\"},{\"hoverinfo\":\"text\",\"marker\":{\"color\":\"rgb(0,116,217)\"},\"mode\":\"lines\",\"x\":[0.8312808865647247,1.3177667004736697,1.3177667004736697,0.9434229492449728],\"xaxis\":\"x\",\"y\":[-363.75,-363.75,-426.875,-426.875],\"yaxis\":\"y\",\"type\":\"scatter\"},{\"hoverinfo\":\"text\",\"marker\":{\"color\":\"rgb(61,153,112)\"},\"mode\":\"lines\",\"x\":[0.0,0.6235633455341526,0.6235633455341526,0.0],\"xaxis\":\"x\",\"y\":[-505.0,-505.0,-515.0,-515.0],\"yaxis\":\"y\",\"type\":\"scatter\"},{\"hoverinfo\":\"text\",\"marker\":{\"color\":\"rgb(61,153,112)\"},\"mode\":\"lines\",\"x\":[0.0,0.8893531564267205,0.8893531564267205,0.6235633455341526],\"xaxis\":\"x\",\"y\":[-495.0,-495.0,-510.0,-510.0],\"yaxis\":\"y\",\"type\":\"scatter\"},{\"hoverinfo\":\"text\",\"marker\":{\"color\":\"rgb(255,65,54)\"},\"mode\":\"lines\",\"x\":[0.0,0.8904852855166964,0.8904852855166964,0.0],\"xaxis\":\"x\",\"y\":[-535.0,-535.0,-545.0,-545.0],\"yaxis\":\"y\",\"type\":\"scatter\"},{\"hoverinfo\":\"text\",\"marker\":{\"color\":\"rgb(255,65,54)\"},\"mode\":\"lines\",\"x\":[0.0,0.9880359351424876,0.9880359351424876,0.8904852855166964],\"xaxis\":\"x\",\"y\":[-525.0,-525.0,-540.0,-540.0],\"yaxis\":\"y\",\"type\":\"scatter\"},{\"hoverinfo\":\"text\",\"marker\":{\"color\":\"rgb(0,116,217)\"},\"mode\":\"lines\",\"x\":[0.8893531564267205,1.3985675985283177,1.3985675985283177,0.9880359351424876],\"xaxis\":\"x\",\"y\":[-502.5,-502.5,-532.5,-532.5],\"yaxis\":\"y\",\"type\":\"scatter\"},{\"hoverinfo\":\"text\",\"marker\":{\"color\":\"rgb(0,116,217)\"},\"mode\":\"lines\",\"x\":[1.3177667004736697,2.388028588993879,2.388028588993879,1.3985675985283177],\"xaxis\":\"x\",\"y\":[-395.3125,-395.3125,-517.5,-517.5],\"yaxis\":\"y\",\"type\":\"scatter\"},{\"hoverinfo\":\"text\",\"marker\":{\"color\":\"rgb(0,116,217)\"},\"mode\":\"lines\",\"x\":[1.7161721284706966,4.114885389677858,4.114885389677858,2.388028588993879],\"xaxis\":\"x\",\"y\":[-106.19140625,-106.19140625,-456.40625,-456.40625],\"yaxis\":\"y\",\"type\":\"scatter\"}],                        {\"autosize\":false,\"height\":1025,\"hovermode\":\"closest\",\"showlegend\":false,\"width\":1000,\"xaxis\":{\"mirror\":\"allticks\",\"rangemode\":\"tozero\",\"showgrid\":false,\"showline\":true,\"showticklabels\":true,\"ticks\":\"outside\",\"type\":\"linear\",\"zeroline\":false},\"yaxis\":{\"mirror\":\"allticks\",\"rangemode\":\"tozero\",\"showgrid\":false,\"showline\":true,\"showticklabels\":true,\"tickmode\":\"array\",\"ticks\":\"outside\",\"ticktext\":[\"22_verfahren_personen_artikel\",\"5_zuwanderung_schweiz_einb\\u00fc...\",\"36_rasa_zuwanderung_migration\",\"53_ausl\\u00e4nderinnen_ausl\\u00e4nder...\",\"2_armee_franken_sicherheit\",\"4_armee_schweiz_einsatz\",\"18_schweiz_fl\\u00fcchtlinge_aufn...\",\"35_luftfahrt_flughafen_z\\u00fcrich\",\"34_kinder_eltern_sexuelle\",\"16_tiere_fleisch_tieren\",\"9_kinder_familien_kindern\",\"31_frauen_gleichstellung_frau\",\"32_berufsbildung_fachhochsc...\",\"52_beruf_reynard_gesundheit...\",\"1_gesundheitswesen_patiente...\",\"28_gpk_gpdel_oberaufsicht\",\"25_pauschalbesteuerung_schw...\",\"42_mehrwertsteuer_motion_vo...\",\"10_bundesrat_restwassermeng...\",\"8_verkehr_velo_\\u00f6ffentlichen\",\"17_ahv_erg\\u00e4nzungsleistungen...\",\"49_menschenrechte_initiativ...\",\"7_initiative_artikel_ausl\\u00e4n...\",\"0_kommission_bundesrat_heute\",\"37_mindestlohn_schweiz_l\\u00f6hne\",\"38_bericht_schweiz_europarat\",\"14_schweiz_banken_nationalb...\",\"15_swisscom_schweiz_unterne...\",\"39_wto_freihandelsabkommen_...\",\"45_ersch\\u00f6pfung_parallelimpo...\",\"-1_schweiz_bundesrat_heute\",\"23_schweiz_demokratie_eu\",\"50_schengen_dublin_schengen...\",\"6_eu_beitritt_bilateralen\",\"48_uno_neutralit\\u00e4t_roma\",\"41_schwangerschaft_abtreibu...\",\"43_leasingvertr\\u00e4ge_15 proze...\",\"27_srg_radio_tv\",\"51_service public_public_se...\",\"46_trinkwasser_wasser_umwelt\",\"21_co2_schweiz_wirtschaft\",\"40_akw_kernkraftwerke_ausst...\",\"26_landwirtschaft_gvo_morat...\",\"11_landwirtschaft_bauern_di...\",\"12_landwirtschaft_lebensmit...\",\"19_mehrwertsteuer_pauschalb...\",\"33_strom_preise_konsumenten\",\"3_franken_millionen_million...\",\"13_online_konsumenten_konsu...\",\"29_cannabis_konsum_cannabis...\",\"24_rauchen_passivrauchen_zi...\",\"44_alkohol_bier_alcopops\",\"20_energien_erneuerbaren_er...\",\"30_sport_fifa_sports\",\"47_arbeitnehmer_arbeitszeit...\"],\"tickvals\":[-5.0,-15.0,-25.0,-35.0,-45.0,-55.0,-65.0,-75.0,-85.0,-95.0,-105.0,-115.0,-125.0,-135.0,-145.0,-155.0,-165.0,-175.0,-185.0,-195.0,-205.0,-215.0,-225.0,-235.0,-245.0,-255.0,-265.0,-275.0,-285.0,-295.0,-305.0,-315.0,-325.0,-335.0,-345.0,-355.0,-365.0,-375.0,-385.0,-395.0,-405.0,-415.0,-425.0,-435.0,-445.0,-455.0,-465.0,-475.0,-485.0,-495.0,-505.0,-515.0,-525.0,-535.0,-545.0],\"type\":\"linear\",\"zeroline\":false,\"range\":[-550.0,0.0]},\"template\":{\"data\":{\"barpolar\":[{\"marker\":{\"line\":{\"color\":\"white\",\"width\":0.5},\"pattern\":{\"fillmode\":\"overlay\",\"size\":10,\"solidity\":0.2}},\"type\":\"barpolar\"}],\"bar\":[{\"error_x\":{\"color\":\"#2a3f5f\"},\"error_y\":{\"color\":\"#2a3f5f\"},\"marker\":{\"line\":{\"color\":\"white\",\"width\":0.5},\"pattern\":{\"fillmode\":\"overlay\",\"size\":10,\"solidity\":0.2}},\"type\":\"bar\"}],\"carpet\":[{\"aaxis\":{\"endlinecolor\":\"#2a3f5f\",\"gridcolor\":\"#C8D4E3\",\"linecolor\":\"#C8D4E3\",\"minorgridcolor\":\"#C8D4E3\",\"startlinecolor\":\"#2a3f5f\"},\"baxis\":{\"endlinecolor\":\"#2a3f5f\",\"gridcolor\":\"#C8D4E3\",\"linecolor\":\"#C8D4E3\",\"minorgridcolor\":\"#C8D4E3\",\"startlinecolor\":\"#2a3f5f\"},\"type\":\"carpet\"}],\"choropleth\":[{\"colorbar\":{\"outlinewidth\":0,\"ticks\":\"\"},\"type\":\"choropleth\"}],\"contourcarpet\":[{\"colorbar\":{\"outlinewidth\":0,\"ticks\":\"\"},\"type\":\"contourcarpet\"}],\"contour\":[{\"colorbar\":{\"outlinewidth\":0,\"ticks\":\"\"},\"colorscale\":[[0.0,\"#0d0887\"],[0.1111111111111111,\"#46039f\"],[0.2222222222222222,\"#7201a8\"],[0.3333333333333333,\"#9c179e\"],[0.4444444444444444,\"#bd3786\"],[0.5555555555555556,\"#d8576b\"],[0.6666666666666666,\"#ed7953\"],[0.7777777777777778,\"#fb9f3a\"],[0.8888888888888888,\"#fdca26\"],[1.0,\"#f0f921\"]],\"type\":\"contour\"}],\"heatmapgl\":[{\"colorbar\":{\"outlinewidth\":0,\"ticks\":\"\"},\"colorscale\":[[0.0,\"#0d0887\"],[0.1111111111111111,\"#46039f\"],[0.2222222222222222,\"#7201a8\"],[0.3333333333333333,\"#9c179e\"],[0.4444444444444444,\"#bd3786\"],[0.5555555555555556,\"#d8576b\"],[0.6666666666666666,\"#ed7953\"],[0.7777777777777778,\"#fb9f3a\"],[0.8888888888888888,\"#fdca26\"],[1.0,\"#f0f921\"]],\"type\":\"heatmapgl\"}],\"heatmap\":[{\"colorbar\":{\"outlinewidth\":0,\"ticks\":\"\"},\"colorscale\":[[0.0,\"#0d0887\"],[0.1111111111111111,\"#46039f\"],[0.2222222222222222,\"#7201a8\"],[0.3333333333333333,\"#9c179e\"],[0.4444444444444444,\"#bd3786\"],[0.5555555555555556,\"#d8576b\"],[0.6666666666666666,\"#ed7953\"],[0.7777777777777778,\"#fb9f3a\"],[0.8888888888888888,\"#fdca26\"],[1.0,\"#f0f921\"]],\"type\":\"heatmap\"}],\"histogram2dcontour\":[{\"colorbar\":{\"outlinewidth\":0,\"ticks\":\"\"},\"colorscale\":[[0.0,\"#0d0887\"],[0.1111111111111111,\"#46039f\"],[0.2222222222222222,\"#7201a8\"],[0.3333333333333333,\"#9c179e\"],[0.4444444444444444,\"#bd3786\"],[0.5555555555555556,\"#d8576b\"],[0.6666666666666666,\"#ed7953\"],[0.7777777777777778,\"#fb9f3a\"],[0.8888888888888888,\"#fdca26\"],[1.0,\"#f0f921\"]],\"type\":\"histogram2dcontour\"}],\"histogram2d\":[{\"colorbar\":{\"outlinewidth\":0,\"ticks\":\"\"},\"colorscale\":[[0.0,\"#0d0887\"],[0.1111111111111111,\"#46039f\"],[0.2222222222222222,\"#7201a8\"],[0.3333333333333333,\"#9c179e\"],[0.4444444444444444,\"#bd3786\"],[0.5555555555555556,\"#d8576b\"],[0.6666666666666666,\"#ed7953\"],[0.7777777777777778,\"#fb9f3a\"],[0.8888888888888888,\"#fdca26\"],[1.0,\"#f0f921\"]],\"type\":\"histogram2d\"}],\"histogram\":[{\"marker\":{\"pattern\":{\"fillmode\":\"overlay\",\"size\":10,\"solidity\":0.2}},\"type\":\"histogram\"}],\"mesh3d\":[{\"colorbar\":{\"outlinewidth\":0,\"ticks\":\"\"},\"type\":\"mesh3d\"}],\"parcoords\":[{\"line\":{\"colorbar\":{\"outlinewidth\":0,\"ticks\":\"\"}},\"type\":\"parcoords\"}],\"pie\":[{\"automargin\":true,\"type\":\"pie\"}],\"scatter3d\":[{\"line\":{\"colorbar\":{\"outlinewidth\":0,\"ticks\":\"\"}},\"marker\":{\"colorbar\":{\"outlinewidth\":0,\"ticks\":\"\"}},\"type\":\"scatter3d\"}],\"scattercarpet\":[{\"marker\":{\"colorbar\":{\"outlinewidth\":0,\"ticks\":\"\"}},\"type\":\"scattercarpet\"}],\"scattergeo\":[{\"marker\":{\"colorbar\":{\"outlinewidth\":0,\"ticks\":\"\"}},\"type\":\"scattergeo\"}],\"scattergl\":[{\"marker\":{\"colorbar\":{\"outlinewidth\":0,\"ticks\":\"\"}},\"type\":\"scattergl\"}],\"scattermapbox\":[{\"marker\":{\"colorbar\":{\"outlinewidth\":0,\"ticks\":\"\"}},\"type\":\"scattermapbox\"}],\"scatterpolargl\":[{\"marker\":{\"colorbar\":{\"outlinewidth\":0,\"ticks\":\"\"}},\"type\":\"scatterpolargl\"}],\"scatterpolar\":[{\"marker\":{\"colorbar\":{\"outlinewidth\":0,\"ticks\":\"\"}},\"type\":\"scatterpolar\"}],\"scatter\":[{\"marker\":{\"colorbar\":{\"outlinewidth\":0,\"ticks\":\"\"}},\"type\":\"scatter\"}],\"scatterternary\":[{\"marker\":{\"colorbar\":{\"outlinewidth\":0,\"ticks\":\"\"}},\"type\":\"scatterternary\"}],\"surface\":[{\"colorbar\":{\"outlinewidth\":0,\"ticks\":\"\"},\"colorscale\":[[0.0,\"#0d0887\"],[0.1111111111111111,\"#46039f\"],[0.2222222222222222,\"#7201a8\"],[0.3333333333333333,\"#9c179e\"],[0.4444444444444444,\"#bd3786\"],[0.5555555555555556,\"#d8576b\"],[0.6666666666666666,\"#ed7953\"],[0.7777777777777778,\"#fb9f3a\"],[0.8888888888888888,\"#fdca26\"],[1.0,\"#f0f921\"]],\"type\":\"surface\"}],\"table\":[{\"cells\":{\"fill\":{\"color\":\"#EBF0F8\"},\"line\":{\"color\":\"white\"}},\"header\":{\"fill\":{\"color\":\"#C8D4E3\"},\"line\":{\"color\":\"white\"}},\"type\":\"table\"}]},\"layout\":{\"annotationdefaults\":{\"arrowcolor\":\"#2a3f5f\",\"arrowhead\":0,\"arrowwidth\":1},\"autotypenumbers\":\"strict\",\"coloraxis\":{\"colorbar\":{\"outlinewidth\":0,\"ticks\":\"\"}},\"colorscale\":{\"diverging\":[[0,\"#8e0152\"],[0.1,\"#c51b7d\"],[0.2,\"#de77ae\"],[0.3,\"#f1b6da\"],[0.4,\"#fde0ef\"],[0.5,\"#f7f7f7\"],[0.6,\"#e6f5d0\"],[0.7,\"#b8e186\"],[0.8,\"#7fbc41\"],[0.9,\"#4d9221\"],[1,\"#276419\"]],\"sequential\":[[0.0,\"#0d0887\"],[0.1111111111111111,\"#46039f\"],[0.2222222222222222,\"#7201a8\"],[0.3333333333333333,\"#9c179e\"],[0.4444444444444444,\"#bd3786\"],[0.5555555555555556,\"#d8576b\"],[0.6666666666666666,\"#ed7953\"],[0.7777777777777778,\"#fb9f3a\"],[0.8888888888888888,\"#fdca26\"],[1.0,\"#f0f921\"]],\"sequentialminus\":[[0.0,\"#0d0887\"],[0.1111111111111111,\"#46039f\"],[0.2222222222222222,\"#7201a8\"],[0.3333333333333333,\"#9c179e\"],[0.4444444444444444,\"#bd3786\"],[0.5555555555555556,\"#d8576b\"],[0.6666666666666666,\"#ed7953\"],[0.7777777777777778,\"#fb9f3a\"],[0.8888888888888888,\"#fdca26\"],[1.0,\"#f0f921\"]]},\"colorway\":[\"#636efa\",\"#EF553B\",\"#00cc96\",\"#ab63fa\",\"#FFA15A\",\"#19d3f3\",\"#FF6692\",\"#B6E880\",\"#FF97FF\",\"#FECB52\"],\"font\":{\"color\":\"#2a3f5f\"},\"geo\":{\"bgcolor\":\"white\",\"lakecolor\":\"white\",\"landcolor\":\"white\",\"showlakes\":true,\"showland\":true,\"subunitcolor\":\"#C8D4E3\"},\"hoverlabel\":{\"align\":\"left\"},\"hovermode\":\"closest\",\"mapbox\":{\"style\":\"light\"},\"paper_bgcolor\":\"white\",\"plot_bgcolor\":\"white\",\"polar\":{\"angularaxis\":{\"gridcolor\":\"#EBF0F8\",\"linecolor\":\"#EBF0F8\",\"ticks\":\"\"},\"bgcolor\":\"white\",\"radialaxis\":{\"gridcolor\":\"#EBF0F8\",\"linecolor\":\"#EBF0F8\",\"ticks\":\"\"}},\"scene\":{\"xaxis\":{\"backgroundcolor\":\"white\",\"gridcolor\":\"#DFE8F3\",\"gridwidth\":2,\"linecolor\":\"#EBF0F8\",\"showbackground\":true,\"ticks\":\"\",\"zerolinecolor\":\"#EBF0F8\"},\"yaxis\":{\"backgroundcolor\":\"white\",\"gridcolor\":\"#DFE8F3\",\"gridwidth\":2,\"linecolor\":\"#EBF0F8\",\"showbackground\":true,\"ticks\":\"\",\"zerolinecolor\":\"#EBF0F8\"},\"zaxis\":{\"backgroundcolor\":\"white\",\"gridcolor\":\"#DFE8F3\",\"gridwidth\":2,\"linecolor\":\"#EBF0F8\",\"showbackground\":true,\"ticks\":\"\",\"zerolinecolor\":\"#EBF0F8\"}},\"shapedefaults\":{\"line\":{\"color\":\"#2a3f5f\"}},\"ternary\":{\"aaxis\":{\"gridcolor\":\"#DFE8F3\",\"linecolor\":\"#A2B1C6\",\"ticks\":\"\"},\"baxis\":{\"gridcolor\":\"#DFE8F3\",\"linecolor\":\"#A2B1C6\",\"ticks\":\"\"},\"bgcolor\":\"white\",\"caxis\":{\"gridcolor\":\"#DFE8F3\",\"linecolor\":\"#A2B1C6\",\"ticks\":\"\"}},\"title\":{\"x\":0.05},\"xaxis\":{\"automargin\":true,\"gridcolor\":\"#EBF0F8\",\"linecolor\":\"#EBF0F8\",\"ticks\":\"\",\"title\":{\"standoff\":15},\"zerolinecolor\":\"#EBF0F8\",\"zerolinewidth\":2},\"yaxis\":{\"automargin\":true,\"gridcolor\":\"#EBF0F8\",\"linecolor\":\"#EBF0F8\",\"ticks\":\"\",\"title\":{\"standoff\":15},\"zerolinecolor\":\"#EBF0F8\",\"zerolinewidth\":2}}},\"title\":{\"font\":{\"size\":22,\"color\":\"Black\"},\"text\":\"<b>Hierarchical Clustering\",\"x\":0.5,\"xanchor\":\"center\",\"yanchor\":\"top\"},\"hoverlabel\":{\"font\":{\"size\":16,\"family\":\"Rockwell\"},\"bgcolor\":\"white\"},\"plot_bgcolor\":\"#ECEFF1\"},                        {\"responsive\": true}                    ).then(function(){\n",
              "                            \n",
              "var gd = document.getElementById('0473d649-0bb1-4a94-a5f5-3f77a3b07ed6');\n",
              "var x = new MutationObserver(function (mutations, observer) {{\n",
              "        var display = window.getComputedStyle(gd).display;\n",
              "        if (!display || display === 'none') {{\n",
              "            console.log([gd, 'removed!']);\n",
              "            Plotly.purge(gd);\n",
              "            observer.disconnect();\n",
              "        }}\n",
              "}});\n",
              "\n",
              "// Listen for the removal of the full notebook cells\n",
              "var notebookContainer = gd.closest('#notebook-container');\n",
              "if (notebookContainer) {{\n",
              "    x.observe(notebookContainer, {childList: true});\n",
              "}}\n",
              "\n",
              "// Listen for the clearing of the current output cell\n",
              "var outputEl = gd.closest('.output');\n",
              "if (outputEl) {{\n",
              "    x.observe(outputEl, {childList: true});\n",
              "}}\n",
              "\n",
              "                        })                };                            </script>        </div>\n",
              "</body>\n",
              "</html>"
            ]
          },
          "metadata": {}
        }
      ]
    },
    {
      "cell_type": "markdown",
      "source": [
        "# SVP - Data: "
      ],
      "metadata": {
        "id": "4CfLDW9ivbky"
      }
    },
    {
      "cell_type": "code",
      "source": [
        "topic_model = BERTopic(verbose=True, language='German', vectorizer_model=vectorizer_model)\n",
        "topics_svp, probs = topic_model.fit_transform(docs_svp)\n",
        "\n",
        "topic_model.get_topic_info()\n",
        "topic_model.get_topic(0)"
      ],
      "metadata": {
        "colab": {
          "base_uri": "https://localhost:8080/",
          "height": 281,
          "referenced_widgets": [
            "5c6c0adb7e3644b6be76a439bc60082f",
            "2b7bdfc367fc44f097213f640cc95a77",
            "968b2ad9cd014d2eab0437fdf9937d9f",
            "81c06a44926641fdb2ff8ff847ff6ab6",
            "f6ddd09a4ac945f7ad8407077c16773f",
            "5a65f7dbd3b845989b76787a71b401b9",
            "2d2ed64577cd4bf087863fe3ac43cd30",
            "1ca22c8718144b039c080f6f3378c169",
            "eb8a50646f064a6ea002b3d6d249ef63",
            "ec8e34abb30a454e91f5c3802277e103",
            "7670345c4947487ab7795683f36e6f6b"
          ]
        },
        "id": "lJyNo6QScqSV",
        "outputId": "a822109b-866a-451c-f031-5ec463529b87"
      },
      "execution_count": 134,
      "outputs": [
        {
          "output_type": "display_data",
          "data": {
            "text/plain": [
              "Batches:   0%|          | 0/84 [00:00<?, ?it/s]"
            ],
            "application/vnd.jupyter.widget-view+json": {
              "version_major": 2,
              "version_minor": 0,
              "model_id": "5c6c0adb7e3644b6be76a439bc60082f"
            }
          },
          "metadata": {}
        },
        {
          "output_type": "stream",
          "name": "stderr",
          "text": [
            "2022-04-24 14:48:34,421 - BERTopic - Transformed documents to Embeddings\n",
            "2022-04-24 14:48:49,666 - BERTopic - Reduced dimensionality with UMAP\n",
            "2022-04-24 14:48:49,880 - BERTopic - Clustered UMAP embeddings with HDBSCAN\n"
          ]
        },
        {
          "output_type": "execute_result",
          "data": {
            "text/plain": [
              "[('kommission', 0.007767467400567754),\n",
              " ('bundesrat', 0.0076977241379395794),\n",
              " ('initiative', 0.007164449902951744),\n",
              " ('heute', 0.006415394270296625),\n",
              " ('artikel', 0.005714969984451405),\n",
              " ('vorlage', 0.00553398243031703),\n",
              " ('minderheit', 0.005393769969959506),\n",
              " ('schweiz', 0.005323504999277161),\n",
              " ('motion', 0.0050166898444387546),\n",
              " ('bitte', 0.004847449839187931)]"
            ]
          },
          "metadata": {},
          "execution_count": 134
        }
      ]
    },
    {
      "cell_type": "markdown",
      "source": [
        "\n",
        "\n",
        "## Visualizing the topics SVP"
      ],
      "metadata": {
        "id": "-X62aQLZhjC3"
      }
    },
    {
      "cell_type": "code",
      "source": [
        "topic_model.visualize_topics()"
      ],
      "metadata": {
        "colab": {
          "base_uri": "https://localhost:8080/",
          "height": 667
        },
        "id": "XaTPwhsWiAUD",
        "outputId": "56ad15e7-4479-44ee-e76d-9381710efb3a"
      },
      "execution_count": 135,
      "outputs": [
        {
          "output_type": "display_data",
          "data": {
            "text/html": [
              "<html>\n",
              "<head><meta charset=\"utf-8\" /></head>\n",
              "<body>\n",
              "    <div>            <script src=\"https://cdnjs.cloudflare.com/ajax/libs/mathjax/2.7.5/MathJax.js?config=TeX-AMS-MML_SVG\"></script><script type=\"text/javascript\">if (window.MathJax) {MathJax.Hub.Config({SVG: {font: \"STIX-Web\"}});}</script>                <script type=\"text/javascript\">window.PlotlyConfig = {MathJaxConfig: 'local'};</script>\n",
              "        <script src=\"https://cdn.plot.ly/plotly-2.8.3.min.js\"></script>                <div id=\"6577f396-8f74-4344-b543-2bd68d08b7a0\" class=\"plotly-graph-div\" style=\"height:650px; width:650px;\"></div>            <script type=\"text/javascript\">                                    window.PLOTLYENV=window.PLOTLYENV || {};                                    if (document.getElementById(\"6577f396-8f74-4344-b543-2bd68d08b7a0\")) {                    Plotly.newPlot(                        \"6577f396-8f74-4344-b543-2bd68d08b7a0\",                        [{\"customdata\":[[0,\"kommission | bundesrat | initiative | heute | artikel\",599],[1,\"armee | franken | kommission | millionen | bundesrat\",337],[2,\"gesundheitswesen | kosten | versicherten | pr\\u00e4mien | kvg\",219],[3,\"schweiz | zuwanderung | personen | ausl\\u00e4nder | initiative\",168],[4,\"landwirtschaft | schweiz | schweizer | konsumenten | bauern\",144],[5,\"franken | millionen | prozent | millionen franken | milliarden\",110],[6,\"eu | schweiz | bundesrat | bericht | beitritt\",106],[7,\"schweiz | prozent | schweizer | franken | unternehmen\",101],[8,\"armee | schweiz | schweizer | einsatz | land\",69],[9,\"energien | erneuerbaren | strom | erneuerbaren energien | energie\",48],[10,\"cannabis | rauchen | konsum | drogen | heute\",37],[11,\"ahv | iv | initiative | prozent | renten\",34],[12,\"lsva | bundesrat | eu | fahrzeuge | kosten\",23],[13,\"gpk | gesch\\u00e4ftspr\\u00fcfungsdelegation | skyguide | gpdel | jahr\",21],[14,\"sport | fifa | millionen | millionen franken | franken\",17],[15,\"forschung | menschen | forschung menschen | frauen | absatz\",15],[16,\"co2 | abgabe | co2 abgabe | kyoto | schweiz\",15],[17,\"integration | ausl\\u00e4nder | artikel | initiative | landesverweisung\",14],[18,\"kinder | sexuelle | eltern | kindern | kindergarten\",12],[19,\"luftfahrt | schweiz | flughafen | luftverkehr | asde\",11],[20,\"eu | schweiz | welt | land | abkommen\",11],[21,\"forschung | bildung | regionen | regionalpolitik | arbeitspl\\u00e4tze\",10]],\"hovertemplate\":\"<b>Topic %{customdata[0]}</b><br>Words: %{customdata[1]}<br>Size: %{customdata[2]}\",\"legendgroup\":\"\",\"marker\":{\"color\":\"#B0BEC5\",\"size\":[599,337,219,168,144,110,106,101,69,48,37,34,23,21,17,15,15,14,12,11,11,10],\"sizemode\":\"area\",\"sizeref\":0.374375,\"symbol\":\"circle\",\"line\":{\"color\":\"DarkSlateGrey\",\"width\":2}},\"mode\":\"markers\",\"name\":\"\",\"orientation\":\"v\",\"showlegend\":false,\"x\":[21.21807098388672,11.1267728805542,10.383374214172363,10.574334144592285,-4.7440619468688965,-4.305848598480225,10.855606079101562,-4.770256519317627,10.963147163391113,-3.733883857727051,-2.7209033966064453,-3.035114288330078,-3.4605534076690674,5.407029628753662,4.419478893280029,4.863226890563965,-3.3335494995117188,4.912513256072998,3.6388938426971436,5.242465972900391,3.828373908996582,4.5338592529296875],\"xaxis\":\"x\",\"y\":[-11.386063575744629,0.2735203504562378,1.0805127620697021,0.8861291408538818,20.911909103393555,21.350025177001953,0.5598269104957581,20.885719299316406,0.4425352215766907,-13.54219913482666,-14.55634593963623,-14.242545127868652,-13.816129684448242,-3.972341775894165,-2.8277997970581055,-3.0742921829223633,-13.943421363830566,-2.947801113128662,-3.608083724975586,-3.5562093257904053,-3.4373278617858887,-3.5260486602783203],\"yaxis\":\"y\",\"type\":\"scatter\"}],                        {\"template\":{\"data\":{\"barpolar\":[{\"marker\":{\"line\":{\"color\":\"white\",\"width\":0.5},\"pattern\":{\"fillmode\":\"overlay\",\"size\":10,\"solidity\":0.2}},\"type\":\"barpolar\"}],\"bar\":[{\"error_x\":{\"color\":\"rgb(36,36,36)\"},\"error_y\":{\"color\":\"rgb(36,36,36)\"},\"marker\":{\"line\":{\"color\":\"white\",\"width\":0.5},\"pattern\":{\"fillmode\":\"overlay\",\"size\":10,\"solidity\":0.2}},\"type\":\"bar\"}],\"carpet\":[{\"aaxis\":{\"endlinecolor\":\"rgb(36,36,36)\",\"gridcolor\":\"white\",\"linecolor\":\"white\",\"minorgridcolor\":\"white\",\"startlinecolor\":\"rgb(36,36,36)\"},\"baxis\":{\"endlinecolor\":\"rgb(36,36,36)\",\"gridcolor\":\"white\",\"linecolor\":\"white\",\"minorgridcolor\":\"white\",\"startlinecolor\":\"rgb(36,36,36)\"},\"type\":\"carpet\"}],\"choropleth\":[{\"colorbar\":{\"outlinewidth\":1,\"tickcolor\":\"rgb(36,36,36)\",\"ticks\":\"outside\"},\"type\":\"choropleth\"}],\"contourcarpet\":[{\"colorbar\":{\"outlinewidth\":1,\"tickcolor\":\"rgb(36,36,36)\",\"ticks\":\"outside\"},\"type\":\"contourcarpet\"}],\"contour\":[{\"colorbar\":{\"outlinewidth\":1,\"tickcolor\":\"rgb(36,36,36)\",\"ticks\":\"outside\"},\"colorscale\":[[0.0,\"#440154\"],[0.1111111111111111,\"#482878\"],[0.2222222222222222,\"#3e4989\"],[0.3333333333333333,\"#31688e\"],[0.4444444444444444,\"#26828e\"],[0.5555555555555556,\"#1f9e89\"],[0.6666666666666666,\"#35b779\"],[0.7777777777777778,\"#6ece58\"],[0.8888888888888888,\"#b5de2b\"],[1.0,\"#fde725\"]],\"type\":\"contour\"}],\"heatmapgl\":[{\"colorbar\":{\"outlinewidth\":1,\"tickcolor\":\"rgb(36,36,36)\",\"ticks\":\"outside\"},\"colorscale\":[[0.0,\"#440154\"],[0.1111111111111111,\"#482878\"],[0.2222222222222222,\"#3e4989\"],[0.3333333333333333,\"#31688e\"],[0.4444444444444444,\"#26828e\"],[0.5555555555555556,\"#1f9e89\"],[0.6666666666666666,\"#35b779\"],[0.7777777777777778,\"#6ece58\"],[0.8888888888888888,\"#b5de2b\"],[1.0,\"#fde725\"]],\"type\":\"heatmapgl\"}],\"heatmap\":[{\"colorbar\":{\"outlinewidth\":1,\"tickcolor\":\"rgb(36,36,36)\",\"ticks\":\"outside\"},\"colorscale\":[[0.0,\"#440154\"],[0.1111111111111111,\"#482878\"],[0.2222222222222222,\"#3e4989\"],[0.3333333333333333,\"#31688e\"],[0.4444444444444444,\"#26828e\"],[0.5555555555555556,\"#1f9e89\"],[0.6666666666666666,\"#35b779\"],[0.7777777777777778,\"#6ece58\"],[0.8888888888888888,\"#b5de2b\"],[1.0,\"#fde725\"]],\"type\":\"heatmap\"}],\"histogram2dcontour\":[{\"colorbar\":{\"outlinewidth\":1,\"tickcolor\":\"rgb(36,36,36)\",\"ticks\":\"outside\"},\"colorscale\":[[0.0,\"#440154\"],[0.1111111111111111,\"#482878\"],[0.2222222222222222,\"#3e4989\"],[0.3333333333333333,\"#31688e\"],[0.4444444444444444,\"#26828e\"],[0.5555555555555556,\"#1f9e89\"],[0.6666666666666666,\"#35b779\"],[0.7777777777777778,\"#6ece58\"],[0.8888888888888888,\"#b5de2b\"],[1.0,\"#fde725\"]],\"type\":\"histogram2dcontour\"}],\"histogram2d\":[{\"colorbar\":{\"outlinewidth\":1,\"tickcolor\":\"rgb(36,36,36)\",\"ticks\":\"outside\"},\"colorscale\":[[0.0,\"#440154\"],[0.1111111111111111,\"#482878\"],[0.2222222222222222,\"#3e4989\"],[0.3333333333333333,\"#31688e\"],[0.4444444444444444,\"#26828e\"],[0.5555555555555556,\"#1f9e89\"],[0.6666666666666666,\"#35b779\"],[0.7777777777777778,\"#6ece58\"],[0.8888888888888888,\"#b5de2b\"],[1.0,\"#fde725\"]],\"type\":\"histogram2d\"}],\"histogram\":[{\"marker\":{\"line\":{\"color\":\"white\",\"width\":0.6}},\"type\":\"histogram\"}],\"mesh3d\":[{\"colorbar\":{\"outlinewidth\":1,\"tickcolor\":\"rgb(36,36,36)\",\"ticks\":\"outside\"},\"type\":\"mesh3d\"}],\"parcoords\":[{\"line\":{\"colorbar\":{\"outlinewidth\":1,\"tickcolor\":\"rgb(36,36,36)\",\"ticks\":\"outside\"}},\"type\":\"parcoords\"}],\"pie\":[{\"automargin\":true,\"type\":\"pie\"}],\"scatter3d\":[{\"line\":{\"colorbar\":{\"outlinewidth\":1,\"tickcolor\":\"rgb(36,36,36)\",\"ticks\":\"outside\"}},\"marker\":{\"colorbar\":{\"outlinewidth\":1,\"tickcolor\":\"rgb(36,36,36)\",\"ticks\":\"outside\"}},\"type\":\"scatter3d\"}],\"scattercarpet\":[{\"marker\":{\"colorbar\":{\"outlinewidth\":1,\"tickcolor\":\"rgb(36,36,36)\",\"ticks\":\"outside\"}},\"type\":\"scattercarpet\"}],\"scattergeo\":[{\"marker\":{\"colorbar\":{\"outlinewidth\":1,\"tickcolor\":\"rgb(36,36,36)\",\"ticks\":\"outside\"}},\"type\":\"scattergeo\"}],\"scattergl\":[{\"marker\":{\"colorbar\":{\"outlinewidth\":1,\"tickcolor\":\"rgb(36,36,36)\",\"ticks\":\"outside\"}},\"type\":\"scattergl\"}],\"scattermapbox\":[{\"marker\":{\"colorbar\":{\"outlinewidth\":1,\"tickcolor\":\"rgb(36,36,36)\",\"ticks\":\"outside\"}},\"type\":\"scattermapbox\"}],\"scatterpolargl\":[{\"marker\":{\"colorbar\":{\"outlinewidth\":1,\"tickcolor\":\"rgb(36,36,36)\",\"ticks\":\"outside\"}},\"type\":\"scatterpolargl\"}],\"scatterpolar\":[{\"marker\":{\"colorbar\":{\"outlinewidth\":1,\"tickcolor\":\"rgb(36,36,36)\",\"ticks\":\"outside\"}},\"type\":\"scatterpolar\"}],\"scatter\":[{\"marker\":{\"colorbar\":{\"outlinewidth\":1,\"tickcolor\":\"rgb(36,36,36)\",\"ticks\":\"outside\"}},\"type\":\"scatter\"}],\"scatterternary\":[{\"marker\":{\"colorbar\":{\"outlinewidth\":1,\"tickcolor\":\"rgb(36,36,36)\",\"ticks\":\"outside\"}},\"type\":\"scatterternary\"}],\"surface\":[{\"colorbar\":{\"outlinewidth\":1,\"tickcolor\":\"rgb(36,36,36)\",\"ticks\":\"outside\"},\"colorscale\":[[0.0,\"#440154\"],[0.1111111111111111,\"#482878\"],[0.2222222222222222,\"#3e4989\"],[0.3333333333333333,\"#31688e\"],[0.4444444444444444,\"#26828e\"],[0.5555555555555556,\"#1f9e89\"],[0.6666666666666666,\"#35b779\"],[0.7777777777777778,\"#6ece58\"],[0.8888888888888888,\"#b5de2b\"],[1.0,\"#fde725\"]],\"type\":\"surface\"}],\"table\":[{\"cells\":{\"fill\":{\"color\":\"rgb(237,237,237)\"},\"line\":{\"color\":\"white\"}},\"header\":{\"fill\":{\"color\":\"rgb(217,217,217)\"},\"line\":{\"color\":\"white\"}},\"type\":\"table\"}]},\"layout\":{\"annotationdefaults\":{\"arrowhead\":0,\"arrowwidth\":1},\"autotypenumbers\":\"strict\",\"coloraxis\":{\"colorbar\":{\"outlinewidth\":1,\"tickcolor\":\"rgb(36,36,36)\",\"ticks\":\"outside\"}},\"colorscale\":{\"diverging\":[[0.0,\"rgb(103,0,31)\"],[0.1,\"rgb(178,24,43)\"],[0.2,\"rgb(214,96,77)\"],[0.3,\"rgb(244,165,130)\"],[0.4,\"rgb(253,219,199)\"],[0.5,\"rgb(247,247,247)\"],[0.6,\"rgb(209,229,240)\"],[0.7,\"rgb(146,197,222)\"],[0.8,\"rgb(67,147,195)\"],[0.9,\"rgb(33,102,172)\"],[1.0,\"rgb(5,48,97)\"]],\"sequential\":[[0.0,\"#440154\"],[0.1111111111111111,\"#482878\"],[0.2222222222222222,\"#3e4989\"],[0.3333333333333333,\"#31688e\"],[0.4444444444444444,\"#26828e\"],[0.5555555555555556,\"#1f9e89\"],[0.6666666666666666,\"#35b779\"],[0.7777777777777778,\"#6ece58\"],[0.8888888888888888,\"#b5de2b\"],[1.0,\"#fde725\"]],\"sequentialminus\":[[0.0,\"#440154\"],[0.1111111111111111,\"#482878\"],[0.2222222222222222,\"#3e4989\"],[0.3333333333333333,\"#31688e\"],[0.4444444444444444,\"#26828e\"],[0.5555555555555556,\"#1f9e89\"],[0.6666666666666666,\"#35b779\"],[0.7777777777777778,\"#6ece58\"],[0.8888888888888888,\"#b5de2b\"],[1.0,\"#fde725\"]]},\"colorway\":[\"#1F77B4\",\"#FF7F0E\",\"#2CA02C\",\"#D62728\",\"#9467BD\",\"#8C564B\",\"#E377C2\",\"#7F7F7F\",\"#BCBD22\",\"#17BECF\"],\"font\":{\"color\":\"rgb(36,36,36)\"},\"geo\":{\"bgcolor\":\"white\",\"lakecolor\":\"white\",\"landcolor\":\"white\",\"showlakes\":true,\"showland\":true,\"subunitcolor\":\"white\"},\"hoverlabel\":{\"align\":\"left\"},\"hovermode\":\"closest\",\"mapbox\":{\"style\":\"light\"},\"paper_bgcolor\":\"white\",\"plot_bgcolor\":\"white\",\"polar\":{\"angularaxis\":{\"gridcolor\":\"rgb(232,232,232)\",\"linecolor\":\"rgb(36,36,36)\",\"showgrid\":false,\"showline\":true,\"ticks\":\"outside\"},\"bgcolor\":\"white\",\"radialaxis\":{\"gridcolor\":\"rgb(232,232,232)\",\"linecolor\":\"rgb(36,36,36)\",\"showgrid\":false,\"showline\":true,\"ticks\":\"outside\"}},\"scene\":{\"xaxis\":{\"backgroundcolor\":\"white\",\"gridcolor\":\"rgb(232,232,232)\",\"gridwidth\":2,\"linecolor\":\"rgb(36,36,36)\",\"showbackground\":true,\"showgrid\":false,\"showline\":true,\"ticks\":\"outside\",\"zeroline\":false,\"zerolinecolor\":\"rgb(36,36,36)\"},\"yaxis\":{\"backgroundcolor\":\"white\",\"gridcolor\":\"rgb(232,232,232)\",\"gridwidth\":2,\"linecolor\":\"rgb(36,36,36)\",\"showbackground\":true,\"showgrid\":false,\"showline\":true,\"ticks\":\"outside\",\"zeroline\":false,\"zerolinecolor\":\"rgb(36,36,36)\"},\"zaxis\":{\"backgroundcolor\":\"white\",\"gridcolor\":\"rgb(232,232,232)\",\"gridwidth\":2,\"linecolor\":\"rgb(36,36,36)\",\"showbackground\":true,\"showgrid\":false,\"showline\":true,\"ticks\":\"outside\",\"zeroline\":false,\"zerolinecolor\":\"rgb(36,36,36)\"}},\"shapedefaults\":{\"fillcolor\":\"black\",\"line\":{\"width\":0},\"opacity\":0.3},\"ternary\":{\"aaxis\":{\"gridcolor\":\"rgb(232,232,232)\",\"linecolor\":\"rgb(36,36,36)\",\"showgrid\":false,\"showline\":true,\"ticks\":\"outside\"},\"baxis\":{\"gridcolor\":\"rgb(232,232,232)\",\"linecolor\":\"rgb(36,36,36)\",\"showgrid\":false,\"showline\":true,\"ticks\":\"outside\"},\"bgcolor\":\"white\",\"caxis\":{\"gridcolor\":\"rgb(232,232,232)\",\"linecolor\":\"rgb(36,36,36)\",\"showgrid\":false,\"showline\":true,\"ticks\":\"outside\"}},\"title\":{\"x\":0.05},\"xaxis\":{\"automargin\":true,\"gridcolor\":\"rgb(232,232,232)\",\"linecolor\":\"rgb(36,36,36)\",\"showgrid\":false,\"showline\":true,\"ticks\":\"outside\",\"title\":{\"standoff\":15},\"zeroline\":false,\"zerolinecolor\":\"rgb(36,36,36)\"},\"yaxis\":{\"automargin\":true,\"gridcolor\":\"rgb(232,232,232)\",\"linecolor\":\"rgb(36,36,36)\",\"showgrid\":false,\"showline\":true,\"ticks\":\"outside\",\"title\":{\"standoff\":15},\"zeroline\":false,\"zerolinecolor\":\"rgb(36,36,36)\"}}},\"xaxis\":{\"anchor\":\"y\",\"domain\":[0.0,1.0],\"title\":{\"text\":\"\"},\"visible\":false,\"range\":[-5.485794997215271,24.400781631469727]},\"yaxis\":{\"anchor\":\"x\",\"domain\":[0.0,1.0],\"title\":{\"text\":\"\"},\"visible\":false,\"range\":[-16.739797830581665,24.552528953552248]},\"legend\":{\"tracegroupgap\":0,\"itemsizing\":\"constant\"},\"margin\":{\"t\":60},\"title\":{\"font\":{\"size\":22,\"color\":\"Black\"},\"text\":\"<b>Intertopic Distance Map\",\"y\":0.95,\"x\":0.5,\"xanchor\":\"center\",\"yanchor\":\"top\"},\"hoverlabel\":{\"font\":{\"size\":16,\"family\":\"Rockwell\"},\"bgcolor\":\"white\"},\"width\":650,\"height\":650,\"sliders\":[{\"active\":0,\"pad\":{\"t\":50},\"steps\":[{\"args\":[{\"marker.color\":[[\"red\",\"#B0BEC5\",\"#B0BEC5\",\"#B0BEC5\",\"#B0BEC5\",\"#B0BEC5\",\"#B0BEC5\",\"#B0BEC5\",\"#B0BEC5\",\"#B0BEC5\",\"#B0BEC5\",\"#B0BEC5\",\"#B0BEC5\",\"#B0BEC5\",\"#B0BEC5\",\"#B0BEC5\",\"#B0BEC5\",\"#B0BEC5\",\"#B0BEC5\",\"#B0BEC5\",\"#B0BEC5\",\"#B0BEC5\"]]}],\"label\":\"Topic 0\",\"method\":\"update\"},{\"args\":[{\"marker.color\":[[\"#B0BEC5\",\"red\",\"#B0BEC5\",\"#B0BEC5\",\"#B0BEC5\",\"#B0BEC5\",\"#B0BEC5\",\"#B0BEC5\",\"#B0BEC5\",\"#B0BEC5\",\"#B0BEC5\",\"#B0BEC5\",\"#B0BEC5\",\"#B0BEC5\",\"#B0BEC5\",\"#B0BEC5\",\"#B0BEC5\",\"#B0BEC5\",\"#B0BEC5\",\"#B0BEC5\",\"#B0BEC5\",\"#B0BEC5\"]]}],\"label\":\"Topic 1\",\"method\":\"update\"},{\"args\":[{\"marker.color\":[[\"#B0BEC5\",\"#B0BEC5\",\"red\",\"#B0BEC5\",\"#B0BEC5\",\"#B0BEC5\",\"#B0BEC5\",\"#B0BEC5\",\"#B0BEC5\",\"#B0BEC5\",\"#B0BEC5\",\"#B0BEC5\",\"#B0BEC5\",\"#B0BEC5\",\"#B0BEC5\",\"#B0BEC5\",\"#B0BEC5\",\"#B0BEC5\",\"#B0BEC5\",\"#B0BEC5\",\"#B0BEC5\",\"#B0BEC5\"]]}],\"label\":\"Topic 2\",\"method\":\"update\"},{\"args\":[{\"marker.color\":[[\"#B0BEC5\",\"#B0BEC5\",\"#B0BEC5\",\"red\",\"#B0BEC5\",\"#B0BEC5\",\"#B0BEC5\",\"#B0BEC5\",\"#B0BEC5\",\"#B0BEC5\",\"#B0BEC5\",\"#B0BEC5\",\"#B0BEC5\",\"#B0BEC5\",\"#B0BEC5\",\"#B0BEC5\",\"#B0BEC5\",\"#B0BEC5\",\"#B0BEC5\",\"#B0BEC5\",\"#B0BEC5\",\"#B0BEC5\"]]}],\"label\":\"Topic 3\",\"method\":\"update\"},{\"args\":[{\"marker.color\":[[\"#B0BEC5\",\"#B0BEC5\",\"#B0BEC5\",\"#B0BEC5\",\"red\",\"#B0BEC5\",\"#B0BEC5\",\"#B0BEC5\",\"#B0BEC5\",\"#B0BEC5\",\"#B0BEC5\",\"#B0BEC5\",\"#B0BEC5\",\"#B0BEC5\",\"#B0BEC5\",\"#B0BEC5\",\"#B0BEC5\",\"#B0BEC5\",\"#B0BEC5\",\"#B0BEC5\",\"#B0BEC5\",\"#B0BEC5\"]]}],\"label\":\"Topic 4\",\"method\":\"update\"},{\"args\":[{\"marker.color\":[[\"#B0BEC5\",\"#B0BEC5\",\"#B0BEC5\",\"#B0BEC5\",\"#B0BEC5\",\"red\",\"#B0BEC5\",\"#B0BEC5\",\"#B0BEC5\",\"#B0BEC5\",\"#B0BEC5\",\"#B0BEC5\",\"#B0BEC5\",\"#B0BEC5\",\"#B0BEC5\",\"#B0BEC5\",\"#B0BEC5\",\"#B0BEC5\",\"#B0BEC5\",\"#B0BEC5\",\"#B0BEC5\",\"#B0BEC5\"]]}],\"label\":\"Topic 5\",\"method\":\"update\"},{\"args\":[{\"marker.color\":[[\"#B0BEC5\",\"#B0BEC5\",\"#B0BEC5\",\"#B0BEC5\",\"#B0BEC5\",\"#B0BEC5\",\"red\",\"#B0BEC5\",\"#B0BEC5\",\"#B0BEC5\",\"#B0BEC5\",\"#B0BEC5\",\"#B0BEC5\",\"#B0BEC5\",\"#B0BEC5\",\"#B0BEC5\",\"#B0BEC5\",\"#B0BEC5\",\"#B0BEC5\",\"#B0BEC5\",\"#B0BEC5\",\"#B0BEC5\"]]}],\"label\":\"Topic 6\",\"method\":\"update\"},{\"args\":[{\"marker.color\":[[\"#B0BEC5\",\"#B0BEC5\",\"#B0BEC5\",\"#B0BEC5\",\"#B0BEC5\",\"#B0BEC5\",\"#B0BEC5\",\"red\",\"#B0BEC5\",\"#B0BEC5\",\"#B0BEC5\",\"#B0BEC5\",\"#B0BEC5\",\"#B0BEC5\",\"#B0BEC5\",\"#B0BEC5\",\"#B0BEC5\",\"#B0BEC5\",\"#B0BEC5\",\"#B0BEC5\",\"#B0BEC5\",\"#B0BEC5\"]]}],\"label\":\"Topic 7\",\"method\":\"update\"},{\"args\":[{\"marker.color\":[[\"#B0BEC5\",\"#B0BEC5\",\"#B0BEC5\",\"#B0BEC5\",\"#B0BEC5\",\"#B0BEC5\",\"#B0BEC5\",\"#B0BEC5\",\"red\",\"#B0BEC5\",\"#B0BEC5\",\"#B0BEC5\",\"#B0BEC5\",\"#B0BEC5\",\"#B0BEC5\",\"#B0BEC5\",\"#B0BEC5\",\"#B0BEC5\",\"#B0BEC5\",\"#B0BEC5\",\"#B0BEC5\",\"#B0BEC5\"]]}],\"label\":\"Topic 8\",\"method\":\"update\"},{\"args\":[{\"marker.color\":[[\"#B0BEC5\",\"#B0BEC5\",\"#B0BEC5\",\"#B0BEC5\",\"#B0BEC5\",\"#B0BEC5\",\"#B0BEC5\",\"#B0BEC5\",\"#B0BEC5\",\"red\",\"#B0BEC5\",\"#B0BEC5\",\"#B0BEC5\",\"#B0BEC5\",\"#B0BEC5\",\"#B0BEC5\",\"#B0BEC5\",\"#B0BEC5\",\"#B0BEC5\",\"#B0BEC5\",\"#B0BEC5\",\"#B0BEC5\"]]}],\"label\":\"Topic 9\",\"method\":\"update\"},{\"args\":[{\"marker.color\":[[\"#B0BEC5\",\"#B0BEC5\",\"#B0BEC5\",\"#B0BEC5\",\"#B0BEC5\",\"#B0BEC5\",\"#B0BEC5\",\"#B0BEC5\",\"#B0BEC5\",\"#B0BEC5\",\"red\",\"#B0BEC5\",\"#B0BEC5\",\"#B0BEC5\",\"#B0BEC5\",\"#B0BEC5\",\"#B0BEC5\",\"#B0BEC5\",\"#B0BEC5\",\"#B0BEC5\",\"#B0BEC5\",\"#B0BEC5\"]]}],\"label\":\"Topic 10\",\"method\":\"update\"},{\"args\":[{\"marker.color\":[[\"#B0BEC5\",\"#B0BEC5\",\"#B0BEC5\",\"#B0BEC5\",\"#B0BEC5\",\"#B0BEC5\",\"#B0BEC5\",\"#B0BEC5\",\"#B0BEC5\",\"#B0BEC5\",\"#B0BEC5\",\"red\",\"#B0BEC5\",\"#B0BEC5\",\"#B0BEC5\",\"#B0BEC5\",\"#B0BEC5\",\"#B0BEC5\",\"#B0BEC5\",\"#B0BEC5\",\"#B0BEC5\",\"#B0BEC5\"]]}],\"label\":\"Topic 11\",\"method\":\"update\"},{\"args\":[{\"marker.color\":[[\"#B0BEC5\",\"#B0BEC5\",\"#B0BEC5\",\"#B0BEC5\",\"#B0BEC5\",\"#B0BEC5\",\"#B0BEC5\",\"#B0BEC5\",\"#B0BEC5\",\"#B0BEC5\",\"#B0BEC5\",\"#B0BEC5\",\"red\",\"#B0BEC5\",\"#B0BEC5\",\"#B0BEC5\",\"#B0BEC5\",\"#B0BEC5\",\"#B0BEC5\",\"#B0BEC5\",\"#B0BEC5\",\"#B0BEC5\"]]}],\"label\":\"Topic 12\",\"method\":\"update\"},{\"args\":[{\"marker.color\":[[\"#B0BEC5\",\"#B0BEC5\",\"#B0BEC5\",\"#B0BEC5\",\"#B0BEC5\",\"#B0BEC5\",\"#B0BEC5\",\"#B0BEC5\",\"#B0BEC5\",\"#B0BEC5\",\"#B0BEC5\",\"#B0BEC5\",\"#B0BEC5\",\"red\",\"#B0BEC5\",\"#B0BEC5\",\"#B0BEC5\",\"#B0BEC5\",\"#B0BEC5\",\"#B0BEC5\",\"#B0BEC5\",\"#B0BEC5\"]]}],\"label\":\"Topic 13\",\"method\":\"update\"},{\"args\":[{\"marker.color\":[[\"#B0BEC5\",\"#B0BEC5\",\"#B0BEC5\",\"#B0BEC5\",\"#B0BEC5\",\"#B0BEC5\",\"#B0BEC5\",\"#B0BEC5\",\"#B0BEC5\",\"#B0BEC5\",\"#B0BEC5\",\"#B0BEC5\",\"#B0BEC5\",\"#B0BEC5\",\"red\",\"#B0BEC5\",\"#B0BEC5\",\"#B0BEC5\",\"#B0BEC5\",\"#B0BEC5\",\"#B0BEC5\",\"#B0BEC5\"]]}],\"label\":\"Topic 14\",\"method\":\"update\"},{\"args\":[{\"marker.color\":[[\"#B0BEC5\",\"#B0BEC5\",\"#B0BEC5\",\"#B0BEC5\",\"#B0BEC5\",\"#B0BEC5\",\"#B0BEC5\",\"#B0BEC5\",\"#B0BEC5\",\"#B0BEC5\",\"#B0BEC5\",\"#B0BEC5\",\"#B0BEC5\",\"#B0BEC5\",\"#B0BEC5\",\"red\",\"#B0BEC5\",\"#B0BEC5\",\"#B0BEC5\",\"#B0BEC5\",\"#B0BEC5\",\"#B0BEC5\"]]}],\"label\":\"Topic 15\",\"method\":\"update\"},{\"args\":[{\"marker.color\":[[\"#B0BEC5\",\"#B0BEC5\",\"#B0BEC5\",\"#B0BEC5\",\"#B0BEC5\",\"#B0BEC5\",\"#B0BEC5\",\"#B0BEC5\",\"#B0BEC5\",\"#B0BEC5\",\"#B0BEC5\",\"#B0BEC5\",\"#B0BEC5\",\"#B0BEC5\",\"#B0BEC5\",\"#B0BEC5\",\"red\",\"#B0BEC5\",\"#B0BEC5\",\"#B0BEC5\",\"#B0BEC5\",\"#B0BEC5\"]]}],\"label\":\"Topic 16\",\"method\":\"update\"},{\"args\":[{\"marker.color\":[[\"#B0BEC5\",\"#B0BEC5\",\"#B0BEC5\",\"#B0BEC5\",\"#B0BEC5\",\"#B0BEC5\",\"#B0BEC5\",\"#B0BEC5\",\"#B0BEC5\",\"#B0BEC5\",\"#B0BEC5\",\"#B0BEC5\",\"#B0BEC5\",\"#B0BEC5\",\"#B0BEC5\",\"#B0BEC5\",\"#B0BEC5\",\"red\",\"#B0BEC5\",\"#B0BEC5\",\"#B0BEC5\",\"#B0BEC5\"]]}],\"label\":\"Topic 17\",\"method\":\"update\"},{\"args\":[{\"marker.color\":[[\"#B0BEC5\",\"#B0BEC5\",\"#B0BEC5\",\"#B0BEC5\",\"#B0BEC5\",\"#B0BEC5\",\"#B0BEC5\",\"#B0BEC5\",\"#B0BEC5\",\"#B0BEC5\",\"#B0BEC5\",\"#B0BEC5\",\"#B0BEC5\",\"#B0BEC5\",\"#B0BEC5\",\"#B0BEC5\",\"#B0BEC5\",\"#B0BEC5\",\"red\",\"#B0BEC5\",\"#B0BEC5\",\"#B0BEC5\"]]}],\"label\":\"Topic 18\",\"method\":\"update\"},{\"args\":[{\"marker.color\":[[\"#B0BEC5\",\"#B0BEC5\",\"#B0BEC5\",\"#B0BEC5\",\"#B0BEC5\",\"#B0BEC5\",\"#B0BEC5\",\"#B0BEC5\",\"#B0BEC5\",\"#B0BEC5\",\"#B0BEC5\",\"#B0BEC5\",\"#B0BEC5\",\"#B0BEC5\",\"#B0BEC5\",\"#B0BEC5\",\"#B0BEC5\",\"#B0BEC5\",\"#B0BEC5\",\"red\",\"#B0BEC5\",\"#B0BEC5\"]]}],\"label\":\"Topic 19\",\"method\":\"update\"},{\"args\":[{\"marker.color\":[[\"#B0BEC5\",\"#B0BEC5\",\"#B0BEC5\",\"#B0BEC5\",\"#B0BEC5\",\"#B0BEC5\",\"#B0BEC5\",\"#B0BEC5\",\"#B0BEC5\",\"#B0BEC5\",\"#B0BEC5\",\"#B0BEC5\",\"#B0BEC5\",\"#B0BEC5\",\"#B0BEC5\",\"#B0BEC5\",\"#B0BEC5\",\"#B0BEC5\",\"#B0BEC5\",\"#B0BEC5\",\"red\",\"#B0BEC5\"]]}],\"label\":\"Topic 20\",\"method\":\"update\"},{\"args\":[{\"marker.color\":[[\"#B0BEC5\",\"#B0BEC5\",\"#B0BEC5\",\"#B0BEC5\",\"#B0BEC5\",\"#B0BEC5\",\"#B0BEC5\",\"#B0BEC5\",\"#B0BEC5\",\"#B0BEC5\",\"#B0BEC5\",\"#B0BEC5\",\"#B0BEC5\",\"#B0BEC5\",\"#B0BEC5\",\"#B0BEC5\",\"#B0BEC5\",\"#B0BEC5\",\"#B0BEC5\",\"#B0BEC5\",\"#B0BEC5\",\"red\"]]}],\"label\":\"Topic 21\",\"method\":\"update\"}]}],\"shapes\":[{\"line\":{\"color\":\"#CFD8DC\",\"width\":2},\"type\":\"line\",\"x0\":9.457493317127227,\"x1\":9.457493317127227,\"y0\":-16.739797830581665,\"y1\":24.552528953552248},{\"line\":{\"color\":\"#9E9E9E\",\"width\":2},\"type\":\"line\",\"x0\":-5.485794997215271,\"x1\":24.400781631469727,\"y0\":3.9063655614852912,\"y1\":3.9063655614852912}],\"annotations\":[{\"showarrow\":false,\"text\":\"D1\",\"x\":-5.485794997215271,\"y\":3.9063655614852912,\"yshift\":10},{\"showarrow\":false,\"text\":\"D2\",\"x\":9.457493317127227,\"xshift\":10,\"y\":24.552528953552248}]},                        {\"responsive\": true}                    ).then(function(){\n",
              "                            \n",
              "var gd = document.getElementById('6577f396-8f74-4344-b543-2bd68d08b7a0');\n",
              "var x = new MutationObserver(function (mutations, observer) {{\n",
              "        var display = window.getComputedStyle(gd).display;\n",
              "        if (!display || display === 'none') {{\n",
              "            console.log([gd, 'removed!']);\n",
              "            Plotly.purge(gd);\n",
              "            observer.disconnect();\n",
              "        }}\n",
              "}});\n",
              "\n",
              "// Listen for the removal of the full notebook cells\n",
              "var notebookContainer = gd.closest('#notebook-container');\n",
              "if (notebookContainer) {{\n",
              "    x.observe(notebookContainer, {childList: true});\n",
              "}}\n",
              "\n",
              "// Listen for the clearing of the current output cell\n",
              "var outputEl = gd.closest('.output');\n",
              "if (outputEl) {{\n",
              "    x.observe(outputEl, {childList: true});\n",
              "}}\n",
              "\n",
              "                        })                };                            </script>        </div>\n",
              "</body>\n",
              "</html>"
            ]
          },
          "metadata": {}
        }
      ]
    },
    {
      "cell_type": "code",
      "source": [
        "# as we can see above there are 47 + 0 = 48 topics so therefore we need to change the defalt parameter to 47 topics.\n",
        "# For easier complehension we increase the n_words from 5 to 10 words per Topic  \n",
        "\n",
        "#topic_model.visualize_barchart(top_n_topics = 48,  n_words = 10) \n",
        "topic_model.visualize_barchart(top_n_topics = 48,  n_words = 10) \n"
      ],
      "metadata": {
        "colab": {
          "base_uri": "https://localhost:8080/",
          "height": 1000
        },
        "id": "ZMd9V6b0iJoe",
        "outputId": "3c828f63-50b0-401c-81d6-ae92bba1f928"
      },
      "execution_count": 136,
      "outputs": [
        {
          "output_type": "display_data",
          "data": {
            "text/html": [
              "<html>\n",
              "<head><meta charset=\"utf-8\" /></head>\n",
              "<body>\n",
              "    <div>            <script src=\"https://cdnjs.cloudflare.com/ajax/libs/mathjax/2.7.5/MathJax.js?config=TeX-AMS-MML_SVG\"></script><script type=\"text/javascript\">if (window.MathJax) {MathJax.Hub.Config({SVG: {font: \"STIX-Web\"}});}</script>                <script type=\"text/javascript\">window.PlotlyConfig = {MathJaxConfig: 'local'};</script>\n",
              "        <script src=\"https://cdn.plot.ly/plotly-2.8.3.min.js\"></script>                <div id=\"d954657a-5863-43d0-b19a-d1143d0bfbdf\" class=\"plotly-graph-div\" style=\"height:1500px; width:1000px;\"></div>            <script type=\"text/javascript\">                                    window.PLOTLYENV=window.PLOTLYENV || {};                                    if (document.getElementById(\"d954657a-5863-43d0-b19a-d1143d0bfbdf\")) {                    Plotly.newPlot(                        \"d954657a-5863-43d0-b19a-d1143d0bfbdf\",                        [{\"marker\":{\"color\":\"#D55E00\"},\"orientation\":\"h\",\"x\":[0.004328420879358054,0.0044538854898525685,0.0045122894066178445,0.004892705367804234,0.005064914586728738,0.005198431777279684,0.005809017520018471,0.005898979743602746,0.007329735758027361,0.010072206844255418],\"y\":[\"eu  \",\"franken  \",\"svp  \",\"land  \",\"artikel  \",\"kommission  \",\"initiative  \",\"heute  \",\"bundesrat  \",\"schweiz  \"],\"type\":\"bar\",\"xaxis\":\"x\",\"yaxis\":\"y\"},{\"marker\":{\"color\":\"#0072B2\"},\"orientation\":\"h\",\"x\":[0.005572049501157991,0.00616581528888327,0.006548802255737207,0.007258871773828934,0.00753938439778565,0.007664550194891179,0.008183977683670105,0.00826793030154114,0.00922044484235123,0.026987977002189065],\"y\":[\"einsatz  \",\"heute  \",\"vbs  \",\"sicherheit  \",\"millionen franken  \",\"bundesrat  \",\"millionen  \",\"kommission  \",\"franken  \",\"armee  \"],\"type\":\"bar\",\"xaxis\":\"x2\",\"yaxis\":\"y2\"},{\"marker\":{\"color\":\"#CC79A7\"},\"orientation\":\"h\",\"x\":[0.0070741104528280925,0.007224961803041089,0.007300441373491946,0.007450943723170212,0.0075324239387311535,0.0076175254505685755,0.007655208755314253,0.008281421565891884,0.008904740852516751,0.013297378338934391],\"y\":[\"initiative  \",\"heute  \",\"bundesrat  \",\"kommission  \",\"leistungen  \",\"kvg  \",\"pr\\u00e4mien  \",\"versicherten  \",\"kosten  \",\"gesundheitswesen  \"],\"type\":\"bar\",\"xaxis\":\"x3\",\"yaxis\":\"y3\"},{\"marker\":{\"color\":\"#E69F00\"},\"orientation\":\"h\",\"x\":[0.006256099050789981,0.006553629188481746,0.006673607907562694,0.007559484078136013,0.008640484057219195,0.008870903508645538,0.009073994323540202,0.009677069205233932,0.011811903791476104,0.015161755326312665],\"y\":[\"leute  \",\"schweizer  \",\"heute  \",\"prozent  \",\"land  \",\"initiative  \",\"ausl\\u00e4nder  \",\"personen  \",\"zuwanderung  \",\"schweiz  \"],\"type\":\"bar\",\"xaxis\":\"x4\",\"yaxis\":\"y4\"},{\"marker\":{\"color\":\"#56B4E9\"},\"orientation\":\"h\",\"x\":[0.006968927199524374,0.007578471120672069,0.007600438271821159,0.0076881264472178175,0.008155390045375284,0.008275706852555213,0.008534402554571238,0.009110591780684308,0.010049221182655728,0.02269973406272605],\"y\":[\"produkte  \",\"initiative  \",\"prozent  \",\"produktion  \",\"bundesrat  \",\"bauern  \",\"konsumenten  \",\"schweizer  \",\"schweiz  \",\"landwirtschaft  \"],\"type\":\"bar\",\"xaxis\":\"x5\",\"yaxis\":\"y5\"},{\"marker\":{\"color\":\"#009E73\"},\"orientation\":\"h\",\"x\":[0.007674258721266833,0.007809860972355802,0.007998748746859737,0.010183003431224484,0.011974315461172837,0.012076521163041797,0.013779190964727538,0.014078729464789887,0.014561169702478378,0.023048086011849045],\"y\":[\"geld  \",\"svp  \",\"bundesrat  \",\"milliarden franken  \",\"ausgaben  \",\"milliarden  \",\"millionen franken  \",\"prozent  \",\"millionen  \",\"franken  \"],\"type\":\"bar\",\"xaxis\":\"x6\",\"yaxis\":\"y6\"},{\"marker\":{\"color\":\"#F0E442\"},\"orientation\":\"h\",\"x\":[0.006309264973867489,0.006575431105770038,0.008523377085507626,0.009053855822688958,0.00929911408801625,0.00933457134344515,0.011724415937416405,0.012567489136741055,0.015519149880945545,0.026452997691016958],\"y\":[\"eu beitritt  \",\"europ\\u00e4ischen  \",\"europa  \",\"europarat  \",\"bilateralen  \",\"beitritt  \",\"bericht  \",\"bundesrat  \",\"schweiz  \",\"eu  \"],\"type\":\"bar\",\"xaxis\":\"x7\",\"yaxis\":\"y7\"},{\"marker\":{\"color\":\"#D55E00\"},\"orientation\":\"h\",\"x\":[0.00580912977498534,0.005834710217256201,0.006382175301226958,0.006962083634319111,0.006994220815463128,0.007102451797979773,0.00751740257376179,0.008198901725334155,0.009515831878481781,0.016195326172860614],\"y\":[\"steuern  \",\"swisscom  \",\"ausland  \",\"bundesrat  \",\"heute  \",\"unternehmen  \",\"franken  \",\"schweizer  \",\"prozent  \",\"schweiz  \"],\"type\":\"bar\",\"xaxis\":\"x8\",\"yaxis\":\"y8\"},{\"marker\":{\"color\":\"#0072B2\"},\"orientation\":\"h\",\"x\":[0.006069730563759705,0.006881891459865766,0.007434798077695268,0.00823754664959422,0.008480046941540408,0.00856298386480977,0.008935823468389208,0.009162009717768978,0.011550194872909654,0.024487067626067224],\"y\":[\"heute  \",\"unserer  \",\"leisten  \",\"bundesrat  \",\"sicherheit  \",\"land  \",\"einsatz  \",\"schweizer  \",\"schweiz  \",\"armee  \"],\"type\":\"bar\",\"xaxis\":\"x9\",\"yaxis\":\"y9\"},{\"marker\":{\"color\":\"#CC79A7\"},\"orientation\":\"h\",\"x\":[0.007764010961017082,0.007951744618808185,0.009379986581825588,0.010378616714525985,0.010682313288313693,0.01231656433568193,0.01237632005537881,0.01272470823289201,0.013287272765444834,0.017631765368218717],\"y\":[\"2050  \",\"kernenergie  \",\"energiestrategie  \",\"artikel  \",\"wasserkraft  \",\"energie  \",\"erneuerbaren energien  \",\"strom  \",\"erneuerbaren  \",\"energien  \"],\"type\":\"bar\",\"xaxis\":\"x10\",\"yaxis\":\"y10\"},{\"marker\":{\"color\":\"#E69F00\"},\"orientation\":\"h\",\"x\":[0.006600383426175299,0.006609306315288111,0.007190700093400993,0.008352070544846902,0.008625484743460575,0.008703298989908008,0.00885764050150197,0.01035336585681396,0.015330527805030643,0.020448689522138675],\"y\":[\"gesundheit  \",\"raucher  \",\"drogenpolitik  \",\"zigaretten  \",\"menschen  \",\"heute  \",\"drogen  \",\"konsum  \",\"rauchen  \",\"cannabis  \"],\"type\":\"bar\",\"xaxis\":\"x11\",\"yaxis\":\"y11\"},{\"marker\":{\"color\":\"#56B4E9\"},\"orientation\":\"h\",\"x\":[0.007225104727472985,0.0073206401528509235,0.0076549583654021746,0.007803257249863183,0.007998964956353695,0.008280669414072881,0.008535958631470001,0.008875342669065528,0.009722374492446879,0.022873001748323168],\"y\":[\"erg\\u00e4nzungsleistungen  \",\"heute  \",\"schweiz  \",\"jahren  \",\"franken  \",\"renten  \",\"prozent  \",\"initiative  \",\"iv  \",\"ahv  \"],\"type\":\"bar\",\"xaxis\":\"x12\",\"yaxis\":\"y12\"},{\"marker\":{\"color\":\"#009E73\"},\"orientation\":\"h\",\"x\":[0.007972902901552234,0.008221072775716771,0.00829960824210967,0.008739332034797914,0.008978316931920192,0.010220407193114562,0.010425671229431131,0.011523077167471623,0.012411324789751424,0.01295256603120509],\"y\":[\"heute  \",\"co2  \",\"massnahmen  \",\"unternehmen  \",\"schweiz  \",\"kosten  \",\"fahrzeuge  \",\"eu  \",\"bundesrat  \",\"lsva  \"],\"type\":\"bar\",\"xaxis\":\"x13\",\"yaxis\":\"y13\"},{\"marker\":{\"color\":\"#F0E442\"},\"orientation\":\"h\",\"x\":[0.010498081750957691,0.010769987921255499,0.012832279001755842,0.013887280121619135,0.014202134633539273,0.014787556243682116,0.016542100416491942,0.01788372084128373,0.018220750158475615,0.05527250942001944],\"y\":[\"swissmedic  \",\"bundesrat  \",\"bericht  \",\"oberaufsicht  \",\"ndb  \",\"jahr  \",\"gpdel  \",\"skyguide  \",\"gesch\\u00e4ftspr\\u00fcfungsdelegation  \",\"gpk  \"],\"type\":\"bar\",\"xaxis\":\"x14\",\"yaxis\":\"y14\"},{\"marker\":{\"color\":\"#D55E00\"},\"orientation\":\"h\",\"x\":[0.008780677958738816,0.008914541840104952,0.008953666323472855,0.0113154514780166,0.011605075619442887,0.012504580280406163,0.013258609170323137,0.014000385687139807,0.020637712856542072,0.03011332139455569],\"y\":[\"fussball  \",\"schweiz  \",\"reserven  \",\"sports  \",\"uefa  \",\"franken  \",\"millionen franken  \",\"millionen  \",\"fifa  \",\"sport  \"],\"type\":\"bar\",\"xaxis\":\"x15\",\"yaxis\":\"y15\"},{\"marker\":{\"color\":\"#0072B2\"},\"orientation\":\"h\",\"x\":[0.009631734082978901,0.009671577303750067,0.009896707333275393,0.011685117302385218,0.01175082347569394,0.01458008250108893,0.016921838041371727,0.020143032236562865,0.023233205585317357,0.04576177923522578],\"y\":[\"pers\\u00f6nlichkeit  \",\"mann  \",\"forschungsfreiheit  \",\"unternehmen  \",\"gleichstellung  \",\"absatz  \",\"frauen  \",\"forschung menschen  \",\"menschen  \",\"forschung  \"],\"type\":\"bar\",\"xaxis\":\"x16\",\"yaxis\":\"y16\"},{\"marker\":{\"color\":\"#CC79A7\"},\"orientation\":\"h\",\"x\":[0.010259200964280422,0.010312645678407697,0.01296448931354139,0.014119702092494003,0.014433356281944781,0.01549440624959713,0.016985902487351545,0.026737456967107043,0.03094453360438442,0.0614439804064923],\"y\":[\"pro  \",\"massnahmen  \",\"co2 ausstoss  \",\"emissionen  \",\"ausstoss  \",\"schweiz  \",\"kyoto  \",\"co2 abgabe  \",\"abgabe  \",\"co2  \"],\"type\":\"bar\",\"xaxis\":\"x17\",\"yaxis\":\"y17\"},{\"marker\":{\"color\":\"#E69F00\"},\"orientation\":\"h\",\"x\":[0.01064002441566589,0.010666624785101417,0.010844222578087705,0.010951054651704314,0.01291361082074406,0.014510408617173103,0.01662605261984299,0.019278566977894877,0.020057713729214152,0.02308004410703395],\"y\":[\"abgrenzungen  \",\"schaffen  \",\"durchsetzungs  \",\"durchsetzungs initiative  \",\"h\\u00e4rtefallklausel  \",\"landesverweisung  \",\"initiative  \",\"artikel  \",\"ausl\\u00e4nder  \",\"integration  \"],\"type\":\"bar\",\"xaxis\":\"x18\",\"yaxis\":\"y18\"},{\"marker\":{\"color\":\"#56B4E9\"},\"orientation\":\"h\",\"x\":[0.011740988326459569,0.011759913711970145,0.012609133075688892,0.012758713858494804,0.013186853088413966,0.019551115330961384,0.01957915673214071,0.024167505061737045,0.02569125342785206,0.05652226033272841],\"y\":[\"volksinitiative  \",\"sexualunterricht  \",\"pr\\u00e4vention  \",\"sexuellen  \",\"thema  \",\"kindergarten  \",\"kindern  \",\"eltern  \",\"sexuelle  \",\"kinder  \"],\"type\":\"bar\",\"xaxis\":\"x19\",\"yaxis\":\"y19\"},{\"marker\":{\"color\":\"#009E73\"},\"orientation\":\"h\",\"x\":[0.008586191408221464,0.008765561424074593,0.009529755622080945,0.009823421416305994,0.010259711991231053,0.013314235746251525,0.013810554595658848,0.013957587052122907,0.0175478495049676,0.028443119183008677],\"y\":[\"norden  \",\"kommission  \",\"bundesrat  \",\"europa  \",\"artikel  \",\"asde  \",\"luftverkehr  \",\"flughafen  \",\"schweiz  \",\"luftfahrt  \"],\"type\":\"bar\",\"xaxis\":\"x20\",\"yaxis\":\"y20\"},{\"marker\":{\"color\":\"#F0E442\"},\"orientation\":\"h\",\"x\":[0.007711340449977572,0.008325458832307401,0.008765931967822,0.009852321711433652,0.010734819792500358,0.011029387940452518,0.011311751016893004,0.011426001646056096,0.02269500060202529,0.02338769745108399],\"y\":[\"prinzip  \",\"unserer  \",\"bundesrat  \",\"schweizer  \",\"china  \",\"abkommen  \",\"land  \",\"welt  \",\"schweiz  \",\"eu  \"],\"type\":\"bar\",\"xaxis\":\"x21\",\"yaxis\":\"y21\"},{\"marker\":{\"color\":\"#D55E00\"},\"orientation\":\"h\",\"x\":[0.009374243091858218,0.009542934778851554,0.010146125687222398,0.010741205363627777,0.010794403051442683,0.012038778404474303,0.012524542721294683,0.016540242781899795,0.016778676078973376,0.018187095702797373],\"y\":[\"bildung forschung  \",\"wissens  \",\"ruag  \",\"setzen  \",\"\\u00f6konomie  \",\"arbeitspl\\u00e4tze  \",\"regionalpolitik  \",\"regionen  \",\"bildung  \",\"forschung  \"],\"type\":\"bar\",\"xaxis\":\"x22\",\"yaxis\":\"y22\"}],                        {\"template\":{\"data\":{\"barpolar\":[{\"marker\":{\"line\":{\"color\":\"white\",\"width\":0.5},\"pattern\":{\"fillmode\":\"overlay\",\"size\":10,\"solidity\":0.2}},\"type\":\"barpolar\"}],\"bar\":[{\"error_x\":{\"color\":\"#2a3f5f\"},\"error_y\":{\"color\":\"#2a3f5f\"},\"marker\":{\"line\":{\"color\":\"white\",\"width\":0.5},\"pattern\":{\"fillmode\":\"overlay\",\"size\":10,\"solidity\":0.2}},\"type\":\"bar\"}],\"carpet\":[{\"aaxis\":{\"endlinecolor\":\"#2a3f5f\",\"gridcolor\":\"#C8D4E3\",\"linecolor\":\"#C8D4E3\",\"minorgridcolor\":\"#C8D4E3\",\"startlinecolor\":\"#2a3f5f\"},\"baxis\":{\"endlinecolor\":\"#2a3f5f\",\"gridcolor\":\"#C8D4E3\",\"linecolor\":\"#C8D4E3\",\"minorgridcolor\":\"#C8D4E3\",\"startlinecolor\":\"#2a3f5f\"},\"type\":\"carpet\"}],\"choropleth\":[{\"colorbar\":{\"outlinewidth\":0,\"ticks\":\"\"},\"type\":\"choropleth\"}],\"contourcarpet\":[{\"colorbar\":{\"outlinewidth\":0,\"ticks\":\"\"},\"type\":\"contourcarpet\"}],\"contour\":[{\"colorbar\":{\"outlinewidth\":0,\"ticks\":\"\"},\"colorscale\":[[0.0,\"#0d0887\"],[0.1111111111111111,\"#46039f\"],[0.2222222222222222,\"#7201a8\"],[0.3333333333333333,\"#9c179e\"],[0.4444444444444444,\"#bd3786\"],[0.5555555555555556,\"#d8576b\"],[0.6666666666666666,\"#ed7953\"],[0.7777777777777778,\"#fb9f3a\"],[0.8888888888888888,\"#fdca26\"],[1.0,\"#f0f921\"]],\"type\":\"contour\"}],\"heatmapgl\":[{\"colorbar\":{\"outlinewidth\":0,\"ticks\":\"\"},\"colorscale\":[[0.0,\"#0d0887\"],[0.1111111111111111,\"#46039f\"],[0.2222222222222222,\"#7201a8\"],[0.3333333333333333,\"#9c179e\"],[0.4444444444444444,\"#bd3786\"],[0.5555555555555556,\"#d8576b\"],[0.6666666666666666,\"#ed7953\"],[0.7777777777777778,\"#fb9f3a\"],[0.8888888888888888,\"#fdca26\"],[1.0,\"#f0f921\"]],\"type\":\"heatmapgl\"}],\"heatmap\":[{\"colorbar\":{\"outlinewidth\":0,\"ticks\":\"\"},\"colorscale\":[[0.0,\"#0d0887\"],[0.1111111111111111,\"#46039f\"],[0.2222222222222222,\"#7201a8\"],[0.3333333333333333,\"#9c179e\"],[0.4444444444444444,\"#bd3786\"],[0.5555555555555556,\"#d8576b\"],[0.6666666666666666,\"#ed7953\"],[0.7777777777777778,\"#fb9f3a\"],[0.8888888888888888,\"#fdca26\"],[1.0,\"#f0f921\"]],\"type\":\"heatmap\"}],\"histogram2dcontour\":[{\"colorbar\":{\"outlinewidth\":0,\"ticks\":\"\"},\"colorscale\":[[0.0,\"#0d0887\"],[0.1111111111111111,\"#46039f\"],[0.2222222222222222,\"#7201a8\"],[0.3333333333333333,\"#9c179e\"],[0.4444444444444444,\"#bd3786\"],[0.5555555555555556,\"#d8576b\"],[0.6666666666666666,\"#ed7953\"],[0.7777777777777778,\"#fb9f3a\"],[0.8888888888888888,\"#fdca26\"],[1.0,\"#f0f921\"]],\"type\":\"histogram2dcontour\"}],\"histogram2d\":[{\"colorbar\":{\"outlinewidth\":0,\"ticks\":\"\"},\"colorscale\":[[0.0,\"#0d0887\"],[0.1111111111111111,\"#46039f\"],[0.2222222222222222,\"#7201a8\"],[0.3333333333333333,\"#9c179e\"],[0.4444444444444444,\"#bd3786\"],[0.5555555555555556,\"#d8576b\"],[0.6666666666666666,\"#ed7953\"],[0.7777777777777778,\"#fb9f3a\"],[0.8888888888888888,\"#fdca26\"],[1.0,\"#f0f921\"]],\"type\":\"histogram2d\"}],\"histogram\":[{\"marker\":{\"pattern\":{\"fillmode\":\"overlay\",\"size\":10,\"solidity\":0.2}},\"type\":\"histogram\"}],\"mesh3d\":[{\"colorbar\":{\"outlinewidth\":0,\"ticks\":\"\"},\"type\":\"mesh3d\"}],\"parcoords\":[{\"line\":{\"colorbar\":{\"outlinewidth\":0,\"ticks\":\"\"}},\"type\":\"parcoords\"}],\"pie\":[{\"automargin\":true,\"type\":\"pie\"}],\"scatter3d\":[{\"line\":{\"colorbar\":{\"outlinewidth\":0,\"ticks\":\"\"}},\"marker\":{\"colorbar\":{\"outlinewidth\":0,\"ticks\":\"\"}},\"type\":\"scatter3d\"}],\"scattercarpet\":[{\"marker\":{\"colorbar\":{\"outlinewidth\":0,\"ticks\":\"\"}},\"type\":\"scattercarpet\"}],\"scattergeo\":[{\"marker\":{\"colorbar\":{\"outlinewidth\":0,\"ticks\":\"\"}},\"type\":\"scattergeo\"}],\"scattergl\":[{\"marker\":{\"colorbar\":{\"outlinewidth\":0,\"ticks\":\"\"}},\"type\":\"scattergl\"}],\"scattermapbox\":[{\"marker\":{\"colorbar\":{\"outlinewidth\":0,\"ticks\":\"\"}},\"type\":\"scattermapbox\"}],\"scatterpolargl\":[{\"marker\":{\"colorbar\":{\"outlinewidth\":0,\"ticks\":\"\"}},\"type\":\"scatterpolargl\"}],\"scatterpolar\":[{\"marker\":{\"colorbar\":{\"outlinewidth\":0,\"ticks\":\"\"}},\"type\":\"scatterpolar\"}],\"scatter\":[{\"marker\":{\"colorbar\":{\"outlinewidth\":0,\"ticks\":\"\"}},\"type\":\"scatter\"}],\"scatterternary\":[{\"marker\":{\"colorbar\":{\"outlinewidth\":0,\"ticks\":\"\"}},\"type\":\"scatterternary\"}],\"surface\":[{\"colorbar\":{\"outlinewidth\":0,\"ticks\":\"\"},\"colorscale\":[[0.0,\"#0d0887\"],[0.1111111111111111,\"#46039f\"],[0.2222222222222222,\"#7201a8\"],[0.3333333333333333,\"#9c179e\"],[0.4444444444444444,\"#bd3786\"],[0.5555555555555556,\"#d8576b\"],[0.6666666666666666,\"#ed7953\"],[0.7777777777777778,\"#fb9f3a\"],[0.8888888888888888,\"#fdca26\"],[1.0,\"#f0f921\"]],\"type\":\"surface\"}],\"table\":[{\"cells\":{\"fill\":{\"color\":\"#EBF0F8\"},\"line\":{\"color\":\"white\"}},\"header\":{\"fill\":{\"color\":\"#C8D4E3\"},\"line\":{\"color\":\"white\"}},\"type\":\"table\"}]},\"layout\":{\"annotationdefaults\":{\"arrowcolor\":\"#2a3f5f\",\"arrowhead\":0,\"arrowwidth\":1},\"autotypenumbers\":\"strict\",\"coloraxis\":{\"colorbar\":{\"outlinewidth\":0,\"ticks\":\"\"}},\"colorscale\":{\"diverging\":[[0,\"#8e0152\"],[0.1,\"#c51b7d\"],[0.2,\"#de77ae\"],[0.3,\"#f1b6da\"],[0.4,\"#fde0ef\"],[0.5,\"#f7f7f7\"],[0.6,\"#e6f5d0\"],[0.7,\"#b8e186\"],[0.8,\"#7fbc41\"],[0.9,\"#4d9221\"],[1,\"#276419\"]],\"sequential\":[[0.0,\"#0d0887\"],[0.1111111111111111,\"#46039f\"],[0.2222222222222222,\"#7201a8\"],[0.3333333333333333,\"#9c179e\"],[0.4444444444444444,\"#bd3786\"],[0.5555555555555556,\"#d8576b\"],[0.6666666666666666,\"#ed7953\"],[0.7777777777777778,\"#fb9f3a\"],[0.8888888888888888,\"#fdca26\"],[1.0,\"#f0f921\"]],\"sequentialminus\":[[0.0,\"#0d0887\"],[0.1111111111111111,\"#46039f\"],[0.2222222222222222,\"#7201a8\"],[0.3333333333333333,\"#9c179e\"],[0.4444444444444444,\"#bd3786\"],[0.5555555555555556,\"#d8576b\"],[0.6666666666666666,\"#ed7953\"],[0.7777777777777778,\"#fb9f3a\"],[0.8888888888888888,\"#fdca26\"],[1.0,\"#f0f921\"]]},\"colorway\":[\"#636efa\",\"#EF553B\",\"#00cc96\",\"#ab63fa\",\"#FFA15A\",\"#19d3f3\",\"#FF6692\",\"#B6E880\",\"#FF97FF\",\"#FECB52\"],\"font\":{\"color\":\"#2a3f5f\"},\"geo\":{\"bgcolor\":\"white\",\"lakecolor\":\"white\",\"landcolor\":\"white\",\"showlakes\":true,\"showland\":true,\"subunitcolor\":\"#C8D4E3\"},\"hoverlabel\":{\"align\":\"left\"},\"hovermode\":\"closest\",\"mapbox\":{\"style\":\"light\"},\"paper_bgcolor\":\"white\",\"plot_bgcolor\":\"white\",\"polar\":{\"angularaxis\":{\"gridcolor\":\"#EBF0F8\",\"linecolor\":\"#EBF0F8\",\"ticks\":\"\"},\"bgcolor\":\"white\",\"radialaxis\":{\"gridcolor\":\"#EBF0F8\",\"linecolor\":\"#EBF0F8\",\"ticks\":\"\"}},\"scene\":{\"xaxis\":{\"backgroundcolor\":\"white\",\"gridcolor\":\"#DFE8F3\",\"gridwidth\":2,\"linecolor\":\"#EBF0F8\",\"showbackground\":true,\"ticks\":\"\",\"zerolinecolor\":\"#EBF0F8\"},\"yaxis\":{\"backgroundcolor\":\"white\",\"gridcolor\":\"#DFE8F3\",\"gridwidth\":2,\"linecolor\":\"#EBF0F8\",\"showbackground\":true,\"ticks\":\"\",\"zerolinecolor\":\"#EBF0F8\"},\"zaxis\":{\"backgroundcolor\":\"white\",\"gridcolor\":\"#DFE8F3\",\"gridwidth\":2,\"linecolor\":\"#EBF0F8\",\"showbackground\":true,\"ticks\":\"\",\"zerolinecolor\":\"#EBF0F8\"}},\"shapedefaults\":{\"line\":{\"color\":\"#2a3f5f\"}},\"ternary\":{\"aaxis\":{\"gridcolor\":\"#DFE8F3\",\"linecolor\":\"#A2B1C6\",\"ticks\":\"\"},\"baxis\":{\"gridcolor\":\"#DFE8F3\",\"linecolor\":\"#A2B1C6\",\"ticks\":\"\"},\"bgcolor\":\"white\",\"caxis\":{\"gridcolor\":\"#DFE8F3\",\"linecolor\":\"#A2B1C6\",\"ticks\":\"\"}},\"title\":{\"x\":0.05},\"xaxis\":{\"automargin\":true,\"gridcolor\":\"#EBF0F8\",\"linecolor\":\"#EBF0F8\",\"ticks\":\"\",\"title\":{\"standoff\":15},\"zerolinecolor\":\"#EBF0F8\",\"zerolinewidth\":2},\"yaxis\":{\"automargin\":true,\"gridcolor\":\"#EBF0F8\",\"linecolor\":\"#EBF0F8\",\"ticks\":\"\",\"title\":{\"standoff\":15},\"zerolinecolor\":\"#EBF0F8\",\"zerolinewidth\":2}}},\"xaxis\":{\"anchor\":\"y\",\"domain\":[0.0,0.175],\"showgrid\":true},\"yaxis\":{\"anchor\":\"x\",\"domain\":[0.8888888888888888,1.0],\"showgrid\":true},\"xaxis2\":{\"anchor\":\"y2\",\"domain\":[0.275,0.45],\"showgrid\":true},\"yaxis2\":{\"anchor\":\"x2\",\"domain\":[0.8888888888888888,1.0],\"showgrid\":true},\"xaxis3\":{\"anchor\":\"y3\",\"domain\":[0.55,0.7250000000000001],\"showgrid\":true},\"yaxis3\":{\"anchor\":\"x3\",\"domain\":[0.8888888888888888,1.0],\"showgrid\":true},\"xaxis4\":{\"anchor\":\"y4\",\"domain\":[0.825,1.0],\"showgrid\":true},\"yaxis4\":{\"anchor\":\"x4\",\"domain\":[0.8888888888888888,1.0],\"showgrid\":true},\"xaxis5\":{\"anchor\":\"y5\",\"domain\":[0.0,0.175],\"showgrid\":true},\"yaxis5\":{\"anchor\":\"x5\",\"domain\":[0.7111111111111111,0.8222222222222223],\"showgrid\":true},\"xaxis6\":{\"anchor\":\"y6\",\"domain\":[0.275,0.45],\"showgrid\":true},\"yaxis6\":{\"anchor\":\"x6\",\"domain\":[0.7111111111111111,0.8222222222222223],\"showgrid\":true},\"xaxis7\":{\"anchor\":\"y7\",\"domain\":[0.55,0.7250000000000001],\"showgrid\":true},\"yaxis7\":{\"anchor\":\"x7\",\"domain\":[0.7111111111111111,0.8222222222222223],\"showgrid\":true},\"xaxis8\":{\"anchor\":\"y8\",\"domain\":[0.825,1.0],\"showgrid\":true},\"yaxis8\":{\"anchor\":\"x8\",\"domain\":[0.7111111111111111,0.8222222222222223],\"showgrid\":true},\"xaxis9\":{\"anchor\":\"y9\",\"domain\":[0.0,0.175],\"showgrid\":true},\"yaxis9\":{\"anchor\":\"x9\",\"domain\":[0.5333333333333334,0.6444444444444446],\"showgrid\":true},\"xaxis10\":{\"anchor\":\"y10\",\"domain\":[0.275,0.45],\"showgrid\":true},\"yaxis10\":{\"anchor\":\"x10\",\"domain\":[0.5333333333333334,0.6444444444444446],\"showgrid\":true},\"xaxis11\":{\"anchor\":\"y11\",\"domain\":[0.55,0.7250000000000001],\"showgrid\":true},\"yaxis11\":{\"anchor\":\"x11\",\"domain\":[0.5333333333333334,0.6444444444444446],\"showgrid\":true},\"xaxis12\":{\"anchor\":\"y12\",\"domain\":[0.825,1.0],\"showgrid\":true},\"yaxis12\":{\"anchor\":\"x12\",\"domain\":[0.5333333333333334,0.6444444444444446],\"showgrid\":true},\"xaxis13\":{\"anchor\":\"y13\",\"domain\":[0.0,0.175],\"showgrid\":true},\"yaxis13\":{\"anchor\":\"x13\",\"domain\":[0.35555555555555557,0.4666666666666667],\"showgrid\":true},\"xaxis14\":{\"anchor\":\"y14\",\"domain\":[0.275,0.45],\"showgrid\":true},\"yaxis14\":{\"anchor\":\"x14\",\"domain\":[0.35555555555555557,0.4666666666666667],\"showgrid\":true},\"xaxis15\":{\"anchor\":\"y15\",\"domain\":[0.55,0.7250000000000001],\"showgrid\":true},\"yaxis15\":{\"anchor\":\"x15\",\"domain\":[0.35555555555555557,0.4666666666666667],\"showgrid\":true},\"xaxis16\":{\"anchor\":\"y16\",\"domain\":[0.825,1.0],\"showgrid\":true},\"yaxis16\":{\"anchor\":\"x16\",\"domain\":[0.35555555555555557,0.4666666666666667],\"showgrid\":true},\"xaxis17\":{\"anchor\":\"y17\",\"domain\":[0.0,0.175],\"showgrid\":true},\"yaxis17\":{\"anchor\":\"x17\",\"domain\":[0.17777777777777778,0.2888888888888889],\"showgrid\":true},\"xaxis18\":{\"anchor\":\"y18\",\"domain\":[0.275,0.45],\"showgrid\":true},\"yaxis18\":{\"anchor\":\"x18\",\"domain\":[0.17777777777777778,0.2888888888888889],\"showgrid\":true},\"xaxis19\":{\"anchor\":\"y19\",\"domain\":[0.55,0.7250000000000001],\"showgrid\":true},\"yaxis19\":{\"anchor\":\"x19\",\"domain\":[0.17777777777777778,0.2888888888888889],\"showgrid\":true},\"xaxis20\":{\"anchor\":\"y20\",\"domain\":[0.825,1.0],\"showgrid\":true},\"yaxis20\":{\"anchor\":\"x20\",\"domain\":[0.17777777777777778,0.2888888888888889],\"showgrid\":true},\"xaxis21\":{\"anchor\":\"y21\",\"domain\":[0.0,0.175],\"showgrid\":true},\"yaxis21\":{\"anchor\":\"x21\",\"domain\":[0.0,0.11111111111111112],\"showgrid\":true},\"xaxis22\":{\"anchor\":\"y22\",\"domain\":[0.275,0.45],\"showgrid\":true},\"yaxis22\":{\"anchor\":\"x22\",\"domain\":[0.0,0.11111111111111112],\"showgrid\":true},\"xaxis23\":{\"anchor\":\"y23\",\"domain\":[0.55,0.7250000000000001],\"showgrid\":true},\"yaxis23\":{\"anchor\":\"x23\",\"domain\":[0.0,0.11111111111111112],\"showgrid\":true},\"xaxis24\":{\"anchor\":\"y24\",\"domain\":[0.825,1.0],\"showgrid\":true},\"yaxis24\":{\"anchor\":\"x24\",\"domain\":[0.0,0.11111111111111112],\"showgrid\":true},\"annotations\":[{\"font\":{\"size\":16},\"showarrow\":false,\"text\":\"Topic -1\",\"x\":0.0875,\"xanchor\":\"center\",\"xref\":\"paper\",\"y\":1.0,\"yanchor\":\"bottom\",\"yref\":\"paper\"},{\"font\":{\"size\":16},\"showarrow\":false,\"text\":\"Topic 1\",\"x\":0.36250000000000004,\"xanchor\":\"center\",\"xref\":\"paper\",\"y\":1.0,\"yanchor\":\"bottom\",\"yref\":\"paper\"},{\"font\":{\"size\":16},\"showarrow\":false,\"text\":\"Topic 2\",\"x\":0.6375000000000001,\"xanchor\":\"center\",\"xref\":\"paper\",\"y\":1.0,\"yanchor\":\"bottom\",\"yref\":\"paper\"},{\"font\":{\"size\":16},\"showarrow\":false,\"text\":\"Topic 3\",\"x\":0.9125,\"xanchor\":\"center\",\"xref\":\"paper\",\"y\":1.0,\"yanchor\":\"bottom\",\"yref\":\"paper\"},{\"font\":{\"size\":16},\"showarrow\":false,\"text\":\"Topic 4\",\"x\":0.0875,\"xanchor\":\"center\",\"xref\":\"paper\",\"y\":0.8222222222222223,\"yanchor\":\"bottom\",\"yref\":\"paper\"},{\"font\":{\"size\":16},\"showarrow\":false,\"text\":\"Topic 5\",\"x\":0.36250000000000004,\"xanchor\":\"center\",\"xref\":\"paper\",\"y\":0.8222222222222223,\"yanchor\":\"bottom\",\"yref\":\"paper\"},{\"font\":{\"size\":16},\"showarrow\":false,\"text\":\"Topic 6\",\"x\":0.6375000000000001,\"xanchor\":\"center\",\"xref\":\"paper\",\"y\":0.8222222222222223,\"yanchor\":\"bottom\",\"yref\":\"paper\"},{\"font\":{\"size\":16},\"showarrow\":false,\"text\":\"Topic 7\",\"x\":0.9125,\"xanchor\":\"center\",\"xref\":\"paper\",\"y\":0.8222222222222223,\"yanchor\":\"bottom\",\"yref\":\"paper\"},{\"font\":{\"size\":16},\"showarrow\":false,\"text\":\"Topic 8\",\"x\":0.0875,\"xanchor\":\"center\",\"xref\":\"paper\",\"y\":0.6444444444444446,\"yanchor\":\"bottom\",\"yref\":\"paper\"},{\"font\":{\"size\":16},\"showarrow\":false,\"text\":\"Topic 9\",\"x\":0.36250000000000004,\"xanchor\":\"center\",\"xref\":\"paper\",\"y\":0.6444444444444446,\"yanchor\":\"bottom\",\"yref\":\"paper\"},{\"font\":{\"size\":16},\"showarrow\":false,\"text\":\"Topic 10\",\"x\":0.6375000000000001,\"xanchor\":\"center\",\"xref\":\"paper\",\"y\":0.6444444444444446,\"yanchor\":\"bottom\",\"yref\":\"paper\"},{\"font\":{\"size\":16},\"showarrow\":false,\"text\":\"Topic 11\",\"x\":0.9125,\"xanchor\":\"center\",\"xref\":\"paper\",\"y\":0.6444444444444446,\"yanchor\":\"bottom\",\"yref\":\"paper\"},{\"font\":{\"size\":16},\"showarrow\":false,\"text\":\"Topic 12\",\"x\":0.0875,\"xanchor\":\"center\",\"xref\":\"paper\",\"y\":0.4666666666666667,\"yanchor\":\"bottom\",\"yref\":\"paper\"},{\"font\":{\"size\":16},\"showarrow\":false,\"text\":\"Topic 13\",\"x\":0.36250000000000004,\"xanchor\":\"center\",\"xref\":\"paper\",\"y\":0.4666666666666667,\"yanchor\":\"bottom\",\"yref\":\"paper\"},{\"font\":{\"size\":16},\"showarrow\":false,\"text\":\"Topic 14\",\"x\":0.6375000000000001,\"xanchor\":\"center\",\"xref\":\"paper\",\"y\":0.4666666666666667,\"yanchor\":\"bottom\",\"yref\":\"paper\"},{\"font\":{\"size\":16},\"showarrow\":false,\"text\":\"Topic 15\",\"x\":0.9125,\"xanchor\":\"center\",\"xref\":\"paper\",\"y\":0.4666666666666667,\"yanchor\":\"bottom\",\"yref\":\"paper\"},{\"font\":{\"size\":16},\"showarrow\":false,\"text\":\"Topic 16\",\"x\":0.0875,\"xanchor\":\"center\",\"xref\":\"paper\",\"y\":0.2888888888888889,\"yanchor\":\"bottom\",\"yref\":\"paper\"},{\"font\":{\"size\":16},\"showarrow\":false,\"text\":\"Topic 17\",\"x\":0.36250000000000004,\"xanchor\":\"center\",\"xref\":\"paper\",\"y\":0.2888888888888889,\"yanchor\":\"bottom\",\"yref\":\"paper\"},{\"font\":{\"size\":16},\"showarrow\":false,\"text\":\"Topic 18\",\"x\":0.6375000000000001,\"xanchor\":\"center\",\"xref\":\"paper\",\"y\":0.2888888888888889,\"yanchor\":\"bottom\",\"yref\":\"paper\"},{\"font\":{\"size\":16},\"showarrow\":false,\"text\":\"Topic 19\",\"x\":0.9125,\"xanchor\":\"center\",\"xref\":\"paper\",\"y\":0.2888888888888889,\"yanchor\":\"bottom\",\"yref\":\"paper\"},{\"font\":{\"size\":16},\"showarrow\":false,\"text\":\"Topic 20\",\"x\":0.0875,\"xanchor\":\"center\",\"xref\":\"paper\",\"y\":0.11111111111111112,\"yanchor\":\"bottom\",\"yref\":\"paper\"},{\"font\":{\"size\":16},\"showarrow\":false,\"text\":\"Topic 21\",\"x\":0.36250000000000004,\"xanchor\":\"center\",\"xref\":\"paper\",\"y\":0.11111111111111112,\"yanchor\":\"bottom\",\"yref\":\"paper\"}],\"title\":{\"font\":{\"size\":22,\"color\":\"Black\"},\"text\":\"<b>Topic Word Scores\",\"x\":0.5,\"xanchor\":\"center\",\"yanchor\":\"top\"},\"hoverlabel\":{\"font\":{\"size\":16,\"family\":\"Rockwell\"},\"bgcolor\":\"white\"},\"showlegend\":false,\"width\":1000,\"height\":1500},                        {\"responsive\": true}                    ).then(function(){\n",
              "                            \n",
              "var gd = document.getElementById('d954657a-5863-43d0-b19a-d1143d0bfbdf');\n",
              "var x = new MutationObserver(function (mutations, observer) {{\n",
              "        var display = window.getComputedStyle(gd).display;\n",
              "        if (!display || display === 'none') {{\n",
              "            console.log([gd, 'removed!']);\n",
              "            Plotly.purge(gd);\n",
              "            observer.disconnect();\n",
              "        }}\n",
              "}});\n",
              "\n",
              "// Listen for the removal of the full notebook cells\n",
              "var notebookContainer = gd.closest('#notebook-container');\n",
              "if (notebookContainer) {{\n",
              "    x.observe(notebookContainer, {childList: true});\n",
              "}}\n",
              "\n",
              "// Listen for the clearing of the current output cell\n",
              "var outputEl = gd.closest('.output');\n",
              "if (outputEl) {{\n",
              "    x.observe(outputEl, {childList: true});\n",
              "}}\n",
              "\n",
              "                        })                };                            </script>        </div>\n",
              "</body>\n",
              "</html>"
            ]
          },
          "metadata": {}
        }
      ]
    },
    {
      "cell_type": "code",
      "source": [
        "topic_model.visualize_heatmap()"
      ],
      "metadata": {
        "colab": {
          "base_uri": "https://localhost:8080/",
          "height": 817
        },
        "id": "sePOma1uiXoH",
        "outputId": "6979bb11-52af-4691-c440-3b6fa3ec02c7"
      },
      "execution_count": 137,
      "outputs": [
        {
          "output_type": "display_data",
          "data": {
            "text/html": [
              "<html>\n",
              "<head><meta charset=\"utf-8\" /></head>\n",
              "<body>\n",
              "    <div>            <script src=\"https://cdnjs.cloudflare.com/ajax/libs/mathjax/2.7.5/MathJax.js?config=TeX-AMS-MML_SVG\"></script><script type=\"text/javascript\">if (window.MathJax) {MathJax.Hub.Config({SVG: {font: \"STIX-Web\"}});}</script>                <script type=\"text/javascript\">window.PlotlyConfig = {MathJaxConfig: 'local'};</script>\n",
              "        <script src=\"https://cdn.plot.ly/plotly-2.8.3.min.js\"></script>                <div id=\"4132d4e7-7a37-456b-8b65-1dbee18a23af\" class=\"plotly-graph-div\" style=\"height:800px; width:800px;\"></div>            <script type=\"text/javascript\">                                    window.PLOTLYENV=window.PLOTLYENV || {};                                    if (document.getElementById(\"4132d4e7-7a37-456b-8b65-1dbee18a23af\")) {                    Plotly.newPlot(                        \"4132d4e7-7a37-456b-8b65-1dbee18a23af\",                        [{\"coloraxis\":\"coloraxis\",\"name\":\"0\",\"x\":[\"-1_schweiz_bundesrat_heute\",\"0_kommission_bundesrat_init...\",\"1_armee_franken_kommission\",\"2_gesundheitswesen_kosten_v...\",\"3_schweiz_zuwanderung_perso...\",\"4_landwirtschaft_schweiz_sc...\",\"5_franken_millionen_prozent\",\"6_eu_schweiz_bundesrat\",\"7_schweiz_prozent_schweizer\",\"8_armee_schweiz_schweizer\",\"9_energien_erneuerbaren_strom\",\"10_cannabis_rauchen_konsum\",\"11_ahv_iv_initiative\",\"12_lsva_bundesrat_eu\",\"13_gpk_gesch\\u00e4ftspr\\u00fcfungsdel...\",\"14_sport_fifa_millionen\",\"15_forschung_menschen_forsc...\",\"16_co2_abgabe_co2 abgabe\",\"17_integration_ausl\\u00e4nder_ar...\",\"18_kinder_sexuelle_eltern\",\"19_luftfahrt_schweiz_flugha...\",\"20_eu_schweiz_welt\",\"21_forschung_bildung_regionen\"],\"y\":[\"-1_schweiz_bundesrat_heute\",\"0_kommission_bundesrat_init...\",\"1_armee_franken_kommission\",\"2_gesundheitswesen_kosten_v...\",\"3_schweiz_zuwanderung_perso...\",\"4_landwirtschaft_schweiz_sc...\",\"5_franken_millionen_prozent\",\"6_eu_schweiz_bundesrat\",\"7_schweiz_prozent_schweizer\",\"8_armee_schweiz_schweizer\",\"9_energien_erneuerbaren_strom\",\"10_cannabis_rauchen_konsum\",\"11_ahv_iv_initiative\",\"12_lsva_bundesrat_eu\",\"13_gpk_gesch\\u00e4ftspr\\u00fcfungsdel...\",\"14_sport_fifa_millionen\",\"15_forschung_menschen_forsc...\",\"16_co2_abgabe_co2 abgabe\",\"17_integration_ausl\\u00e4nder_ar...\",\"18_kinder_sexuelle_eltern\",\"19_luftfahrt_schweiz_flugha...\",\"20_eu_schweiz_welt\",\"21_forschung_bildung_regionen\"],\"z\":[[1.0000000000000009,0.9664602793734997,0.8438800159999333,0.8996580248912924,0.9431908692785949,0.8983149157402164,0.8115576874971164,0.9247370267281151,0.9383312989734223,0.8999898648763399,0.5856562571786801,0.6895956631054329,0.9495782456890243,0.9116969317928272,0.8228997104435741,0.7703649930732082,0.8494027800455693,0.6924563495142964,0.9011875815154664,0.8349136772872298,0.8219206129898204,0.9302027598916988,0.8670721434186286],[0.9664602793734997,1.0,0.8303235788272452,0.9064848990347165,0.8974872491777032,0.8509616474790587,0.7596803633495602,0.8835169602350104,0.868574659566185,0.8505122857257448,0.6030410601965057,0.6937265517839656,0.9191552192374202,0.8846765044717175,0.8124416786685948,0.7315864368168598,0.8641814728863368,0.679651964922837,0.9082114058768993,0.8423306943608936,0.8029057305077341,0.8704843101921764,0.8782217664225458],[0.8438800159999333,0.8303235788272452,1.0,0.812937091085587,0.7903302147319601,0.7515209528549595,0.7753353795300626,0.8003329028480132,0.7766379367717289,0.945726378146919,0.5548083243017464,0.606714817485702,0.8229685775048137,0.8299919466048387,0.7619331351568472,0.7469454000035708,0.7545670341656305,0.635691052688842,0.784508163907901,0.7339977272504948,0.7635439966789623,0.7813704739779787,0.7494824005932447],[0.8996580248912924,0.9064848990347165,0.812937091085587,1.0000000000000002,0.8246905382933118,0.8177046479336807,0.7706268365448512,0.8053660807863282,0.7897863040375153,0.8161098960670814,0.605241802961925,0.7427979862362718,0.8989115768090206,0.8883291365615342,0.8296653866095263,0.6908294121969907,0.8412810863571915,0.6672493945243365,0.8716354963921957,0.8145638795670676,0.7449314616341759,0.8096378640865313,0.844715160791212],[0.9431908692785949,0.8974872491777032,0.7903302147319601,0.8246905382933118,1.0000000000000007,0.8811573510569091,0.7846252848843942,0.9175160272590923,0.932461340207013,0.8869748775875956,0.5318642515502147,0.6734699355539286,0.915748985395523,0.8705089095260521,0.7549674737478645,0.7575267792487551,0.8032935308135423,0.6334491426478469,0.8782794145789266,0.7951452392234548,0.8109642406084483,0.9373219921145449,0.8386319596186984],[0.8983149157402164,0.8509616474790587,0.7515209528549595,0.8177046479336807,0.8811573510569091,1.0000000000000007,0.7511791990610979,0.8258110941914016,0.8588605079360767,0.8410519568888389,0.5874475536592965,0.6555481509472388,0.8708133470900452,0.8441530936210785,0.7238972530103914,0.7356009774476922,0.7934921042034437,0.6625060723305893,0.8298999282777555,0.7907814625251797,0.7440870824135253,0.8617821577971678,0.8385847702404834],[0.8115576874971164,0.7596803633495602,0.7753353795300626,0.7706268365448512,0.7846252848843942,0.7511791990610979,1.0,0.7848539685666107,0.8115209300659425,0.7382863525663181,0.524574752488001,0.6181889436636845,0.8121595550376949,0.8346420177617553,0.6806915501188858,0.734251584080256,0.7399437945708355,0.61042415058521,0.7287363640126789,0.695554625803182,0.6632097407819489,0.7960010226778962,0.7060676972635471],[0.9247370267281151,0.8835169602350104,0.8003329028480132,0.8053660807863282,0.9175160272590923,0.8258110941914016,0.7848539685666107,0.9999999999999998,0.932732526535129,0.8724484313034645,0.5067448209700984,0.6690436957125546,0.9151821951260906,0.8952391884115647,0.7722641415712357,0.7824900512864386,0.7962115099595998,0.6780157568219334,0.8580446659259442,0.8037592620396636,0.8102297790818248,0.9336267267947316,0.8096901128116809],[0.9383312989734223,0.868574659566185,0.7766379367717289,0.7897863040375153,0.932461340207013,0.8588605079360767,0.8115209300659425,0.932732526535129,1.0000000000000004,0.8800406437725247,0.49986746669528925,0.6407983414476381,0.9040683348813001,0.8737017594068585,0.747130913591711,0.7706327748010324,0.7661313962299754,0.6345487970086965,0.8108910370675166,0.7611140331639327,0.7808559745106163,0.9455385999076996,0.7759587842787705],[0.8999898648763399,0.8505122857257448,0.945726378146919,0.8161098960670814,0.8869748775875956,0.8410519568888389,0.7382863525663181,0.8724484313034645,0.8800406437725247,1.0000000000000002,0.5654297622466677,0.6271747574008542,0.8741726302578555,0.8676423060497769,0.7759803497697075,0.77755353089588,0.7702367186047291,0.6522006940846967,0.8145817341581347,0.7665488343688304,0.8016658415590834,0.8874480903263231,0.7954117250416372],[0.5856562571786801,0.6030410601965057,0.5548083243017464,0.605241802961925,0.5318642515502147,0.5874475536592965,0.524574752488001,0.5067448209700984,0.49986746669528925,0.5654297622466677,1.0000000000000004,0.4530939786132636,0.6170509304610092,0.632545826965025,0.5967471505675712,0.4789954682557663,0.6155737997615791,0.6609362381957387,0.6003704985954049,0.5310243271732455,0.5361345066704507,0.5335372364666892,0.6430408731308361],[0.6895956631054329,0.6937265517839656,0.606714817485702,0.7427979862362718,0.6734699355539286,0.6555481509472388,0.6181889436636845,0.6690436957125546,0.6407983414476381,0.6271747574008542,0.4530939786132636,0.9999999999999999,0.7396871946927026,0.7057103516460403,0.6285656356112189,0.5572769779242934,0.6970676520319957,0.5534387945008453,0.6702212778923556,0.7038819098047803,0.6115680279406525,0.6882884456579738,0.6779240184099522],[0.9495782456890243,0.9191552192374202,0.8229685775048137,0.8989115768090206,0.915748985395523,0.8708133470900452,0.8121595550376949,0.9151821951260906,0.9040683348813001,0.8741726302578555,0.6170509304610092,0.7396871946927026,1.0,0.9321430744154993,0.8377507749523465,0.7510259639160299,0.8627600785176293,0.6947179831572964,0.8979148133249266,0.8737297655583941,0.7981594232486069,0.9200232024536015,0.8565694085121314],[0.9116969317928272,0.8846765044717175,0.8299919466048387,0.8883291365615342,0.8705089095260521,0.8441530936210785,0.8346420177617553,0.8952391884115647,0.8737017594068585,0.8676423060497769,0.632545826965025,0.7057103516460403,0.9321430744154993,1.0000000000000002,0.8261703194906165,0.7451840698994565,0.820722565342983,0.782325851251341,0.8601374906025034,0.7962330821454441,0.8152358167520269,0.8935587562941718,0.8427361004219409],[0.8228997104435741,0.8124416786685948,0.7619331351568472,0.8296653866095263,0.7549674737478645,0.7238972530103914,0.6806915501188858,0.7722641415712357,0.747130913591711,0.7759803497697075,0.5967471505675712,0.6285656356112189,0.8377507749523465,0.8261703194906165,1.0,0.6368122256199067,0.7842606615849284,0.6615194310415331,0.7922102535968731,0.7494674023598373,0.7409270475825971,0.7680832564544715,0.7751659023228514],[0.7703649930732082,0.7315864368168598,0.7469454000035708,0.6908294121969907,0.7575267792487551,0.7356009774476922,0.734251584080256,0.7824900512864386,0.7706327748010324,0.77755353089588,0.4789954682557663,0.5572769779242934,0.7510259639160299,0.7451840698994565,0.6368122256199067,1.0000000000000002,0.6841651358107388,0.5425525946108709,0.6799036373136703,0.6695652865532021,0.703679943007659,0.7619809812327419,0.6879344117784949],[0.8494027800455693,0.8641814728863368,0.7545670341656305,0.8412810863571915,0.8032935308135423,0.7934921042034437,0.7399437945708355,0.7962115099595998,0.7661313962299754,0.7702367186047291,0.6155737997615791,0.6970676520319957,0.8627600785176293,0.820722565342983,0.7842606615849284,0.6841651358107388,1.0000000000000002,0.6504016255091525,0.8581790448028914,0.8560234832349309,0.7015907574172987,0.7962592146916644,0.9063715142432934],[0.6924563495142964,0.679651964922837,0.635691052688842,0.6672493945243365,0.6334491426478469,0.6625060723305893,0.61042415058521,0.6780157568219334,0.6345487970086965,0.6522006940846967,0.6609362381957387,0.5534387945008453,0.6947179831572964,0.782325851251341,0.6615194310415331,0.5425525946108709,0.6504016255091525,1.0,0.6840714919887688,0.5759087042657078,0.6991810503291033,0.6723752871735587,0.6715589852545105],[0.9011875815154664,0.9082114058768993,0.784508163907901,0.8716354963921957,0.8782794145789266,0.8298999282777555,0.7287363640126789,0.8580446659259442,0.8108910370675166,0.8145817341581347,0.6003704985954049,0.6702212778923556,0.8979148133249266,0.8601374906025034,0.7922102535968731,0.6799036373136703,0.8581790448028914,0.6840714919887688,0.9999999999999998,0.8041646359209509,0.7796872014666121,0.8432642089471776,0.8725003526063375],[0.8349136772872298,0.8423306943608936,0.7339977272504948,0.8145638795670676,0.7951452392234548,0.7907814625251797,0.695554625803182,0.8037592620396636,0.7611140331639327,0.7665488343688304,0.5310243271732455,0.7038819098047803,0.8737297655583941,0.7962330821454441,0.7494674023598373,0.6695652865532021,0.8560234832349309,0.5759087042657078,0.8041646359209509,0.9999999999999993,0.6762341093346829,0.8095615359027333,0.8094269065743283],[0.8219206129898204,0.8029057305077341,0.7635439966789623,0.7449314616341759,0.8109642406084483,0.7440870824135253,0.6632097407819489,0.8102297790818248,0.7808559745106163,0.8016658415590834,0.5361345066704507,0.6115680279406525,0.7981594232486069,0.8152358167520269,0.7409270475825971,0.703679943007659,0.7015907574172987,0.6991810503291033,0.7796872014666121,0.6762341093346829,1.0000000000000004,0.7932909265281373,0.7430735678215645],[0.9302027598916988,0.8704843101921764,0.7813704739779787,0.8096378640865313,0.9373219921145449,0.8617821577971678,0.7960010226778962,0.9336267267947316,0.9455385999076996,0.8874480903263231,0.5335372364666892,0.6882884456579738,0.9200232024536015,0.8935587562941718,0.7680832564544715,0.7619809812327419,0.7962592146916644,0.6723752871735587,0.8432642089471776,0.8095615359027333,0.7932909265281373,1.0000000000000004,0.8168044252293407],[0.8670721434186286,0.8782217664225458,0.7494824005932447,0.844715160791212,0.8386319596186984,0.8385847702404834,0.7060676972635471,0.8096901128116809,0.7759587842787705,0.7954117250416372,0.6430408731308361,0.6779240184099522,0.8565694085121314,0.8427361004219409,0.7751659023228514,0.6879344117784949,0.9063715142432934,0.6715589852545105,0.8725003526063375,0.8094269065743283,0.7430735678215645,0.8168044252293407,0.999999999999999]],\"type\":\"heatmap\",\"xaxis\":\"x\",\"yaxis\":\"y\",\"hovertemplate\":\"x: %{x}<br>y: %{y}<br>Similarity Score: %{z}<extra></extra>\"}],                        {\"template\":{\"data\":{\"bar\":[{\"error_x\":{\"color\":\"#2a3f5f\"},\"error_y\":{\"color\":\"#2a3f5f\"},\"marker\":{\"line\":{\"color\":\"#E5ECF6\",\"width\":0.5},\"pattern\":{\"fillmode\":\"overlay\",\"size\":10,\"solidity\":0.2}},\"type\":\"bar\"}],\"barpolar\":[{\"marker\":{\"line\":{\"color\":\"#E5ECF6\",\"width\":0.5},\"pattern\":{\"fillmode\":\"overlay\",\"size\":10,\"solidity\":0.2}},\"type\":\"barpolar\"}],\"carpet\":[{\"aaxis\":{\"endlinecolor\":\"#2a3f5f\",\"gridcolor\":\"white\",\"linecolor\":\"white\",\"minorgridcolor\":\"white\",\"startlinecolor\":\"#2a3f5f\"},\"baxis\":{\"endlinecolor\":\"#2a3f5f\",\"gridcolor\":\"white\",\"linecolor\":\"white\",\"minorgridcolor\":\"white\",\"startlinecolor\":\"#2a3f5f\"},\"type\":\"carpet\"}],\"choropleth\":[{\"colorbar\":{\"outlinewidth\":0,\"ticks\":\"\"},\"type\":\"choropleth\"}],\"contour\":[{\"colorbar\":{\"outlinewidth\":0,\"ticks\":\"\"},\"colorscale\":[[0.0,\"#0d0887\"],[0.1111111111111111,\"#46039f\"],[0.2222222222222222,\"#7201a8\"],[0.3333333333333333,\"#9c179e\"],[0.4444444444444444,\"#bd3786\"],[0.5555555555555556,\"#d8576b\"],[0.6666666666666666,\"#ed7953\"],[0.7777777777777778,\"#fb9f3a\"],[0.8888888888888888,\"#fdca26\"],[1.0,\"#f0f921\"]],\"type\":\"contour\"}],\"contourcarpet\":[{\"colorbar\":{\"outlinewidth\":0,\"ticks\":\"\"},\"type\":\"contourcarpet\"}],\"heatmap\":[{\"colorbar\":{\"outlinewidth\":0,\"ticks\":\"\"},\"colorscale\":[[0.0,\"#0d0887\"],[0.1111111111111111,\"#46039f\"],[0.2222222222222222,\"#7201a8\"],[0.3333333333333333,\"#9c179e\"],[0.4444444444444444,\"#bd3786\"],[0.5555555555555556,\"#d8576b\"],[0.6666666666666666,\"#ed7953\"],[0.7777777777777778,\"#fb9f3a\"],[0.8888888888888888,\"#fdca26\"],[1.0,\"#f0f921\"]],\"type\":\"heatmap\"}],\"heatmapgl\":[{\"colorbar\":{\"outlinewidth\":0,\"ticks\":\"\"},\"colorscale\":[[0.0,\"#0d0887\"],[0.1111111111111111,\"#46039f\"],[0.2222222222222222,\"#7201a8\"],[0.3333333333333333,\"#9c179e\"],[0.4444444444444444,\"#bd3786\"],[0.5555555555555556,\"#d8576b\"],[0.6666666666666666,\"#ed7953\"],[0.7777777777777778,\"#fb9f3a\"],[0.8888888888888888,\"#fdca26\"],[1.0,\"#f0f921\"]],\"type\":\"heatmapgl\"}],\"histogram\":[{\"marker\":{\"pattern\":{\"fillmode\":\"overlay\",\"size\":10,\"solidity\":0.2}},\"type\":\"histogram\"}],\"histogram2d\":[{\"colorbar\":{\"outlinewidth\":0,\"ticks\":\"\"},\"colorscale\":[[0.0,\"#0d0887\"],[0.1111111111111111,\"#46039f\"],[0.2222222222222222,\"#7201a8\"],[0.3333333333333333,\"#9c179e\"],[0.4444444444444444,\"#bd3786\"],[0.5555555555555556,\"#d8576b\"],[0.6666666666666666,\"#ed7953\"],[0.7777777777777778,\"#fb9f3a\"],[0.8888888888888888,\"#fdca26\"],[1.0,\"#f0f921\"]],\"type\":\"histogram2d\"}],\"histogram2dcontour\":[{\"colorbar\":{\"outlinewidth\":0,\"ticks\":\"\"},\"colorscale\":[[0.0,\"#0d0887\"],[0.1111111111111111,\"#46039f\"],[0.2222222222222222,\"#7201a8\"],[0.3333333333333333,\"#9c179e\"],[0.4444444444444444,\"#bd3786\"],[0.5555555555555556,\"#d8576b\"],[0.6666666666666666,\"#ed7953\"],[0.7777777777777778,\"#fb9f3a\"],[0.8888888888888888,\"#fdca26\"],[1.0,\"#f0f921\"]],\"type\":\"histogram2dcontour\"}],\"mesh3d\":[{\"colorbar\":{\"outlinewidth\":0,\"ticks\":\"\"},\"type\":\"mesh3d\"}],\"parcoords\":[{\"line\":{\"colorbar\":{\"outlinewidth\":0,\"ticks\":\"\"}},\"type\":\"parcoords\"}],\"pie\":[{\"automargin\":true,\"type\":\"pie\"}],\"scatter\":[{\"marker\":{\"colorbar\":{\"outlinewidth\":0,\"ticks\":\"\"}},\"type\":\"scatter\"}],\"scatter3d\":[{\"line\":{\"colorbar\":{\"outlinewidth\":0,\"ticks\":\"\"}},\"marker\":{\"colorbar\":{\"outlinewidth\":0,\"ticks\":\"\"}},\"type\":\"scatter3d\"}],\"scattercarpet\":[{\"marker\":{\"colorbar\":{\"outlinewidth\":0,\"ticks\":\"\"}},\"type\":\"scattercarpet\"}],\"scattergeo\":[{\"marker\":{\"colorbar\":{\"outlinewidth\":0,\"ticks\":\"\"}},\"type\":\"scattergeo\"}],\"scattergl\":[{\"marker\":{\"colorbar\":{\"outlinewidth\":0,\"ticks\":\"\"}},\"type\":\"scattergl\"}],\"scattermapbox\":[{\"marker\":{\"colorbar\":{\"outlinewidth\":0,\"ticks\":\"\"}},\"type\":\"scattermapbox\"}],\"scatterpolar\":[{\"marker\":{\"colorbar\":{\"outlinewidth\":0,\"ticks\":\"\"}},\"type\":\"scatterpolar\"}],\"scatterpolargl\":[{\"marker\":{\"colorbar\":{\"outlinewidth\":0,\"ticks\":\"\"}},\"type\":\"scatterpolargl\"}],\"scatterternary\":[{\"marker\":{\"colorbar\":{\"outlinewidth\":0,\"ticks\":\"\"}},\"type\":\"scatterternary\"}],\"surface\":[{\"colorbar\":{\"outlinewidth\":0,\"ticks\":\"\"},\"colorscale\":[[0.0,\"#0d0887\"],[0.1111111111111111,\"#46039f\"],[0.2222222222222222,\"#7201a8\"],[0.3333333333333333,\"#9c179e\"],[0.4444444444444444,\"#bd3786\"],[0.5555555555555556,\"#d8576b\"],[0.6666666666666666,\"#ed7953\"],[0.7777777777777778,\"#fb9f3a\"],[0.8888888888888888,\"#fdca26\"],[1.0,\"#f0f921\"]],\"type\":\"surface\"}],\"table\":[{\"cells\":{\"fill\":{\"color\":\"#EBF0F8\"},\"line\":{\"color\":\"white\"}},\"header\":{\"fill\":{\"color\":\"#C8D4E3\"},\"line\":{\"color\":\"white\"}},\"type\":\"table\"}]},\"layout\":{\"annotationdefaults\":{\"arrowcolor\":\"#2a3f5f\",\"arrowhead\":0,\"arrowwidth\":1},\"autotypenumbers\":\"strict\",\"coloraxis\":{\"colorbar\":{\"outlinewidth\":0,\"ticks\":\"\"}},\"colorscale\":{\"diverging\":[[0,\"#8e0152\"],[0.1,\"#c51b7d\"],[0.2,\"#de77ae\"],[0.3,\"#f1b6da\"],[0.4,\"#fde0ef\"],[0.5,\"#f7f7f7\"],[0.6,\"#e6f5d0\"],[0.7,\"#b8e186\"],[0.8,\"#7fbc41\"],[0.9,\"#4d9221\"],[1,\"#276419\"]],\"sequential\":[[0.0,\"#0d0887\"],[0.1111111111111111,\"#46039f\"],[0.2222222222222222,\"#7201a8\"],[0.3333333333333333,\"#9c179e\"],[0.4444444444444444,\"#bd3786\"],[0.5555555555555556,\"#d8576b\"],[0.6666666666666666,\"#ed7953\"],[0.7777777777777778,\"#fb9f3a\"],[0.8888888888888888,\"#fdca26\"],[1.0,\"#f0f921\"]],\"sequentialminus\":[[0.0,\"#0d0887\"],[0.1111111111111111,\"#46039f\"],[0.2222222222222222,\"#7201a8\"],[0.3333333333333333,\"#9c179e\"],[0.4444444444444444,\"#bd3786\"],[0.5555555555555556,\"#d8576b\"],[0.6666666666666666,\"#ed7953\"],[0.7777777777777778,\"#fb9f3a\"],[0.8888888888888888,\"#fdca26\"],[1.0,\"#f0f921\"]]},\"colorway\":[\"#636efa\",\"#EF553B\",\"#00cc96\",\"#ab63fa\",\"#FFA15A\",\"#19d3f3\",\"#FF6692\",\"#B6E880\",\"#FF97FF\",\"#FECB52\"],\"font\":{\"color\":\"#2a3f5f\"},\"geo\":{\"bgcolor\":\"white\",\"lakecolor\":\"white\",\"landcolor\":\"#E5ECF6\",\"showlakes\":true,\"showland\":true,\"subunitcolor\":\"white\"},\"hoverlabel\":{\"align\":\"left\"},\"hovermode\":\"closest\",\"mapbox\":{\"style\":\"light\"},\"paper_bgcolor\":\"white\",\"plot_bgcolor\":\"#E5ECF6\",\"polar\":{\"angularaxis\":{\"gridcolor\":\"white\",\"linecolor\":\"white\",\"ticks\":\"\"},\"bgcolor\":\"#E5ECF6\",\"radialaxis\":{\"gridcolor\":\"white\",\"linecolor\":\"white\",\"ticks\":\"\"}},\"scene\":{\"xaxis\":{\"backgroundcolor\":\"#E5ECF6\",\"gridcolor\":\"white\",\"gridwidth\":2,\"linecolor\":\"white\",\"showbackground\":true,\"ticks\":\"\",\"zerolinecolor\":\"white\"},\"yaxis\":{\"backgroundcolor\":\"#E5ECF6\",\"gridcolor\":\"white\",\"gridwidth\":2,\"linecolor\":\"white\",\"showbackground\":true,\"ticks\":\"\",\"zerolinecolor\":\"white\"},\"zaxis\":{\"backgroundcolor\":\"#E5ECF6\",\"gridcolor\":\"white\",\"gridwidth\":2,\"linecolor\":\"white\",\"showbackground\":true,\"ticks\":\"\",\"zerolinecolor\":\"white\"}},\"shapedefaults\":{\"line\":{\"color\":\"#2a3f5f\"}},\"ternary\":{\"aaxis\":{\"gridcolor\":\"white\",\"linecolor\":\"white\",\"ticks\":\"\"},\"baxis\":{\"gridcolor\":\"white\",\"linecolor\":\"white\",\"ticks\":\"\"},\"bgcolor\":\"#E5ECF6\",\"caxis\":{\"gridcolor\":\"white\",\"linecolor\":\"white\",\"ticks\":\"\"}},\"title\":{\"x\":0.05},\"xaxis\":{\"automargin\":true,\"gridcolor\":\"white\",\"linecolor\":\"white\",\"ticks\":\"\",\"title\":{\"standoff\":15},\"zerolinecolor\":\"white\",\"zerolinewidth\":2},\"yaxis\":{\"automargin\":true,\"gridcolor\":\"white\",\"linecolor\":\"white\",\"ticks\":\"\",\"title\":{\"standoff\":15},\"zerolinecolor\":\"white\",\"zerolinewidth\":2}}},\"xaxis\":{\"anchor\":\"y\",\"domain\":[0.0,1.0],\"scaleanchor\":\"y\",\"constrain\":\"domain\"},\"yaxis\":{\"anchor\":\"x\",\"domain\":[0.0,1.0],\"autorange\":\"reversed\",\"constrain\":\"domain\"},\"coloraxis\":{\"colorbar\":{\"title\":{\"text\":\"Similarity Score\"}},\"colorscale\":[[0.0,\"rgb(247,252,240)\"],[0.125,\"rgb(224,243,219)\"],[0.25,\"rgb(204,235,197)\"],[0.375,\"rgb(168,221,181)\"],[0.5,\"rgb(123,204,196)\"],[0.625,\"rgb(78,179,211)\"],[0.75,\"rgb(43,140,190)\"],[0.875,\"rgb(8,104,172)\"],[1.0,\"rgb(8,64,129)\"]]},\"margin\":{\"t\":60},\"title\":{\"font\":{\"size\":22,\"color\":\"Black\"},\"text\":\"<b>Similarity Matrix\",\"y\":0.95,\"x\":0.55,\"xanchor\":\"center\",\"yanchor\":\"top\"},\"hoverlabel\":{\"font\":{\"size\":16,\"family\":\"Rockwell\"},\"bgcolor\":\"white\"},\"width\":800,\"height\":800,\"showlegend\":true,\"legend\":{\"title\":{\"text\":\"Trend\"}}},                        {\"responsive\": true}                    ).then(function(){\n",
              "                            \n",
              "var gd = document.getElementById('4132d4e7-7a37-456b-8b65-1dbee18a23af');\n",
              "var x = new MutationObserver(function (mutations, observer) {{\n",
              "        var display = window.getComputedStyle(gd).display;\n",
              "        if (!display || display === 'none') {{\n",
              "            console.log([gd, 'removed!']);\n",
              "            Plotly.purge(gd);\n",
              "            observer.disconnect();\n",
              "        }}\n",
              "}});\n",
              "\n",
              "// Listen for the removal of the full notebook cells\n",
              "var notebookContainer = gd.closest('#notebook-container');\n",
              "if (notebookContainer) {{\n",
              "    x.observe(notebookContainer, {childList: true});\n",
              "}}\n",
              "\n",
              "// Listen for the clearing of the current output cell\n",
              "var outputEl = gd.closest('.output');\n",
              "if (outputEl) {{\n",
              "    x.observe(outputEl, {childList: true});\n",
              "}}\n",
              "\n",
              "                        })                };                            </script>        </div>\n",
              "</body>\n",
              "</html>"
            ]
          },
          "metadata": {}
        }
      ]
    },
    {
      "cell_type": "markdown",
      "source": [
        "These visualizations look cool, but the presence of Topic -1 is kind of annoying and I can't seem to find a way to remove it."
      ],
      "metadata": {
        "id": "cNj3MCztnH18"
      }
    },
    {
      "cell_type": "markdown",
      "source": [
        "# Hierarchical Clustering\n",
        "\n",
        "Clusters the articles that include similar topics together\n"
      ],
      "metadata": {
        "id": "AbdEw2RUdY2F"
      }
    },
    {
      "cell_type": "code",
      "source": [
        "topic_model.visualize_hierarchy()"
      ],
      "metadata": {
        "id": "_FjKJCnvQp1e",
        "outputId": "5e79c62d-b160-4279-b9a6-8302101fbd68",
        "colab": {
          "base_uri": "https://localhost:8080/",
          "height": 582
        }
      },
      "execution_count": 138,
      "outputs": [
        {
          "output_type": "display_data",
          "data": {
            "text/html": [
              "<html>\n",
              "<head><meta charset=\"utf-8\" /></head>\n",
              "<body>\n",
              "    <div>            <script src=\"https://cdnjs.cloudflare.com/ajax/libs/mathjax/2.7.5/MathJax.js?config=TeX-AMS-MML_SVG\"></script><script type=\"text/javascript\">if (window.MathJax) {MathJax.Hub.Config({SVG: {font: \"STIX-Web\"}});}</script>                <script type=\"text/javascript\">window.PlotlyConfig = {MathJaxConfig: 'local'};</script>\n",
              "        <script src=\"https://cdn.plot.ly/plotly-2.8.3.min.js\"></script>                <div id=\"ea8051b6-ad55-49a3-9e58-31d7280c1b48\" class=\"plotly-graph-div\" style=\"height:545px; width:1000px;\"></div>            <script type=\"text/javascript\">                                    window.PLOTLYENV=window.PLOTLYENV || {};                                    if (document.getElementById(\"ea8051b6-ad55-49a3-9e58-31d7280c1b48\")) {                    Plotly.newPlot(                        \"ea8051b6-ad55-49a3-9e58-31d7280c1b48\",                        [{\"hoverinfo\":\"text\",\"marker\":{\"color\":\"rgb(61,153,112)\"},\"mode\":\"lines\",\"x\":[0.0,0.6630184499567862,0.6630184499567862,0.0],\"xaxis\":\"x\",\"y\":[-15.0,-15.0,-25.0,-25.0],\"yaxis\":\"y\",\"type\":\"scatter\"},{\"hoverinfo\":\"text\",\"marker\":{\"color\":\"rgb(61,153,112)\"},\"mode\":\"lines\",\"x\":[0.0,0.8567475391485561,0.8567475391485561,0.6630184499567862],\"xaxis\":\"x\",\"y\":[-5.0,-5.0,-20.0,-20.0],\"yaxis\":\"y\",\"type\":\"scatter\"},{\"hoverinfo\":\"text\",\"marker\":{\"color\":\"rgb(255,65,54)\"},\"mode\":\"lines\",\"x\":[0.0,0.4341147279469319,0.4341147279469319,0.0],\"xaxis\":\"x\",\"y\":[-35.0,-35.0,-45.0,-45.0],\"yaxis\":\"y\",\"type\":\"scatter\"},{\"hoverinfo\":\"text\",\"marker\":{\"color\":\"rgb(255,65,54)\"},\"mode\":\"lines\",\"x\":[0.0,0.2589999220564686,0.2589999220564686,0.0],\"xaxis\":\"x\",\"y\":[-55.0,-55.0,-65.0,-65.0],\"yaxis\":\"y\",\"type\":\"scatter\"},{\"hoverinfo\":\"text\",\"marker\":{\"color\":\"rgb(255,65,54)\"},\"mode\":\"lines\",\"x\":[0.0,0.41732295459283086,0.41732295459283086,0.0],\"xaxis\":\"x\",\"y\":[-75.0,-75.0,-85.0,-85.0],\"yaxis\":\"y\",\"type\":\"scatter\"},{\"hoverinfo\":\"text\",\"marker\":{\"color\":\"rgb(255,65,54)\"},\"mode\":\"lines\",\"x\":[0.2589999220564686,0.5239633353453121,0.5239633353453121,0.41732295459283086],\"xaxis\":\"x\",\"y\":[-60.0,-60.0,-80.0,-80.0],\"yaxis\":\"y\",\"type\":\"scatter\"},{\"hoverinfo\":\"text\",\"marker\":{\"color\":\"rgb(255,65,54)\"},\"mode\":\"lines\",\"x\":[0.4341147279469319,0.673988358798289,0.673988358798289,0.5239633353453121],\"xaxis\":\"x\",\"y\":[-40.0,-40.0,-70.0,-70.0],\"yaxis\":\"y\",\"type\":\"scatter\"},{\"hoverinfo\":\"text\",\"marker\":{\"color\":\"rgb(35,205,205)\"},\"mode\":\"lines\",\"x\":[0.0,0.17357709683859512,0.17357709683859512,0.0],\"xaxis\":\"x\",\"y\":[-105.0,-105.0,-115.0,-115.0],\"yaxis\":\"y\",\"type\":\"scatter\"},{\"hoverinfo\":\"text\",\"marker\":{\"color\":\"rgb(35,205,205)\"},\"mode\":\"lines\",\"x\":[0.0,0.230571043810995,0.230571043810995,0.0],\"xaxis\":\"x\",\"y\":[-125.0,-125.0,-135.0,-135.0],\"yaxis\":\"y\",\"type\":\"scatter\"},{\"hoverinfo\":\"text\",\"marker\":{\"color\":\"rgb(35,205,205)\"},\"mode\":\"lines\",\"x\":[0.17357709683859512,0.3195220176432403,0.3195220176432403,0.230571043810995],\"xaxis\":\"x\",\"y\":[-110.0,-110.0,-130.0,-130.0],\"yaxis\":\"y\",\"type\":\"scatter\"},{\"hoverinfo\":\"text\",\"marker\":{\"color\":\"rgb(35,205,205)\"},\"mode\":\"lines\",\"x\":[0.0,0.3920692977523073,0.3920692977523073,0.3195220176432403],\"xaxis\":\"x\",\"y\":[-95.0,-95.0,-120.0,-120.0],\"yaxis\":\"y\",\"type\":\"scatter\"},{\"hoverinfo\":\"text\",\"marker\":{\"color\":\"rgb(35,205,205)\"},\"mode\":\"lines\",\"x\":[0.0,0.13486546061166524,0.13486546061166524,0.0],\"xaxis\":\"x\",\"y\":[-165.0,-165.0,-175.0,-175.0],\"yaxis\":\"y\",\"type\":\"scatter\"},{\"hoverinfo\":\"text\",\"marker\":{\"color\":\"rgb(35,205,205)\"},\"mode\":\"lines\",\"x\":[0.0,0.17732661074275066,0.17732661074275066,0.13486546061166524],\"xaxis\":\"x\",\"y\":[-155.0,-155.0,-170.0,-170.0],\"yaxis\":\"y\",\"type\":\"scatter\"},{\"hoverinfo\":\"text\",\"marker\":{\"color\":\"rgb(35,205,205)\"},\"mode\":\"lines\",\"x\":[0.0,0.24847881035031064,0.24847881035031064,0.17732661074275066],\"xaxis\":\"x\",\"y\":[-145.0,-145.0,-162.5,-162.5],\"yaxis\":\"y\",\"type\":\"scatter\"},{\"hoverinfo\":\"text\",\"marker\":{\"color\":\"rgb(35,205,205)\"},\"mode\":\"lines\",\"x\":[0.0,0.11731088235995187,0.11731088235995187,0.0],\"xaxis\":\"x\",\"y\":[-215.0,-215.0,-225.0,-225.0],\"yaxis\":\"y\",\"type\":\"scatter\"},{\"hoverinfo\":\"text\",\"marker\":{\"color\":\"rgb(35,205,205)\"},\"mode\":\"lines\",\"x\":[0.0,0.14448777249947498,0.14448777249947498,0.11731088235995187],\"xaxis\":\"x\",\"y\":[-205.0,-205.0,-220.0,-220.0],\"yaxis\":\"y\",\"type\":\"scatter\"},{\"hoverinfo\":\"text\",\"marker\":{\"color\":\"rgb(35,205,205)\"},\"mode\":\"lines\",\"x\":[0.0,0.16187814780059834,0.16187814780059834,0.14448777249947498],\"xaxis\":\"x\",\"y\":[-195.0,-195.0,-212.5,-212.5],\"yaxis\":\"y\",\"type\":\"scatter\"},{\"hoverinfo\":\"text\",\"marker\":{\"color\":\"rgb(35,205,205)\"},\"mode\":\"lines\",\"x\":[0.0,0.35442838079522737,0.35442838079522737,0.16187814780059834],\"xaxis\":\"x\",\"y\":[-185.0,-185.0,-203.75,-203.75],\"yaxis\":\"y\",\"type\":\"scatter\"},{\"hoverinfo\":\"text\",\"marker\":{\"color\":\"rgb(35,205,205)\"},\"mode\":\"lines\",\"x\":[0.24847881035031064,0.4806961719804158,0.4806961719804158,0.35442838079522737],\"xaxis\":\"x\",\"y\":[-153.75,-153.75,-194.375,-194.375],\"yaxis\":\"y\",\"type\":\"scatter\"},{\"hoverinfo\":\"text\",\"marker\":{\"color\":\"rgb(35,205,205)\"},\"mode\":\"lines\",\"x\":[0.3920692977523073,0.7995231143473137,0.7995231143473137,0.4806961719804158],\"xaxis\":\"x\",\"y\":[-107.5,-107.5,-174.0625,-174.0625],\"yaxis\":\"y\",\"type\":\"scatter\"},{\"hoverinfo\":\"text\",\"marker\":{\"color\":\"rgb(0,116,217)\"},\"mode\":\"lines\",\"x\":[0.673988358798289,1.0528785499330928,1.0528785499330928,0.7995231143473137],\"xaxis\":\"x\",\"y\":[-55.0,-55.0,-140.78125,-140.78125],\"yaxis\":\"y\",\"type\":\"scatter\"},{\"hoverinfo\":\"text\",\"marker\":{\"color\":\"rgb(0,116,217)\"},\"mode\":\"lines\",\"x\":[0.8567475391485561,2.074449609764072,2.074449609764072,1.0528785499330928],\"xaxis\":\"x\",\"y\":[-12.5,-12.5,-97.890625,-97.890625],\"yaxis\":\"y\",\"type\":\"scatter\"}],                        {\"autosize\":false,\"height\":545,\"hovermode\":\"closest\",\"showlegend\":false,\"width\":1000,\"xaxis\":{\"mirror\":\"allticks\",\"rangemode\":\"tozero\",\"showgrid\":false,\"showline\":true,\"showticklabels\":true,\"ticks\":\"outside\",\"type\":\"linear\",\"zeroline\":false},\"yaxis\":{\"mirror\":\"allticks\",\"rangemode\":\"tozero\",\"showgrid\":false,\"showline\":true,\"showticklabels\":true,\"tickmode\":\"array\",\"ticks\":\"outside\",\"ticktext\":[\"10_cannabis_rauchen_konsum\",\"9_energien_erneuerbaren_strom\",\"16_co2_abgabe_co2 abgabe\",\"5_franken_millionen_prozent\",\"14_sport_fifa_millionen\",\"1_armee_franken_kommission\",\"8_armee_schweiz_schweizer\",\"13_gpk_gesch\\u00e4ftspr\\u00fcfungsdel...\",\"19_luftfahrt_schweiz_flugha...\",\"18_kinder_sexuelle_eltern\",\"15_forschung_menschen_forsc...\",\"21_forschung_bildung_regionen\",\"2_gesundheitswesen_kosten_v...\",\"17_integration_ausl\\u00e4nder_ar...\",\"12_lsva_bundesrat_eu\",\"0_kommission_bundesrat_init...\",\"-1_schweiz_bundesrat_heute\",\"11_ahv_iv_initiative\",\"4_landwirtschaft_schweiz_sc...\",\"7_schweiz_prozent_schweizer\",\"3_schweiz_zuwanderung_perso...\",\"6_eu_schweiz_bundesrat\",\"20_eu_schweiz_welt\"],\"tickvals\":[-5.0,-15.0,-25.0,-35.0,-45.0,-55.0,-65.0,-75.0,-85.0,-95.0,-105.0,-115.0,-125.0,-135.0,-145.0,-155.0,-165.0,-175.0,-185.0,-195.0,-205.0,-215.0,-225.0],\"type\":\"linear\",\"zeroline\":false,\"range\":[-230.0,0.0]},\"template\":{\"data\":{\"barpolar\":[{\"marker\":{\"line\":{\"color\":\"white\",\"width\":0.5},\"pattern\":{\"fillmode\":\"overlay\",\"size\":10,\"solidity\":0.2}},\"type\":\"barpolar\"}],\"bar\":[{\"error_x\":{\"color\":\"#2a3f5f\"},\"error_y\":{\"color\":\"#2a3f5f\"},\"marker\":{\"line\":{\"color\":\"white\",\"width\":0.5},\"pattern\":{\"fillmode\":\"overlay\",\"size\":10,\"solidity\":0.2}},\"type\":\"bar\"}],\"carpet\":[{\"aaxis\":{\"endlinecolor\":\"#2a3f5f\",\"gridcolor\":\"#C8D4E3\",\"linecolor\":\"#C8D4E3\",\"minorgridcolor\":\"#C8D4E3\",\"startlinecolor\":\"#2a3f5f\"},\"baxis\":{\"endlinecolor\":\"#2a3f5f\",\"gridcolor\":\"#C8D4E3\",\"linecolor\":\"#C8D4E3\",\"minorgridcolor\":\"#C8D4E3\",\"startlinecolor\":\"#2a3f5f\"},\"type\":\"carpet\"}],\"choropleth\":[{\"colorbar\":{\"outlinewidth\":0,\"ticks\":\"\"},\"type\":\"choropleth\"}],\"contourcarpet\":[{\"colorbar\":{\"outlinewidth\":0,\"ticks\":\"\"},\"type\":\"contourcarpet\"}],\"contour\":[{\"colorbar\":{\"outlinewidth\":0,\"ticks\":\"\"},\"colorscale\":[[0.0,\"#0d0887\"],[0.1111111111111111,\"#46039f\"],[0.2222222222222222,\"#7201a8\"],[0.3333333333333333,\"#9c179e\"],[0.4444444444444444,\"#bd3786\"],[0.5555555555555556,\"#d8576b\"],[0.6666666666666666,\"#ed7953\"],[0.7777777777777778,\"#fb9f3a\"],[0.8888888888888888,\"#fdca26\"],[1.0,\"#f0f921\"]],\"type\":\"contour\"}],\"heatmapgl\":[{\"colorbar\":{\"outlinewidth\":0,\"ticks\":\"\"},\"colorscale\":[[0.0,\"#0d0887\"],[0.1111111111111111,\"#46039f\"],[0.2222222222222222,\"#7201a8\"],[0.3333333333333333,\"#9c179e\"],[0.4444444444444444,\"#bd3786\"],[0.5555555555555556,\"#d8576b\"],[0.6666666666666666,\"#ed7953\"],[0.7777777777777778,\"#fb9f3a\"],[0.8888888888888888,\"#fdca26\"],[1.0,\"#f0f921\"]],\"type\":\"heatmapgl\"}],\"heatmap\":[{\"colorbar\":{\"outlinewidth\":0,\"ticks\":\"\"},\"colorscale\":[[0.0,\"#0d0887\"],[0.1111111111111111,\"#46039f\"],[0.2222222222222222,\"#7201a8\"],[0.3333333333333333,\"#9c179e\"],[0.4444444444444444,\"#bd3786\"],[0.5555555555555556,\"#d8576b\"],[0.6666666666666666,\"#ed7953\"],[0.7777777777777778,\"#fb9f3a\"],[0.8888888888888888,\"#fdca26\"],[1.0,\"#f0f921\"]],\"type\":\"heatmap\"}],\"histogram2dcontour\":[{\"colorbar\":{\"outlinewidth\":0,\"ticks\":\"\"},\"colorscale\":[[0.0,\"#0d0887\"],[0.1111111111111111,\"#46039f\"],[0.2222222222222222,\"#7201a8\"],[0.3333333333333333,\"#9c179e\"],[0.4444444444444444,\"#bd3786\"],[0.5555555555555556,\"#d8576b\"],[0.6666666666666666,\"#ed7953\"],[0.7777777777777778,\"#fb9f3a\"],[0.8888888888888888,\"#fdca26\"],[1.0,\"#f0f921\"]],\"type\":\"histogram2dcontour\"}],\"histogram2d\":[{\"colorbar\":{\"outlinewidth\":0,\"ticks\":\"\"},\"colorscale\":[[0.0,\"#0d0887\"],[0.1111111111111111,\"#46039f\"],[0.2222222222222222,\"#7201a8\"],[0.3333333333333333,\"#9c179e\"],[0.4444444444444444,\"#bd3786\"],[0.5555555555555556,\"#d8576b\"],[0.6666666666666666,\"#ed7953\"],[0.7777777777777778,\"#fb9f3a\"],[0.8888888888888888,\"#fdca26\"],[1.0,\"#f0f921\"]],\"type\":\"histogram2d\"}],\"histogram\":[{\"marker\":{\"pattern\":{\"fillmode\":\"overlay\",\"size\":10,\"solidity\":0.2}},\"type\":\"histogram\"}],\"mesh3d\":[{\"colorbar\":{\"outlinewidth\":0,\"ticks\":\"\"},\"type\":\"mesh3d\"}],\"parcoords\":[{\"line\":{\"colorbar\":{\"outlinewidth\":0,\"ticks\":\"\"}},\"type\":\"parcoords\"}],\"pie\":[{\"automargin\":true,\"type\":\"pie\"}],\"scatter3d\":[{\"line\":{\"colorbar\":{\"outlinewidth\":0,\"ticks\":\"\"}},\"marker\":{\"colorbar\":{\"outlinewidth\":0,\"ticks\":\"\"}},\"type\":\"scatter3d\"}],\"scattercarpet\":[{\"marker\":{\"colorbar\":{\"outlinewidth\":0,\"ticks\":\"\"}},\"type\":\"scattercarpet\"}],\"scattergeo\":[{\"marker\":{\"colorbar\":{\"outlinewidth\":0,\"ticks\":\"\"}},\"type\":\"scattergeo\"}],\"scattergl\":[{\"marker\":{\"colorbar\":{\"outlinewidth\":0,\"ticks\":\"\"}},\"type\":\"scattergl\"}],\"scattermapbox\":[{\"marker\":{\"colorbar\":{\"outlinewidth\":0,\"ticks\":\"\"}},\"type\":\"scattermapbox\"}],\"scatterpolargl\":[{\"marker\":{\"colorbar\":{\"outlinewidth\":0,\"ticks\":\"\"}},\"type\":\"scatterpolargl\"}],\"scatterpolar\":[{\"marker\":{\"colorbar\":{\"outlinewidth\":0,\"ticks\":\"\"}},\"type\":\"scatterpolar\"}],\"scatter\":[{\"marker\":{\"colorbar\":{\"outlinewidth\":0,\"ticks\":\"\"}},\"type\":\"scatter\"}],\"scatterternary\":[{\"marker\":{\"colorbar\":{\"outlinewidth\":0,\"ticks\":\"\"}},\"type\":\"scatterternary\"}],\"surface\":[{\"colorbar\":{\"outlinewidth\":0,\"ticks\":\"\"},\"colorscale\":[[0.0,\"#0d0887\"],[0.1111111111111111,\"#46039f\"],[0.2222222222222222,\"#7201a8\"],[0.3333333333333333,\"#9c179e\"],[0.4444444444444444,\"#bd3786\"],[0.5555555555555556,\"#d8576b\"],[0.6666666666666666,\"#ed7953\"],[0.7777777777777778,\"#fb9f3a\"],[0.8888888888888888,\"#fdca26\"],[1.0,\"#f0f921\"]],\"type\":\"surface\"}],\"table\":[{\"cells\":{\"fill\":{\"color\":\"#EBF0F8\"},\"line\":{\"color\":\"white\"}},\"header\":{\"fill\":{\"color\":\"#C8D4E3\"},\"line\":{\"color\":\"white\"}},\"type\":\"table\"}]},\"layout\":{\"annotationdefaults\":{\"arrowcolor\":\"#2a3f5f\",\"arrowhead\":0,\"arrowwidth\":1},\"autotypenumbers\":\"strict\",\"coloraxis\":{\"colorbar\":{\"outlinewidth\":0,\"ticks\":\"\"}},\"colorscale\":{\"diverging\":[[0,\"#8e0152\"],[0.1,\"#c51b7d\"],[0.2,\"#de77ae\"],[0.3,\"#f1b6da\"],[0.4,\"#fde0ef\"],[0.5,\"#f7f7f7\"],[0.6,\"#e6f5d0\"],[0.7,\"#b8e186\"],[0.8,\"#7fbc41\"],[0.9,\"#4d9221\"],[1,\"#276419\"]],\"sequential\":[[0.0,\"#0d0887\"],[0.1111111111111111,\"#46039f\"],[0.2222222222222222,\"#7201a8\"],[0.3333333333333333,\"#9c179e\"],[0.4444444444444444,\"#bd3786\"],[0.5555555555555556,\"#d8576b\"],[0.6666666666666666,\"#ed7953\"],[0.7777777777777778,\"#fb9f3a\"],[0.8888888888888888,\"#fdca26\"],[1.0,\"#f0f921\"]],\"sequentialminus\":[[0.0,\"#0d0887\"],[0.1111111111111111,\"#46039f\"],[0.2222222222222222,\"#7201a8\"],[0.3333333333333333,\"#9c179e\"],[0.4444444444444444,\"#bd3786\"],[0.5555555555555556,\"#d8576b\"],[0.6666666666666666,\"#ed7953\"],[0.7777777777777778,\"#fb9f3a\"],[0.8888888888888888,\"#fdca26\"],[1.0,\"#f0f921\"]]},\"colorway\":[\"#636efa\",\"#EF553B\",\"#00cc96\",\"#ab63fa\",\"#FFA15A\",\"#19d3f3\",\"#FF6692\",\"#B6E880\",\"#FF97FF\",\"#FECB52\"],\"font\":{\"color\":\"#2a3f5f\"},\"geo\":{\"bgcolor\":\"white\",\"lakecolor\":\"white\",\"landcolor\":\"white\",\"showlakes\":true,\"showland\":true,\"subunitcolor\":\"#C8D4E3\"},\"hoverlabel\":{\"align\":\"left\"},\"hovermode\":\"closest\",\"mapbox\":{\"style\":\"light\"},\"paper_bgcolor\":\"white\",\"plot_bgcolor\":\"white\",\"polar\":{\"angularaxis\":{\"gridcolor\":\"#EBF0F8\",\"linecolor\":\"#EBF0F8\",\"ticks\":\"\"},\"bgcolor\":\"white\",\"radialaxis\":{\"gridcolor\":\"#EBF0F8\",\"linecolor\":\"#EBF0F8\",\"ticks\":\"\"}},\"scene\":{\"xaxis\":{\"backgroundcolor\":\"white\",\"gridcolor\":\"#DFE8F3\",\"gridwidth\":2,\"linecolor\":\"#EBF0F8\",\"showbackground\":true,\"ticks\":\"\",\"zerolinecolor\":\"#EBF0F8\"},\"yaxis\":{\"backgroundcolor\":\"white\",\"gridcolor\":\"#DFE8F3\",\"gridwidth\":2,\"linecolor\":\"#EBF0F8\",\"showbackground\":true,\"ticks\":\"\",\"zerolinecolor\":\"#EBF0F8\"},\"zaxis\":{\"backgroundcolor\":\"white\",\"gridcolor\":\"#DFE8F3\",\"gridwidth\":2,\"linecolor\":\"#EBF0F8\",\"showbackground\":true,\"ticks\":\"\",\"zerolinecolor\":\"#EBF0F8\"}},\"shapedefaults\":{\"line\":{\"color\":\"#2a3f5f\"}},\"ternary\":{\"aaxis\":{\"gridcolor\":\"#DFE8F3\",\"linecolor\":\"#A2B1C6\",\"ticks\":\"\"},\"baxis\":{\"gridcolor\":\"#DFE8F3\",\"linecolor\":\"#A2B1C6\",\"ticks\":\"\"},\"bgcolor\":\"white\",\"caxis\":{\"gridcolor\":\"#DFE8F3\",\"linecolor\":\"#A2B1C6\",\"ticks\":\"\"}},\"title\":{\"x\":0.05},\"xaxis\":{\"automargin\":true,\"gridcolor\":\"#EBF0F8\",\"linecolor\":\"#EBF0F8\",\"ticks\":\"\",\"title\":{\"standoff\":15},\"zerolinecolor\":\"#EBF0F8\",\"zerolinewidth\":2},\"yaxis\":{\"automargin\":true,\"gridcolor\":\"#EBF0F8\",\"linecolor\":\"#EBF0F8\",\"ticks\":\"\",\"title\":{\"standoff\":15},\"zerolinecolor\":\"#EBF0F8\",\"zerolinewidth\":2}}},\"title\":{\"font\":{\"size\":22,\"color\":\"Black\"},\"text\":\"<b>Hierarchical Clustering\",\"x\":0.5,\"xanchor\":\"center\",\"yanchor\":\"top\"},\"hoverlabel\":{\"font\":{\"size\":16,\"family\":\"Rockwell\"},\"bgcolor\":\"white\"},\"plot_bgcolor\":\"#ECEFF1\"},                        {\"responsive\": true}                    ).then(function(){\n",
              "                            \n",
              "var gd = document.getElementById('ea8051b6-ad55-49a3-9e58-31d7280c1b48');\n",
              "var x = new MutationObserver(function (mutations, observer) {{\n",
              "        var display = window.getComputedStyle(gd).display;\n",
              "        if (!display || display === 'none') {{\n",
              "            console.log([gd, 'removed!']);\n",
              "            Plotly.purge(gd);\n",
              "            observer.disconnect();\n",
              "        }}\n",
              "}});\n",
              "\n",
              "// Listen for the removal of the full notebook cells\n",
              "var notebookContainer = gd.closest('#notebook-container');\n",
              "if (notebookContainer) {{\n",
              "    x.observe(notebookContainer, {childList: true});\n",
              "}}\n",
              "\n",
              "// Listen for the clearing of the current output cell\n",
              "var outputEl = gd.closest('.output');\n",
              "if (outputEl) {{\n",
              "    x.observe(outputEl, {childList: true});\n",
              "}}\n",
              "\n",
              "                        })                };                            </script>        </div>\n",
              "</body>\n",
              "</html>"
            ]
          },
          "metadata": {}
        }
      ]
    },
    {
      "cell_type": "code",
      "source": [
        "\n",
        "topics,similarity = topic_model.find_topics(\"co2\", top_n=5)\n",
        "print(topics)\n",
        "for top in topic:\n",
        "  to = topic_model.get_topic(top) # lsva: (Leistungsabhängige Schwerverkehrsabgabe) \n",
        "  print(to[0])\n"
      ],
      "metadata": {
        "id": "clKT94YdCrIY",
        "outputId": "67675099-473b-444a-e345-ce7c939cfe2d",
        "colab": {
          "base_uri": "https://localhost:8080/"
        }
      },
      "execution_count": 181,
      "outputs": [
        {
          "output_type": "stream",
          "name": "stdout",
          "text": [
            "[16, 12, 9, 19, 21]\n",
            "('co2', 0.0614439804064923)\n",
            "('lsva', 0.01295256603120509)\n",
            "('energien', 0.017631765368218717)\n",
            "('luftfahrt', 0.028443119183008677)\n",
            "('forschung', 0.018187095702797373)\n"
          ]
        }
      ]
    },
    {
      "cell_type": "markdown",
      "source": [
        "# SP - Data:  "
      ],
      "metadata": {
        "id": "hmK-NgeQutpz"
      }
    },
    {
      "cell_type": "code",
      "source": [
        "topic_model = BERTopic(verbose=True, language='German', vectorizer_model=vectorizer_model)\n",
        "topics_sp, probs = topic_model.fit_transform(docs_sp)\n",
        "\n",
        "topic_model.get_topic_info()\n",
        "topic_model.get_topic(0)"
      ],
      "metadata": {
        "id": "6tfrNmGAueSJ",
        "outputId": "d840be6f-9daf-4eda-dcc8-f1d64f72d42c",
        "colab": {
          "base_uri": "https://localhost:8080/",
          "height": 281,
          "referenced_widgets": [
            "affd5bc09b6748dd886cf4412bc50078",
            "ced8310e983745258940028f55d3ec00",
            "ab67700b7e6a4fc498d3cd9831592917",
            "79d6b2abd75a4d488ee1178208f261ed",
            "e4342534171b4b7e840500d107ec83ec",
            "6be82fdb386544cfa0a13a5768f26962",
            "e9e85b2a467845469489ba939b7a7958",
            "0e8757e2ab6b4585ada15f3d3c5f95f2",
            "5ed4d70cb15d465a90e3862b7c289512",
            "a2d2cc1029e64712b7d650285812eaf4",
            "e6184bcc13ff4af3a51de5d04f9127f4"
          ]
        }
      },
      "execution_count": 182,
      "outputs": [
        {
          "output_type": "display_data",
          "data": {
            "text/plain": [
              "Batches:   0%|          | 0/91 [00:00<?, ?it/s]"
            ],
            "application/vnd.jupyter.widget-view+json": {
              "version_major": 2,
              "version_minor": 0,
              "model_id": "affd5bc09b6748dd886cf4412bc50078"
            }
          },
          "metadata": {}
        },
        {
          "output_type": "stream",
          "name": "stderr",
          "text": [
            "2022-04-24 15:28:36,008 - BERTopic - Transformed documents to Embeddings\n",
            "2022-04-24 15:28:52,673 - BERTopic - Reduced dimensionality with UMAP\n",
            "2022-04-24 15:28:52,807 - BERTopic - Clustered UMAP embeddings with HDBSCAN\n"
          ]
        },
        {
          "output_type": "execute_result",
          "data": {
            "text/plain": [
              "[('patienten', 0.009965335565900365),\n",
              " ('kosten', 0.007683977288511517),\n",
              " ('gesundheitswesen', 0.0066789226826184395),\n",
              " ('kantone', 0.00656847295417767),\n",
              " ('patientinnen', 0.00642367470567881),\n",
              " ('heute', 0.006259612191178983),\n",
              " ('initiative', 0.006240220941709791),\n",
              " ('grundversicherung', 0.006090622226047194),\n",
              " ('patientinnen patienten', 0.005749803226826428),\n",
              " ('versicherten', 0.005487596062982706)]"
            ]
          },
          "metadata": {},
          "execution_count": 182
        }
      ]
    },
    {
      "cell_type": "code",
      "source": [
        "topic_model.visualize_topics()"
      ],
      "metadata": {
        "id": "kZJFY9viu7mj",
        "outputId": "7f7a255e-5dea-45f6-9213-68753e4ac222",
        "colab": {
          "base_uri": "https://localhost:8080/",
          "height": 667
        }
      },
      "execution_count": 183,
      "outputs": [
        {
          "output_type": "display_data",
          "data": {
            "text/html": [
              "<html>\n",
              "<head><meta charset=\"utf-8\" /></head>\n",
              "<body>\n",
              "    <div>            <script src=\"https://cdnjs.cloudflare.com/ajax/libs/mathjax/2.7.5/MathJax.js?config=TeX-AMS-MML_SVG\"></script><script type=\"text/javascript\">if (window.MathJax) {MathJax.Hub.Config({SVG: {font: \"STIX-Web\"}});}</script>                <script type=\"text/javascript\">window.PlotlyConfig = {MathJaxConfig: 'local'};</script>\n",
              "        <script src=\"https://cdn.plot.ly/plotly-2.8.3.min.js\"></script>                <div id=\"c29d71fa-f043-4ae4-8bba-6d98e4f1102c\" class=\"plotly-graph-div\" style=\"height:650px; width:650px;\"></div>            <script type=\"text/javascript\">                                    window.PLOTLYENV=window.PLOTLYENV || {};                                    if (document.getElementById(\"c29d71fa-f043-4ae4-8bba-6d98e4f1102c\")) {                    Plotly.newPlot(                        \"c29d71fa-f043-4ae4-8bba-6d98e4f1102c\",                        [{\"customdata\":[[0,\"patienten | kosten | gesundheitswesen | kantone | patientinnen\",207],[1,\"armee | sicherheit | sp | franken | fraktion\",192],[2,\"franken | millionen | millionen franken | prozent | milliarden\",190],[3,\"kommission | bundesrat | motion | vorlage | m\\u00f6chte\",149],[4,\"landwirtschaft | bauern | konsumenten | konsumentinnen | initiative\",126],[5,\"minderheit | sp | fraktion | antrag | sp fraktion\",70],[6,\"mehrwertsteuer | steuern | franken | prozent | einkommen\",68],[7,\"cannabis | rauchen | konsum | jugendschutz | passivrauchen\",54],[8,\"konsumenten | konsumentinnen | konsumentinnen konsumenten | vorlage | wettbewerb\",50],[9,\"ahv | arbeitnehmer | alter | frauen | arbeitnehmerinnen\",49],[10,\"energien | erneuerbaren | erneuerbaren energien | strom | initiative\",47],[11,\"schweiz | gesundheitswesen | kosten | krankenkassen | bundesrat\",46],[12,\"frauen | gewalt | menschenhandel | opfer | frau\",39],[13,\"sbb | bahn | velo | verkehr | neat\",36],[14,\"einb\\u00fcrgerung | schweiz | schweizer | personenfreiz\\u00fcgigkeit | b\\u00fcrgerrecht\",35],[15,\"eu | europa | schweiz | bilateralen | beitritt\",35],[16,\"gpk | bericht | gpdel | bundesrat | europarat\",33],[17,\"verfahren | artikel | blocher | bundesrat | asylsuchenden\",31],[18,\"pauschalbesteuerung | schweiz | korruption | steuern | besteuerung\",31],[19,\"artikel | ans bundesgericht | bundesgericht | minderheit | absatz\",29],[20,\"armee | schweiz | schweizer | heute | initiative\",28],[21,\"schweiz | nationalbank | herr | bundesrat | eu\",24],[22,\"kinder | kind | familien | kindern | kinderzulagen\",24],[23,\"schweiz | eu | konventionen | schengen | ipu\",22],[24,\"aufnahme | schweiz | menschen | dublin | fl\\u00fcchtlinge\",20],[25,\"medikamente | medikament | marktexklusivit\\u00e4t | medikamenten | artikel\",20],[26,\"ersch\\u00f6pfung | parallelimporte | patentschutz | schweiz | patentrecht\",17],[27,\"gesetz | schweiz | einb\\u00fcrgerung | ausl\\u00e4nderinnen | ausl\\u00e4nder\",17],[28,\"menschenrechte | europarat | europarates | emrk | schweiz\",16],[29,\"akw | m\\u00fchleberg | atomkraftwerke | nagra | jod\",15],[30,\"mindestlohn | initiative | l\\u00f6hne | schweiz | mindestl\\u00f6hne\",15],[31,\"fachhochschulen | gsk | millionen | millionen franken | schulen\",13],[32,\"trinkwasser | wasser | umwelt | deponien | gew\\u00e4sser\",13],[33,\"natur | nationalpark | flussp\\u00e4rke | schiessen | umweltschutz\",13],[34,\"initiative | berufsverbot | umsetzung | volksinitiative | initianten\",13],[35,\"kinder | familien | schweiz | le | armut\",12],[36,\"absatz | artikel | bundesgericht | gerichte | eidgen\\u00f6ssischen\",12],[37,\"preisbindung | schweiz | konsumentinnen | ausland | konsumenten\",11],[38,\"sport | jugend sport | bewegung | jugend | kinder\",11],[39,\"ger\\u00e4te | konsumenten | set | set top | grundverschl\\u00fcsselung\",10]],\"hovertemplate\":\"<b>Topic %{customdata[0]}</b><br>Words: %{customdata[1]}<br>Size: %{customdata[2]}\",\"legendgroup\":\"\",\"marker\":{\"color\":\"#B0BEC5\",\"size\":[207,192,190,149,126,70,68,54,50,49,47,46,39,36,35,35,33,31,31,29,28,24,24,22,20,20,17,17,16,15,15,13,13,13,13,12,12,11,11,10],\"sizemode\":\"area\",\"sizeref\":0.129375,\"symbol\":\"circle\",\"line\":{\"color\":\"DarkSlateGrey\",\"width\":2}},\"mode\":\"markers\",\"name\":\"\",\"orientation\":\"v\",\"showlegend\":false,\"x\":[18.82168960571289,11.17781925201416,11.22658634185791,6.520259380340576,6.224708557128906,10.649426460266113,-3.0299413204193115,-10.602640151977539,6.336513519287109,-10.303650856018066,1.5513725280761719,18.821672439575195,-10.433430671691895,8.81643295288086,-6.571295738220215,8.890986442565918,9.773102760314941,-2.559018135070801,-3.029338836669922,1.8734476566314697,10.807831764221191,-0.521281361579895,-10.394288063049316,9.313499450683594,-2.5591676235198975,1.9286620616912842,6.426456451416016,-6.571830749511719,9.772412300109863,1.4601984024047852,-0.6997990012168884,9.225048065185547,1.1139144897460938,1.1758310794830322,10.151211738586426,-0.5761649012565613,1.9563167095184326,6.343104362487793,9.226511001586914,6.222513675689697],\"xaxis\":\"x\",\"y\":[11.719161033630371,5.258346080780029,5.314190864562988,-12.955007553100586,-13.226320266723633,4.685731887817383,23.001083374023438,2.4764621257781982,-13.316248893737793,2.1771295070648193,4.860118865966797,11.719152450561523,2.3070123195648193,5.305908203125,0.5531889796257019,5.268985748291016,5.3085527420043945,-5.382584095001221,23.001691818237305,-15.906436920166016,5.00776481628418,8.07935905456543,2.2675459384918213,5.17269229888916,-5.382262229919434,-15.851318359375,-13.911789894104004,0.553439199924469,5.1605024337768555,4.767435550689697,8.257383346557617,-1.0574157238006592,4.421836853027344,4.484062194824219,4.981301784515381,8.134448051452637,-15.82346248626709,-13.905350685119629,-1.042211651802063,-14.104000091552734],\"yaxis\":\"y\",\"type\":\"scatter\"}],                        {\"template\":{\"data\":{\"barpolar\":[{\"marker\":{\"line\":{\"color\":\"white\",\"width\":0.5},\"pattern\":{\"fillmode\":\"overlay\",\"size\":10,\"solidity\":0.2}},\"type\":\"barpolar\"}],\"bar\":[{\"error_x\":{\"color\":\"rgb(36,36,36)\"},\"error_y\":{\"color\":\"rgb(36,36,36)\"},\"marker\":{\"line\":{\"color\":\"white\",\"width\":0.5},\"pattern\":{\"fillmode\":\"overlay\",\"size\":10,\"solidity\":0.2}},\"type\":\"bar\"}],\"carpet\":[{\"aaxis\":{\"endlinecolor\":\"rgb(36,36,36)\",\"gridcolor\":\"white\",\"linecolor\":\"white\",\"minorgridcolor\":\"white\",\"startlinecolor\":\"rgb(36,36,36)\"},\"baxis\":{\"endlinecolor\":\"rgb(36,36,36)\",\"gridcolor\":\"white\",\"linecolor\":\"white\",\"minorgridcolor\":\"white\",\"startlinecolor\":\"rgb(36,36,36)\"},\"type\":\"carpet\"}],\"choropleth\":[{\"colorbar\":{\"outlinewidth\":1,\"tickcolor\":\"rgb(36,36,36)\",\"ticks\":\"outside\"},\"type\":\"choropleth\"}],\"contourcarpet\":[{\"colorbar\":{\"outlinewidth\":1,\"tickcolor\":\"rgb(36,36,36)\",\"ticks\":\"outside\"},\"type\":\"contourcarpet\"}],\"contour\":[{\"colorbar\":{\"outlinewidth\":1,\"tickcolor\":\"rgb(36,36,36)\",\"ticks\":\"outside\"},\"colorscale\":[[0.0,\"#440154\"],[0.1111111111111111,\"#482878\"],[0.2222222222222222,\"#3e4989\"],[0.3333333333333333,\"#31688e\"],[0.4444444444444444,\"#26828e\"],[0.5555555555555556,\"#1f9e89\"],[0.6666666666666666,\"#35b779\"],[0.7777777777777778,\"#6ece58\"],[0.8888888888888888,\"#b5de2b\"],[1.0,\"#fde725\"]],\"type\":\"contour\"}],\"heatmapgl\":[{\"colorbar\":{\"outlinewidth\":1,\"tickcolor\":\"rgb(36,36,36)\",\"ticks\":\"outside\"},\"colorscale\":[[0.0,\"#440154\"],[0.1111111111111111,\"#482878\"],[0.2222222222222222,\"#3e4989\"],[0.3333333333333333,\"#31688e\"],[0.4444444444444444,\"#26828e\"],[0.5555555555555556,\"#1f9e89\"],[0.6666666666666666,\"#35b779\"],[0.7777777777777778,\"#6ece58\"],[0.8888888888888888,\"#b5de2b\"],[1.0,\"#fde725\"]],\"type\":\"heatmapgl\"}],\"heatmap\":[{\"colorbar\":{\"outlinewidth\":1,\"tickcolor\":\"rgb(36,36,36)\",\"ticks\":\"outside\"},\"colorscale\":[[0.0,\"#440154\"],[0.1111111111111111,\"#482878\"],[0.2222222222222222,\"#3e4989\"],[0.3333333333333333,\"#31688e\"],[0.4444444444444444,\"#26828e\"],[0.5555555555555556,\"#1f9e89\"],[0.6666666666666666,\"#35b779\"],[0.7777777777777778,\"#6ece58\"],[0.8888888888888888,\"#b5de2b\"],[1.0,\"#fde725\"]],\"type\":\"heatmap\"}],\"histogram2dcontour\":[{\"colorbar\":{\"outlinewidth\":1,\"tickcolor\":\"rgb(36,36,36)\",\"ticks\":\"outside\"},\"colorscale\":[[0.0,\"#440154\"],[0.1111111111111111,\"#482878\"],[0.2222222222222222,\"#3e4989\"],[0.3333333333333333,\"#31688e\"],[0.4444444444444444,\"#26828e\"],[0.5555555555555556,\"#1f9e89\"],[0.6666666666666666,\"#35b779\"],[0.7777777777777778,\"#6ece58\"],[0.8888888888888888,\"#b5de2b\"],[1.0,\"#fde725\"]],\"type\":\"histogram2dcontour\"}],\"histogram2d\":[{\"colorbar\":{\"outlinewidth\":1,\"tickcolor\":\"rgb(36,36,36)\",\"ticks\":\"outside\"},\"colorscale\":[[0.0,\"#440154\"],[0.1111111111111111,\"#482878\"],[0.2222222222222222,\"#3e4989\"],[0.3333333333333333,\"#31688e\"],[0.4444444444444444,\"#26828e\"],[0.5555555555555556,\"#1f9e89\"],[0.6666666666666666,\"#35b779\"],[0.7777777777777778,\"#6ece58\"],[0.8888888888888888,\"#b5de2b\"],[1.0,\"#fde725\"]],\"type\":\"histogram2d\"}],\"histogram\":[{\"marker\":{\"line\":{\"color\":\"white\",\"width\":0.6}},\"type\":\"histogram\"}],\"mesh3d\":[{\"colorbar\":{\"outlinewidth\":1,\"tickcolor\":\"rgb(36,36,36)\",\"ticks\":\"outside\"},\"type\":\"mesh3d\"}],\"parcoords\":[{\"line\":{\"colorbar\":{\"outlinewidth\":1,\"tickcolor\":\"rgb(36,36,36)\",\"ticks\":\"outside\"}},\"type\":\"parcoords\"}],\"pie\":[{\"automargin\":true,\"type\":\"pie\"}],\"scatter3d\":[{\"line\":{\"colorbar\":{\"outlinewidth\":1,\"tickcolor\":\"rgb(36,36,36)\",\"ticks\":\"outside\"}},\"marker\":{\"colorbar\":{\"outlinewidth\":1,\"tickcolor\":\"rgb(36,36,36)\",\"ticks\":\"outside\"}},\"type\":\"scatter3d\"}],\"scattercarpet\":[{\"marker\":{\"colorbar\":{\"outlinewidth\":1,\"tickcolor\":\"rgb(36,36,36)\",\"ticks\":\"outside\"}},\"type\":\"scattercarpet\"}],\"scattergeo\":[{\"marker\":{\"colorbar\":{\"outlinewidth\":1,\"tickcolor\":\"rgb(36,36,36)\",\"ticks\":\"outside\"}},\"type\":\"scattergeo\"}],\"scattergl\":[{\"marker\":{\"colorbar\":{\"outlinewidth\":1,\"tickcolor\":\"rgb(36,36,36)\",\"ticks\":\"outside\"}},\"type\":\"scattergl\"}],\"scattermapbox\":[{\"marker\":{\"colorbar\":{\"outlinewidth\":1,\"tickcolor\":\"rgb(36,36,36)\",\"ticks\":\"outside\"}},\"type\":\"scattermapbox\"}],\"scatterpolargl\":[{\"marker\":{\"colorbar\":{\"outlinewidth\":1,\"tickcolor\":\"rgb(36,36,36)\",\"ticks\":\"outside\"}},\"type\":\"scatterpolargl\"}],\"scatterpolar\":[{\"marker\":{\"colorbar\":{\"outlinewidth\":1,\"tickcolor\":\"rgb(36,36,36)\",\"ticks\":\"outside\"}},\"type\":\"scatterpolar\"}],\"scatter\":[{\"marker\":{\"colorbar\":{\"outlinewidth\":1,\"tickcolor\":\"rgb(36,36,36)\",\"ticks\":\"outside\"}},\"type\":\"scatter\"}],\"scatterternary\":[{\"marker\":{\"colorbar\":{\"outlinewidth\":1,\"tickcolor\":\"rgb(36,36,36)\",\"ticks\":\"outside\"}},\"type\":\"scatterternary\"}],\"surface\":[{\"colorbar\":{\"outlinewidth\":1,\"tickcolor\":\"rgb(36,36,36)\",\"ticks\":\"outside\"},\"colorscale\":[[0.0,\"#440154\"],[0.1111111111111111,\"#482878\"],[0.2222222222222222,\"#3e4989\"],[0.3333333333333333,\"#31688e\"],[0.4444444444444444,\"#26828e\"],[0.5555555555555556,\"#1f9e89\"],[0.6666666666666666,\"#35b779\"],[0.7777777777777778,\"#6ece58\"],[0.8888888888888888,\"#b5de2b\"],[1.0,\"#fde725\"]],\"type\":\"surface\"}],\"table\":[{\"cells\":{\"fill\":{\"color\":\"rgb(237,237,237)\"},\"line\":{\"color\":\"white\"}},\"header\":{\"fill\":{\"color\":\"rgb(217,217,217)\"},\"line\":{\"color\":\"white\"}},\"type\":\"table\"}]},\"layout\":{\"annotationdefaults\":{\"arrowhead\":0,\"arrowwidth\":1},\"autotypenumbers\":\"strict\",\"coloraxis\":{\"colorbar\":{\"outlinewidth\":1,\"tickcolor\":\"rgb(36,36,36)\",\"ticks\":\"outside\"}},\"colorscale\":{\"diverging\":[[0.0,\"rgb(103,0,31)\"],[0.1,\"rgb(178,24,43)\"],[0.2,\"rgb(214,96,77)\"],[0.3,\"rgb(244,165,130)\"],[0.4,\"rgb(253,219,199)\"],[0.5,\"rgb(247,247,247)\"],[0.6,\"rgb(209,229,240)\"],[0.7,\"rgb(146,197,222)\"],[0.8,\"rgb(67,147,195)\"],[0.9,\"rgb(33,102,172)\"],[1.0,\"rgb(5,48,97)\"]],\"sequential\":[[0.0,\"#440154\"],[0.1111111111111111,\"#482878\"],[0.2222222222222222,\"#3e4989\"],[0.3333333333333333,\"#31688e\"],[0.4444444444444444,\"#26828e\"],[0.5555555555555556,\"#1f9e89\"],[0.6666666666666666,\"#35b779\"],[0.7777777777777778,\"#6ece58\"],[0.8888888888888888,\"#b5de2b\"],[1.0,\"#fde725\"]],\"sequentialminus\":[[0.0,\"#440154\"],[0.1111111111111111,\"#482878\"],[0.2222222222222222,\"#3e4989\"],[0.3333333333333333,\"#31688e\"],[0.4444444444444444,\"#26828e\"],[0.5555555555555556,\"#1f9e89\"],[0.6666666666666666,\"#35b779\"],[0.7777777777777778,\"#6ece58\"],[0.8888888888888888,\"#b5de2b\"],[1.0,\"#fde725\"]]},\"colorway\":[\"#1F77B4\",\"#FF7F0E\",\"#2CA02C\",\"#D62728\",\"#9467BD\",\"#8C564B\",\"#E377C2\",\"#7F7F7F\",\"#BCBD22\",\"#17BECF\"],\"font\":{\"color\":\"rgb(36,36,36)\"},\"geo\":{\"bgcolor\":\"white\",\"lakecolor\":\"white\",\"landcolor\":\"white\",\"showlakes\":true,\"showland\":true,\"subunitcolor\":\"white\"},\"hoverlabel\":{\"align\":\"left\"},\"hovermode\":\"closest\",\"mapbox\":{\"style\":\"light\"},\"paper_bgcolor\":\"white\",\"plot_bgcolor\":\"white\",\"polar\":{\"angularaxis\":{\"gridcolor\":\"rgb(232,232,232)\",\"linecolor\":\"rgb(36,36,36)\",\"showgrid\":false,\"showline\":true,\"ticks\":\"outside\"},\"bgcolor\":\"white\",\"radialaxis\":{\"gridcolor\":\"rgb(232,232,232)\",\"linecolor\":\"rgb(36,36,36)\",\"showgrid\":false,\"showline\":true,\"ticks\":\"outside\"}},\"scene\":{\"xaxis\":{\"backgroundcolor\":\"white\",\"gridcolor\":\"rgb(232,232,232)\",\"gridwidth\":2,\"linecolor\":\"rgb(36,36,36)\",\"showbackground\":true,\"showgrid\":false,\"showline\":true,\"ticks\":\"outside\",\"zeroline\":false,\"zerolinecolor\":\"rgb(36,36,36)\"},\"yaxis\":{\"backgroundcolor\":\"white\",\"gridcolor\":\"rgb(232,232,232)\",\"gridwidth\":2,\"linecolor\":\"rgb(36,36,36)\",\"showbackground\":true,\"showgrid\":false,\"showline\":true,\"ticks\":\"outside\",\"zeroline\":false,\"zerolinecolor\":\"rgb(36,36,36)\"},\"zaxis\":{\"backgroundcolor\":\"white\",\"gridcolor\":\"rgb(232,232,232)\",\"gridwidth\":2,\"linecolor\":\"rgb(36,36,36)\",\"showbackground\":true,\"showgrid\":false,\"showline\":true,\"ticks\":\"outside\",\"zeroline\":false,\"zerolinecolor\":\"rgb(36,36,36)\"}},\"shapedefaults\":{\"fillcolor\":\"black\",\"line\":{\"width\":0},\"opacity\":0.3},\"ternary\":{\"aaxis\":{\"gridcolor\":\"rgb(232,232,232)\",\"linecolor\":\"rgb(36,36,36)\",\"showgrid\":false,\"showline\":true,\"ticks\":\"outside\"},\"baxis\":{\"gridcolor\":\"rgb(232,232,232)\",\"linecolor\":\"rgb(36,36,36)\",\"showgrid\":false,\"showline\":true,\"ticks\":\"outside\"},\"bgcolor\":\"white\",\"caxis\":{\"gridcolor\":\"rgb(232,232,232)\",\"linecolor\":\"rgb(36,36,36)\",\"showgrid\":false,\"showline\":true,\"ticks\":\"outside\"}},\"title\":{\"x\":0.05},\"xaxis\":{\"automargin\":true,\"gridcolor\":\"rgb(232,232,232)\",\"linecolor\":\"rgb(36,36,36)\",\"showgrid\":false,\"showline\":true,\"ticks\":\"outside\",\"title\":{\"standoff\":15},\"zeroline\":false,\"zerolinecolor\":\"rgb(36,36,36)\"},\"yaxis\":{\"automargin\":true,\"gridcolor\":\"rgb(232,232,232)\",\"linecolor\":\"rgb(36,36,36)\",\"showgrid\":false,\"showline\":true,\"ticks\":\"outside\",\"title\":{\"standoff\":15},\"zeroline\":false,\"zerolinecolor\":\"rgb(36,36,36)\"}}},\"xaxis\":{\"anchor\":\"y\",\"domain\":[0.0,1.0],\"title\":{\"text\":\"\"},\"visible\":false,\"range\":[-12.19303617477417,21.644943046569825]},\"yaxis\":{\"anchor\":\"x\",\"domain\":[0.0,1.0],\"title\":{\"text\":\"\"},\"visible\":false,\"range\":[-18.292402458190917,26.4519455909729]},\"legend\":{\"tracegroupgap\":0,\"itemsizing\":\"constant\"},\"margin\":{\"t\":60},\"title\":{\"font\":{\"size\":22,\"color\":\"Black\"},\"text\":\"<b>Intertopic Distance Map\",\"y\":0.95,\"x\":0.5,\"xanchor\":\"center\",\"yanchor\":\"top\"},\"hoverlabel\":{\"font\":{\"size\":16,\"family\":\"Rockwell\"},\"bgcolor\":\"white\"},\"width\":650,\"height\":650,\"sliders\":[{\"active\":0,\"pad\":{\"t\":50},\"steps\":[{\"args\":[{\"marker.color\":[[\"red\",\"#B0BEC5\",\"#B0BEC5\",\"#B0BEC5\",\"#B0BEC5\",\"#B0BEC5\",\"#B0BEC5\",\"#B0BEC5\",\"#B0BEC5\",\"#B0BEC5\",\"#B0BEC5\",\"#B0BEC5\",\"#B0BEC5\",\"#B0BEC5\",\"#B0BEC5\",\"#B0BEC5\",\"#B0BEC5\",\"#B0BEC5\",\"#B0BEC5\",\"#B0BEC5\",\"#B0BEC5\",\"#B0BEC5\",\"#B0BEC5\",\"#B0BEC5\",\"#B0BEC5\",\"#B0BEC5\",\"#B0BEC5\",\"#B0BEC5\",\"#B0BEC5\",\"#B0BEC5\",\"#B0BEC5\",\"#B0BEC5\",\"#B0BEC5\",\"#B0BEC5\",\"#B0BEC5\",\"#B0BEC5\",\"#B0BEC5\",\"#B0BEC5\",\"#B0BEC5\",\"#B0BEC5\"]]}],\"label\":\"Topic 0\",\"method\":\"update\"},{\"args\":[{\"marker.color\":[[\"#B0BEC5\",\"red\",\"#B0BEC5\",\"#B0BEC5\",\"#B0BEC5\",\"#B0BEC5\",\"#B0BEC5\",\"#B0BEC5\",\"#B0BEC5\",\"#B0BEC5\",\"#B0BEC5\",\"#B0BEC5\",\"#B0BEC5\",\"#B0BEC5\",\"#B0BEC5\",\"#B0BEC5\",\"#B0BEC5\",\"#B0BEC5\",\"#B0BEC5\",\"#B0BEC5\",\"#B0BEC5\",\"#B0BEC5\",\"#B0BEC5\",\"#B0BEC5\",\"#B0BEC5\",\"#B0BEC5\",\"#B0BEC5\",\"#B0BEC5\",\"#B0BEC5\",\"#B0BEC5\",\"#B0BEC5\",\"#B0BEC5\",\"#B0BEC5\",\"#B0BEC5\",\"#B0BEC5\",\"#B0BEC5\",\"#B0BEC5\",\"#B0BEC5\",\"#B0BEC5\",\"#B0BEC5\"]]}],\"label\":\"Topic 1\",\"method\":\"update\"},{\"args\":[{\"marker.color\":[[\"#B0BEC5\",\"#B0BEC5\",\"red\",\"#B0BEC5\",\"#B0BEC5\",\"#B0BEC5\",\"#B0BEC5\",\"#B0BEC5\",\"#B0BEC5\",\"#B0BEC5\",\"#B0BEC5\",\"#B0BEC5\",\"#B0BEC5\",\"#B0BEC5\",\"#B0BEC5\",\"#B0BEC5\",\"#B0BEC5\",\"#B0BEC5\",\"#B0BEC5\",\"#B0BEC5\",\"#B0BEC5\",\"#B0BEC5\",\"#B0BEC5\",\"#B0BEC5\",\"#B0BEC5\",\"#B0BEC5\",\"#B0BEC5\",\"#B0BEC5\",\"#B0BEC5\",\"#B0BEC5\",\"#B0BEC5\",\"#B0BEC5\",\"#B0BEC5\",\"#B0BEC5\",\"#B0BEC5\",\"#B0BEC5\",\"#B0BEC5\",\"#B0BEC5\",\"#B0BEC5\",\"#B0BEC5\"]]}],\"label\":\"Topic 2\",\"method\":\"update\"},{\"args\":[{\"marker.color\":[[\"#B0BEC5\",\"#B0BEC5\",\"#B0BEC5\",\"red\",\"#B0BEC5\",\"#B0BEC5\",\"#B0BEC5\",\"#B0BEC5\",\"#B0BEC5\",\"#B0BEC5\",\"#B0BEC5\",\"#B0BEC5\",\"#B0BEC5\",\"#B0BEC5\",\"#B0BEC5\",\"#B0BEC5\",\"#B0BEC5\",\"#B0BEC5\",\"#B0BEC5\",\"#B0BEC5\",\"#B0BEC5\",\"#B0BEC5\",\"#B0BEC5\",\"#B0BEC5\",\"#B0BEC5\",\"#B0BEC5\",\"#B0BEC5\",\"#B0BEC5\",\"#B0BEC5\",\"#B0BEC5\",\"#B0BEC5\",\"#B0BEC5\",\"#B0BEC5\",\"#B0BEC5\",\"#B0BEC5\",\"#B0BEC5\",\"#B0BEC5\",\"#B0BEC5\",\"#B0BEC5\",\"#B0BEC5\"]]}],\"label\":\"Topic 3\",\"method\":\"update\"},{\"args\":[{\"marker.color\":[[\"#B0BEC5\",\"#B0BEC5\",\"#B0BEC5\",\"#B0BEC5\",\"red\",\"#B0BEC5\",\"#B0BEC5\",\"#B0BEC5\",\"#B0BEC5\",\"#B0BEC5\",\"#B0BEC5\",\"#B0BEC5\",\"#B0BEC5\",\"#B0BEC5\",\"#B0BEC5\",\"#B0BEC5\",\"#B0BEC5\",\"#B0BEC5\",\"#B0BEC5\",\"#B0BEC5\",\"#B0BEC5\",\"#B0BEC5\",\"#B0BEC5\",\"#B0BEC5\",\"#B0BEC5\",\"#B0BEC5\",\"#B0BEC5\",\"#B0BEC5\",\"#B0BEC5\",\"#B0BEC5\",\"#B0BEC5\",\"#B0BEC5\",\"#B0BEC5\",\"#B0BEC5\",\"#B0BEC5\",\"#B0BEC5\",\"#B0BEC5\",\"#B0BEC5\",\"#B0BEC5\",\"#B0BEC5\"]]}],\"label\":\"Topic 4\",\"method\":\"update\"},{\"args\":[{\"marker.color\":[[\"#B0BEC5\",\"#B0BEC5\",\"#B0BEC5\",\"#B0BEC5\",\"#B0BEC5\",\"red\",\"#B0BEC5\",\"#B0BEC5\",\"#B0BEC5\",\"#B0BEC5\",\"#B0BEC5\",\"#B0BEC5\",\"#B0BEC5\",\"#B0BEC5\",\"#B0BEC5\",\"#B0BEC5\",\"#B0BEC5\",\"#B0BEC5\",\"#B0BEC5\",\"#B0BEC5\",\"#B0BEC5\",\"#B0BEC5\",\"#B0BEC5\",\"#B0BEC5\",\"#B0BEC5\",\"#B0BEC5\",\"#B0BEC5\",\"#B0BEC5\",\"#B0BEC5\",\"#B0BEC5\",\"#B0BEC5\",\"#B0BEC5\",\"#B0BEC5\",\"#B0BEC5\",\"#B0BEC5\",\"#B0BEC5\",\"#B0BEC5\",\"#B0BEC5\",\"#B0BEC5\",\"#B0BEC5\"]]}],\"label\":\"Topic 5\",\"method\":\"update\"},{\"args\":[{\"marker.color\":[[\"#B0BEC5\",\"#B0BEC5\",\"#B0BEC5\",\"#B0BEC5\",\"#B0BEC5\",\"#B0BEC5\",\"red\",\"#B0BEC5\",\"#B0BEC5\",\"#B0BEC5\",\"#B0BEC5\",\"#B0BEC5\",\"#B0BEC5\",\"#B0BEC5\",\"#B0BEC5\",\"#B0BEC5\",\"#B0BEC5\",\"#B0BEC5\",\"#B0BEC5\",\"#B0BEC5\",\"#B0BEC5\",\"#B0BEC5\",\"#B0BEC5\",\"#B0BEC5\",\"#B0BEC5\",\"#B0BEC5\",\"#B0BEC5\",\"#B0BEC5\",\"#B0BEC5\",\"#B0BEC5\",\"#B0BEC5\",\"#B0BEC5\",\"#B0BEC5\",\"#B0BEC5\",\"#B0BEC5\",\"#B0BEC5\",\"#B0BEC5\",\"#B0BEC5\",\"#B0BEC5\",\"#B0BEC5\"]]}],\"label\":\"Topic 6\",\"method\":\"update\"},{\"args\":[{\"marker.color\":[[\"#B0BEC5\",\"#B0BEC5\",\"#B0BEC5\",\"#B0BEC5\",\"#B0BEC5\",\"#B0BEC5\",\"#B0BEC5\",\"red\",\"#B0BEC5\",\"#B0BEC5\",\"#B0BEC5\",\"#B0BEC5\",\"#B0BEC5\",\"#B0BEC5\",\"#B0BEC5\",\"#B0BEC5\",\"#B0BEC5\",\"#B0BEC5\",\"#B0BEC5\",\"#B0BEC5\",\"#B0BEC5\",\"#B0BEC5\",\"#B0BEC5\",\"#B0BEC5\",\"#B0BEC5\",\"#B0BEC5\",\"#B0BEC5\",\"#B0BEC5\",\"#B0BEC5\",\"#B0BEC5\",\"#B0BEC5\",\"#B0BEC5\",\"#B0BEC5\",\"#B0BEC5\",\"#B0BEC5\",\"#B0BEC5\",\"#B0BEC5\",\"#B0BEC5\",\"#B0BEC5\",\"#B0BEC5\"]]}],\"label\":\"Topic 7\",\"method\":\"update\"},{\"args\":[{\"marker.color\":[[\"#B0BEC5\",\"#B0BEC5\",\"#B0BEC5\",\"#B0BEC5\",\"#B0BEC5\",\"#B0BEC5\",\"#B0BEC5\",\"#B0BEC5\",\"red\",\"#B0BEC5\",\"#B0BEC5\",\"#B0BEC5\",\"#B0BEC5\",\"#B0BEC5\",\"#B0BEC5\",\"#B0BEC5\",\"#B0BEC5\",\"#B0BEC5\",\"#B0BEC5\",\"#B0BEC5\",\"#B0BEC5\",\"#B0BEC5\",\"#B0BEC5\",\"#B0BEC5\",\"#B0BEC5\",\"#B0BEC5\",\"#B0BEC5\",\"#B0BEC5\",\"#B0BEC5\",\"#B0BEC5\",\"#B0BEC5\",\"#B0BEC5\",\"#B0BEC5\",\"#B0BEC5\",\"#B0BEC5\",\"#B0BEC5\",\"#B0BEC5\",\"#B0BEC5\",\"#B0BEC5\",\"#B0BEC5\"]]}],\"label\":\"Topic 8\",\"method\":\"update\"},{\"args\":[{\"marker.color\":[[\"#B0BEC5\",\"#B0BEC5\",\"#B0BEC5\",\"#B0BEC5\",\"#B0BEC5\",\"#B0BEC5\",\"#B0BEC5\",\"#B0BEC5\",\"#B0BEC5\",\"red\",\"#B0BEC5\",\"#B0BEC5\",\"#B0BEC5\",\"#B0BEC5\",\"#B0BEC5\",\"#B0BEC5\",\"#B0BEC5\",\"#B0BEC5\",\"#B0BEC5\",\"#B0BEC5\",\"#B0BEC5\",\"#B0BEC5\",\"#B0BEC5\",\"#B0BEC5\",\"#B0BEC5\",\"#B0BEC5\",\"#B0BEC5\",\"#B0BEC5\",\"#B0BEC5\",\"#B0BEC5\",\"#B0BEC5\",\"#B0BEC5\",\"#B0BEC5\",\"#B0BEC5\",\"#B0BEC5\",\"#B0BEC5\",\"#B0BEC5\",\"#B0BEC5\",\"#B0BEC5\",\"#B0BEC5\"]]}],\"label\":\"Topic 9\",\"method\":\"update\"},{\"args\":[{\"marker.color\":[[\"#B0BEC5\",\"#B0BEC5\",\"#B0BEC5\",\"#B0BEC5\",\"#B0BEC5\",\"#B0BEC5\",\"#B0BEC5\",\"#B0BEC5\",\"#B0BEC5\",\"#B0BEC5\",\"red\",\"#B0BEC5\",\"#B0BEC5\",\"#B0BEC5\",\"#B0BEC5\",\"#B0BEC5\",\"#B0BEC5\",\"#B0BEC5\",\"#B0BEC5\",\"#B0BEC5\",\"#B0BEC5\",\"#B0BEC5\",\"#B0BEC5\",\"#B0BEC5\",\"#B0BEC5\",\"#B0BEC5\",\"#B0BEC5\",\"#B0BEC5\",\"#B0BEC5\",\"#B0BEC5\",\"#B0BEC5\",\"#B0BEC5\",\"#B0BEC5\",\"#B0BEC5\",\"#B0BEC5\",\"#B0BEC5\",\"#B0BEC5\",\"#B0BEC5\",\"#B0BEC5\",\"#B0BEC5\"]]}],\"label\":\"Topic 10\",\"method\":\"update\"},{\"args\":[{\"marker.color\":[[\"#B0BEC5\",\"#B0BEC5\",\"#B0BEC5\",\"#B0BEC5\",\"#B0BEC5\",\"#B0BEC5\",\"#B0BEC5\",\"#B0BEC5\",\"#B0BEC5\",\"#B0BEC5\",\"#B0BEC5\",\"red\",\"#B0BEC5\",\"#B0BEC5\",\"#B0BEC5\",\"#B0BEC5\",\"#B0BEC5\",\"#B0BEC5\",\"#B0BEC5\",\"#B0BEC5\",\"#B0BEC5\",\"#B0BEC5\",\"#B0BEC5\",\"#B0BEC5\",\"#B0BEC5\",\"#B0BEC5\",\"#B0BEC5\",\"#B0BEC5\",\"#B0BEC5\",\"#B0BEC5\",\"#B0BEC5\",\"#B0BEC5\",\"#B0BEC5\",\"#B0BEC5\",\"#B0BEC5\",\"#B0BEC5\",\"#B0BEC5\",\"#B0BEC5\",\"#B0BEC5\",\"#B0BEC5\"]]}],\"label\":\"Topic 11\",\"method\":\"update\"},{\"args\":[{\"marker.color\":[[\"#B0BEC5\",\"#B0BEC5\",\"#B0BEC5\",\"#B0BEC5\",\"#B0BEC5\",\"#B0BEC5\",\"#B0BEC5\",\"#B0BEC5\",\"#B0BEC5\",\"#B0BEC5\",\"#B0BEC5\",\"#B0BEC5\",\"red\",\"#B0BEC5\",\"#B0BEC5\",\"#B0BEC5\",\"#B0BEC5\",\"#B0BEC5\",\"#B0BEC5\",\"#B0BEC5\",\"#B0BEC5\",\"#B0BEC5\",\"#B0BEC5\",\"#B0BEC5\",\"#B0BEC5\",\"#B0BEC5\",\"#B0BEC5\",\"#B0BEC5\",\"#B0BEC5\",\"#B0BEC5\",\"#B0BEC5\",\"#B0BEC5\",\"#B0BEC5\",\"#B0BEC5\",\"#B0BEC5\",\"#B0BEC5\",\"#B0BEC5\",\"#B0BEC5\",\"#B0BEC5\",\"#B0BEC5\"]]}],\"label\":\"Topic 12\",\"method\":\"update\"},{\"args\":[{\"marker.color\":[[\"#B0BEC5\",\"#B0BEC5\",\"#B0BEC5\",\"#B0BEC5\",\"#B0BEC5\",\"#B0BEC5\",\"#B0BEC5\",\"#B0BEC5\",\"#B0BEC5\",\"#B0BEC5\",\"#B0BEC5\",\"#B0BEC5\",\"#B0BEC5\",\"red\",\"#B0BEC5\",\"#B0BEC5\",\"#B0BEC5\",\"#B0BEC5\",\"#B0BEC5\",\"#B0BEC5\",\"#B0BEC5\",\"#B0BEC5\",\"#B0BEC5\",\"#B0BEC5\",\"#B0BEC5\",\"#B0BEC5\",\"#B0BEC5\",\"#B0BEC5\",\"#B0BEC5\",\"#B0BEC5\",\"#B0BEC5\",\"#B0BEC5\",\"#B0BEC5\",\"#B0BEC5\",\"#B0BEC5\",\"#B0BEC5\",\"#B0BEC5\",\"#B0BEC5\",\"#B0BEC5\",\"#B0BEC5\"]]}],\"label\":\"Topic 13\",\"method\":\"update\"},{\"args\":[{\"marker.color\":[[\"#B0BEC5\",\"#B0BEC5\",\"#B0BEC5\",\"#B0BEC5\",\"#B0BEC5\",\"#B0BEC5\",\"#B0BEC5\",\"#B0BEC5\",\"#B0BEC5\",\"#B0BEC5\",\"#B0BEC5\",\"#B0BEC5\",\"#B0BEC5\",\"#B0BEC5\",\"red\",\"#B0BEC5\",\"#B0BEC5\",\"#B0BEC5\",\"#B0BEC5\",\"#B0BEC5\",\"#B0BEC5\",\"#B0BEC5\",\"#B0BEC5\",\"#B0BEC5\",\"#B0BEC5\",\"#B0BEC5\",\"#B0BEC5\",\"#B0BEC5\",\"#B0BEC5\",\"#B0BEC5\",\"#B0BEC5\",\"#B0BEC5\",\"#B0BEC5\",\"#B0BEC5\",\"#B0BEC5\",\"#B0BEC5\",\"#B0BEC5\",\"#B0BEC5\",\"#B0BEC5\",\"#B0BEC5\"]]}],\"label\":\"Topic 14\",\"method\":\"update\"},{\"args\":[{\"marker.color\":[[\"#B0BEC5\",\"#B0BEC5\",\"#B0BEC5\",\"#B0BEC5\",\"#B0BEC5\",\"#B0BEC5\",\"#B0BEC5\",\"#B0BEC5\",\"#B0BEC5\",\"#B0BEC5\",\"#B0BEC5\",\"#B0BEC5\",\"#B0BEC5\",\"#B0BEC5\",\"#B0BEC5\",\"red\",\"#B0BEC5\",\"#B0BEC5\",\"#B0BEC5\",\"#B0BEC5\",\"#B0BEC5\",\"#B0BEC5\",\"#B0BEC5\",\"#B0BEC5\",\"#B0BEC5\",\"#B0BEC5\",\"#B0BEC5\",\"#B0BEC5\",\"#B0BEC5\",\"#B0BEC5\",\"#B0BEC5\",\"#B0BEC5\",\"#B0BEC5\",\"#B0BEC5\",\"#B0BEC5\",\"#B0BEC5\",\"#B0BEC5\",\"#B0BEC5\",\"#B0BEC5\",\"#B0BEC5\"]]}],\"label\":\"Topic 15\",\"method\":\"update\"},{\"args\":[{\"marker.color\":[[\"#B0BEC5\",\"#B0BEC5\",\"#B0BEC5\",\"#B0BEC5\",\"#B0BEC5\",\"#B0BEC5\",\"#B0BEC5\",\"#B0BEC5\",\"#B0BEC5\",\"#B0BEC5\",\"#B0BEC5\",\"#B0BEC5\",\"#B0BEC5\",\"#B0BEC5\",\"#B0BEC5\",\"#B0BEC5\",\"red\",\"#B0BEC5\",\"#B0BEC5\",\"#B0BEC5\",\"#B0BEC5\",\"#B0BEC5\",\"#B0BEC5\",\"#B0BEC5\",\"#B0BEC5\",\"#B0BEC5\",\"#B0BEC5\",\"#B0BEC5\",\"#B0BEC5\",\"#B0BEC5\",\"#B0BEC5\",\"#B0BEC5\",\"#B0BEC5\",\"#B0BEC5\",\"#B0BEC5\",\"#B0BEC5\",\"#B0BEC5\",\"#B0BEC5\",\"#B0BEC5\",\"#B0BEC5\"]]}],\"label\":\"Topic 16\",\"method\":\"update\"},{\"args\":[{\"marker.color\":[[\"#B0BEC5\",\"#B0BEC5\",\"#B0BEC5\",\"#B0BEC5\",\"#B0BEC5\",\"#B0BEC5\",\"#B0BEC5\",\"#B0BEC5\",\"#B0BEC5\",\"#B0BEC5\",\"#B0BEC5\",\"#B0BEC5\",\"#B0BEC5\",\"#B0BEC5\",\"#B0BEC5\",\"#B0BEC5\",\"#B0BEC5\",\"red\",\"#B0BEC5\",\"#B0BEC5\",\"#B0BEC5\",\"#B0BEC5\",\"#B0BEC5\",\"#B0BEC5\",\"#B0BEC5\",\"#B0BEC5\",\"#B0BEC5\",\"#B0BEC5\",\"#B0BEC5\",\"#B0BEC5\",\"#B0BEC5\",\"#B0BEC5\",\"#B0BEC5\",\"#B0BEC5\",\"#B0BEC5\",\"#B0BEC5\",\"#B0BEC5\",\"#B0BEC5\",\"#B0BEC5\",\"#B0BEC5\"]]}],\"label\":\"Topic 17\",\"method\":\"update\"},{\"args\":[{\"marker.color\":[[\"#B0BEC5\",\"#B0BEC5\",\"#B0BEC5\",\"#B0BEC5\",\"#B0BEC5\",\"#B0BEC5\",\"#B0BEC5\",\"#B0BEC5\",\"#B0BEC5\",\"#B0BEC5\",\"#B0BEC5\",\"#B0BEC5\",\"#B0BEC5\",\"#B0BEC5\",\"#B0BEC5\",\"#B0BEC5\",\"#B0BEC5\",\"#B0BEC5\",\"red\",\"#B0BEC5\",\"#B0BEC5\",\"#B0BEC5\",\"#B0BEC5\",\"#B0BEC5\",\"#B0BEC5\",\"#B0BEC5\",\"#B0BEC5\",\"#B0BEC5\",\"#B0BEC5\",\"#B0BEC5\",\"#B0BEC5\",\"#B0BEC5\",\"#B0BEC5\",\"#B0BEC5\",\"#B0BEC5\",\"#B0BEC5\",\"#B0BEC5\",\"#B0BEC5\",\"#B0BEC5\",\"#B0BEC5\"]]}],\"label\":\"Topic 18\",\"method\":\"update\"},{\"args\":[{\"marker.color\":[[\"#B0BEC5\",\"#B0BEC5\",\"#B0BEC5\",\"#B0BEC5\",\"#B0BEC5\",\"#B0BEC5\",\"#B0BEC5\",\"#B0BEC5\",\"#B0BEC5\",\"#B0BEC5\",\"#B0BEC5\",\"#B0BEC5\",\"#B0BEC5\",\"#B0BEC5\",\"#B0BEC5\",\"#B0BEC5\",\"#B0BEC5\",\"#B0BEC5\",\"#B0BEC5\",\"red\",\"#B0BEC5\",\"#B0BEC5\",\"#B0BEC5\",\"#B0BEC5\",\"#B0BEC5\",\"#B0BEC5\",\"#B0BEC5\",\"#B0BEC5\",\"#B0BEC5\",\"#B0BEC5\",\"#B0BEC5\",\"#B0BEC5\",\"#B0BEC5\",\"#B0BEC5\",\"#B0BEC5\",\"#B0BEC5\",\"#B0BEC5\",\"#B0BEC5\",\"#B0BEC5\",\"#B0BEC5\"]]}],\"label\":\"Topic 19\",\"method\":\"update\"},{\"args\":[{\"marker.color\":[[\"#B0BEC5\",\"#B0BEC5\",\"#B0BEC5\",\"#B0BEC5\",\"#B0BEC5\",\"#B0BEC5\",\"#B0BEC5\",\"#B0BEC5\",\"#B0BEC5\",\"#B0BEC5\",\"#B0BEC5\",\"#B0BEC5\",\"#B0BEC5\",\"#B0BEC5\",\"#B0BEC5\",\"#B0BEC5\",\"#B0BEC5\",\"#B0BEC5\",\"#B0BEC5\",\"#B0BEC5\",\"red\",\"#B0BEC5\",\"#B0BEC5\",\"#B0BEC5\",\"#B0BEC5\",\"#B0BEC5\",\"#B0BEC5\",\"#B0BEC5\",\"#B0BEC5\",\"#B0BEC5\",\"#B0BEC5\",\"#B0BEC5\",\"#B0BEC5\",\"#B0BEC5\",\"#B0BEC5\",\"#B0BEC5\",\"#B0BEC5\",\"#B0BEC5\",\"#B0BEC5\",\"#B0BEC5\"]]}],\"label\":\"Topic 20\",\"method\":\"update\"},{\"args\":[{\"marker.color\":[[\"#B0BEC5\",\"#B0BEC5\",\"#B0BEC5\",\"#B0BEC5\",\"#B0BEC5\",\"#B0BEC5\",\"#B0BEC5\",\"#B0BEC5\",\"#B0BEC5\",\"#B0BEC5\",\"#B0BEC5\",\"#B0BEC5\",\"#B0BEC5\",\"#B0BEC5\",\"#B0BEC5\",\"#B0BEC5\",\"#B0BEC5\",\"#B0BEC5\",\"#B0BEC5\",\"#B0BEC5\",\"#B0BEC5\",\"red\",\"#B0BEC5\",\"#B0BEC5\",\"#B0BEC5\",\"#B0BEC5\",\"#B0BEC5\",\"#B0BEC5\",\"#B0BEC5\",\"#B0BEC5\",\"#B0BEC5\",\"#B0BEC5\",\"#B0BEC5\",\"#B0BEC5\",\"#B0BEC5\",\"#B0BEC5\",\"#B0BEC5\",\"#B0BEC5\",\"#B0BEC5\",\"#B0BEC5\"]]}],\"label\":\"Topic 21\",\"method\":\"update\"},{\"args\":[{\"marker.color\":[[\"#B0BEC5\",\"#B0BEC5\",\"#B0BEC5\",\"#B0BEC5\",\"#B0BEC5\",\"#B0BEC5\",\"#B0BEC5\",\"#B0BEC5\",\"#B0BEC5\",\"#B0BEC5\",\"#B0BEC5\",\"#B0BEC5\",\"#B0BEC5\",\"#B0BEC5\",\"#B0BEC5\",\"#B0BEC5\",\"#B0BEC5\",\"#B0BEC5\",\"#B0BEC5\",\"#B0BEC5\",\"#B0BEC5\",\"#B0BEC5\",\"red\",\"#B0BEC5\",\"#B0BEC5\",\"#B0BEC5\",\"#B0BEC5\",\"#B0BEC5\",\"#B0BEC5\",\"#B0BEC5\",\"#B0BEC5\",\"#B0BEC5\",\"#B0BEC5\",\"#B0BEC5\",\"#B0BEC5\",\"#B0BEC5\",\"#B0BEC5\",\"#B0BEC5\",\"#B0BEC5\",\"#B0BEC5\"]]}],\"label\":\"Topic 22\",\"method\":\"update\"},{\"args\":[{\"marker.color\":[[\"#B0BEC5\",\"#B0BEC5\",\"#B0BEC5\",\"#B0BEC5\",\"#B0BEC5\",\"#B0BEC5\",\"#B0BEC5\",\"#B0BEC5\",\"#B0BEC5\",\"#B0BEC5\",\"#B0BEC5\",\"#B0BEC5\",\"#B0BEC5\",\"#B0BEC5\",\"#B0BEC5\",\"#B0BEC5\",\"#B0BEC5\",\"#B0BEC5\",\"#B0BEC5\",\"#B0BEC5\",\"#B0BEC5\",\"#B0BEC5\",\"#B0BEC5\",\"red\",\"#B0BEC5\",\"#B0BEC5\",\"#B0BEC5\",\"#B0BEC5\",\"#B0BEC5\",\"#B0BEC5\",\"#B0BEC5\",\"#B0BEC5\",\"#B0BEC5\",\"#B0BEC5\",\"#B0BEC5\",\"#B0BEC5\",\"#B0BEC5\",\"#B0BEC5\",\"#B0BEC5\",\"#B0BEC5\"]]}],\"label\":\"Topic 23\",\"method\":\"update\"},{\"args\":[{\"marker.color\":[[\"#B0BEC5\",\"#B0BEC5\",\"#B0BEC5\",\"#B0BEC5\",\"#B0BEC5\",\"#B0BEC5\",\"#B0BEC5\",\"#B0BEC5\",\"#B0BEC5\",\"#B0BEC5\",\"#B0BEC5\",\"#B0BEC5\",\"#B0BEC5\",\"#B0BEC5\",\"#B0BEC5\",\"#B0BEC5\",\"#B0BEC5\",\"#B0BEC5\",\"#B0BEC5\",\"#B0BEC5\",\"#B0BEC5\",\"#B0BEC5\",\"#B0BEC5\",\"#B0BEC5\",\"red\",\"#B0BEC5\",\"#B0BEC5\",\"#B0BEC5\",\"#B0BEC5\",\"#B0BEC5\",\"#B0BEC5\",\"#B0BEC5\",\"#B0BEC5\",\"#B0BEC5\",\"#B0BEC5\",\"#B0BEC5\",\"#B0BEC5\",\"#B0BEC5\",\"#B0BEC5\",\"#B0BEC5\"]]}],\"label\":\"Topic 24\",\"method\":\"update\"},{\"args\":[{\"marker.color\":[[\"#B0BEC5\",\"#B0BEC5\",\"#B0BEC5\",\"#B0BEC5\",\"#B0BEC5\",\"#B0BEC5\",\"#B0BEC5\",\"#B0BEC5\",\"#B0BEC5\",\"#B0BEC5\",\"#B0BEC5\",\"#B0BEC5\",\"#B0BEC5\",\"#B0BEC5\",\"#B0BEC5\",\"#B0BEC5\",\"#B0BEC5\",\"#B0BEC5\",\"#B0BEC5\",\"#B0BEC5\",\"#B0BEC5\",\"#B0BEC5\",\"#B0BEC5\",\"#B0BEC5\",\"#B0BEC5\",\"red\",\"#B0BEC5\",\"#B0BEC5\",\"#B0BEC5\",\"#B0BEC5\",\"#B0BEC5\",\"#B0BEC5\",\"#B0BEC5\",\"#B0BEC5\",\"#B0BEC5\",\"#B0BEC5\",\"#B0BEC5\",\"#B0BEC5\",\"#B0BEC5\",\"#B0BEC5\"]]}],\"label\":\"Topic 25\",\"method\":\"update\"},{\"args\":[{\"marker.color\":[[\"#B0BEC5\",\"#B0BEC5\",\"#B0BEC5\",\"#B0BEC5\",\"#B0BEC5\",\"#B0BEC5\",\"#B0BEC5\",\"#B0BEC5\",\"#B0BEC5\",\"#B0BEC5\",\"#B0BEC5\",\"#B0BEC5\",\"#B0BEC5\",\"#B0BEC5\",\"#B0BEC5\",\"#B0BEC5\",\"#B0BEC5\",\"#B0BEC5\",\"#B0BEC5\",\"#B0BEC5\",\"#B0BEC5\",\"#B0BEC5\",\"#B0BEC5\",\"#B0BEC5\",\"#B0BEC5\",\"#B0BEC5\",\"red\",\"#B0BEC5\",\"#B0BEC5\",\"#B0BEC5\",\"#B0BEC5\",\"#B0BEC5\",\"#B0BEC5\",\"#B0BEC5\",\"#B0BEC5\",\"#B0BEC5\",\"#B0BEC5\",\"#B0BEC5\",\"#B0BEC5\",\"#B0BEC5\"]]}],\"label\":\"Topic 26\",\"method\":\"update\"},{\"args\":[{\"marker.color\":[[\"#B0BEC5\",\"#B0BEC5\",\"#B0BEC5\",\"#B0BEC5\",\"#B0BEC5\",\"#B0BEC5\",\"#B0BEC5\",\"#B0BEC5\",\"#B0BEC5\",\"#B0BEC5\",\"#B0BEC5\",\"#B0BEC5\",\"#B0BEC5\",\"#B0BEC5\",\"#B0BEC5\",\"#B0BEC5\",\"#B0BEC5\",\"#B0BEC5\",\"#B0BEC5\",\"#B0BEC5\",\"#B0BEC5\",\"#B0BEC5\",\"#B0BEC5\",\"#B0BEC5\",\"#B0BEC5\",\"#B0BEC5\",\"#B0BEC5\",\"red\",\"#B0BEC5\",\"#B0BEC5\",\"#B0BEC5\",\"#B0BEC5\",\"#B0BEC5\",\"#B0BEC5\",\"#B0BEC5\",\"#B0BEC5\",\"#B0BEC5\",\"#B0BEC5\",\"#B0BEC5\",\"#B0BEC5\"]]}],\"label\":\"Topic 27\",\"method\":\"update\"},{\"args\":[{\"marker.color\":[[\"#B0BEC5\",\"#B0BEC5\",\"#B0BEC5\",\"#B0BEC5\",\"#B0BEC5\",\"#B0BEC5\",\"#B0BEC5\",\"#B0BEC5\",\"#B0BEC5\",\"#B0BEC5\",\"#B0BEC5\",\"#B0BEC5\",\"#B0BEC5\",\"#B0BEC5\",\"#B0BEC5\",\"#B0BEC5\",\"#B0BEC5\",\"#B0BEC5\",\"#B0BEC5\",\"#B0BEC5\",\"#B0BEC5\",\"#B0BEC5\",\"#B0BEC5\",\"#B0BEC5\",\"#B0BEC5\",\"#B0BEC5\",\"#B0BEC5\",\"#B0BEC5\",\"red\",\"#B0BEC5\",\"#B0BEC5\",\"#B0BEC5\",\"#B0BEC5\",\"#B0BEC5\",\"#B0BEC5\",\"#B0BEC5\",\"#B0BEC5\",\"#B0BEC5\",\"#B0BEC5\",\"#B0BEC5\"]]}],\"label\":\"Topic 28\",\"method\":\"update\"},{\"args\":[{\"marker.color\":[[\"#B0BEC5\",\"#B0BEC5\",\"#B0BEC5\",\"#B0BEC5\",\"#B0BEC5\",\"#B0BEC5\",\"#B0BEC5\",\"#B0BEC5\",\"#B0BEC5\",\"#B0BEC5\",\"#B0BEC5\",\"#B0BEC5\",\"#B0BEC5\",\"#B0BEC5\",\"#B0BEC5\",\"#B0BEC5\",\"#B0BEC5\",\"#B0BEC5\",\"#B0BEC5\",\"#B0BEC5\",\"#B0BEC5\",\"#B0BEC5\",\"#B0BEC5\",\"#B0BEC5\",\"#B0BEC5\",\"#B0BEC5\",\"#B0BEC5\",\"#B0BEC5\",\"#B0BEC5\",\"red\",\"#B0BEC5\",\"#B0BEC5\",\"#B0BEC5\",\"#B0BEC5\",\"#B0BEC5\",\"#B0BEC5\",\"#B0BEC5\",\"#B0BEC5\",\"#B0BEC5\",\"#B0BEC5\"]]}],\"label\":\"Topic 29\",\"method\":\"update\"},{\"args\":[{\"marker.color\":[[\"#B0BEC5\",\"#B0BEC5\",\"#B0BEC5\",\"#B0BEC5\",\"#B0BEC5\",\"#B0BEC5\",\"#B0BEC5\",\"#B0BEC5\",\"#B0BEC5\",\"#B0BEC5\",\"#B0BEC5\",\"#B0BEC5\",\"#B0BEC5\",\"#B0BEC5\",\"#B0BEC5\",\"#B0BEC5\",\"#B0BEC5\",\"#B0BEC5\",\"#B0BEC5\",\"#B0BEC5\",\"#B0BEC5\",\"#B0BEC5\",\"#B0BEC5\",\"#B0BEC5\",\"#B0BEC5\",\"#B0BEC5\",\"#B0BEC5\",\"#B0BEC5\",\"#B0BEC5\",\"#B0BEC5\",\"red\",\"#B0BEC5\",\"#B0BEC5\",\"#B0BEC5\",\"#B0BEC5\",\"#B0BEC5\",\"#B0BEC5\",\"#B0BEC5\",\"#B0BEC5\",\"#B0BEC5\"]]}],\"label\":\"Topic 30\",\"method\":\"update\"},{\"args\":[{\"marker.color\":[[\"#B0BEC5\",\"#B0BEC5\",\"#B0BEC5\",\"#B0BEC5\",\"#B0BEC5\",\"#B0BEC5\",\"#B0BEC5\",\"#B0BEC5\",\"#B0BEC5\",\"#B0BEC5\",\"#B0BEC5\",\"#B0BEC5\",\"#B0BEC5\",\"#B0BEC5\",\"#B0BEC5\",\"#B0BEC5\",\"#B0BEC5\",\"#B0BEC5\",\"#B0BEC5\",\"#B0BEC5\",\"#B0BEC5\",\"#B0BEC5\",\"#B0BEC5\",\"#B0BEC5\",\"#B0BEC5\",\"#B0BEC5\",\"#B0BEC5\",\"#B0BEC5\",\"#B0BEC5\",\"#B0BEC5\",\"#B0BEC5\",\"red\",\"#B0BEC5\",\"#B0BEC5\",\"#B0BEC5\",\"#B0BEC5\",\"#B0BEC5\",\"#B0BEC5\",\"#B0BEC5\",\"#B0BEC5\"]]}],\"label\":\"Topic 31\",\"method\":\"update\"},{\"args\":[{\"marker.color\":[[\"#B0BEC5\",\"#B0BEC5\",\"#B0BEC5\",\"#B0BEC5\",\"#B0BEC5\",\"#B0BEC5\",\"#B0BEC5\",\"#B0BEC5\",\"#B0BEC5\",\"#B0BEC5\",\"#B0BEC5\",\"#B0BEC5\",\"#B0BEC5\",\"#B0BEC5\",\"#B0BEC5\",\"#B0BEC5\",\"#B0BEC5\",\"#B0BEC5\",\"#B0BEC5\",\"#B0BEC5\",\"#B0BEC5\",\"#B0BEC5\",\"#B0BEC5\",\"#B0BEC5\",\"#B0BEC5\",\"#B0BEC5\",\"#B0BEC5\",\"#B0BEC5\",\"#B0BEC5\",\"#B0BEC5\",\"#B0BEC5\",\"#B0BEC5\",\"red\",\"#B0BEC5\",\"#B0BEC5\",\"#B0BEC5\",\"#B0BEC5\",\"#B0BEC5\",\"#B0BEC5\",\"#B0BEC5\"]]}],\"label\":\"Topic 32\",\"method\":\"update\"},{\"args\":[{\"marker.color\":[[\"#B0BEC5\",\"#B0BEC5\",\"#B0BEC5\",\"#B0BEC5\",\"#B0BEC5\",\"#B0BEC5\",\"#B0BEC5\",\"#B0BEC5\",\"#B0BEC5\",\"#B0BEC5\",\"#B0BEC5\",\"#B0BEC5\",\"#B0BEC5\",\"#B0BEC5\",\"#B0BEC5\",\"#B0BEC5\",\"#B0BEC5\",\"#B0BEC5\",\"#B0BEC5\",\"#B0BEC5\",\"#B0BEC5\",\"#B0BEC5\",\"#B0BEC5\",\"#B0BEC5\",\"#B0BEC5\",\"#B0BEC5\",\"#B0BEC5\",\"#B0BEC5\",\"#B0BEC5\",\"#B0BEC5\",\"#B0BEC5\",\"#B0BEC5\",\"#B0BEC5\",\"red\",\"#B0BEC5\",\"#B0BEC5\",\"#B0BEC5\",\"#B0BEC5\",\"#B0BEC5\",\"#B0BEC5\"]]}],\"label\":\"Topic 33\",\"method\":\"update\"},{\"args\":[{\"marker.color\":[[\"#B0BEC5\",\"#B0BEC5\",\"#B0BEC5\",\"#B0BEC5\",\"#B0BEC5\",\"#B0BEC5\",\"#B0BEC5\",\"#B0BEC5\",\"#B0BEC5\",\"#B0BEC5\",\"#B0BEC5\",\"#B0BEC5\",\"#B0BEC5\",\"#B0BEC5\",\"#B0BEC5\",\"#B0BEC5\",\"#B0BEC5\",\"#B0BEC5\",\"#B0BEC5\",\"#B0BEC5\",\"#B0BEC5\",\"#B0BEC5\",\"#B0BEC5\",\"#B0BEC5\",\"#B0BEC5\",\"#B0BEC5\",\"#B0BEC5\",\"#B0BEC5\",\"#B0BEC5\",\"#B0BEC5\",\"#B0BEC5\",\"#B0BEC5\",\"#B0BEC5\",\"#B0BEC5\",\"red\",\"#B0BEC5\",\"#B0BEC5\",\"#B0BEC5\",\"#B0BEC5\",\"#B0BEC5\"]]}],\"label\":\"Topic 34\",\"method\":\"update\"},{\"args\":[{\"marker.color\":[[\"#B0BEC5\",\"#B0BEC5\",\"#B0BEC5\",\"#B0BEC5\",\"#B0BEC5\",\"#B0BEC5\",\"#B0BEC5\",\"#B0BEC5\",\"#B0BEC5\",\"#B0BEC5\",\"#B0BEC5\",\"#B0BEC5\",\"#B0BEC5\",\"#B0BEC5\",\"#B0BEC5\",\"#B0BEC5\",\"#B0BEC5\",\"#B0BEC5\",\"#B0BEC5\",\"#B0BEC5\",\"#B0BEC5\",\"#B0BEC5\",\"#B0BEC5\",\"#B0BEC5\",\"#B0BEC5\",\"#B0BEC5\",\"#B0BEC5\",\"#B0BEC5\",\"#B0BEC5\",\"#B0BEC5\",\"#B0BEC5\",\"#B0BEC5\",\"#B0BEC5\",\"#B0BEC5\",\"#B0BEC5\",\"red\",\"#B0BEC5\",\"#B0BEC5\",\"#B0BEC5\",\"#B0BEC5\"]]}],\"label\":\"Topic 35\",\"method\":\"update\"},{\"args\":[{\"marker.color\":[[\"#B0BEC5\",\"#B0BEC5\",\"#B0BEC5\",\"#B0BEC5\",\"#B0BEC5\",\"#B0BEC5\",\"#B0BEC5\",\"#B0BEC5\",\"#B0BEC5\",\"#B0BEC5\",\"#B0BEC5\",\"#B0BEC5\",\"#B0BEC5\",\"#B0BEC5\",\"#B0BEC5\",\"#B0BEC5\",\"#B0BEC5\",\"#B0BEC5\",\"#B0BEC5\",\"#B0BEC5\",\"#B0BEC5\",\"#B0BEC5\",\"#B0BEC5\",\"#B0BEC5\",\"#B0BEC5\",\"#B0BEC5\",\"#B0BEC5\",\"#B0BEC5\",\"#B0BEC5\",\"#B0BEC5\",\"#B0BEC5\",\"#B0BEC5\",\"#B0BEC5\",\"#B0BEC5\",\"#B0BEC5\",\"#B0BEC5\",\"red\",\"#B0BEC5\",\"#B0BEC5\",\"#B0BEC5\"]]}],\"label\":\"Topic 36\",\"method\":\"update\"},{\"args\":[{\"marker.color\":[[\"#B0BEC5\",\"#B0BEC5\",\"#B0BEC5\",\"#B0BEC5\",\"#B0BEC5\",\"#B0BEC5\",\"#B0BEC5\",\"#B0BEC5\",\"#B0BEC5\",\"#B0BEC5\",\"#B0BEC5\",\"#B0BEC5\",\"#B0BEC5\",\"#B0BEC5\",\"#B0BEC5\",\"#B0BEC5\",\"#B0BEC5\",\"#B0BEC5\",\"#B0BEC5\",\"#B0BEC5\",\"#B0BEC5\",\"#B0BEC5\",\"#B0BEC5\",\"#B0BEC5\",\"#B0BEC5\",\"#B0BEC5\",\"#B0BEC5\",\"#B0BEC5\",\"#B0BEC5\",\"#B0BEC5\",\"#B0BEC5\",\"#B0BEC5\",\"#B0BEC5\",\"#B0BEC5\",\"#B0BEC5\",\"#B0BEC5\",\"#B0BEC5\",\"red\",\"#B0BEC5\",\"#B0BEC5\"]]}],\"label\":\"Topic 37\",\"method\":\"update\"},{\"args\":[{\"marker.color\":[[\"#B0BEC5\",\"#B0BEC5\",\"#B0BEC5\",\"#B0BEC5\",\"#B0BEC5\",\"#B0BEC5\",\"#B0BEC5\",\"#B0BEC5\",\"#B0BEC5\",\"#B0BEC5\",\"#B0BEC5\",\"#B0BEC5\",\"#B0BEC5\",\"#B0BEC5\",\"#B0BEC5\",\"#B0BEC5\",\"#B0BEC5\",\"#B0BEC5\",\"#B0BEC5\",\"#B0BEC5\",\"#B0BEC5\",\"#B0BEC5\",\"#B0BEC5\",\"#B0BEC5\",\"#B0BEC5\",\"#B0BEC5\",\"#B0BEC5\",\"#B0BEC5\",\"#B0BEC5\",\"#B0BEC5\",\"#B0BEC5\",\"#B0BEC5\",\"#B0BEC5\",\"#B0BEC5\",\"#B0BEC5\",\"#B0BEC5\",\"#B0BEC5\",\"#B0BEC5\",\"red\",\"#B0BEC5\"]]}],\"label\":\"Topic 38\",\"method\":\"update\"},{\"args\":[{\"marker.color\":[[\"#B0BEC5\",\"#B0BEC5\",\"#B0BEC5\",\"#B0BEC5\",\"#B0BEC5\",\"#B0BEC5\",\"#B0BEC5\",\"#B0BEC5\",\"#B0BEC5\",\"#B0BEC5\",\"#B0BEC5\",\"#B0BEC5\",\"#B0BEC5\",\"#B0BEC5\",\"#B0BEC5\",\"#B0BEC5\",\"#B0BEC5\",\"#B0BEC5\",\"#B0BEC5\",\"#B0BEC5\",\"#B0BEC5\",\"#B0BEC5\",\"#B0BEC5\",\"#B0BEC5\",\"#B0BEC5\",\"#B0BEC5\",\"#B0BEC5\",\"#B0BEC5\",\"#B0BEC5\",\"#B0BEC5\",\"#B0BEC5\",\"#B0BEC5\",\"#B0BEC5\",\"#B0BEC5\",\"#B0BEC5\",\"#B0BEC5\",\"#B0BEC5\",\"#B0BEC5\",\"#B0BEC5\",\"red\"]]}],\"label\":\"Topic 39\",\"method\":\"update\"}]}],\"shapes\":[{\"line\":{\"color\":\"#CFD8DC\",\"width\":2},\"type\":\"line\",\"x0\":4.725953435897828,\"x1\":4.725953435897828,\"y0\":-18.292402458190917,\"y1\":26.4519455909729},{\"line\":{\"color\":\"#9E9E9E\",\"width\":2},\"type\":\"line\",\"x0\":-12.19303617477417,\"x1\":21.644943046569825,\"y0\":4.079771566390992,\"y1\":4.079771566390992}],\"annotations\":[{\"showarrow\":false,\"text\":\"D1\",\"x\":-12.19303617477417,\"y\":4.079771566390992,\"yshift\":10},{\"showarrow\":false,\"text\":\"D2\",\"x\":4.725953435897828,\"xshift\":10,\"y\":26.4519455909729}]},                        {\"responsive\": true}                    ).then(function(){\n",
              "                            \n",
              "var gd = document.getElementById('c29d71fa-f043-4ae4-8bba-6d98e4f1102c');\n",
              "var x = new MutationObserver(function (mutations, observer) {{\n",
              "        var display = window.getComputedStyle(gd).display;\n",
              "        if (!display || display === 'none') {{\n",
              "            console.log([gd, 'removed!']);\n",
              "            Plotly.purge(gd);\n",
              "            observer.disconnect();\n",
              "        }}\n",
              "}});\n",
              "\n",
              "// Listen for the removal of the full notebook cells\n",
              "var notebookContainer = gd.closest('#notebook-container');\n",
              "if (notebookContainer) {{\n",
              "    x.observe(notebookContainer, {childList: true});\n",
              "}}\n",
              "\n",
              "// Listen for the clearing of the current output cell\n",
              "var outputEl = gd.closest('.output');\n",
              "if (outputEl) {{\n",
              "    x.observe(outputEl, {childList: true});\n",
              "}}\n",
              "\n",
              "                        })                };                            </script>        </div>\n",
              "</body>\n",
              "</html>"
            ]
          },
          "metadata": {}
        }
      ]
    },
    {
      "cell_type": "code",
      "source": [
        "topic_model.visualize_barchart(top_n_topics = 48,  n_words = 10) "
      ],
      "metadata": {
        "id": "GbIv3t7Nu_tu",
        "outputId": "ceeffdb2-5a9c-4d4a-8f6c-07d57b6dd453",
        "colab": {
          "base_uri": "https://localhost:8080/",
          "height": 1000
        }
      },
      "execution_count": 188,
      "outputs": [
        {
          "output_type": "display_data",
          "data": {
            "text/html": [
              "<html>\n",
              "<head><meta charset=\"utf-8\" /></head>\n",
              "<body>\n",
              "    <div>            <script src=\"https://cdnjs.cloudflare.com/ajax/libs/mathjax/2.7.5/MathJax.js?config=TeX-AMS-MML_SVG\"></script><script type=\"text/javascript\">if (window.MathJax) {MathJax.Hub.Config({SVG: {font: \"STIX-Web\"}});}</script>                <script type=\"text/javascript\">window.PlotlyConfig = {MathJaxConfig: 'local'};</script>\n",
              "        <script src=\"https://cdn.plot.ly/plotly-2.8.3.min.js\"></script>                <div id=\"2d03dd67-8267-47b7-8485-4420aaf970b2\" class=\"plotly-graph-div\" style=\"height:2500px; width:1000px;\"></div>            <script type=\"text/javascript\">                                    window.PLOTLYENV=window.PLOTLYENV || {};                                    if (document.getElementById(\"2d03dd67-8267-47b7-8485-4420aaf970b2\")) {                    Plotly.newPlot(                        \"2d03dd67-8267-47b7-8485-4420aaf970b2\",                        [{\"marker\":{\"color\":\"#D55E00\"},\"orientation\":\"h\",\"x\":[0.005487596062982706,0.005749803226826428,0.006090622226047194,0.006240220941709791,0.006259612191178983,0.00642367470567881,0.00656847295417767,0.0066789226826184395,0.007683977288511517,0.009965335565900365],\"y\":[\"versicherten  \",\"patientinnen patienten  \",\"grundversicherung  \",\"initiative  \",\"heute  \",\"patientinnen  \",\"kantone  \",\"gesundheitswesen  \",\"kosten  \",\"patienten  \"],\"type\":\"bar\",\"xaxis\":\"x\",\"yaxis\":\"y\"},{\"marker\":{\"color\":\"#0072B2\"},\"orientation\":\"h\",\"x\":[0.005784073389459928,0.005786772419663207,0.00609303084799137,0.006145902366105134,0.006515071501397278,0.006674235299670146,0.007534416351281305,0.007725337422498747,0.007912049227867722,0.027618049499270516],\"y\":[\"bundesrat  \",\"sp fraktion  \",\"heute  \",\"millionen  \",\"r\\u00fcstungsprogramm  \",\"fraktion  \",\"franken  \",\"sp  \",\"sicherheit  \",\"armee  \"],\"type\":\"bar\",\"xaxis\":\"x2\",\"yaxis\":\"y2\"},{\"marker\":{\"color\":\"#CC79A7\"},\"orientation\":\"h\",\"x\":[0.00664928422564504,0.006745964468529679,0.007199172669399006,0.0072289915353542546,0.0072801369270718225,0.00823501221196601,0.00826759551504037,0.011789766331590524,0.013309561115026085,0.016467203556128865],\"y\":[\"milliarden franken  \",\"jahr  \",\"finanzkommission  \",\"budget  \",\"bundesrat  \",\"milliarden  \",\"prozent  \",\"millionen franken  \",\"millionen  \",\"franken  \"],\"type\":\"bar\",\"xaxis\":\"x3\",\"yaxis\":\"y3\"},{\"marker\":{\"color\":\"#E69F00\"},\"orientation\":\"h\",\"x\":[0.004438472657473257,0.004616962946437549,0.0046596184901044006,0.004915610461694133,0.005006940128747274,0.00508533111675696,0.005145676652271275,0.005628816871115725,0.007243489138205217,0.009980144972602563],\"y\":[\"initiative  \",\"herr  \",\"schweiz  \",\"mehrheit  \",\"heute  \",\"m\\u00f6chte  \",\"vorlage  \",\"motion  \",\"bundesrat  \",\"kommission  \"],\"type\":\"bar\",\"xaxis\":\"x4\",\"yaxis\":\"y4\"},{\"marker\":{\"color\":\"#56B4E9\"},\"orientation\":\"h\",\"x\":[0.006761283422647992,0.006905734282917117,0.007057295378491351,0.0071776621868944145,0.00756816872450793,0.008054338639945919,0.009013455045058308,0.009547700877060156,0.01298048179328964,0.017267135209832883],\"y\":[\"direktzahlungen  \",\"fleisch  \",\"produkte  \",\"schweiz  \",\"konsumentinnen konsumenten  \",\"initiative  \",\"konsumentinnen  \",\"konsumenten  \",\"bauern  \",\"landwirtschaft  \"],\"type\":\"bar\",\"xaxis\":\"x5\",\"yaxis\":\"y5\"},{\"marker\":{\"color\":\"#009E73\"},\"orientation\":\"h\",\"x\":[0.005688776827508534,0.0057454709261332264,0.006140028554007881,0.00658629864697866,0.006640975118543664,0.009200004555065207,0.009664282427256622,0.010279534477581504,0.010538457922974944,0.012955696840782769],\"y\":[\"bundesrat  \",\"unterst\\u00fctzen  \",\"heute  \",\"antrag minderheit  \",\"armee  \",\"sp fraktion  \",\"antrag  \",\"fraktion  \",\"sp  \",\"minderheit  \"],\"type\":\"bar\",\"xaxis\":\"x6\",\"yaxis\":\"y6\"},{\"marker\":{\"color\":\"#F0E442\"},\"orientation\":\"h\",\"x\":[0.00590043820425691,0.005904156156032781,0.006008088381306753,0.006025511608800276,0.006711943560867516,0.006822187654812768,0.006980604924988891,0.009022317684710386,0.009163139751723129,0.012395727374478999],\"y\":[\"pauschalbesteuerung  \",\"erbschaftssteuer  \",\"schweiz  \",\"besteuerung  \",\"ahv  \",\"einkommen  \",\"prozent  \",\"franken  \",\"steuern  \",\"mehrwertsteuer  \"],\"type\":\"bar\",\"xaxis\":\"x7\",\"yaxis\":\"y7\"},{\"marker\":{\"color\":\"#D55E00\"},\"orientation\":\"h\",\"x\":[0.006640755850555254,0.006991142158331332,0.007408254354722734,0.007808695392274527,0.008842843063570546,0.009226597947068805,0.009427109780268011,0.011997921959265207,0.012330864763541626,0.018902293168915178],\"y\":[\"tabak  \",\"cannabiskonsum  \",\"pr\\u00e4vention  \",\"alkohol  \",\"jugendlichen  \",\"passivrauchen  \",\"jugendschutz  \",\"konsum  \",\"rauchen  \",\"cannabis  \"],\"type\":\"bar\",\"xaxis\":\"x8\",\"yaxis\":\"y8\"},{\"marker\":{\"color\":\"#0072B2\"},\"orientation\":\"h\",\"x\":[0.005915353347780965,0.0061192120455839955,0.0063767612788945775,0.006995062638531921,0.007156303577859671,0.007496836667847959,0.007536649367918987,0.009961732799468955,0.010429724822124899,0.010795286427530052],\"y\":[\"artikel  \",\"minderheit  \",\"bundesrat  \",\"m\\u00f6chte  \",\"daten  \",\"wettbewerb  \",\"vorlage  \",\"konsumentinnen konsumenten  \",\"konsumentinnen  \",\"konsumenten  \"],\"type\":\"bar\",\"xaxis\":\"x9\",\"yaxis\":\"y9\"},{\"marker\":{\"color\":\"#CC79A7\"},\"orientation\":\"h\",\"x\":[0.007152758144979686,0.0071895267947943535,0.007315895363141191,0.007464277201239341,0.00800322375635032,0.008293722124262807,0.009411796679287108,0.010174250459331815,0.010999245159119495,0.01654686424704751],\"y\":[\"einkommen  \",\"franken  \",\"erg\\u00e4nzungsleistungen  \",\"rente  \",\"initiative  \",\"arbeitnehmerinnen  \",\"frauen  \",\"alter  \",\"arbeitnehmer  \",\"ahv  \"],\"type\":\"bar\",\"xaxis\":\"x10\",\"yaxis\":\"y10\"},{\"marker\":{\"color\":\"#E69F00\"},\"orientation\":\"h\",\"x\":[0.006597605985527874,0.00687608046044897,0.007012341587588393,0.00832761318062936,0.008948801744610624,0.010720934882333737,0.011773264571502618,0.01192406417911698,0.012245021129420266,0.020609364708972882],\"y\":[\"erneuerbare  \",\"co2  \",\"schweiz  \",\"wirtschaft  \",\"energie  \",\"initiative  \",\"strom  \",\"erneuerbaren energien  \",\"erneuerbaren  \",\"energien  \"],\"type\":\"bar\",\"xaxis\":\"x11\",\"yaxis\":\"y11\"},{\"marker\":{\"color\":\"#56B4E9\"},\"orientation\":\"h\",\"x\":[0.005768970568928695,0.005933149254659165,0.006004846851904321,0.006025089690113252,0.0063546278400374075,0.006479271240167479,0.006536644747475079,0.006996077331720346,0.0075018082489063265,0.008501243161366911],\"y\":[\"qualit\\u00e4t  \",\"pr\\u00e4mien  \",\"pflege  \",\"kantone  \",\"initiative  \",\"bundesrat  \",\"krankenkassen  \",\"kosten  \",\"gesundheitswesen  \",\"schweiz  \"],\"type\":\"bar\",\"xaxis\":\"x12\",\"yaxis\":\"y12\"},{\"marker\":{\"color\":\"#009E73\"},\"orientation\":\"h\",\"x\":[0.00736832076862186,0.008177431745384106,0.008344523844439669,0.00945355191385433,0.009720952737550984,0.01111699448971518,0.012714383765463008,0.013358356496871166,0.014592171589171957,0.034630033964282096],\"y\":[\"m\\u00e4nner  \",\"konvention  \",\"geschlechter  \",\"gleichstellung  \",\"schweiz  \",\"frau  \",\"opfer  \",\"menschenhandel  \",\"gewalt  \",\"frauen  \"],\"type\":\"bar\",\"xaxis\":\"x13\",\"yaxis\":\"y13\"},{\"marker\":{\"color\":\"#F0E442\"},\"orientation\":\"h\",\"x\":[0.006708997017471943,0.006897988442376996,0.006952917812230808,0.00725283221141509,0.007561343447614882,0.009267182968097384,0.011022148279125258,0.011860314346066849,0.012669492978308132,0.01621433335750342],\"y\":[\"verkehrspolitik  \",\"strasse  \",\"cargo  \",\"gotthard  \",\"\\u00f6ffentlichen  \",\"neat  \",\"verkehr  \",\"velo  \",\"bahn  \",\"sbb  \"],\"type\":\"bar\",\"xaxis\":\"x14\",\"yaxis\":\"y14\"},{\"marker\":{\"color\":\"#D55E00\"},\"orientation\":\"h\",\"x\":[0.007024290285879333,0.0071356538301184675,0.007509292918877026,0.00772633635721743,0.0077703294508475835,0.007905102245647925,0.009022705489103305,0.01028653788133018,0.012743077410990797,0.014415864325986296],\"y\":[\"initiative  \",\"ausl\\u00e4nderinnen  \",\"jahren  \",\"leben  \",\"menschen  \",\"b\\u00fcrgerrecht  \",\"personenfreiz\\u00fcgigkeit  \",\"schweizer  \",\"schweiz  \",\"einb\\u00fcrgerung  \"],\"type\":\"bar\",\"xaxis\":\"x15\",\"yaxis\":\"y15\"},{\"marker\":{\"color\":\"#0072B2\"},\"orientation\":\"h\",\"x\":[0.007919362832265766,0.007933222758750478,0.008222474068427363,0.008414275415072016,0.010155210467957832,0.01187350046407693,0.013603222397206636,0.013966552516697995,0.01935141927434603,0.02623316435847807],\"y\":[\"bundesrat  \",\"land  \",\"svp  \",\"eu beitritt  \",\"europ\\u00e4ischen  \",\"beitritt  \",\"bilateralen  \",\"schweiz  \",\"europa  \",\"eu  \"],\"type\":\"bar\",\"xaxis\":\"x16\",\"yaxis\":\"y16\"},{\"marker\":{\"color\":\"#CC79A7\"},\"orientation\":\"h\",\"x\":[0.005560564477343033,0.006154000600067936,0.00703204812299544,0.007110733162552602,0.0072323736954386245,0.011506006253371543,0.015022355621899562,0.015779826624548025,0.017486136943209496,0.019364436399263007],\"y\":[\"jahr  \",\"arbeit  \",\"isis  \",\"bundesrates  \",\"vbs  \",\"europarat  \",\"bundesrat  \",\"gpdel  \",\"bericht  \",\"gpk  \"],\"type\":\"bar\",\"xaxis\":\"x17\",\"yaxis\":\"y17\"},{\"marker\":{\"color\":\"#E69F00\"},\"orientation\":\"h\",\"x\":[0.006380993570779345,0.006403245084943831,0.00705733129208196,0.007297343377573367,0.007753427338671703,0.007885801849271784,0.007971386993620665,0.008165733485054592,0.009257606891460726,0.012721976535569402],\"y\":[\"personen  \",\"asylsuchende  \",\"menschen  \",\"asylgesetz  \",\"asylgesetzes  \",\"asylsuchenden  \",\"bundesrat  \",\"blocher  \",\"artikel  \",\"verfahren  \"],\"type\":\"bar\",\"xaxis\":\"x18\",\"yaxis\":\"y18\"},{\"marker\":{\"color\":\"#56B4E9\"},\"orientation\":\"h\",\"x\":[0.007382084181124754,0.0076352631529638245,0.008130866961066718,0.008793967367242661,0.009890892392978657,0.00998543800365493,0.010072871294690464,0.011716976795445231,0.01829066748988308,0.01967675514713749],\"y\":[\"ausl\\u00e4nder  \",\"reiche  \",\"informationsaustausch  \",\"abschaffung  \",\"aia  \",\"besteuerung  \",\"steuern  \",\"korruption  \",\"schweiz  \",\"pauschalbesteuerung  \"],\"type\":\"bar\",\"xaxis\":\"x19\",\"yaxis\":\"y19\"},{\"marker\":{\"color\":\"#009E73\"},\"orientation\":\"h\",\"x\":[0.005321553799487762,0.005435572516537677,0.0061332419434424156,0.006206469227349614,0.006573728614071259,0.006655437779328447,0.006682257578510603,0.006909761654767622,0.007609801523152749,0.014725203780690754],\"y\":[\"strafbarkeit  \",\"rk  \",\"83  \",\"ans  \",\"artikel 83  \",\"absatz  \",\"minderheit  \",\"bundesgericht  \",\"ans bundesgericht  \",\"artikel  \"],\"type\":\"bar\",\"xaxis\":\"x20\",\"yaxis\":\"y20\"},{\"marker\":{\"color\":\"#F0E442\"},\"orientation\":\"h\",\"x\":[0.007128671782206139,0.0073193078501108105,0.007582218887030256,0.008204769684952219,0.008314544332410021,0.00855890204724475,0.00943441480985547,0.010167774078464175,0.01171388206028247,0.025431371822659782],\"y\":[\"sicherheit  \",\"kosovo  \",\"zivile  \",\"einsatz  \",\"zivildienst  \",\"initiative  \",\"heute  \",\"schweizer  \",\"schweiz  \",\"armee  \"],\"type\":\"bar\",\"xaxis\":\"x21\",\"yaxis\":\"y21\"},{\"marker\":{\"color\":\"#D55E00\"},\"orientation\":\"h\",\"x\":[0.006560667708057839,0.006569355927961782,0.007689386969454885,0.007800240341463622,0.008769440988876203,0.009073143239827063,0.009103597118562193,0.00916599848611694,0.011344533752210477,0.01843113631067669],\"y\":[\"endlich  \",\"bericht  \",\"untergrenze  \",\"fr  \",\"la  \",\"eu  \",\"bundesrat  \",\"herr  \",\"nationalbank  \",\"schweiz  \"],\"type\":\"bar\",\"xaxis\":\"x22\",\"yaxis\":\"y22\"},{\"marker\":{\"color\":\"#0072B2\"},\"orientation\":\"h\",\"x\":[0.008012717375115374,0.008399888097440309,0.00886783361927053,0.011936540997013079,0.011950889806636706,0.012863088991704788,0.015512052787267399,0.01666847952025883,0.016966054974315355,0.019250806106977617],\"y\":[\"wochen  \",\"familie  \",\"heute  \",\"eltern  \",\"vaterschaftsurlaub  \",\"kinderzulagen  \",\"kindern  \",\"familien  \",\"kind  \",\"kinder  \"],\"type\":\"bar\",\"xaxis\":\"x23\",\"yaxis\":\"y23\"},{\"marker\":{\"color\":\"#CC79A7\"},\"orientation\":\"h\",\"x\":[0.005395239025914283,0.00545743437108869,0.005503223089580607,0.005780322143585889,0.005834802588348045,0.0061780558952464395,0.00649694771774292,0.00888873619550544,0.013035768043255916,0.015495567566923692],\"y\":[\"staaten  \",\"menschenrechte  \",\"artikel 190  \",\"fonds  \",\"kommission  \",\"ipu  \",\"schengen  \",\"konventionen  \",\"eu  \",\"schweiz  \"],\"type\":\"bar\",\"xaxis\":\"x24\",\"yaxis\":\"y24\"},{\"marker\":{\"color\":\"#E69F00\"},\"orientation\":\"h\",\"x\":[0.008437024781013007,0.008853902407167921,0.00894228672086006,0.009316321989104856,0.009961537134593267,0.010063961677060557,0.010557377136987187,0.012055425674181518,0.013610583133937048,0.018247617303604375],\"y\":[\"herr  \",\"bundesrat  \",\"humanit\\u00e4re aufnahme  \",\"personen  \",\"humanit\\u00e4re  \",\"fl\\u00fcchtlinge  \",\"dublin  \",\"menschen  \",\"schweiz  \",\"aufnahme  \"],\"type\":\"bar\",\"xaxis\":\"x25\",\"yaxis\":\"y25\"},{\"marker\":{\"color\":\"#56B4E9\"},\"orientation\":\"h\",\"x\":[0.011298382320001302,0.011432389889045633,0.011832379773058538,0.012398391677107075,0.012955477580067837,0.013587719241668612,0.013656633885051318,0.014864248155326467,0.015470131795080836,0.0312744913827841],\"y\":[\"werbung  \",\"patienten  \",\"arzneimittel  \",\"unterlagenschutz  \",\"pharmaindustrie  \",\"artikel  \",\"medikamenten  \",\"marktexklusivit\\u00e4t  \",\"medikament  \",\"medikamente  \"],\"type\":\"bar\",\"xaxis\":\"x26\",\"yaxis\":\"y26\"},{\"marker\":{\"color\":\"#009E73\"},\"orientation\":\"h\",\"x\":[0.009740838168657288,0.011095009160179995,0.011384962546707799,0.011438922077973476,0.011723134243609162,0.011780629911891721,0.012364675554212164,0.01583662954077579,0.016366770370030922,0.04168836101149215],\"y\":[\"preisen  \",\"parallelimporten  \",\"preise  \",\"bundesrat  \",\"produkte  \",\"patentrecht  \",\"schweiz  \",\"patentschutz  \",\"parallelimporte  \",\"ersch\\u00f6pfung  \"],\"type\":\"bar\",\"xaxis\":\"x27\",\"yaxis\":\"y27\"},{\"marker\":{\"color\":\"#F0E442\"},\"orientation\":\"h\",\"x\":[0.009031540455905991,0.009074866824006825,0.009615945419512951,0.009859874875106875,0.010892180411387887,0.011602988568645233,0.01163567229679333,0.011847560390606882,0.011978686088219158,0.012296339298692456],\"y\":[\"generation  \",\"migrantinnen  \",\"ausl\\u00e4nderinnen ausl\\u00e4nder  \",\"migranten  \",\"initiative  \",\"ausl\\u00e4nder  \",\"ausl\\u00e4nderinnen  \",\"einb\\u00fcrgerung  \",\"schweiz  \",\"gesetz  \"],\"type\":\"bar\",\"xaxis\":\"x28\",\"yaxis\":\"y28\"},{\"marker\":{\"color\":\"#D55E00\"},\"orientation\":\"h\",\"x\":[0.00864632355814966,0.008967024813294344,0.009485162198139328,0.009488309288423692,0.009594558399050476,0.011720143323058296,0.012865964130149796,0.014405708206146782,0.026303575593203607,0.03609909739754085],\"y\":[\"gerichtshof  \",\"initiative  \",\"europ\\u00e4ischen  \",\"mitgliedstaaten  \",\"staaten  \",\"schweiz  \",\"emrk  \",\"europarates  \",\"europarat  \",\"menschenrechte  \"],\"type\":\"bar\",\"xaxis\":\"x29\",\"yaxis\":\"y29\"},{\"marker\":{\"color\":\"#0072B2\"},\"orientation\":\"h\",\"x\":[0.010482662224942,0.010552273505359075,0.010591650929920718,0.01070451144843794,0.010887587038250362,0.01220883739870612,0.01220883739870612,0.012572692440231396,0.012951593463402663,0.02703706663042125],\"y\":[\"strom  \",\"ausstieg  \",\"technologie  \",\"tschernobyl  \",\"kaiseraugst  \",\"jod  \",\"nagra  \",\"atomkraftwerke  \",\"m\\u00fchleberg  \",\"akw  \"],\"type\":\"bar\",\"xaxis\":\"x30\",\"yaxis\":\"y30\"},{\"marker\":{\"color\":\"#CC79A7\"},\"orientation\":\"h\",\"x\":[0.010057110713867104,0.010477726555420779,0.013930706029205885,0.014011713792271273,0.014297007176778767,0.014831884727760904,0.015496128698543601,0.015504222141767852,0.015617059022724405,0.028077274096049435],\"y\":[\"4000 franken  \",\"verdienen  \",\"lohn  \",\"mindestlohn initiative  \",\"gav  \",\"mindestl\\u00f6hne  \",\"schweiz  \",\"l\\u00f6hne  \",\"initiative  \",\"mindestlohn  \"],\"type\":\"bar\",\"xaxis\":\"x31\",\"yaxis\":\"y31\"},{\"marker\":{\"color\":\"#E69F00\"},\"orientation\":\"h\",\"x\":[0.010394316759969019,0.010981630348984025,0.011101002511699015,0.01117869568098953,0.012031988031060084,0.012519028116223225,0.014184951632398881,0.015215177655641048,0.032914699208426226,0.03584826563588932],\"y\":[\"gsk berufe  \",\"berufe  \",\"ausbildung  \",\"franken  \",\"bereiche  \",\"schulen  \",\"millionen franken  \",\"millionen  \",\"gsk  \",\"fachhochschulen  \"],\"type\":\"bar\",\"xaxis\":\"x32\",\"yaxis\":\"y32\"},{\"marker\":{\"color\":\"#56B4E9\"},\"orientation\":\"h\",\"x\":[0.008021334321257439,0.008331993681508358,0.008536995296992056,0.009089388995499397,0.01023820402260329,0.010240841766074489,0.011924807247985713,0.012506393399599367,0.016362433645667116,0.025752743502218543],\"y\":[\"urek  \",\"protokolls  \",\"abf\\u00e4lle  \",\"initiativen  \",\"aktionsplan  \",\"gew\\u00e4sser  \",\"deponien  \",\"umwelt  \",\"wasser  \",\"trinkwasser  \"],\"type\":\"bar\",\"xaxis\":\"x33\",\"yaxis\":\"y33\"},{\"marker\":{\"color\":\"#009E73\"},\"orientation\":\"h\",\"x\":[0.007493582600586576,0.007627395054360765,0.007785665640029951,0.007785665640029951,0.008286870719308217,0.008341169721770427,0.008404220733203502,0.010491015640821206,0.014051466238451486,0.01427017005899465],\"y\":[\"kugelf\\u00e4nge  \",\"restwassermengen  \",\"kompromissfindung  \",\"p\\u00e4rke  \",\"initiative  \",\"umweltschutz  \",\"schiessen  \",\"flussp\\u00e4rke  \",\"nationalpark  \",\"natur  \"],\"type\":\"bar\",\"xaxis\":\"x34\",\"yaxis\":\"y34\"},{\"marker\":{\"color\":\"#F0E442\"},\"orientation\":\"h\",\"x\":[0.008419079633661238,0.008582515611002742,0.008582515611002742,0.00872447173043146,0.009012438066181872,0.009123282687065876,0.010733182497253371,0.015476770871231149,0.015520335338173343,0.02776822506022645],\"y\":[\"light  \",\"quadratur  \",\"quadratur kreises  \",\"bev\\u00f6lkerung  \",\"umsetzung light  \",\"initianten  \",\"volksinitiative  \",\"umsetzung  \",\"berufsverbot  \",\"initiative  \"],\"type\":\"bar\",\"xaxis\":\"x35\",\"yaxis\":\"y35\"},{\"marker\":{\"color\":\"#D55E00\"},\"orientation\":\"h\",\"x\":[0.007702837543848029,0.007779524988641511,0.008108387658108805,0.008764921309100698,0.009964758292468326,0.010724292508884261,0.011112434950627307,0.011601116928346466,0.017909447466606956,0.021913202020606645],\"y\":[\"elternzeit  \",\"alimentenbevorschussung  \",\"pr\\u00e4ventionsgesetz  \",\"geld  \",\"leben  \",\"armut  \",\"le  \",\"schweiz  \",\"familien  \",\"kinder  \"],\"type\":\"bar\",\"xaxis\":\"x36\",\"yaxis\":\"y36\"},{\"marker\":{\"color\":\"#0072B2\"},\"orientation\":\"h\",\"x\":[0.008591294320529578,0.008875175773116317,0.008927767865052165,0.009242544435453998,0.010023824217828057,0.010179166707878167,0.01287663270017728,0.014059322235857511,0.014804474498155232,0.016900226722155284],\"y\":[\"allgemeinen  \",\"rahmenbewilligung  \",\"richterinnen  \",\"kommission  \",\"bestimmung  \",\"eidgen\\u00f6ssischen  \",\"gerichte  \",\"bundesgericht  \",\"artikel  \",\"absatz  \"],\"type\":\"bar\",\"xaxis\":\"x37\",\"yaxis\":\"y37\"},{\"marker\":{\"color\":\"#CC79A7\"},\"orientation\":\"h\",\"x\":[0.010788028903141813,0.011489076264287936,0.011815783297785334,0.011911034575777024,0.011926211665894899,0.012134119393705189,0.013301239707046213,0.01368695894765211,0.015052509570444518,0.01844335584310271],\"y\":[\"preis\\u00fcberwacher  \",\"w\\u00e4hrungsgewinne  \",\"wak  \",\"konsumentinnen konsumenten  \",\"preise  \",\"konsumenten  \",\"ausland  \",\"konsumentinnen  \",\"schweiz  \",\"preisbindung  \"],\"type\":\"bar\",\"xaxis\":\"x38\",\"yaxis\":\"y38\"},{\"marker\":{\"color\":\"#E69F00\"},\"orientation\":\"h\",\"x\":[0.012330789253121623,0.012524676057280078,0.012585473012559304,0.013719957249842665,0.015485047483754427,0.016395309385520453,0.01744767979580767,0.017604017081035317,0.018034642818259974,0.07644272971232446],\"y\":[\"millionen  \",\"franken  \",\"sports  \",\"bewegungsf\\u00f6rderung  \",\"gesundheit  \",\"kinder  \",\"jugend  \",\"bewegung  \",\"jugend sport  \",\"sport  \"],\"type\":\"bar\",\"xaxis\":\"x39\",\"yaxis\":\"y39\"},{\"marker\":{\"color\":\"#56B4E9\"},\"orientation\":\"h\",\"x\":[0.013108245529208399,0.013556906006212177,0.013844842509411436,0.01387539697247136,0.014167487343302311,0.014184428249461187,0.015219558786391219,0.015219558786391219,0.02219377677332762,0.03116799273792886],\"y\":[\"by  \",\"radio  \",\"stand by  \",\"fernsehen  \",\"top  \",\"grundverschl\\u00fcsselung  \",\"set top  \",\"set  \",\"konsumenten  \",\"ger\\u00e4te  \"],\"type\":\"bar\",\"xaxis\":\"x40\",\"yaxis\":\"y40\"}],                        {\"template\":{\"data\":{\"barpolar\":[{\"marker\":{\"line\":{\"color\":\"white\",\"width\":0.5},\"pattern\":{\"fillmode\":\"overlay\",\"size\":10,\"solidity\":0.2}},\"type\":\"barpolar\"}],\"bar\":[{\"error_x\":{\"color\":\"#2a3f5f\"},\"error_y\":{\"color\":\"#2a3f5f\"},\"marker\":{\"line\":{\"color\":\"white\",\"width\":0.5},\"pattern\":{\"fillmode\":\"overlay\",\"size\":10,\"solidity\":0.2}},\"type\":\"bar\"}],\"carpet\":[{\"aaxis\":{\"endlinecolor\":\"#2a3f5f\",\"gridcolor\":\"#C8D4E3\",\"linecolor\":\"#C8D4E3\",\"minorgridcolor\":\"#C8D4E3\",\"startlinecolor\":\"#2a3f5f\"},\"baxis\":{\"endlinecolor\":\"#2a3f5f\",\"gridcolor\":\"#C8D4E3\",\"linecolor\":\"#C8D4E3\",\"minorgridcolor\":\"#C8D4E3\",\"startlinecolor\":\"#2a3f5f\"},\"type\":\"carpet\"}],\"choropleth\":[{\"colorbar\":{\"outlinewidth\":0,\"ticks\":\"\"},\"type\":\"choropleth\"}],\"contourcarpet\":[{\"colorbar\":{\"outlinewidth\":0,\"ticks\":\"\"},\"type\":\"contourcarpet\"}],\"contour\":[{\"colorbar\":{\"outlinewidth\":0,\"ticks\":\"\"},\"colorscale\":[[0.0,\"#0d0887\"],[0.1111111111111111,\"#46039f\"],[0.2222222222222222,\"#7201a8\"],[0.3333333333333333,\"#9c179e\"],[0.4444444444444444,\"#bd3786\"],[0.5555555555555556,\"#d8576b\"],[0.6666666666666666,\"#ed7953\"],[0.7777777777777778,\"#fb9f3a\"],[0.8888888888888888,\"#fdca26\"],[1.0,\"#f0f921\"]],\"type\":\"contour\"}],\"heatmapgl\":[{\"colorbar\":{\"outlinewidth\":0,\"ticks\":\"\"},\"colorscale\":[[0.0,\"#0d0887\"],[0.1111111111111111,\"#46039f\"],[0.2222222222222222,\"#7201a8\"],[0.3333333333333333,\"#9c179e\"],[0.4444444444444444,\"#bd3786\"],[0.5555555555555556,\"#d8576b\"],[0.6666666666666666,\"#ed7953\"],[0.7777777777777778,\"#fb9f3a\"],[0.8888888888888888,\"#fdca26\"],[1.0,\"#f0f921\"]],\"type\":\"heatmapgl\"}],\"heatmap\":[{\"colorbar\":{\"outlinewidth\":0,\"ticks\":\"\"},\"colorscale\":[[0.0,\"#0d0887\"],[0.1111111111111111,\"#46039f\"],[0.2222222222222222,\"#7201a8\"],[0.3333333333333333,\"#9c179e\"],[0.4444444444444444,\"#bd3786\"],[0.5555555555555556,\"#d8576b\"],[0.6666666666666666,\"#ed7953\"],[0.7777777777777778,\"#fb9f3a\"],[0.8888888888888888,\"#fdca26\"],[1.0,\"#f0f921\"]],\"type\":\"heatmap\"}],\"histogram2dcontour\":[{\"colorbar\":{\"outlinewidth\":0,\"ticks\":\"\"},\"colorscale\":[[0.0,\"#0d0887\"],[0.1111111111111111,\"#46039f\"],[0.2222222222222222,\"#7201a8\"],[0.3333333333333333,\"#9c179e\"],[0.4444444444444444,\"#bd3786\"],[0.5555555555555556,\"#d8576b\"],[0.6666666666666666,\"#ed7953\"],[0.7777777777777778,\"#fb9f3a\"],[0.8888888888888888,\"#fdca26\"],[1.0,\"#f0f921\"]],\"type\":\"histogram2dcontour\"}],\"histogram2d\":[{\"colorbar\":{\"outlinewidth\":0,\"ticks\":\"\"},\"colorscale\":[[0.0,\"#0d0887\"],[0.1111111111111111,\"#46039f\"],[0.2222222222222222,\"#7201a8\"],[0.3333333333333333,\"#9c179e\"],[0.4444444444444444,\"#bd3786\"],[0.5555555555555556,\"#d8576b\"],[0.6666666666666666,\"#ed7953\"],[0.7777777777777778,\"#fb9f3a\"],[0.8888888888888888,\"#fdca26\"],[1.0,\"#f0f921\"]],\"type\":\"histogram2d\"}],\"histogram\":[{\"marker\":{\"pattern\":{\"fillmode\":\"overlay\",\"size\":10,\"solidity\":0.2}},\"type\":\"histogram\"}],\"mesh3d\":[{\"colorbar\":{\"outlinewidth\":0,\"ticks\":\"\"},\"type\":\"mesh3d\"}],\"parcoords\":[{\"line\":{\"colorbar\":{\"outlinewidth\":0,\"ticks\":\"\"}},\"type\":\"parcoords\"}],\"pie\":[{\"automargin\":true,\"type\":\"pie\"}],\"scatter3d\":[{\"line\":{\"colorbar\":{\"outlinewidth\":0,\"ticks\":\"\"}},\"marker\":{\"colorbar\":{\"outlinewidth\":0,\"ticks\":\"\"}},\"type\":\"scatter3d\"}],\"scattercarpet\":[{\"marker\":{\"colorbar\":{\"outlinewidth\":0,\"ticks\":\"\"}},\"type\":\"scattercarpet\"}],\"scattergeo\":[{\"marker\":{\"colorbar\":{\"outlinewidth\":0,\"ticks\":\"\"}},\"type\":\"scattergeo\"}],\"scattergl\":[{\"marker\":{\"colorbar\":{\"outlinewidth\":0,\"ticks\":\"\"}},\"type\":\"scattergl\"}],\"scattermapbox\":[{\"marker\":{\"colorbar\":{\"outlinewidth\":0,\"ticks\":\"\"}},\"type\":\"scattermapbox\"}],\"scatterpolargl\":[{\"marker\":{\"colorbar\":{\"outlinewidth\":0,\"ticks\":\"\"}},\"type\":\"scatterpolargl\"}],\"scatterpolar\":[{\"marker\":{\"colorbar\":{\"outlinewidth\":0,\"ticks\":\"\"}},\"type\":\"scatterpolar\"}],\"scatter\":[{\"marker\":{\"colorbar\":{\"outlinewidth\":0,\"ticks\":\"\"}},\"type\":\"scatter\"}],\"scatterternary\":[{\"marker\":{\"colorbar\":{\"outlinewidth\":0,\"ticks\":\"\"}},\"type\":\"scatterternary\"}],\"surface\":[{\"colorbar\":{\"outlinewidth\":0,\"ticks\":\"\"},\"colorscale\":[[0.0,\"#0d0887\"],[0.1111111111111111,\"#46039f\"],[0.2222222222222222,\"#7201a8\"],[0.3333333333333333,\"#9c179e\"],[0.4444444444444444,\"#bd3786\"],[0.5555555555555556,\"#d8576b\"],[0.6666666666666666,\"#ed7953\"],[0.7777777777777778,\"#fb9f3a\"],[0.8888888888888888,\"#fdca26\"],[1.0,\"#f0f921\"]],\"type\":\"surface\"}],\"table\":[{\"cells\":{\"fill\":{\"color\":\"#EBF0F8\"},\"line\":{\"color\":\"white\"}},\"header\":{\"fill\":{\"color\":\"#C8D4E3\"},\"line\":{\"color\":\"white\"}},\"type\":\"table\"}]},\"layout\":{\"annotationdefaults\":{\"arrowcolor\":\"#2a3f5f\",\"arrowhead\":0,\"arrowwidth\":1},\"autotypenumbers\":\"strict\",\"coloraxis\":{\"colorbar\":{\"outlinewidth\":0,\"ticks\":\"\"}},\"colorscale\":{\"diverging\":[[0,\"#8e0152\"],[0.1,\"#c51b7d\"],[0.2,\"#de77ae\"],[0.3,\"#f1b6da\"],[0.4,\"#fde0ef\"],[0.5,\"#f7f7f7\"],[0.6,\"#e6f5d0\"],[0.7,\"#b8e186\"],[0.8,\"#7fbc41\"],[0.9,\"#4d9221\"],[1,\"#276419\"]],\"sequential\":[[0.0,\"#0d0887\"],[0.1111111111111111,\"#46039f\"],[0.2222222222222222,\"#7201a8\"],[0.3333333333333333,\"#9c179e\"],[0.4444444444444444,\"#bd3786\"],[0.5555555555555556,\"#d8576b\"],[0.6666666666666666,\"#ed7953\"],[0.7777777777777778,\"#fb9f3a\"],[0.8888888888888888,\"#fdca26\"],[1.0,\"#f0f921\"]],\"sequentialminus\":[[0.0,\"#0d0887\"],[0.1111111111111111,\"#46039f\"],[0.2222222222222222,\"#7201a8\"],[0.3333333333333333,\"#9c179e\"],[0.4444444444444444,\"#bd3786\"],[0.5555555555555556,\"#d8576b\"],[0.6666666666666666,\"#ed7953\"],[0.7777777777777778,\"#fb9f3a\"],[0.8888888888888888,\"#fdca26\"],[1.0,\"#f0f921\"]]},\"colorway\":[\"#636efa\",\"#EF553B\",\"#00cc96\",\"#ab63fa\",\"#FFA15A\",\"#19d3f3\",\"#FF6692\",\"#B6E880\",\"#FF97FF\",\"#FECB52\"],\"font\":{\"color\":\"#2a3f5f\"},\"geo\":{\"bgcolor\":\"white\",\"lakecolor\":\"white\",\"landcolor\":\"white\",\"showlakes\":true,\"showland\":true,\"subunitcolor\":\"#C8D4E3\"},\"hoverlabel\":{\"align\":\"left\"},\"hovermode\":\"closest\",\"mapbox\":{\"style\":\"light\"},\"paper_bgcolor\":\"white\",\"plot_bgcolor\":\"white\",\"polar\":{\"angularaxis\":{\"gridcolor\":\"#EBF0F8\",\"linecolor\":\"#EBF0F8\",\"ticks\":\"\"},\"bgcolor\":\"white\",\"radialaxis\":{\"gridcolor\":\"#EBF0F8\",\"linecolor\":\"#EBF0F8\",\"ticks\":\"\"}},\"scene\":{\"xaxis\":{\"backgroundcolor\":\"white\",\"gridcolor\":\"#DFE8F3\",\"gridwidth\":2,\"linecolor\":\"#EBF0F8\",\"showbackground\":true,\"ticks\":\"\",\"zerolinecolor\":\"#EBF0F8\"},\"yaxis\":{\"backgroundcolor\":\"white\",\"gridcolor\":\"#DFE8F3\",\"gridwidth\":2,\"linecolor\":\"#EBF0F8\",\"showbackground\":true,\"ticks\":\"\",\"zerolinecolor\":\"#EBF0F8\"},\"zaxis\":{\"backgroundcolor\":\"white\",\"gridcolor\":\"#DFE8F3\",\"gridwidth\":2,\"linecolor\":\"#EBF0F8\",\"showbackground\":true,\"ticks\":\"\",\"zerolinecolor\":\"#EBF0F8\"}},\"shapedefaults\":{\"line\":{\"color\":\"#2a3f5f\"}},\"ternary\":{\"aaxis\":{\"gridcolor\":\"#DFE8F3\",\"linecolor\":\"#A2B1C6\",\"ticks\":\"\"},\"baxis\":{\"gridcolor\":\"#DFE8F3\",\"linecolor\":\"#A2B1C6\",\"ticks\":\"\"},\"bgcolor\":\"white\",\"caxis\":{\"gridcolor\":\"#DFE8F3\",\"linecolor\":\"#A2B1C6\",\"ticks\":\"\"}},\"title\":{\"x\":0.05},\"xaxis\":{\"automargin\":true,\"gridcolor\":\"#EBF0F8\",\"linecolor\":\"#EBF0F8\",\"ticks\":\"\",\"title\":{\"standoff\":15},\"zerolinecolor\":\"#EBF0F8\",\"zerolinewidth\":2},\"yaxis\":{\"automargin\":true,\"gridcolor\":\"#EBF0F8\",\"linecolor\":\"#EBF0F8\",\"ticks\":\"\",\"title\":{\"standoff\":15},\"zerolinecolor\":\"#EBF0F8\",\"zerolinewidth\":2}}},\"xaxis\":{\"anchor\":\"y\",\"domain\":[0.0,0.175],\"showgrid\":true},\"yaxis\":{\"anchor\":\"x\",\"domain\":[0.936,1.0],\"showgrid\":true},\"xaxis2\":{\"anchor\":\"y2\",\"domain\":[0.275,0.45],\"showgrid\":true},\"yaxis2\":{\"anchor\":\"x2\",\"domain\":[0.936,1.0],\"showgrid\":true},\"xaxis3\":{\"anchor\":\"y3\",\"domain\":[0.55,0.7250000000000001],\"showgrid\":true},\"yaxis3\":{\"anchor\":\"x3\",\"domain\":[0.936,1.0],\"showgrid\":true},\"xaxis4\":{\"anchor\":\"y4\",\"domain\":[0.825,1.0],\"showgrid\":true},\"yaxis4\":{\"anchor\":\"x4\",\"domain\":[0.936,1.0],\"showgrid\":true},\"xaxis5\":{\"anchor\":\"y5\",\"domain\":[0.0,0.175],\"showgrid\":true},\"yaxis5\":{\"anchor\":\"x5\",\"domain\":[0.8320000000000001,0.8960000000000001],\"showgrid\":true},\"xaxis6\":{\"anchor\":\"y6\",\"domain\":[0.275,0.45],\"showgrid\":true},\"yaxis6\":{\"anchor\":\"x6\",\"domain\":[0.8320000000000001,0.8960000000000001],\"showgrid\":true},\"xaxis7\":{\"anchor\":\"y7\",\"domain\":[0.55,0.7250000000000001],\"showgrid\":true},\"yaxis7\":{\"anchor\":\"x7\",\"domain\":[0.8320000000000001,0.8960000000000001],\"showgrid\":true},\"xaxis8\":{\"anchor\":\"y8\",\"domain\":[0.825,1.0],\"showgrid\":true},\"yaxis8\":{\"anchor\":\"x8\",\"domain\":[0.8320000000000001,0.8960000000000001],\"showgrid\":true},\"xaxis9\":{\"anchor\":\"y9\",\"domain\":[0.0,0.175],\"showgrid\":true},\"yaxis9\":{\"anchor\":\"x9\",\"domain\":[0.728,0.792],\"showgrid\":true},\"xaxis10\":{\"anchor\":\"y10\",\"domain\":[0.275,0.45],\"showgrid\":true},\"yaxis10\":{\"anchor\":\"x10\",\"domain\":[0.728,0.792],\"showgrid\":true},\"xaxis11\":{\"anchor\":\"y11\",\"domain\":[0.55,0.7250000000000001],\"showgrid\":true},\"yaxis11\":{\"anchor\":\"x11\",\"domain\":[0.728,0.792],\"showgrid\":true},\"xaxis12\":{\"anchor\":\"y12\",\"domain\":[0.825,1.0],\"showgrid\":true},\"yaxis12\":{\"anchor\":\"x12\",\"domain\":[0.728,0.792],\"showgrid\":true},\"xaxis13\":{\"anchor\":\"y13\",\"domain\":[0.0,0.175],\"showgrid\":true},\"yaxis13\":{\"anchor\":\"x13\",\"domain\":[0.624,0.688],\"showgrid\":true},\"xaxis14\":{\"anchor\":\"y14\",\"domain\":[0.275,0.45],\"showgrid\":true},\"yaxis14\":{\"anchor\":\"x14\",\"domain\":[0.624,0.688],\"showgrid\":true},\"xaxis15\":{\"anchor\":\"y15\",\"domain\":[0.55,0.7250000000000001],\"showgrid\":true},\"yaxis15\":{\"anchor\":\"x15\",\"domain\":[0.624,0.688],\"showgrid\":true},\"xaxis16\":{\"anchor\":\"y16\",\"domain\":[0.825,1.0],\"showgrid\":true},\"yaxis16\":{\"anchor\":\"x16\",\"domain\":[0.624,0.688],\"showgrid\":true},\"xaxis17\":{\"anchor\":\"y17\",\"domain\":[0.0,0.175],\"showgrid\":true},\"yaxis17\":{\"anchor\":\"x17\",\"domain\":[0.52,0.5840000000000001],\"showgrid\":true},\"xaxis18\":{\"anchor\":\"y18\",\"domain\":[0.275,0.45],\"showgrid\":true},\"yaxis18\":{\"anchor\":\"x18\",\"domain\":[0.52,0.5840000000000001],\"showgrid\":true},\"xaxis19\":{\"anchor\":\"y19\",\"domain\":[0.55,0.7250000000000001],\"showgrid\":true},\"yaxis19\":{\"anchor\":\"x19\",\"domain\":[0.52,0.5840000000000001],\"showgrid\":true},\"xaxis20\":{\"anchor\":\"y20\",\"domain\":[0.825,1.0],\"showgrid\":true},\"yaxis20\":{\"anchor\":\"x20\",\"domain\":[0.52,0.5840000000000001],\"showgrid\":true},\"xaxis21\":{\"anchor\":\"y21\",\"domain\":[0.0,0.175],\"showgrid\":true},\"yaxis21\":{\"anchor\":\"x21\",\"domain\":[0.41600000000000004,0.48000000000000004],\"showgrid\":true},\"xaxis22\":{\"anchor\":\"y22\",\"domain\":[0.275,0.45],\"showgrid\":true},\"yaxis22\":{\"anchor\":\"x22\",\"domain\":[0.41600000000000004,0.48000000000000004],\"showgrid\":true},\"xaxis23\":{\"anchor\":\"y23\",\"domain\":[0.55,0.7250000000000001],\"showgrid\":true},\"yaxis23\":{\"anchor\":\"x23\",\"domain\":[0.41600000000000004,0.48000000000000004],\"showgrid\":true},\"xaxis24\":{\"anchor\":\"y24\",\"domain\":[0.825,1.0],\"showgrid\":true},\"yaxis24\":{\"anchor\":\"x24\",\"domain\":[0.41600000000000004,0.48000000000000004],\"showgrid\":true},\"xaxis25\":{\"anchor\":\"y25\",\"domain\":[0.0,0.175],\"showgrid\":true},\"yaxis25\":{\"anchor\":\"x25\",\"domain\":[0.312,0.376],\"showgrid\":true},\"xaxis26\":{\"anchor\":\"y26\",\"domain\":[0.275,0.45],\"showgrid\":true},\"yaxis26\":{\"anchor\":\"x26\",\"domain\":[0.312,0.376],\"showgrid\":true},\"xaxis27\":{\"anchor\":\"y27\",\"domain\":[0.55,0.7250000000000001],\"showgrid\":true},\"yaxis27\":{\"anchor\":\"x27\",\"domain\":[0.312,0.376],\"showgrid\":true},\"xaxis28\":{\"anchor\":\"y28\",\"domain\":[0.825,1.0],\"showgrid\":true},\"yaxis28\":{\"anchor\":\"x28\",\"domain\":[0.312,0.376],\"showgrid\":true},\"xaxis29\":{\"anchor\":\"y29\",\"domain\":[0.0,0.175],\"showgrid\":true},\"yaxis29\":{\"anchor\":\"x29\",\"domain\":[0.20800000000000002,0.272],\"showgrid\":true},\"xaxis30\":{\"anchor\":\"y30\",\"domain\":[0.275,0.45],\"showgrid\":true},\"yaxis30\":{\"anchor\":\"x30\",\"domain\":[0.20800000000000002,0.272],\"showgrid\":true},\"xaxis31\":{\"anchor\":\"y31\",\"domain\":[0.55,0.7250000000000001],\"showgrid\":true},\"yaxis31\":{\"anchor\":\"x31\",\"domain\":[0.20800000000000002,0.272],\"showgrid\":true},\"xaxis32\":{\"anchor\":\"y32\",\"domain\":[0.825,1.0],\"showgrid\":true},\"yaxis32\":{\"anchor\":\"x32\",\"domain\":[0.20800000000000002,0.272],\"showgrid\":true},\"xaxis33\":{\"anchor\":\"y33\",\"domain\":[0.0,0.175],\"showgrid\":true},\"yaxis33\":{\"anchor\":\"x33\",\"domain\":[0.10400000000000001,0.168],\"showgrid\":true},\"xaxis34\":{\"anchor\":\"y34\",\"domain\":[0.275,0.45],\"showgrid\":true},\"yaxis34\":{\"anchor\":\"x34\",\"domain\":[0.10400000000000001,0.168],\"showgrid\":true},\"xaxis35\":{\"anchor\":\"y35\",\"domain\":[0.55,0.7250000000000001],\"showgrid\":true},\"yaxis35\":{\"anchor\":\"x35\",\"domain\":[0.10400000000000001,0.168],\"showgrid\":true},\"xaxis36\":{\"anchor\":\"y36\",\"domain\":[0.825,1.0],\"showgrid\":true},\"yaxis36\":{\"anchor\":\"x36\",\"domain\":[0.10400000000000001,0.168],\"showgrid\":true},\"xaxis37\":{\"anchor\":\"y37\",\"domain\":[0.0,0.175],\"showgrid\":true},\"yaxis37\":{\"anchor\":\"x37\",\"domain\":[0.0,0.064],\"showgrid\":true},\"xaxis38\":{\"anchor\":\"y38\",\"domain\":[0.275,0.45],\"showgrid\":true},\"yaxis38\":{\"anchor\":\"x38\",\"domain\":[0.0,0.064],\"showgrid\":true},\"xaxis39\":{\"anchor\":\"y39\",\"domain\":[0.55,0.7250000000000001],\"showgrid\":true},\"yaxis39\":{\"anchor\":\"x39\",\"domain\":[0.0,0.064],\"showgrid\":true},\"xaxis40\":{\"anchor\":\"y40\",\"domain\":[0.825,1.0],\"showgrid\":true},\"yaxis40\":{\"anchor\":\"x40\",\"domain\":[0.0,0.064],\"showgrid\":true},\"annotations\":[{\"font\":{\"size\":16},\"showarrow\":false,\"text\":\"Topic 0\",\"x\":0.0875,\"xanchor\":\"center\",\"xref\":\"paper\",\"y\":1.0,\"yanchor\":\"bottom\",\"yref\":\"paper\"},{\"font\":{\"size\":16},\"showarrow\":false,\"text\":\"Topic 1\",\"x\":0.36250000000000004,\"xanchor\":\"center\",\"xref\":\"paper\",\"y\":1.0,\"yanchor\":\"bottom\",\"yref\":\"paper\"},{\"font\":{\"size\":16},\"showarrow\":false,\"text\":\"Topic 2\",\"x\":0.6375000000000001,\"xanchor\":\"center\",\"xref\":\"paper\",\"y\":1.0,\"yanchor\":\"bottom\",\"yref\":\"paper\"},{\"font\":{\"size\":16},\"showarrow\":false,\"text\":\"Topic 3\",\"x\":0.9125,\"xanchor\":\"center\",\"xref\":\"paper\",\"y\":1.0,\"yanchor\":\"bottom\",\"yref\":\"paper\"},{\"font\":{\"size\":16},\"showarrow\":false,\"text\":\"Topic 4\",\"x\":0.0875,\"xanchor\":\"center\",\"xref\":\"paper\",\"y\":0.8960000000000001,\"yanchor\":\"bottom\",\"yref\":\"paper\"},{\"font\":{\"size\":16},\"showarrow\":false,\"text\":\"Topic 5\",\"x\":0.36250000000000004,\"xanchor\":\"center\",\"xref\":\"paper\",\"y\":0.8960000000000001,\"yanchor\":\"bottom\",\"yref\":\"paper\"},{\"font\":{\"size\":16},\"showarrow\":false,\"text\":\"Topic 6\",\"x\":0.6375000000000001,\"xanchor\":\"center\",\"xref\":\"paper\",\"y\":0.8960000000000001,\"yanchor\":\"bottom\",\"yref\":\"paper\"},{\"font\":{\"size\":16},\"showarrow\":false,\"text\":\"Topic 7\",\"x\":0.9125,\"xanchor\":\"center\",\"xref\":\"paper\",\"y\":0.8960000000000001,\"yanchor\":\"bottom\",\"yref\":\"paper\"},{\"font\":{\"size\":16},\"showarrow\":false,\"text\":\"Topic 8\",\"x\":0.0875,\"xanchor\":\"center\",\"xref\":\"paper\",\"y\":0.792,\"yanchor\":\"bottom\",\"yref\":\"paper\"},{\"font\":{\"size\":16},\"showarrow\":false,\"text\":\"Topic 9\",\"x\":0.36250000000000004,\"xanchor\":\"center\",\"xref\":\"paper\",\"y\":0.792,\"yanchor\":\"bottom\",\"yref\":\"paper\"},{\"font\":{\"size\":16},\"showarrow\":false,\"text\":\"Topic 10\",\"x\":0.6375000000000001,\"xanchor\":\"center\",\"xref\":\"paper\",\"y\":0.792,\"yanchor\":\"bottom\",\"yref\":\"paper\"},{\"font\":{\"size\":16},\"showarrow\":false,\"text\":\"Topic 11\",\"x\":0.9125,\"xanchor\":\"center\",\"xref\":\"paper\",\"y\":0.792,\"yanchor\":\"bottom\",\"yref\":\"paper\"},{\"font\":{\"size\":16},\"showarrow\":false,\"text\":\"Topic 12\",\"x\":0.0875,\"xanchor\":\"center\",\"xref\":\"paper\",\"y\":0.688,\"yanchor\":\"bottom\",\"yref\":\"paper\"},{\"font\":{\"size\":16},\"showarrow\":false,\"text\":\"Topic 13\",\"x\":0.36250000000000004,\"xanchor\":\"center\",\"xref\":\"paper\",\"y\":0.688,\"yanchor\":\"bottom\",\"yref\":\"paper\"},{\"font\":{\"size\":16},\"showarrow\":false,\"text\":\"Topic 14\",\"x\":0.6375000000000001,\"xanchor\":\"center\",\"xref\":\"paper\",\"y\":0.688,\"yanchor\":\"bottom\",\"yref\":\"paper\"},{\"font\":{\"size\":16},\"showarrow\":false,\"text\":\"Topic 15\",\"x\":0.9125,\"xanchor\":\"center\",\"xref\":\"paper\",\"y\":0.688,\"yanchor\":\"bottom\",\"yref\":\"paper\"},{\"font\":{\"size\":16},\"showarrow\":false,\"text\":\"Topic 16\",\"x\":0.0875,\"xanchor\":\"center\",\"xref\":\"paper\",\"y\":0.5840000000000001,\"yanchor\":\"bottom\",\"yref\":\"paper\"},{\"font\":{\"size\":16},\"showarrow\":false,\"text\":\"Topic 17\",\"x\":0.36250000000000004,\"xanchor\":\"center\",\"xref\":\"paper\",\"y\":0.5840000000000001,\"yanchor\":\"bottom\",\"yref\":\"paper\"},{\"font\":{\"size\":16},\"showarrow\":false,\"text\":\"Topic 18\",\"x\":0.6375000000000001,\"xanchor\":\"center\",\"xref\":\"paper\",\"y\":0.5840000000000001,\"yanchor\":\"bottom\",\"yref\":\"paper\"},{\"font\":{\"size\":16},\"showarrow\":false,\"text\":\"Topic 19\",\"x\":0.9125,\"xanchor\":\"center\",\"xref\":\"paper\",\"y\":0.5840000000000001,\"yanchor\":\"bottom\",\"yref\":\"paper\"},{\"font\":{\"size\":16},\"showarrow\":false,\"text\":\"Topic 20\",\"x\":0.0875,\"xanchor\":\"center\",\"xref\":\"paper\",\"y\":0.48000000000000004,\"yanchor\":\"bottom\",\"yref\":\"paper\"},{\"font\":{\"size\":16},\"showarrow\":false,\"text\":\"Topic 21\",\"x\":0.36250000000000004,\"xanchor\":\"center\",\"xref\":\"paper\",\"y\":0.48000000000000004,\"yanchor\":\"bottom\",\"yref\":\"paper\"},{\"font\":{\"size\":16},\"showarrow\":false,\"text\":\"Topic 22\",\"x\":0.6375000000000001,\"xanchor\":\"center\",\"xref\":\"paper\",\"y\":0.48000000000000004,\"yanchor\":\"bottom\",\"yref\":\"paper\"},{\"font\":{\"size\":16},\"showarrow\":false,\"text\":\"Topic 23\",\"x\":0.9125,\"xanchor\":\"center\",\"xref\":\"paper\",\"y\":0.48000000000000004,\"yanchor\":\"bottom\",\"yref\":\"paper\"},{\"font\":{\"size\":16},\"showarrow\":false,\"text\":\"Topic 24\",\"x\":0.0875,\"xanchor\":\"center\",\"xref\":\"paper\",\"y\":0.376,\"yanchor\":\"bottom\",\"yref\":\"paper\"},{\"font\":{\"size\":16},\"showarrow\":false,\"text\":\"Topic 25\",\"x\":0.36250000000000004,\"xanchor\":\"center\",\"xref\":\"paper\",\"y\":0.376,\"yanchor\":\"bottom\",\"yref\":\"paper\"},{\"font\":{\"size\":16},\"showarrow\":false,\"text\":\"Topic 26\",\"x\":0.6375000000000001,\"xanchor\":\"center\",\"xref\":\"paper\",\"y\":0.376,\"yanchor\":\"bottom\",\"yref\":\"paper\"},{\"font\":{\"size\":16},\"showarrow\":false,\"text\":\"Topic 27\",\"x\":0.9125,\"xanchor\":\"center\",\"xref\":\"paper\",\"y\":0.376,\"yanchor\":\"bottom\",\"yref\":\"paper\"},{\"font\":{\"size\":16},\"showarrow\":false,\"text\":\"Topic 28\",\"x\":0.0875,\"xanchor\":\"center\",\"xref\":\"paper\",\"y\":0.272,\"yanchor\":\"bottom\",\"yref\":\"paper\"},{\"font\":{\"size\":16},\"showarrow\":false,\"text\":\"Topic 29\",\"x\":0.36250000000000004,\"xanchor\":\"center\",\"xref\":\"paper\",\"y\":0.272,\"yanchor\":\"bottom\",\"yref\":\"paper\"},{\"font\":{\"size\":16},\"showarrow\":false,\"text\":\"Topic 30\",\"x\":0.6375000000000001,\"xanchor\":\"center\",\"xref\":\"paper\",\"y\":0.272,\"yanchor\":\"bottom\",\"yref\":\"paper\"},{\"font\":{\"size\":16},\"showarrow\":false,\"text\":\"Topic 31\",\"x\":0.9125,\"xanchor\":\"center\",\"xref\":\"paper\",\"y\":0.272,\"yanchor\":\"bottom\",\"yref\":\"paper\"},{\"font\":{\"size\":16},\"showarrow\":false,\"text\":\"Topic 32\",\"x\":0.0875,\"xanchor\":\"center\",\"xref\":\"paper\",\"y\":0.168,\"yanchor\":\"bottom\",\"yref\":\"paper\"},{\"font\":{\"size\":16},\"showarrow\":false,\"text\":\"Topic 33\",\"x\":0.36250000000000004,\"xanchor\":\"center\",\"xref\":\"paper\",\"y\":0.168,\"yanchor\":\"bottom\",\"yref\":\"paper\"},{\"font\":{\"size\":16},\"showarrow\":false,\"text\":\"Topic 34\",\"x\":0.6375000000000001,\"xanchor\":\"center\",\"xref\":\"paper\",\"y\":0.168,\"yanchor\":\"bottom\",\"yref\":\"paper\"},{\"font\":{\"size\":16},\"showarrow\":false,\"text\":\"Topic 35\",\"x\":0.9125,\"xanchor\":\"center\",\"xref\":\"paper\",\"y\":0.168,\"yanchor\":\"bottom\",\"yref\":\"paper\"},{\"font\":{\"size\":16},\"showarrow\":false,\"text\":\"Topic 36\",\"x\":0.0875,\"xanchor\":\"center\",\"xref\":\"paper\",\"y\":0.064,\"yanchor\":\"bottom\",\"yref\":\"paper\"},{\"font\":{\"size\":16},\"showarrow\":false,\"text\":\"Topic 37\",\"x\":0.36250000000000004,\"xanchor\":\"center\",\"xref\":\"paper\",\"y\":0.064,\"yanchor\":\"bottom\",\"yref\":\"paper\"},{\"font\":{\"size\":16},\"showarrow\":false,\"text\":\"Topic 38\",\"x\":0.6375000000000001,\"xanchor\":\"center\",\"xref\":\"paper\",\"y\":0.064,\"yanchor\":\"bottom\",\"yref\":\"paper\"},{\"font\":{\"size\":16},\"showarrow\":false,\"text\":\"Topic 39\",\"x\":0.9125,\"xanchor\":\"center\",\"xref\":\"paper\",\"y\":0.064,\"yanchor\":\"bottom\",\"yref\":\"paper\"}],\"title\":{\"font\":{\"size\":22,\"color\":\"Black\"},\"text\":\"<b>Topic Word Scores\",\"x\":0.5,\"xanchor\":\"center\",\"yanchor\":\"top\"},\"hoverlabel\":{\"font\":{\"size\":16,\"family\":\"Rockwell\"},\"bgcolor\":\"white\"},\"showlegend\":false,\"width\":1000,\"height\":2500},                        {\"responsive\": true}                    ).then(function(){\n",
              "                            \n",
              "var gd = document.getElementById('2d03dd67-8267-47b7-8485-4420aaf970b2');\n",
              "var x = new MutationObserver(function (mutations, observer) {{\n",
              "        var display = window.getComputedStyle(gd).display;\n",
              "        if (!display || display === 'none') {{\n",
              "            console.log([gd, 'removed!']);\n",
              "            Plotly.purge(gd);\n",
              "            observer.disconnect();\n",
              "        }}\n",
              "}});\n",
              "\n",
              "// Listen for the removal of the full notebook cells\n",
              "var notebookContainer = gd.closest('#notebook-container');\n",
              "if (notebookContainer) {{\n",
              "    x.observe(notebookContainer, {childList: true});\n",
              "}}\n",
              "\n",
              "// Listen for the clearing of the current output cell\n",
              "var outputEl = gd.closest('.output');\n",
              "if (outputEl) {{\n",
              "    x.observe(outputEl, {childList: true});\n",
              "}}\n",
              "\n",
              "                        })                };                            </script>        </div>\n",
              "</body>\n",
              "</html>"
            ]
          },
          "metadata": {}
        }
      ]
    },
    {
      "cell_type": "code",
      "source": [
        "topic_model.visualize_heatmap()"
      ],
      "metadata": {
        "id": "r1Vlj9SwvEW3",
        "outputId": "749a5c7c-aa8d-47e9-d472-72b69b21da83",
        "colab": {
          "base_uri": "https://localhost:8080/",
          "height": 817
        }
      },
      "execution_count": 185,
      "outputs": [
        {
          "output_type": "display_data",
          "data": {
            "text/html": [
              "<html>\n",
              "<head><meta charset=\"utf-8\" /></head>\n",
              "<body>\n",
              "    <div>            <script src=\"https://cdnjs.cloudflare.com/ajax/libs/mathjax/2.7.5/MathJax.js?config=TeX-AMS-MML_SVG\"></script><script type=\"text/javascript\">if (window.MathJax) {MathJax.Hub.Config({SVG: {font: \"STIX-Web\"}});}</script>                <script type=\"text/javascript\">window.PlotlyConfig = {MathJaxConfig: 'local'};</script>\n",
              "        <script src=\"https://cdn.plot.ly/plotly-2.8.3.min.js\"></script>                <div id=\"bc823f87-0bfb-41c5-8d70-115b8413994f\" class=\"plotly-graph-div\" style=\"height:800px; width:800px;\"></div>            <script type=\"text/javascript\">                                    window.PLOTLYENV=window.PLOTLYENV || {};                                    if (document.getElementById(\"bc823f87-0bfb-41c5-8d70-115b8413994f\")) {                    Plotly.newPlot(                        \"bc823f87-0bfb-41c5-8d70-115b8413994f\",                        [{\"coloraxis\":\"coloraxis\",\"name\":\"0\",\"x\":[\"-1_schweiz_bundesrat_heute\",\"0_patienten_kosten_gesundhe...\",\"1_armee_sicherheit_sp\",\"2_franken_millionen_million...\",\"3_kommission_bundesrat_motion\",\"4_landwirtschaft_bauern_kon...\",\"5_minderheit_sp_fraktion\",\"6_mehrwertsteuer_steuern_fr...\",\"7_cannabis_rauchen_konsum\",\"8_konsumenten_konsumentinne...\",\"9_ahv_arbeitnehmer_alter\",\"10_energien_erneuerbaren_er...\",\"11_schweiz_gesundheitswesen...\",\"12_frauen_gewalt_menschenha...\",\"13_sbb_bahn_velo\",\"14_einb\\u00fcrgerung_schweiz_sch...\",\"15_eu_europa_schweiz\",\"16_gpk_bericht_gpdel\",\"17_verfahren_artikel_blocher\",\"18_pauschalbesteuerung_schw...\",\"19_artikel_ans bundesgerich...\",\"20_armee_schweiz_schweizer\",\"21_schweiz_nationalbank_herr\",\"22_kinder_kind_familien\",\"23_schweiz_eu_konventionen\",\"24_aufnahme_schweiz_menschen\",\"25_medikamente_medikament_m...\",\"26_ersch\\u00f6pfung_parallelimpo...\",\"27_gesetz_schweiz_einb\\u00fcrger...\",\"28_menschenrechte_europarat...\",\"29_akw_m\\u00fchleberg_atomkraftw...\",\"30_mindestlohn_initiative_l...\",\"31_fachhochschulen_gsk_mill...\",\"32_trinkwasser_wasser_umwelt\",\"33_natur_nationalpark_fluss...\",\"34_initiative_berufsverbot_...\",\"35_kinder_familien_schweiz\",\"36_absatz_artikel_bundesger...\",\"37_preisbindung_schweiz_kon...\",\"38_sport_jugend sport_beweg...\",\"39_ger\\u00e4te_konsumenten_set\"],\"y\":[\"-1_schweiz_bundesrat_heute\",\"0_patienten_kosten_gesundhe...\",\"1_armee_sicherheit_sp\",\"2_franken_millionen_million...\",\"3_kommission_bundesrat_motion\",\"4_landwirtschaft_bauern_kon...\",\"5_minderheit_sp_fraktion\",\"6_mehrwertsteuer_steuern_fr...\",\"7_cannabis_rauchen_konsum\",\"8_konsumenten_konsumentinne...\",\"9_ahv_arbeitnehmer_alter\",\"10_energien_erneuerbaren_er...\",\"11_schweiz_gesundheitswesen...\",\"12_frauen_gewalt_menschenha...\",\"13_sbb_bahn_velo\",\"14_einb\\u00fcrgerung_schweiz_sch...\",\"15_eu_europa_schweiz\",\"16_gpk_bericht_gpdel\",\"17_verfahren_artikel_blocher\",\"18_pauschalbesteuerung_schw...\",\"19_artikel_ans bundesgerich...\",\"20_armee_schweiz_schweizer\",\"21_schweiz_nationalbank_herr\",\"22_kinder_kind_familien\",\"23_schweiz_eu_konventionen\",\"24_aufnahme_schweiz_menschen\",\"25_medikamente_medikament_m...\",\"26_ersch\\u00f6pfung_parallelimpo...\",\"27_gesetz_schweiz_einb\\u00fcrger...\",\"28_menschenrechte_europarat...\",\"29_akw_m\\u00fchleberg_atomkraftw...\",\"30_mindestlohn_initiative_l...\",\"31_fachhochschulen_gsk_mill...\",\"32_trinkwasser_wasser_umwelt\",\"33_natur_nationalpark_fluss...\",\"34_initiative_berufsverbot_...\",\"35_kinder_familien_schweiz\",\"36_absatz_artikel_bundesger...\",\"37_preisbindung_schweiz_kon...\",\"38_sport_jugend sport_beweg...\",\"39_ger\\u00e4te_konsumenten_set\"],\"z\":[[0.9999999999999996,0.7345694603766539,0.7920088640471843,0.7920721638231054,0.9638879230091628,0.8333630578063782,0.8689001407516372,0.8641298377612777,0.6572852847842429,0.8118642875476523,0.8947030426849913,0.6682066333616459,0.9071156594275084,0.9084156671216059,0.7987285431715032,0.9162769441199115,0.9112794466470586,0.9024161512938168,0.8138034208541468,0.9000569308906536,0.902766843118666,0.8648843608029895,0.9280788974138809,0.8256462868548555,0.9497475128758139,0.8724402484028839,0.6501397674920808,0.8500544276958013,0.7958149447825777,0.865196558777771,0.7844248688246596,0.9177937783852255,0.8541331894803594,0.7460040148562186,0.850012181970152,0.8787568907615708,0.9002941069531667,0.9435814752278494,0.8043833971753935,0.7059455672580657,0.8016362520489773],[0.7345694603766539,0.9999999999999996,0.65047030755558,0.6290926939685046,0.7188295684636806,0.709676436908687,0.6732279385010168,0.6890366132348265,0.6158904102880667,0.6969618818072824,0.7538132733190372,0.5354379306807537,0.8612071009327318,0.6993413979906551,0.6262267679184705,0.6786207978578983,0.664362049456216,0.7458287760562097,0.7731359003144077,0.6968526366284532,0.735780249358712,0.6774453657283765,0.7072199514025808,0.6984155067284997,0.7005712563212764,0.730064244687927,0.8049259317015625,0.6501347773778923,0.6104737468355503,0.6334163326090001,0.6128406084443633,0.7688959299385546,0.6592667536951704,0.6645463100368939,0.6537190027712141,0.7411024764821661,0.7310644695697461,0.7630804188363451,0.6969737246075074,0.5357613600221673,0.670540056159947],[0.7920088640471843,0.65047030755558,0.9999999999999999,0.688001652538217,0.8020482563236322,0.6735456353247101,0.8326974470706876,0.7163498496289715,0.5597611376945099,0.6287683838836374,0.8061087305002608,0.6048584784317285,0.7660051358405222,0.8133108681386577,0.760871272469717,0.7214709824999022,0.7734625720117807,0.8307250710696397,0.7465936419079111,0.7481697071228212,0.795075224450547,0.9395346445941855,0.800424452795778,0.7184294341651832,0.7750997660216992,0.790196320415796,0.5957365528437153,0.7290881484480619,0.6482704868938118,0.7220388225904972,0.7770326753411363,0.7703635777213553,0.7878646806492444,0.6485305835614814,0.7335870331499222,0.7474172356948423,0.7396127794269666,0.8090900583703102,0.6290855361216772,0.7026863134311965,0.7437175568288279],[0.7920721638231054,0.6290926939685046,0.688001652538217,0.9999999999999994,0.7661133560839196,0.7440707626228669,0.6866150875392403,0.7917485812123244,0.5529756413800315,0.7179878220888006,0.7428173032013772,0.5932241331102306,0.7745056432688422,0.7656669909367106,0.6409241678923496,0.7443937328367602,0.7318047792793845,0.74504847553615,0.663377068888932,0.791787454739084,0.724282950769374,0.6941294930219832,0.8116144964165058,0.6743990042446497,0.7959811406656858,0.7257708295387475,0.5362924181691848,0.7122886576735814,0.6524512937472754,0.7328508233424929,0.6700736399321867,0.8065840292713289,0.7924587173183082,0.6352878253458983,0.6939034044118073,0.7033368367829429,0.8040687039468724,0.7600930843006748,0.7780083154071457,0.5558233352800243,0.6719299044938247],[0.9638879230091628,0.7188295684636806,0.8020482563236322,0.7661133560839196,1.0000000000000002,0.8246764171632861,0.8456963434026298,0.8485550868683756,0.6355946005581623,0.8021002027830633,0.8834349502056067,0.6606147912909998,0.873286920775564,0.8966032463113965,0.8332380048179397,0.8505859697423181,0.873862005356274,0.8947088499320921,0.7898572213789263,0.8779571246636455,0.8772769733511372,0.8397645990821838,0.8941865197765596,0.808546910722319,0.9152712590132733,0.8305822933264178,0.6235833080771666,0.8467693933619902,0.7379003203698957,0.8281375388886991,0.7794033155086297,0.8851408398235101,0.8316813744253824,0.7430797775439412,0.8493090881272316,0.8666113196140715,0.8671116760154733,0.9530604685023671,0.7862862780701112,0.6988420762729151,0.8104943274070033],[0.8333630578063782,0.709676436908687,0.6735456353247101,0.7440707626228669,0.8246764171632861,1.0000000000000004,0.7316750120257963,0.8042997458864415,0.6703816641069611,0.8875154759374047,0.8448838716495479,0.6815675095670675,0.8533241513373904,0.8117063426858994,0.7318911613380273,0.7798283986570139,0.7811639382586596,0.7906783663626582,0.693315852416021,0.8400269375490741,0.7742037642112809,0.7251385404009499,0.8166750172300541,0.7798389999834079,0.800727291176686,0.7433950932345363,0.6198796576029891,0.7902880517295356,0.7034989919144174,0.7261548116129136,0.6782431401912968,0.8278110215644652,0.7699169031411515,0.7401429446386448,0.8093827831673479,0.8261158409889159,0.8636504222708488,0.8397438897956158,0.9027658875491144,0.6395547844102176,0.7963502000353097],[0.8689001407516372,0.6732279385010168,0.8326974470706876,0.6866150875392403,0.8456963434026298,0.7316750120257963,0.9999999999999994,0.7664887042218318,0.6178409744970143,0.7899449645536449,0.8215197674470375,0.6172453760382819,0.7887743535298326,0.85019216614093,0.7763251271917682,0.7644573743564909,0.8076869235502435,0.8510103322072677,0.7863748110821462,0.7779586814847055,0.8930081259112246,0.7768369864342355,0.8090653741956554,0.7936486051977959,0.7939252635974462,0.7951479225378402,0.6168715275357982,0.7564553881926406,0.7178244121155335,0.7545314936080003,0.7406928166831683,0.7999121880140795,0.8041411697235936,0.6749811440447269,0.7556199498294458,0.7997669350230125,0.8190995092000253,0.8608797477992205,0.7173513613187261,0.6866910683162759,0.7583812083598929],[0.8641298377612777,0.6890366132348265,0.7163498496289715,0.7917485812123244,0.8485550868683756,0.8042997458864415,0.7664887042218318,1.0000000000000009,0.6938679764669593,0.7536425616312468,0.8408772739828954,0.6623555237868382,0.8425608929596173,0.8260334565636427,0.7823032021175882,0.8136135974746024,0.8071737502574652,0.8060828846030114,0.7304776438181215,0.9307774736838945,0.8057981426140952,0.7561306018800803,0.8669647054375346,0.7442293353436099,0.8505956870880185,0.751825197025292,0.5957317334194232,0.8133995982877099,0.7094499780123451,0.7721783086606665,0.718484484679357,0.8422482874807125,0.7786680501599248,0.69376283241242,0.749093113664453,0.7850170369350185,0.8609516791594115,0.8430593868786274,0.8360574097131381,0.600423126180816,0.7373957358521548],[0.6572852847842429,0.6158904102880667,0.5597611376945099,0.5529756413800315,0.6355946005581623,0.6703816641069611,0.6178409744970143,0.6938679764669593,0.9999999999999998,0.6567716740019065,0.6575484843840316,0.5310203237791886,0.6886452838842754,0.6886737611217509,0.6172251643591631,0.6221586393053001,0.6147943869896894,0.6709547577755796,0.6788744787279128,0.678951531724903,0.6724193472029296,0.5728071838393427,0.6567831304357291,0.635483865017532,0.6210772729246457,0.626485018155043,0.7112972378254021,0.6528835622183711,0.5832062581285723,0.5498314297999777,0.5890301050473248,0.6967980238054041,0.6077677742464337,0.6796694597444971,0.6361233757731398,0.6479612097116492,0.6792672437107692,0.6848709412114773,0.628043579070076,0.5425379087568838,0.6283134378447846],[0.8118642875476523,0.6969618818072824,0.6287683838836374,0.7179878220888006,0.8021002027830633,0.8875154759374047,0.7899449645536449,0.7536425616312468,0.6567716740019065,1.0,0.7925939571841669,0.59938500024758,0.7852085385338565,0.8062031779323461,0.7304796471870273,0.7300360251885303,0.7432474818675887,0.7845188565171197,0.7164671345131691,0.7836452233348741,0.8010187143568033,0.6260384866123889,0.7574139214657022,0.7633200303496169,0.7735701873441165,0.7098968837446201,0.6383407310432345,0.7669884533939115,0.6793170574232115,0.7040495892325672,0.6471624186575113,0.7811071541891901,0.7355317241726809,0.6813689310714929,0.7051085653331919,0.7713955035179576,0.8159067227356431,0.8291792859836362,0.9138257403010509,0.6438919737079262,0.8052261935051619],[0.8947030426849913,0.7538132733190372,0.8061087305002608,0.7428173032013772,0.8834349502056067,0.8448838716495479,0.8215197674470375,0.8408772739828954,0.6575484843840316,0.7925939571841669,1.0000000000000009,0.7052347020621001,0.8745620093055632,0.8976589136880806,0.789712654655595,0.8257015407377442,0.8464358386263136,0.887551911610339,0.8210201207036445,0.8544697365297337,0.8593831501851368,0.8262237522866025,0.8776350797681456,0.8237701532762778,0.851190240569289,0.8512979336366352,0.6544062000153128,0.8170753697998784,0.7647412496886286,0.7422369248252333,0.8081853118731387,0.9004321854187424,0.8210431123181245,0.7493874624851339,0.8072737325854417,0.8854472346153754,0.8741300994113246,0.9098503900495594,0.7972981101733397,0.6718535724419599,0.8057534554926165],[0.6682066333616459,0.5354379306807537,0.6048584784317285,0.5932241331102306,0.6606147912909998,0.6815675095670675,0.6172453760382819,0.6623555237868382,0.5310203237791886,0.59938500024758,0.7052347020621001,0.9999999999999991,0.6648326313456248,0.6248184318757011,0.6116040311091007,0.59218013182471,0.6082380506153999,0.6615151389603886,0.509702484425443,0.6686201265521862,0.6473430324505818,0.6169315766830464,0.6336601017807686,0.56621467877748,0.6215254603731477,0.5677926392390011,0.39053069424107695,0.6333524029353254,0.5451358264418149,0.5601925511552757,0.698758223066887,0.6690866980204015,0.6384023408170072,0.6545173026803606,0.7606455335221152,0.7477528730263803,0.656142017044684,0.6638581440430954,0.6344729901101878,0.5587635727521697,0.620073347465135],[0.9071156594275084,0.8612071009327318,0.7660051358405222,0.7745056432688422,0.873286920775564,0.8533241513373904,0.7887743535298326,0.8425608929596173,0.6886452838842754,0.7852085385338565,0.8745620093055632,0.6648326313456248,1.0,0.8641250172160402,0.7569935886240593,0.8701885066511887,0.8548519407951316,0.8703750535291461,0.8125454013684976,0.867740016537758,0.8427424911336387,0.8433766358310042,0.8968062708765213,0.8252757021507325,0.8746958016860488,0.8575374404880342,0.7411674226717186,0.832658484890285,0.7391598621888275,0.8007797840244496,0.7578713002804482,0.9321041858452881,0.8459463277366432,0.7828806144751634,0.83760227268657,0.8622953806980567,0.9026602560004242,0.8980894183122907,0.828095186440994,0.6969213382471209,0.8061496121637879],[0.9084156671216059,0.6993413979906551,0.8133108681386577,0.7656669909367106,0.8966032463113965,0.8117063426858994,0.85019216614093,0.8260334565636427,0.6886737611217509,0.8062031779323461,0.8976589136880806,0.6248184318757011,0.8641250172160402,1.0000000000000002,0.8027226893589214,0.8579962918249152,0.8833699740610871,0.8773534376876211,0.8307420778545098,0.8772302905125209,0.8923495285270233,0.8387058793787505,0.9060969538846257,0.8401437717934641,0.8971212225832392,0.8634491317358195,0.6794238132345316,0.8542078106276099,0.7667815635638464,0.79671681713432,0.7999221565351761,0.8868829912323408,0.8260497180515276,0.7332282835697861,0.8035791344760983,0.8343872027118031,0.9022168651753666,0.9279398944521458,0.7905250564711208,0.7270051850955856,0.8102644308587079],[0.7987285431715032,0.6262267679184705,0.760871272469717,0.6409241678923496,0.8332380048179397,0.7318911613380273,0.7763251271917682,0.7823032021175882,0.6172251643591631,0.7304796471870273,0.789712654655595,0.6116040311091007,0.7569935886240593,0.8027226893589214,1.0000000000000002,0.7101600048770067,0.797976078259863,0.8303757531894442,0.7103101076974215,0.7995413216594576,0.7725375323394461,0.7457731960729637,0.8135771677525414,0.756105942605759,0.7684868627646892,0.7369672616703964,0.5612531086816073,0.7503812856286616,0.6786093447090862,0.6969124715605296,0.7809803304970664,0.7572213626535413,0.7630939850389032,0.6759570699489056,0.7371428521841913,0.7287610012645211,0.7859975959491484,0.8145920040917124,0.752046955503088,0.6218246076410696,0.7856684625657364],[0.9162769441199115,0.6786207978578983,0.7214709824999022,0.7443937328367602,0.8505859697423181,0.7798283986570139,0.7644573743564909,0.8136135974746024,0.6221586393053001,0.7300360251885303,0.8257015407377442,0.59218013182471,0.8701885066511887,0.8579962918249152,0.7101600048770067,0.9999999999999993,0.8882600974435995,0.8099287011766425,0.8240233866652101,0.8835621648270924,0.8087632473265447,0.856029271715034,0.9009983029669977,0.7669117997373853,0.913525221571986,0.8955467306656795,0.6012757320389909,0.8029276779355776,0.8981029542091484,0.8762995884292536,0.686813419952347,0.8762103914323219,0.7909736233815763,0.6723346411708022,0.7851275553526165,0.8244024247484871,0.8829079906800301,0.8389092196112365,0.7667144924840197,0.6552829974937727,0.7135639941688636],[0.9112794466470586,0.664362049456216,0.7734625720117807,0.7318047792793845,0.873862005356274,0.7811639382586596,0.8076869235502435,0.8071737502574652,0.6147943869896894,0.7432474818675887,0.8464358386263136,0.6082380506153999,0.8548519407951316,0.8833699740610871,0.797976078259863,0.8882600974435995,1.0000000000000007,0.8873655221661696,0.7808295912749181,0.8677361379050204,0.8209087110676261,0.8468402724573079,0.9261783845414777,0.8010919819870103,0.9122226561757527,0.8572520069916844,0.6067895150693574,0.8056487471469782,0.7892367708764274,0.8880996207412726,0.7692768322172672,0.8753115816853494,0.8264504956292292,0.6991041422426574,0.7842629522972022,0.7693706471611459,0.8653505429709252,0.8711603609202165,0.7786305257673828,0.7102910999676992,0.7744551287221395],[0.9024161512938168,0.7458287760562097,0.8307250710696397,0.74504847553615,0.8947088499320921,0.7906783663626582,0.8510103322072677,0.8060828846030114,0.6709547577755796,0.7845188565171197,0.887551911610339,0.6615151389603886,0.8703750535291461,0.8773534376876211,0.8303757531894442,0.8099287011766425,0.8873655221661696,0.9999999999999998,0.8187461494775936,0.8455908936876206,0.8767092431386532,0.8358180572473762,0.8965690423415507,0.819163569521521,0.8716281231171146,0.8441242264643724,0.7074568906227818,0.8365237793097431,0.7215797239459268,0.8045581441176173,0.8434626917804162,0.8950520765394507,0.8766407625025048,0.7516845761894395,0.8156836567720299,0.8340150409772624,0.8532937721009877,0.9201022879864464,0.7743322978830481,0.6714981592354964,0.8210698350900416],[0.8138034208541468,0.7731359003144077,0.7465936419079111,0.663377068888932,0.7898572213789263,0.693315852416021,0.7863748110821462,0.7304776438181215,0.6788744787279128,0.7164671345131691,0.8210201207036445,0.509702484425443,0.8125454013684976,0.8307420778545098,0.7103101076974215,0.8240233866652101,0.7808295912749181,0.8187461494775936,1.0000000000000002,0.7875969309035638,0.8453208045791458,0.768895262381053,0.8031120568641092,0.7646587409046032,0.7929863871731733,0.876121653335515,0.7256230870062682,0.7536961038969042,0.8010612296305992,0.7604215511216829,0.694946555821229,0.8244184430736131,0.729558136717962,0.7218586966923873,0.7300509440695291,0.8018247128002532,0.8084574190035065,0.8473277136125655,0.6807929434515356,0.5909823967480567,0.7002269337384787],[0.9000569308906536,0.6968526366284532,0.7481697071228212,0.791787454739084,0.8779571246636455,0.8400269375490741,0.7779586814847055,0.9307774736838945,0.678951531724903,0.7836452233348741,0.8544697365297337,0.6686201265521862,0.867740016537758,0.8772302905125209,0.7995413216594576,0.8835621648270924,0.8677361379050204,0.8455908936876206,0.7875969309035638,0.9999999999999998,0.8213429763011277,0.8202803017927057,0.9066489079846096,0.7564335843244043,0.912335306138128,0.8186509960458211,0.6218561089446997,0.856615275122754,0.7779633532046315,0.8318813817270242,0.7443639071790253,0.8670126133943494,0.8065465950099453,0.7258751891082768,0.7827763670280373,0.8196268814248429,0.8942757884066983,0.8696619621341026,0.8555347439085811,0.6367630636336838,0.7790590845971941],[0.902766843118666,0.735780249358712,0.795075224450547,0.724282950769374,0.8772769733511372,0.7742037642112809,0.8930081259112246,0.8057981426140952,0.6724193472029296,0.8010187143568033,0.8593831501851368,0.6473430324505818,0.8427424911336387,0.8923495285270233,0.7725375323394461,0.8087632473265447,0.8209087110676261,0.8767092431386532,0.8453208045791458,0.8213429763011277,1.0000000000000009,0.7877729077355664,0.8534956147178809,0.8017238417036028,0.8642562160457645,0.7993871707123592,0.7030367156056425,0.8011446312015664,0.7399719298114256,0.7829466503119566,0.7868410300031189,0.8589377547197596,0.819418773861294,0.7322347493259489,0.807033621352566,0.8502093995866502,0.8488493764299776,0.9381710037076529,0.741583091470487,0.6783371063848249,0.7727957485472781],[0.8648843608029895,0.6774453657283765,0.9395346445941855,0.6941294930219832,0.8397645990821838,0.7251385404009499,0.7768369864342355,0.7561306018800803,0.5728071838393427,0.6260384866123889,0.8262237522866025,0.6169315766830464,0.8433766358310042,0.8387058793787505,0.7457731960729637,0.856029271715034,0.8468402724573079,0.8358180572473762,0.768895262381053,0.8202803017927057,0.7877729077355664,1.0,0.8691975021165413,0.7238157729250243,0.860247573459832,0.8499836565861894,0.6035875071904574,0.7697930925198925,0.7397967439842155,0.8124098147179383,0.7607008667119518,0.832897565451377,0.7959199808363722,0.6741374581350575,0.7816081568910711,0.795773534086851,0.7918381440953021,0.8260388661259883,0.6723098091778671,0.7150678587120329,0.7385707704883503],[0.9280788974138809,0.7072199514025808,0.800424452795778,0.8116144964165058,0.8941865197765596,0.8166750172300541,0.8090653741956554,0.8669647054375346,0.6567831304357291,0.7574139214657022,0.8776350797681456,0.6336601017807686,0.8968062708765213,0.9060969538846257,0.8135771677525414,0.9009983029669977,0.9261783845414777,0.8965690423415507,0.8031120568641092,0.9066489079846096,0.8534956147178809,0.8691975021165413,0.9999999999999996,0.8279255133147635,0.9278407536772798,0.877922744508155,0.6426725893403034,0.8327860128450376,0.782596354404671,0.8343900221585216,0.7964171228640016,0.9194444437716254,0.870559208666978,0.732127526222474,0.825241637445688,0.8051689968538174,0.9123116504086328,0.8972435780904149,0.8172712701149601,0.685601812231602,0.8050761288248736],[0.8256462868548555,0.6984155067284997,0.7184294341651832,0.6743990042446497,0.808546910722319,0.7798389999834079,0.7936486051977959,0.7442293353436099,0.635483865017532,0.7633200303496169,0.8237701532762778,0.56621467877748,0.8252757021507325,0.8401437717934641,0.756105942605759,0.7669117997373853,0.8010919819870103,0.819163569521521,0.7646587409046032,0.7564335843244043,0.8017238417036028,0.7238157729250243,0.8279255133147635,1.0000000000000002,0.759943621344008,0.8200851908714684,0.628528965657323,0.7451521440791605,0.7086935156511802,0.6679260045660257,0.7500665666064776,0.8444120830926636,0.7876369131553578,0.6821991410234743,0.7609339067282419,0.7540028866992113,0.9154998912143257,0.8531669957711092,0.7242234286001406,0.657561632861622,0.7595639172843875],[0.9497475128758139,0.7005712563212764,0.7750997660216992,0.7959811406656858,0.9152712590132733,0.800727291176686,0.7939252635974462,0.8505956870880185,0.6210772729246457,0.7735701873441165,0.851190240569289,0.6215254603731477,0.8746958016860488,0.8971212225832392,0.7684868627646892,0.913525221571986,0.9122226561757527,0.8716281231171146,0.7929863871731733,0.912335306138128,0.8642562160457645,0.860247573459832,0.9278407536772798,0.759943621344008,1.0,0.8410100311997504,0.6309742542967517,0.8403775479116082,0.7861205514385479,0.9015324155051021,0.7561459881872907,0.8775326802217075,0.8379052687430388,0.7069493905290871,0.8045571141920675,0.8200258082085325,0.8696117643281719,0.9047028426201,0.8073598384109038,0.6533726542285432,0.7825272761328927],[0.8724402484028839,0.730064244687927,0.790196320415796,0.7257708295387475,0.8305822933264178,0.7433950932345363,0.7951479225378402,0.751825197025292,0.626485018155043,0.7098968837446201,0.8512979336366352,0.5677926392390011,0.8575374404880342,0.8634491317358195,0.7369672616703964,0.8955467306656795,0.8572520069916844,0.8441242264643724,0.876121653335515,0.8186509960458211,0.7993871707123592,0.8499836565861894,0.877922744508155,0.8200851908714684,0.8410100311997504,0.9999999999999993,0.651690416665774,0.7717631193400969,0.8360949925468704,0.7848014997818453,0.7526468101282311,0.8743227566078922,0.8003428387861635,0.7260511979666046,0.7804958251023741,0.8062817360598762,0.8628458353741659,0.8478290349741269,0.7230577216813463,0.6572035114649879,0.7455065994064279],[0.6501397674920808,0.8049259317015625,0.5957365528437153,0.5362924181691848,0.6235833080771666,0.6198796576029891,0.6168715275357982,0.5957317334194232,0.7112972378254021,0.6383407310432345,0.6544062000153128,0.39053069424107695,0.7411674226717186,0.6794238132345316,0.5612531086816073,0.6012757320389909,0.6067895150693574,0.7074568906227818,0.7256230870062682,0.6218561089446997,0.7030367156056425,0.6035875071904574,0.6426725893403034,0.628528965657323,0.6309742542967517,0.651690416665774,1.0000000000000002,0.6537157896877702,0.5246290057597973,0.5661212540150666,0.5802762823166359,0.6920187932071548,0.5996668430527942,0.6362347055132099,0.5633290681839509,0.630663489074788,0.6518600598749181,0.7120817483633366,0.5940081942418667,0.5150066870127208,0.6298395547427322],[0.8500544276958013,0.6501347773778923,0.7290881484480619,0.7122886576735814,0.8467693933619902,0.7902880517295356,0.7564553881926406,0.8133995982877099,0.6528835622183711,0.7669884533939115,0.8170753697998784,0.6333524029353254,0.832658484890285,0.8542078106276099,0.7503812856286616,0.8029276779355776,0.8056487471469782,0.8365237793097431,0.7536961038969042,0.856615275122754,0.8011446312015664,0.7697930925198925,0.8327860128450376,0.7451521440791605,0.8403775479116082,0.7717631193400969,0.6537157896877702,1.0000000000000004,0.6997928683433259,0.7582855595546867,0.7735950131682252,0.8330095198278049,0.7723150632143786,0.7073714331561036,0.7744360357174547,0.7990665472360129,0.8396881491492392,0.8694209510285048,0.7961938755381668,0.6203319366110392,0.7694393037777899],[0.7958149447825777,0.6104737468355503,0.6482704868938118,0.6524512937472754,0.7379003203698957,0.7034989919144174,0.7178244121155335,0.7094499780123451,0.5832062581285723,0.6793170574232115,0.7647412496886286,0.5451358264418149,0.7391598621888275,0.7667815635638464,0.6786093447090862,0.8981029542091484,0.7892367708764274,0.7215797239459268,0.8010612296305992,0.7779633532046315,0.7399719298114256,0.7397967439842155,0.782596354404671,0.7086935156511802,0.7861205514385479,0.8360949925468704,0.5246290057597973,0.6997928683433259,0.9999999999999998,0.7765245758821901,0.6032468951790935,0.7555363482546285,0.695903918690697,0.5888588057129467,0.6752784698085245,0.7610510409779472,0.789218861897381,0.7384345137455142,0.6821973808930221,0.5690368899786377,0.6089102184016211],[0.865196558777771,0.6334163326090001,0.7220388225904972,0.7328508233424929,0.8281375388886991,0.7261548116129136,0.7545314936080003,0.7721783086606665,0.5498314297999777,0.7040495892325672,0.7422369248252333,0.5601925511552757,0.8007797840244496,0.79671681713432,0.6969124715605296,0.8762995884292536,0.8880996207412726,0.8045581441176173,0.7604215511216829,0.8318813817270242,0.7829466503119566,0.8124098147179383,0.8343900221585216,0.6679260045660257,0.9015324155051021,0.7848014997818453,0.5661212540150666,0.7582855595546867,0.7765245758821901,1.0000000000000002,0.6726626285280501,0.8052841160890727,0.7552735892576934,0.6511857318071091,0.7350551263851213,0.7486088401203189,0.7933270572028899,0.8131806832830593,0.7511162606413291,0.6202800642717308,0.6806300820068636],[0.7844248688246596,0.6128406084443633,0.7770326753411363,0.6700736399321867,0.7794033155086297,0.6782431401912968,0.7406928166831683,0.718484484679357,0.5890301050473248,0.6471624186575113,0.8081853118731387,0.698758223066887,0.7578713002804482,0.7999221565351761,0.7809803304970664,0.686813419952347,0.7692768322172672,0.8434626917804162,0.694946555821229,0.7443639071790253,0.7868410300031189,0.7607008667119518,0.7964171228640016,0.7500665666064776,0.7561459881872907,0.7526468101282311,0.5802762823166359,0.7735950131682252,0.6032468951790935,0.6726626285280501,1.0,0.7978132518141751,0.7988591876687476,0.7003125841783988,0.7691941817322161,0.7297018901605701,0.7634626924835926,0.810888341105312,0.6643167110883204,0.5837074610664856,0.7607285649045026],[0.9177937783852255,0.7688959299385546,0.7703635777213553,0.8065840292713289,0.8851408398235101,0.8278110215644652,0.7999121880140795,0.8422482874807125,0.6967980238054041,0.7811071541891901,0.9004321854187424,0.6690866980204015,0.9321041858452881,0.8868829912323408,0.7572213626535413,0.8762103914323219,0.8753115816853494,0.8950520765394507,0.8244184430736131,0.8670126133943494,0.8589377547197596,0.832897565451377,0.9194444437716254,0.8444120830926636,0.8775326802217075,0.8743227566078922,0.6920187932071548,0.8330095198278049,0.7555363482546285,0.8052841160890727,0.7978132518141751,1.0,0.8705232486321002,0.7743977144181489,0.8457789945493825,0.8735988451252656,0.9122615408834276,0.9120596082522735,0.8131768428334616,0.68349996436635,0.799789220333462],[0.8541331894803594,0.6592667536951704,0.7878646806492444,0.7924587173183082,0.8316813744253824,0.7699169031411515,0.8041411697235936,0.7786680501599248,0.6077677742464337,0.7355317241726809,0.8210431123181245,0.6384023408170072,0.8459463277366432,0.8260497180515276,0.7630939850389032,0.7909736233815763,0.8264504956292292,0.8766407625025048,0.729558136717962,0.8065465950099453,0.819418773861294,0.7959199808363722,0.870559208666978,0.7876369131553578,0.8379052687430388,0.8003428387861635,0.5996668430527942,0.7723150632143786,0.695903918690697,0.7552735892576934,0.7988591876687476,0.8705232486321002,0.9999999999999998,0.6732737924375464,0.7933389813289006,0.7883932772270928,0.8406574006069082,0.8546972310326756,0.7460867312936253,0.6648919832316268,0.7531739404446307],[0.7460040148562186,0.6645463100368939,0.6485305835614814,0.6352878253458983,0.7430797775439412,0.7401429446386448,0.6749811440447269,0.69376283241242,0.6796694597444971,0.6813689310714929,0.7493874624851339,0.6545173026803606,0.7828806144751634,0.7332282835697861,0.6759570699489056,0.6723346411708022,0.6991041422426574,0.7516845761894395,0.7218586966923873,0.7258751891082768,0.7322347493259489,0.6741374581350575,0.732127526222474,0.6821991410234743,0.7069493905290871,0.7260511979666046,0.6362347055132099,0.7073714331561036,0.5888588057129467,0.6511857318071091,0.7003125841783988,0.7743977144181489,0.6732737924375464,1.0000000000000007,0.8369443759048416,0.7550955282771841,0.7391615914453703,0.7783463787661106,0.6773304527942046,0.5831507315026675,0.6857161023212583],[0.850012181970152,0.6537190027712141,0.7335870331499222,0.6939034044118073,0.8493090881272316,0.8093827831673479,0.7556199498294458,0.749093113664453,0.6361233757731398,0.7051085653331919,0.8072737325854417,0.7606455335221152,0.83760227268657,0.8035791344760983,0.7371428521841913,0.7851275553526165,0.7842629522972022,0.8156836567720299,0.7300509440695291,0.7827763670280373,0.807033621352566,0.7816081568910711,0.825241637445688,0.7609339067282419,0.8045571141920675,0.7804958251023741,0.5633290681839509,0.7744360357174547,0.6752784698085245,0.7350551263851213,0.7691941817322161,0.8457789945493825,0.7933389813289006,0.8369443759048416,1.0000000000000009,0.8479854061464054,0.8141955337132047,0.8653863670649775,0.7121467244211781,0.66455791724255,0.7461489751516539],[0.8787568907615708,0.7411024764821661,0.7474172356948423,0.7033368367829429,0.8666113196140715,0.8261158409889159,0.7997669350230125,0.7850170369350185,0.6479612097116492,0.7713955035179576,0.8854472346153754,0.7477528730263803,0.8622953806980567,0.8343872027118031,0.7287610012645211,0.8244024247484871,0.7693706471611459,0.8340150409772624,0.8018247128002532,0.8196268814248429,0.8502093995866502,0.795773534086851,0.8051689968538174,0.7540028866992113,0.8200258082085325,0.8062817360598762,0.630663489074788,0.7990665472360129,0.7610510409779472,0.7486088401203189,0.7297018901605701,0.8735988451252656,0.7883932772270928,0.7550955282771841,0.8479854061464054,1.0,0.8273609592511921,0.8874513336609371,0.7421198304007999,0.639964035982153,0.7837827806345834],[0.9002941069531667,0.7310644695697461,0.7396127794269666,0.8040687039468724,0.8671116760154733,0.8636504222708488,0.8190995092000253,0.8609516791594115,0.6792672437107692,0.8159067227356431,0.8741300994113246,0.656142017044684,0.9026602560004242,0.9022168651753666,0.7859975959491484,0.8829079906800301,0.8653505429709252,0.8532937721009877,0.8084574190035065,0.8942757884066983,0.8488493764299776,0.7918381440953021,0.9123116504086328,0.9154998912143257,0.8696117643281719,0.8628458353741659,0.6518600598749181,0.8396881491492392,0.789218861897381,0.7933270572028899,0.7634626924835926,0.9122615408834276,0.8406574006069082,0.7391615914453703,0.8141955337132047,0.8273609592511921,0.9999999999999998,0.890985845364532,0.8507492118703298,0.6771908825943957,0.7886456566512596],[0.9435814752278494,0.7630804188363451,0.8090900583703102,0.7600930843006748,0.9530604685023671,0.8397438897956158,0.8608797477992205,0.8430593868786274,0.6848709412114773,0.8291792859836362,0.9098503900495594,0.6638581440430954,0.8980894183122907,0.9279398944521458,0.8145920040917124,0.8389092196112365,0.8711603609202165,0.9201022879864464,0.8473277136125655,0.8696619621341026,0.9381710037076529,0.8260388661259883,0.8972435780904149,0.8531669957711092,0.9047028426201,0.8478290349741269,0.7120817483633366,0.8694209510285048,0.7384345137455142,0.8131806832830593,0.810888341105312,0.9120596082522735,0.8546972310326756,0.7783463787661106,0.8653863670649775,0.8874513336609371,0.890985845364532,0.9999999999999996,0.7915450514715021,0.6995701132261745,0.8419007152248412],[0.8043833971753935,0.6969737246075074,0.6290855361216772,0.7780083154071457,0.7862862780701112,0.9027658875491144,0.7173513613187261,0.8360574097131381,0.628043579070076,0.9138257403010509,0.7972981101733397,0.6344729901101878,0.828095186440994,0.7905250564711208,0.752046955503088,0.7667144924840197,0.7786305257673828,0.7743322978830481,0.6807929434515356,0.8555347439085811,0.741583091470487,0.6723098091778671,0.8172712701149601,0.7242234286001406,0.8073598384109038,0.7230577216813463,0.5940081942418667,0.7961938755381668,0.6821973808930221,0.7511162606413291,0.6643167110883204,0.8131768428334616,0.7460867312936253,0.6773304527942046,0.7121467244211781,0.7421198304007999,0.8507492118703298,0.7915450514715021,0.9999999999999996,0.5782910789958504,0.7906561091780138],[0.7059455672580657,0.5357613600221673,0.7026863134311965,0.5558233352800243,0.6988420762729151,0.6395547844102176,0.6866910683162759,0.600423126180816,0.5425379087568838,0.6438919737079262,0.6718535724419599,0.5587635727521697,0.6969213382471209,0.7270051850955856,0.6218246076410696,0.6552829974937727,0.7102910999676992,0.6714981592354964,0.5909823967480567,0.6367630636336838,0.6783371063848249,0.7150678587120329,0.685601812231602,0.657561632861622,0.6533726542285432,0.6572035114649879,0.5150066870127208,0.6203319366110392,0.5690368899786377,0.6202800642717308,0.5837074610664856,0.68349996436635,0.6648919832316268,0.5831507315026675,0.66455791724255,0.639964035982153,0.6771908825943957,0.6995701132261745,0.5782910789958504,1.0,0.6277944814564362],[0.8016362520489773,0.670540056159947,0.7437175568288279,0.6719299044938247,0.8104943274070033,0.7963502000353097,0.7583812083598929,0.7373957358521548,0.6283134378447846,0.8052261935051619,0.8057534554926165,0.620073347465135,0.8061496121637879,0.8102644308587079,0.7856684625657364,0.7135639941688636,0.7744551287221395,0.8210698350900416,0.7002269337384787,0.7790590845971941,0.7727957485472781,0.7385707704883503,0.8050761288248736,0.7595639172843875,0.7825272761328927,0.7455065994064279,0.6298395547427322,0.7694393037777899,0.6089102184016211,0.6806300820068636,0.7607285649045026,0.799789220333462,0.7531739404446307,0.6857161023212583,0.7461489751516539,0.7837827806345834,0.7886456566512596,0.8419007152248412,0.7906561091780138,0.6277944814564362,1.0000000000000002]],\"type\":\"heatmap\",\"xaxis\":\"x\",\"yaxis\":\"y\",\"hovertemplate\":\"x: %{x}<br>y: %{y}<br>Similarity Score: %{z}<extra></extra>\"}],                        {\"template\":{\"data\":{\"bar\":[{\"error_x\":{\"color\":\"#2a3f5f\"},\"error_y\":{\"color\":\"#2a3f5f\"},\"marker\":{\"line\":{\"color\":\"#E5ECF6\",\"width\":0.5},\"pattern\":{\"fillmode\":\"overlay\",\"size\":10,\"solidity\":0.2}},\"type\":\"bar\"}],\"barpolar\":[{\"marker\":{\"line\":{\"color\":\"#E5ECF6\",\"width\":0.5},\"pattern\":{\"fillmode\":\"overlay\",\"size\":10,\"solidity\":0.2}},\"type\":\"barpolar\"}],\"carpet\":[{\"aaxis\":{\"endlinecolor\":\"#2a3f5f\",\"gridcolor\":\"white\",\"linecolor\":\"white\",\"minorgridcolor\":\"white\",\"startlinecolor\":\"#2a3f5f\"},\"baxis\":{\"endlinecolor\":\"#2a3f5f\",\"gridcolor\":\"white\",\"linecolor\":\"white\",\"minorgridcolor\":\"white\",\"startlinecolor\":\"#2a3f5f\"},\"type\":\"carpet\"}],\"choropleth\":[{\"colorbar\":{\"outlinewidth\":0,\"ticks\":\"\"},\"type\":\"choropleth\"}],\"contour\":[{\"colorbar\":{\"outlinewidth\":0,\"ticks\":\"\"},\"colorscale\":[[0.0,\"#0d0887\"],[0.1111111111111111,\"#46039f\"],[0.2222222222222222,\"#7201a8\"],[0.3333333333333333,\"#9c179e\"],[0.4444444444444444,\"#bd3786\"],[0.5555555555555556,\"#d8576b\"],[0.6666666666666666,\"#ed7953\"],[0.7777777777777778,\"#fb9f3a\"],[0.8888888888888888,\"#fdca26\"],[1.0,\"#f0f921\"]],\"type\":\"contour\"}],\"contourcarpet\":[{\"colorbar\":{\"outlinewidth\":0,\"ticks\":\"\"},\"type\":\"contourcarpet\"}],\"heatmap\":[{\"colorbar\":{\"outlinewidth\":0,\"ticks\":\"\"},\"colorscale\":[[0.0,\"#0d0887\"],[0.1111111111111111,\"#46039f\"],[0.2222222222222222,\"#7201a8\"],[0.3333333333333333,\"#9c179e\"],[0.4444444444444444,\"#bd3786\"],[0.5555555555555556,\"#d8576b\"],[0.6666666666666666,\"#ed7953\"],[0.7777777777777778,\"#fb9f3a\"],[0.8888888888888888,\"#fdca26\"],[1.0,\"#f0f921\"]],\"type\":\"heatmap\"}],\"heatmapgl\":[{\"colorbar\":{\"outlinewidth\":0,\"ticks\":\"\"},\"colorscale\":[[0.0,\"#0d0887\"],[0.1111111111111111,\"#46039f\"],[0.2222222222222222,\"#7201a8\"],[0.3333333333333333,\"#9c179e\"],[0.4444444444444444,\"#bd3786\"],[0.5555555555555556,\"#d8576b\"],[0.6666666666666666,\"#ed7953\"],[0.7777777777777778,\"#fb9f3a\"],[0.8888888888888888,\"#fdca26\"],[1.0,\"#f0f921\"]],\"type\":\"heatmapgl\"}],\"histogram\":[{\"marker\":{\"pattern\":{\"fillmode\":\"overlay\",\"size\":10,\"solidity\":0.2}},\"type\":\"histogram\"}],\"histogram2d\":[{\"colorbar\":{\"outlinewidth\":0,\"ticks\":\"\"},\"colorscale\":[[0.0,\"#0d0887\"],[0.1111111111111111,\"#46039f\"],[0.2222222222222222,\"#7201a8\"],[0.3333333333333333,\"#9c179e\"],[0.4444444444444444,\"#bd3786\"],[0.5555555555555556,\"#d8576b\"],[0.6666666666666666,\"#ed7953\"],[0.7777777777777778,\"#fb9f3a\"],[0.8888888888888888,\"#fdca26\"],[1.0,\"#f0f921\"]],\"type\":\"histogram2d\"}],\"histogram2dcontour\":[{\"colorbar\":{\"outlinewidth\":0,\"ticks\":\"\"},\"colorscale\":[[0.0,\"#0d0887\"],[0.1111111111111111,\"#46039f\"],[0.2222222222222222,\"#7201a8\"],[0.3333333333333333,\"#9c179e\"],[0.4444444444444444,\"#bd3786\"],[0.5555555555555556,\"#d8576b\"],[0.6666666666666666,\"#ed7953\"],[0.7777777777777778,\"#fb9f3a\"],[0.8888888888888888,\"#fdca26\"],[1.0,\"#f0f921\"]],\"type\":\"histogram2dcontour\"}],\"mesh3d\":[{\"colorbar\":{\"outlinewidth\":0,\"ticks\":\"\"},\"type\":\"mesh3d\"}],\"parcoords\":[{\"line\":{\"colorbar\":{\"outlinewidth\":0,\"ticks\":\"\"}},\"type\":\"parcoords\"}],\"pie\":[{\"automargin\":true,\"type\":\"pie\"}],\"scatter\":[{\"marker\":{\"colorbar\":{\"outlinewidth\":0,\"ticks\":\"\"}},\"type\":\"scatter\"}],\"scatter3d\":[{\"line\":{\"colorbar\":{\"outlinewidth\":0,\"ticks\":\"\"}},\"marker\":{\"colorbar\":{\"outlinewidth\":0,\"ticks\":\"\"}},\"type\":\"scatter3d\"}],\"scattercarpet\":[{\"marker\":{\"colorbar\":{\"outlinewidth\":0,\"ticks\":\"\"}},\"type\":\"scattercarpet\"}],\"scattergeo\":[{\"marker\":{\"colorbar\":{\"outlinewidth\":0,\"ticks\":\"\"}},\"type\":\"scattergeo\"}],\"scattergl\":[{\"marker\":{\"colorbar\":{\"outlinewidth\":0,\"ticks\":\"\"}},\"type\":\"scattergl\"}],\"scattermapbox\":[{\"marker\":{\"colorbar\":{\"outlinewidth\":0,\"ticks\":\"\"}},\"type\":\"scattermapbox\"}],\"scatterpolar\":[{\"marker\":{\"colorbar\":{\"outlinewidth\":0,\"ticks\":\"\"}},\"type\":\"scatterpolar\"}],\"scatterpolargl\":[{\"marker\":{\"colorbar\":{\"outlinewidth\":0,\"ticks\":\"\"}},\"type\":\"scatterpolargl\"}],\"scatterternary\":[{\"marker\":{\"colorbar\":{\"outlinewidth\":0,\"ticks\":\"\"}},\"type\":\"scatterternary\"}],\"surface\":[{\"colorbar\":{\"outlinewidth\":0,\"ticks\":\"\"},\"colorscale\":[[0.0,\"#0d0887\"],[0.1111111111111111,\"#46039f\"],[0.2222222222222222,\"#7201a8\"],[0.3333333333333333,\"#9c179e\"],[0.4444444444444444,\"#bd3786\"],[0.5555555555555556,\"#d8576b\"],[0.6666666666666666,\"#ed7953\"],[0.7777777777777778,\"#fb9f3a\"],[0.8888888888888888,\"#fdca26\"],[1.0,\"#f0f921\"]],\"type\":\"surface\"}],\"table\":[{\"cells\":{\"fill\":{\"color\":\"#EBF0F8\"},\"line\":{\"color\":\"white\"}},\"header\":{\"fill\":{\"color\":\"#C8D4E3\"},\"line\":{\"color\":\"white\"}},\"type\":\"table\"}]},\"layout\":{\"annotationdefaults\":{\"arrowcolor\":\"#2a3f5f\",\"arrowhead\":0,\"arrowwidth\":1},\"autotypenumbers\":\"strict\",\"coloraxis\":{\"colorbar\":{\"outlinewidth\":0,\"ticks\":\"\"}},\"colorscale\":{\"diverging\":[[0,\"#8e0152\"],[0.1,\"#c51b7d\"],[0.2,\"#de77ae\"],[0.3,\"#f1b6da\"],[0.4,\"#fde0ef\"],[0.5,\"#f7f7f7\"],[0.6,\"#e6f5d0\"],[0.7,\"#b8e186\"],[0.8,\"#7fbc41\"],[0.9,\"#4d9221\"],[1,\"#276419\"]],\"sequential\":[[0.0,\"#0d0887\"],[0.1111111111111111,\"#46039f\"],[0.2222222222222222,\"#7201a8\"],[0.3333333333333333,\"#9c179e\"],[0.4444444444444444,\"#bd3786\"],[0.5555555555555556,\"#d8576b\"],[0.6666666666666666,\"#ed7953\"],[0.7777777777777778,\"#fb9f3a\"],[0.8888888888888888,\"#fdca26\"],[1.0,\"#f0f921\"]],\"sequentialminus\":[[0.0,\"#0d0887\"],[0.1111111111111111,\"#46039f\"],[0.2222222222222222,\"#7201a8\"],[0.3333333333333333,\"#9c179e\"],[0.4444444444444444,\"#bd3786\"],[0.5555555555555556,\"#d8576b\"],[0.6666666666666666,\"#ed7953\"],[0.7777777777777778,\"#fb9f3a\"],[0.8888888888888888,\"#fdca26\"],[1.0,\"#f0f921\"]]},\"colorway\":[\"#636efa\",\"#EF553B\",\"#00cc96\",\"#ab63fa\",\"#FFA15A\",\"#19d3f3\",\"#FF6692\",\"#B6E880\",\"#FF97FF\",\"#FECB52\"],\"font\":{\"color\":\"#2a3f5f\"},\"geo\":{\"bgcolor\":\"white\",\"lakecolor\":\"white\",\"landcolor\":\"#E5ECF6\",\"showlakes\":true,\"showland\":true,\"subunitcolor\":\"white\"},\"hoverlabel\":{\"align\":\"left\"},\"hovermode\":\"closest\",\"mapbox\":{\"style\":\"light\"},\"paper_bgcolor\":\"white\",\"plot_bgcolor\":\"#E5ECF6\",\"polar\":{\"angularaxis\":{\"gridcolor\":\"white\",\"linecolor\":\"white\",\"ticks\":\"\"},\"bgcolor\":\"#E5ECF6\",\"radialaxis\":{\"gridcolor\":\"white\",\"linecolor\":\"white\",\"ticks\":\"\"}},\"scene\":{\"xaxis\":{\"backgroundcolor\":\"#E5ECF6\",\"gridcolor\":\"white\",\"gridwidth\":2,\"linecolor\":\"white\",\"showbackground\":true,\"ticks\":\"\",\"zerolinecolor\":\"white\"},\"yaxis\":{\"backgroundcolor\":\"#E5ECF6\",\"gridcolor\":\"white\",\"gridwidth\":2,\"linecolor\":\"white\",\"showbackground\":true,\"ticks\":\"\",\"zerolinecolor\":\"white\"},\"zaxis\":{\"backgroundcolor\":\"#E5ECF6\",\"gridcolor\":\"white\",\"gridwidth\":2,\"linecolor\":\"white\",\"showbackground\":true,\"ticks\":\"\",\"zerolinecolor\":\"white\"}},\"shapedefaults\":{\"line\":{\"color\":\"#2a3f5f\"}},\"ternary\":{\"aaxis\":{\"gridcolor\":\"white\",\"linecolor\":\"white\",\"ticks\":\"\"},\"baxis\":{\"gridcolor\":\"white\",\"linecolor\":\"white\",\"ticks\":\"\"},\"bgcolor\":\"#E5ECF6\",\"caxis\":{\"gridcolor\":\"white\",\"linecolor\":\"white\",\"ticks\":\"\"}},\"title\":{\"x\":0.05},\"xaxis\":{\"automargin\":true,\"gridcolor\":\"white\",\"linecolor\":\"white\",\"ticks\":\"\",\"title\":{\"standoff\":15},\"zerolinecolor\":\"white\",\"zerolinewidth\":2},\"yaxis\":{\"automargin\":true,\"gridcolor\":\"white\",\"linecolor\":\"white\",\"ticks\":\"\",\"title\":{\"standoff\":15},\"zerolinecolor\":\"white\",\"zerolinewidth\":2}}},\"xaxis\":{\"anchor\":\"y\",\"domain\":[0.0,1.0],\"scaleanchor\":\"y\",\"constrain\":\"domain\"},\"yaxis\":{\"anchor\":\"x\",\"domain\":[0.0,1.0],\"autorange\":\"reversed\",\"constrain\":\"domain\"},\"coloraxis\":{\"colorbar\":{\"title\":{\"text\":\"Similarity Score\"}},\"colorscale\":[[0.0,\"rgb(247,252,240)\"],[0.125,\"rgb(224,243,219)\"],[0.25,\"rgb(204,235,197)\"],[0.375,\"rgb(168,221,181)\"],[0.5,\"rgb(123,204,196)\"],[0.625,\"rgb(78,179,211)\"],[0.75,\"rgb(43,140,190)\"],[0.875,\"rgb(8,104,172)\"],[1.0,\"rgb(8,64,129)\"]]},\"margin\":{\"t\":60},\"title\":{\"font\":{\"size\":22,\"color\":\"Black\"},\"text\":\"<b>Similarity Matrix\",\"y\":0.95,\"x\":0.55,\"xanchor\":\"center\",\"yanchor\":\"top\"},\"hoverlabel\":{\"font\":{\"size\":16,\"family\":\"Rockwell\"},\"bgcolor\":\"white\"},\"width\":800,\"height\":800,\"showlegend\":true,\"legend\":{\"title\":{\"text\":\"Trend\"}}},                        {\"responsive\": true}                    ).then(function(){\n",
              "                            \n",
              "var gd = document.getElementById('bc823f87-0bfb-41c5-8d70-115b8413994f');\n",
              "var x = new MutationObserver(function (mutations, observer) {{\n",
              "        var display = window.getComputedStyle(gd).display;\n",
              "        if (!display || display === 'none') {{\n",
              "            console.log([gd, 'removed!']);\n",
              "            Plotly.purge(gd);\n",
              "            observer.disconnect();\n",
              "        }}\n",
              "}});\n",
              "\n",
              "// Listen for the removal of the full notebook cells\n",
              "var notebookContainer = gd.closest('#notebook-container');\n",
              "if (notebookContainer) {{\n",
              "    x.observe(notebookContainer, {childList: true});\n",
              "}}\n",
              "\n",
              "// Listen for the clearing of the current output cell\n",
              "var outputEl = gd.closest('.output');\n",
              "if (outputEl) {{\n",
              "    x.observe(outputEl, {childList: true});\n",
              "}}\n",
              "\n",
              "                        })                };                            </script>        </div>\n",
              "</body>\n",
              "</html>"
            ]
          },
          "metadata": {}
        }
      ]
    },
    {
      "cell_type": "code",
      "source": [
        "topic_model.visualize_hierarchy()"
      ],
      "metadata": {
        "id": "TM6wLqgvvHqU",
        "outputId": "b5bb3c73-116e-49cd-8df7-a3a834051248",
        "colab": {
          "base_uri": "https://localhost:8080/",
          "height": 852
        }
      },
      "execution_count": 186,
      "outputs": [
        {
          "output_type": "display_data",
          "data": {
            "text/html": [
              "<html>\n",
              "<head><meta charset=\"utf-8\" /></head>\n",
              "<body>\n",
              "    <div>            <script src=\"https://cdnjs.cloudflare.com/ajax/libs/mathjax/2.7.5/MathJax.js?config=TeX-AMS-MML_SVG\"></script><script type=\"text/javascript\">if (window.MathJax) {MathJax.Hub.Config({SVG: {font: \"STIX-Web\"}});}</script>                <script type=\"text/javascript\">window.PlotlyConfig = {MathJaxConfig: 'local'};</script>\n",
              "        <script src=\"https://cdn.plot.ly/plotly-2.8.3.min.js\"></script>                <div id=\"e1f3794b-f0c7-496f-b062-37926d731bc2\" class=\"plotly-graph-div\" style=\"height:815px; width:1000px;\"></div>            <script type=\"text/javascript\">                                    window.PLOTLYENV=window.PLOTLYENV || {};                                    if (document.getElementById(\"e1f3794b-f0c7-496f-b062-37926d731bc2\")) {                    Plotly.newPlot(                        \"e1f3794b-f0c7-496f-b062-37926d731bc2\",                        [{\"hoverinfo\":\"text\",\"marker\":{\"color\":\"rgb(61,153,112)\"},\"mode\":\"lines\",\"x\":[0.0,0.7389802914748167,0.7389802914748167,0.0],\"xaxis\":\"x\",\"y\":[-5.0,-5.0,-15.0,-15.0],\"yaxis\":\"y\",\"type\":\"scatter\"},{\"hoverinfo\":\"text\",\"marker\":{\"color\":\"rgb(255,65,54)\"},\"mode\":\"lines\",\"x\":[0.0,0.5170569975767905,0.5170569975767905,0.0],\"xaxis\":\"x\",\"y\":[-25.0,-25.0,-35.0,-35.0],\"yaxis\":\"y\",\"type\":\"scatter\"},{\"hoverinfo\":\"text\",\"marker\":{\"color\":\"rgb(255,65,54)\"},\"mode\":\"lines\",\"x\":[0.0,0.5814441868152493,0.5814441868152493,0.0],\"xaxis\":\"x\",\"y\":[-45.0,-45.0,-55.0,-55.0],\"yaxis\":\"y\",\"type\":\"scatter\"},{\"hoverinfo\":\"text\",\"marker\":{\"color\":\"rgb(255,65,54)\"},\"mode\":\"lines\",\"x\":[0.5170569975767905,0.8023344949165941,0.8023344949165941,0.5814441868152493],\"xaxis\":\"x\",\"y\":[-30.0,-30.0,-50.0,-50.0],\"yaxis\":\"y\",\"type\":\"scatter\"},{\"hoverinfo\":\"text\",\"marker\":{\"color\":\"rgb(0,116,217)\"},\"mode\":\"lines\",\"x\":[0.7389802914748167,1.0638758332294704,1.0638758332294704,0.8023344949165941],\"xaxis\":\"x\",\"y\":[-10.0,-10.0,-40.0,-40.0],\"yaxis\":\"y\",\"type\":\"scatter\"},{\"hoverinfo\":\"text\",\"marker\":{\"color\":\"rgb(35,205,205)\"},\"mode\":\"lines\",\"x\":[0.0,0.17249301367384962,0.17249301367384962,0.0],\"xaxis\":\"x\",\"y\":[-75.0,-75.0,-85.0,-85.0],\"yaxis\":\"y\",\"type\":\"scatter\"},{\"hoverinfo\":\"text\",\"marker\":{\"color\":\"rgb(35,205,205)\"},\"mode\":\"lines\",\"x\":[0.0,0.26066129695631163,0.26066129695631163,0.17249301367384962],\"xaxis\":\"x\",\"y\":[-65.0,-65.0,-80.0,-80.0],\"yaxis\":\"y\",\"type\":\"scatter\"},{\"hoverinfo\":\"text\",\"marker\":{\"color\":\"rgb(35,205,205)\"},\"mode\":\"lines\",\"x\":[0.0,0.17045324058490202,0.17045324058490202,0.0],\"xaxis\":\"x\",\"y\":[-95.0,-95.0,-105.0,-105.0],\"yaxis\":\"y\",\"type\":\"scatter\"},{\"hoverinfo\":\"text\",\"marker\":{\"color\":\"rgb(35,205,205)\"},\"mode\":\"lines\",\"x\":[0.0,0.20881355848979105,0.20881355848979105,0.0],\"xaxis\":\"x\",\"y\":[-115.0,-115.0,-125.0,-125.0],\"yaxis\":\"y\",\"type\":\"scatter\"},{\"hoverinfo\":\"text\",\"marker\":{\"color\":\"rgb(35,205,205)\"},\"mode\":\"lines\",\"x\":[0.17045324058490202,0.23381279585285206,0.23381279585285206,0.20881355848979105],\"xaxis\":\"x\",\"y\":[-100.0,-100.0,-120.0,-120.0],\"yaxis\":\"y\",\"type\":\"scatter\"},{\"hoverinfo\":\"text\",\"marker\":{\"color\":\"rgb(35,205,205)\"},\"mode\":\"lines\",\"x\":[0.0,0.23661046862279703,0.23661046862279703,0.0],\"xaxis\":\"x\",\"y\":[-145.0,-145.0,-155.0,-155.0],\"yaxis\":\"y\",\"type\":\"scatter\"},{\"hoverinfo\":\"text\",\"marker\":{\"color\":\"rgb(35,205,205)\"},\"mode\":\"lines\",\"x\":[0.0,0.2804201465869504,0.2804201465869504,0.23661046862279703],\"xaxis\":\"x\",\"y\":[-135.0,-135.0,-150.0,-150.0],\"yaxis\":\"y\",\"type\":\"scatter\"},{\"hoverinfo\":\"text\",\"marker\":{\"color\":\"rgb(35,205,205)\"},\"mode\":\"lines\",\"x\":[0.23381279585285206,0.35063032627469853,0.35063032627469853,0.2804201465869504],\"xaxis\":\"x\",\"y\":[-110.0,-110.0,-142.5,-142.5],\"yaxis\":\"y\",\"type\":\"scatter\"},{\"hoverinfo\":\"text\",\"marker\":{\"color\":\"rgb(35,205,205)\"},\"mode\":\"lines\",\"x\":[0.26066129695631163,0.4230892455761786,0.4230892455761786,0.35063032627469853],\"xaxis\":\"x\",\"y\":[-72.5,-72.5,-126.25,-126.25],\"yaxis\":\"y\",\"type\":\"scatter\"},{\"hoverinfo\":\"text\",\"marker\":{\"color\":\"rgb(35,205,205)\"},\"mode\":\"lines\",\"x\":[0.0,0.26143425506126416,0.26143425506126416,0.0],\"xaxis\":\"x\",\"y\":[-175.0,-175.0,-185.0,-185.0],\"yaxis\":\"y\",\"type\":\"scatter\"},{\"hoverinfo\":\"text\",\"marker\":{\"color\":\"rgb(35,205,205)\"},\"mode\":\"lines\",\"x\":[0.0,0.36420022055736295,0.36420022055736295,0.26143425506126416],\"xaxis\":\"x\",\"y\":[-165.0,-165.0,-180.0,-180.0],\"yaxis\":\"y\",\"type\":\"scatter\"},{\"hoverinfo\":\"text\",\"marker\":{\"color\":\"rgb(35,205,205)\"},\"mode\":\"lines\",\"x\":[0.0,0.19811511362923784,0.19811511362923784,0.0],\"xaxis\":\"x\",\"y\":[-205.0,-205.0,-215.0,-215.0],\"yaxis\":\"y\",\"type\":\"scatter\"},{\"hoverinfo\":\"text\",\"marker\":{\"color\":\"rgb(35,205,205)\"},\"mode\":\"lines\",\"x\":[0.0,0.23574552767282028,0.23574552767282028,0.19811511362923784],\"xaxis\":\"x\",\"y\":[-195.0,-195.0,-210.0,-210.0],\"yaxis\":\"y\",\"type\":\"scatter\"},{\"hoverinfo\":\"text\",\"marker\":{\"color\":\"rgb(35,205,205)\"},\"mode\":\"lines\",\"x\":[0.0,0.29177501856870863,0.29177501856870863,0.0],\"xaxis\":\"x\",\"y\":[-225.0,-225.0,-235.0,-235.0],\"yaxis\":\"y\",\"type\":\"scatter\"},{\"hoverinfo\":\"text\",\"marker\":{\"color\":\"rgb(35,205,205)\"},\"mode\":\"lines\",\"x\":[0.23574552767282028,0.44686757081813816,0.44686757081813816,0.29177501856870863],\"xaxis\":\"x\",\"y\":[-202.5,-202.5,-230.0,-230.0],\"yaxis\":\"y\",\"type\":\"scatter\"},{\"hoverinfo\":\"text\",\"marker\":{\"color\":\"rgb(35,205,205)\"},\"mode\":\"lines\",\"x\":[0.36420022055736295,0.6129407117197067,0.6129407117197067,0.44686757081813816],\"xaxis\":\"x\",\"y\":[-172.5,-172.5,-216.25,-216.25],\"yaxis\":\"y\",\"type\":\"scatter\"},{\"hoverinfo\":\"text\",\"marker\":{\"color\":\"rgb(35,205,205)\"},\"mode\":\"lines\",\"x\":[0.4230892455761786,0.7289658001356677,0.7289658001356677,0.6129407117197067],\"xaxis\":\"x\",\"y\":[-99.375,-99.375,-194.375,-194.375],\"yaxis\":\"y\",\"type\":\"scatter\"},{\"hoverinfo\":\"text\",\"marker\":{\"color\":\"rgb(133,20,75)\"},\"mode\":\"lines\",\"x\":[0.0,0.36083167466086813,0.36083167466086813,0.0],\"xaxis\":\"x\",\"y\":[-255.0,-255.0,-265.0,-265.0],\"yaxis\":\"y\",\"type\":\"scatter\"},{\"hoverinfo\":\"text\",\"marker\":{\"color\":\"rgb(133,20,75)\"},\"mode\":\"lines\",\"x\":[0.0,0.43896722876284033,0.43896722876284033,0.36083167466086813],\"xaxis\":\"x\",\"y\":[-245.0,-245.0,-260.0,-260.0],\"yaxis\":\"y\",\"type\":\"scatter\"},{\"hoverinfo\":\"text\",\"marker\":{\"color\":\"rgb(133,20,75)\"},\"mode\":\"lines\",\"x\":[0.0,0.32784205874607575,0.32784205874607575,0.0],\"xaxis\":\"x\",\"y\":[-275.0,-275.0,-285.0,-285.0],\"yaxis\":\"y\",\"type\":\"scatter\"},{\"hoverinfo\":\"text\",\"marker\":{\"color\":\"rgb(133,20,75)\"},\"mode\":\"lines\",\"x\":[0.0,0.3294945046029877,0.3294945046029877,0.0],\"xaxis\":\"x\",\"y\":[-295.0,-295.0,-305.0,-305.0],\"yaxis\":\"y\",\"type\":\"scatter\"},{\"hoverinfo\":\"text\",\"marker\":{\"color\":\"rgb(133,20,75)\"},\"mode\":\"lines\",\"x\":[0.0,0.36026493013590843,0.36026493013590843,0.0],\"xaxis\":\"x\",\"y\":[-335.0,-335.0,-345.0,-345.0],\"yaxis\":\"y\",\"type\":\"scatter\"},{\"hoverinfo\":\"text\",\"marker\":{\"color\":\"rgb(133,20,75)\"},\"mode\":\"lines\",\"x\":[0.0,0.40593697690545477,0.40593697690545477,0.36026493013590843],\"xaxis\":\"x\",\"y\":[-325.0,-325.0,-340.0,-340.0],\"yaxis\":\"y\",\"type\":\"scatter\"},{\"hoverinfo\":\"text\",\"marker\":{\"color\":\"rgb(133,20,75)\"},\"mode\":\"lines\",\"x\":[0.0,0.5296599734837715,0.5296599734837715,0.40593697690545477],\"xaxis\":\"x\",\"y\":[-315.0,-315.0,-332.5,-332.5],\"yaxis\":\"y\",\"type\":\"scatter\"},{\"hoverinfo\":\"text\",\"marker\":{\"color\":\"rgb(133,20,75)\"},\"mode\":\"lines\",\"x\":[0.3294945046029877,0.5720845523982276,0.5720845523982276,0.5296599734837715],\"xaxis\":\"x\",\"y\":[-300.0,-300.0,-323.75,-323.75],\"yaxis\":\"y\",\"type\":\"scatter\"},{\"hoverinfo\":\"text\",\"marker\":{\"color\":\"rgb(133,20,75)\"},\"mode\":\"lines\",\"x\":[0.32784205874607575,0.6825262088621229,0.6825262088621229,0.5720845523982276],\"xaxis\":\"x\",\"y\":[-280.0,-280.0,-311.875,-311.875],\"yaxis\":\"y\",\"type\":\"scatter\"},{\"hoverinfo\":\"text\",\"marker\":{\"color\":\"rgb(133,20,75)\"},\"mode\":\"lines\",\"x\":[0.43896722876284033,0.6957153954418617,0.6957153954418617,0.6825262088621229],\"xaxis\":\"x\",\"y\":[-252.5,-252.5,-295.9375,-295.9375],\"yaxis\":\"y\",\"type\":\"scatter\"},{\"hoverinfo\":\"text\",\"marker\":{\"color\":\"rgb(255,220,0)\"},\"mode\":\"lines\",\"x\":[0.0,0.26734042118506757,0.26734042118506757,0.0],\"xaxis\":\"x\",\"y\":[-365.0,-365.0,-375.0,-375.0],\"yaxis\":\"y\",\"type\":\"scatter\"},{\"hoverinfo\":\"text\",\"marker\":{\"color\":\"rgb(255,220,0)\"},\"mode\":\"lines\",\"x\":[0.0,0.3007665374236985,0.3007665374236985,0.26734042118506757],\"xaxis\":\"x\",\"y\":[-355.0,-355.0,-370.0,-370.0],\"yaxis\":\"y\",\"type\":\"scatter\"},{\"hoverinfo\":\"text\",\"marker\":{\"color\":\"rgb(255,220,0)\"},\"mode\":\"lines\",\"x\":[0.0,0.4789146326992337,0.4789146326992337,0.0],\"xaxis\":\"x\",\"y\":[-395.0,-395.0,-405.0,-405.0],\"yaxis\":\"y\",\"type\":\"scatter\"},{\"hoverinfo\":\"text\",\"marker\":{\"color\":\"rgb(255,220,0)\"},\"mode\":\"lines\",\"x\":[0.0,0.5965361031164543,0.5965361031164543,0.4789146326992337],\"xaxis\":\"x\",\"y\":[-385.0,-385.0,-400.0,-400.0],\"yaxis\":\"y\",\"type\":\"scatter\"},{\"hoverinfo\":\"text\",\"marker\":{\"color\":\"rgb(255,220,0)\"},\"mode\":\"lines\",\"x\":[0.3007665374236985,0.9075870071889272,0.9075870071889272,0.5965361031164543],\"xaxis\":\"x\",\"y\":[-362.5,-362.5,-392.5,-392.5],\"yaxis\":\"y\",\"type\":\"scatter\"},{\"hoverinfo\":\"text\",\"marker\":{\"color\":\"rgb(0,116,217)\"},\"mode\":\"lines\",\"x\":[0.6957153954418617,1.032315497905227,1.032315497905227,0.9075870071889272],\"xaxis\":\"x\",\"y\":[-274.21875,-274.21875,-377.5,-377.5],\"yaxis\":\"y\",\"type\":\"scatter\"},{\"hoverinfo\":\"text\",\"marker\":{\"color\":\"rgb(0,116,217)\"},\"mode\":\"lines\",\"x\":[0.7289658001356677,1.6802064565818708,1.6802064565818708,1.032315497905227],\"xaxis\":\"x\",\"y\":[-146.875,-146.875,-325.859375,-325.859375],\"yaxis\":\"y\",\"type\":\"scatter\"},{\"hoverinfo\":\"text\",\"marker\":{\"color\":\"rgb(0,116,217)\"},\"mode\":\"lines\",\"x\":[1.0638758332294704,2.8733063634335316,2.8733063634335316,1.6802064565818708],\"xaxis\":\"x\",\"y\":[-25.0,-25.0,-236.3671875,-236.3671875],\"yaxis\":\"y\",\"type\":\"scatter\"}],                        {\"autosize\":false,\"height\":815,\"hovermode\":\"closest\",\"showlegend\":false,\"width\":1000,\"xaxis\":{\"mirror\":\"allticks\",\"rangemode\":\"tozero\",\"showgrid\":false,\"showline\":true,\"showticklabels\":true,\"ticks\":\"outside\",\"type\":\"linear\",\"zeroline\":false},\"yaxis\":{\"mirror\":\"allticks\",\"rangemode\":\"tozero\",\"showgrid\":false,\"showline\":true,\"showticklabels\":true,\"tickmode\":\"array\",\"ticks\":\"outside\",\"ticktext\":[\"10_energien_erneuerbaren_er...\",\"38_sport_jugend sport_beweg...\",\"7_cannabis_rauchen_konsum\",\"25_medikamente_medikament_m...\",\"0_patienten_kosten_gesundhe...\",\"32_trinkwasser_wasser_umwelt\",\"35_kinder_familien_schweiz\",\"11_schweiz_gesundheitswesen...\",\"30_mindestlohn_initiative_l...\",\"-1_schweiz_bundesrat_heute\",\"3_kommission_bundesrat_motion\",\"12_frauen_gewalt_menschenha...\",\"36_absatz_artikel_bundesger...\",\"19_artikel_ans bundesgerich...\",\"9_ahv_arbeitnehmer_alter\",\"16_gpk_bericht_gpdel\",\"26_ersch\\u00f6pfung_parallelimpo...\",\"6_mehrwertsteuer_steuern_fr...\",\"18_pauschalbesteuerung_schw...\",\"15_eu_europa_schweiz\",\"21_schweiz_nationalbank_herr\",\"23_schweiz_eu_konventionen\",\"14_einb\\u00fcrgerung_schweiz_sch...\",\"24_aufnahme_schweiz_menschen\",\"29_akw_m\\u00fchleberg_atomkraftw...\",\"13_sbb_bahn_velo\",\"39_ger\\u00e4te_konsumenten_set\",\"1_armee_sicherheit_sp\",\"20_armee_schweiz_schweizer\",\"33_natur_nationalpark_fluss...\",\"34_initiative_berufsverbot_...\",\"17_verfahren_artikel_blocher\",\"22_kinder_kind_familien\",\"5_minderheit_sp_fraktion\",\"31_fachhochschulen_gsk_mill...\",\"4_landwirtschaft_bauern_kon...\",\"8_konsumenten_konsumentinne...\",\"37_preisbindung_schweiz_kon...\",\"2_franken_millionen_million...\",\"27_gesetz_schweiz_einb\\u00fcrger...\",\"28_menschenrechte_europarat...\"],\"tickvals\":[-5.0,-15.0,-25.0,-35.0,-45.0,-55.0,-65.0,-75.0,-85.0,-95.0,-105.0,-115.0,-125.0,-135.0,-145.0,-155.0,-165.0,-175.0,-185.0,-195.0,-205.0,-215.0,-225.0,-235.0,-245.0,-255.0,-265.0,-275.0,-285.0,-295.0,-305.0,-315.0,-325.0,-335.0,-345.0,-355.0,-365.0,-375.0,-385.0,-395.0,-405.0],\"type\":\"linear\",\"zeroline\":false,\"range\":[-410.0,0.0]},\"template\":{\"data\":{\"barpolar\":[{\"marker\":{\"line\":{\"color\":\"white\",\"width\":0.5},\"pattern\":{\"fillmode\":\"overlay\",\"size\":10,\"solidity\":0.2}},\"type\":\"barpolar\"}],\"bar\":[{\"error_x\":{\"color\":\"#2a3f5f\"},\"error_y\":{\"color\":\"#2a3f5f\"},\"marker\":{\"line\":{\"color\":\"white\",\"width\":0.5},\"pattern\":{\"fillmode\":\"overlay\",\"size\":10,\"solidity\":0.2}},\"type\":\"bar\"}],\"carpet\":[{\"aaxis\":{\"endlinecolor\":\"#2a3f5f\",\"gridcolor\":\"#C8D4E3\",\"linecolor\":\"#C8D4E3\",\"minorgridcolor\":\"#C8D4E3\",\"startlinecolor\":\"#2a3f5f\"},\"baxis\":{\"endlinecolor\":\"#2a3f5f\",\"gridcolor\":\"#C8D4E3\",\"linecolor\":\"#C8D4E3\",\"minorgridcolor\":\"#C8D4E3\",\"startlinecolor\":\"#2a3f5f\"},\"type\":\"carpet\"}],\"choropleth\":[{\"colorbar\":{\"outlinewidth\":0,\"ticks\":\"\"},\"type\":\"choropleth\"}],\"contourcarpet\":[{\"colorbar\":{\"outlinewidth\":0,\"ticks\":\"\"},\"type\":\"contourcarpet\"}],\"contour\":[{\"colorbar\":{\"outlinewidth\":0,\"ticks\":\"\"},\"colorscale\":[[0.0,\"#0d0887\"],[0.1111111111111111,\"#46039f\"],[0.2222222222222222,\"#7201a8\"],[0.3333333333333333,\"#9c179e\"],[0.4444444444444444,\"#bd3786\"],[0.5555555555555556,\"#d8576b\"],[0.6666666666666666,\"#ed7953\"],[0.7777777777777778,\"#fb9f3a\"],[0.8888888888888888,\"#fdca26\"],[1.0,\"#f0f921\"]],\"type\":\"contour\"}],\"heatmapgl\":[{\"colorbar\":{\"outlinewidth\":0,\"ticks\":\"\"},\"colorscale\":[[0.0,\"#0d0887\"],[0.1111111111111111,\"#46039f\"],[0.2222222222222222,\"#7201a8\"],[0.3333333333333333,\"#9c179e\"],[0.4444444444444444,\"#bd3786\"],[0.5555555555555556,\"#d8576b\"],[0.6666666666666666,\"#ed7953\"],[0.7777777777777778,\"#fb9f3a\"],[0.8888888888888888,\"#fdca26\"],[1.0,\"#f0f921\"]],\"type\":\"heatmapgl\"}],\"heatmap\":[{\"colorbar\":{\"outlinewidth\":0,\"ticks\":\"\"},\"colorscale\":[[0.0,\"#0d0887\"],[0.1111111111111111,\"#46039f\"],[0.2222222222222222,\"#7201a8\"],[0.3333333333333333,\"#9c179e\"],[0.4444444444444444,\"#bd3786\"],[0.5555555555555556,\"#d8576b\"],[0.6666666666666666,\"#ed7953\"],[0.7777777777777778,\"#fb9f3a\"],[0.8888888888888888,\"#fdca26\"],[1.0,\"#f0f921\"]],\"type\":\"heatmap\"}],\"histogram2dcontour\":[{\"colorbar\":{\"outlinewidth\":0,\"ticks\":\"\"},\"colorscale\":[[0.0,\"#0d0887\"],[0.1111111111111111,\"#46039f\"],[0.2222222222222222,\"#7201a8\"],[0.3333333333333333,\"#9c179e\"],[0.4444444444444444,\"#bd3786\"],[0.5555555555555556,\"#d8576b\"],[0.6666666666666666,\"#ed7953\"],[0.7777777777777778,\"#fb9f3a\"],[0.8888888888888888,\"#fdca26\"],[1.0,\"#f0f921\"]],\"type\":\"histogram2dcontour\"}],\"histogram2d\":[{\"colorbar\":{\"outlinewidth\":0,\"ticks\":\"\"},\"colorscale\":[[0.0,\"#0d0887\"],[0.1111111111111111,\"#46039f\"],[0.2222222222222222,\"#7201a8\"],[0.3333333333333333,\"#9c179e\"],[0.4444444444444444,\"#bd3786\"],[0.5555555555555556,\"#d8576b\"],[0.6666666666666666,\"#ed7953\"],[0.7777777777777778,\"#fb9f3a\"],[0.8888888888888888,\"#fdca26\"],[1.0,\"#f0f921\"]],\"type\":\"histogram2d\"}],\"histogram\":[{\"marker\":{\"pattern\":{\"fillmode\":\"overlay\",\"size\":10,\"solidity\":0.2}},\"type\":\"histogram\"}],\"mesh3d\":[{\"colorbar\":{\"outlinewidth\":0,\"ticks\":\"\"},\"type\":\"mesh3d\"}],\"parcoords\":[{\"line\":{\"colorbar\":{\"outlinewidth\":0,\"ticks\":\"\"}},\"type\":\"parcoords\"}],\"pie\":[{\"automargin\":true,\"type\":\"pie\"}],\"scatter3d\":[{\"line\":{\"colorbar\":{\"outlinewidth\":0,\"ticks\":\"\"}},\"marker\":{\"colorbar\":{\"outlinewidth\":0,\"ticks\":\"\"}},\"type\":\"scatter3d\"}],\"scattercarpet\":[{\"marker\":{\"colorbar\":{\"outlinewidth\":0,\"ticks\":\"\"}},\"type\":\"scattercarpet\"}],\"scattergeo\":[{\"marker\":{\"colorbar\":{\"outlinewidth\":0,\"ticks\":\"\"}},\"type\":\"scattergeo\"}],\"scattergl\":[{\"marker\":{\"colorbar\":{\"outlinewidth\":0,\"ticks\":\"\"}},\"type\":\"scattergl\"}],\"scattermapbox\":[{\"marker\":{\"colorbar\":{\"outlinewidth\":0,\"ticks\":\"\"}},\"type\":\"scattermapbox\"}],\"scatterpolargl\":[{\"marker\":{\"colorbar\":{\"outlinewidth\":0,\"ticks\":\"\"}},\"type\":\"scatterpolargl\"}],\"scatterpolar\":[{\"marker\":{\"colorbar\":{\"outlinewidth\":0,\"ticks\":\"\"}},\"type\":\"scatterpolar\"}],\"scatter\":[{\"marker\":{\"colorbar\":{\"outlinewidth\":0,\"ticks\":\"\"}},\"type\":\"scatter\"}],\"scatterternary\":[{\"marker\":{\"colorbar\":{\"outlinewidth\":0,\"ticks\":\"\"}},\"type\":\"scatterternary\"}],\"surface\":[{\"colorbar\":{\"outlinewidth\":0,\"ticks\":\"\"},\"colorscale\":[[0.0,\"#0d0887\"],[0.1111111111111111,\"#46039f\"],[0.2222222222222222,\"#7201a8\"],[0.3333333333333333,\"#9c179e\"],[0.4444444444444444,\"#bd3786\"],[0.5555555555555556,\"#d8576b\"],[0.6666666666666666,\"#ed7953\"],[0.7777777777777778,\"#fb9f3a\"],[0.8888888888888888,\"#fdca26\"],[1.0,\"#f0f921\"]],\"type\":\"surface\"}],\"table\":[{\"cells\":{\"fill\":{\"color\":\"#EBF0F8\"},\"line\":{\"color\":\"white\"}},\"header\":{\"fill\":{\"color\":\"#C8D4E3\"},\"line\":{\"color\":\"white\"}},\"type\":\"table\"}]},\"layout\":{\"annotationdefaults\":{\"arrowcolor\":\"#2a3f5f\",\"arrowhead\":0,\"arrowwidth\":1},\"autotypenumbers\":\"strict\",\"coloraxis\":{\"colorbar\":{\"outlinewidth\":0,\"ticks\":\"\"}},\"colorscale\":{\"diverging\":[[0,\"#8e0152\"],[0.1,\"#c51b7d\"],[0.2,\"#de77ae\"],[0.3,\"#f1b6da\"],[0.4,\"#fde0ef\"],[0.5,\"#f7f7f7\"],[0.6,\"#e6f5d0\"],[0.7,\"#b8e186\"],[0.8,\"#7fbc41\"],[0.9,\"#4d9221\"],[1,\"#276419\"]],\"sequential\":[[0.0,\"#0d0887\"],[0.1111111111111111,\"#46039f\"],[0.2222222222222222,\"#7201a8\"],[0.3333333333333333,\"#9c179e\"],[0.4444444444444444,\"#bd3786\"],[0.5555555555555556,\"#d8576b\"],[0.6666666666666666,\"#ed7953\"],[0.7777777777777778,\"#fb9f3a\"],[0.8888888888888888,\"#fdca26\"],[1.0,\"#f0f921\"]],\"sequentialminus\":[[0.0,\"#0d0887\"],[0.1111111111111111,\"#46039f\"],[0.2222222222222222,\"#7201a8\"],[0.3333333333333333,\"#9c179e\"],[0.4444444444444444,\"#bd3786\"],[0.5555555555555556,\"#d8576b\"],[0.6666666666666666,\"#ed7953\"],[0.7777777777777778,\"#fb9f3a\"],[0.8888888888888888,\"#fdca26\"],[1.0,\"#f0f921\"]]},\"colorway\":[\"#636efa\",\"#EF553B\",\"#00cc96\",\"#ab63fa\",\"#FFA15A\",\"#19d3f3\",\"#FF6692\",\"#B6E880\",\"#FF97FF\",\"#FECB52\"],\"font\":{\"color\":\"#2a3f5f\"},\"geo\":{\"bgcolor\":\"white\",\"lakecolor\":\"white\",\"landcolor\":\"white\",\"showlakes\":true,\"showland\":true,\"subunitcolor\":\"#C8D4E3\"},\"hoverlabel\":{\"align\":\"left\"},\"hovermode\":\"closest\",\"mapbox\":{\"style\":\"light\"},\"paper_bgcolor\":\"white\",\"plot_bgcolor\":\"white\",\"polar\":{\"angularaxis\":{\"gridcolor\":\"#EBF0F8\",\"linecolor\":\"#EBF0F8\",\"ticks\":\"\"},\"bgcolor\":\"white\",\"radialaxis\":{\"gridcolor\":\"#EBF0F8\",\"linecolor\":\"#EBF0F8\",\"ticks\":\"\"}},\"scene\":{\"xaxis\":{\"backgroundcolor\":\"white\",\"gridcolor\":\"#DFE8F3\",\"gridwidth\":2,\"linecolor\":\"#EBF0F8\",\"showbackground\":true,\"ticks\":\"\",\"zerolinecolor\":\"#EBF0F8\"},\"yaxis\":{\"backgroundcolor\":\"white\",\"gridcolor\":\"#DFE8F3\",\"gridwidth\":2,\"linecolor\":\"#EBF0F8\",\"showbackground\":true,\"ticks\":\"\",\"zerolinecolor\":\"#EBF0F8\"},\"zaxis\":{\"backgroundcolor\":\"white\",\"gridcolor\":\"#DFE8F3\",\"gridwidth\":2,\"linecolor\":\"#EBF0F8\",\"showbackground\":true,\"ticks\":\"\",\"zerolinecolor\":\"#EBF0F8\"}},\"shapedefaults\":{\"line\":{\"color\":\"#2a3f5f\"}},\"ternary\":{\"aaxis\":{\"gridcolor\":\"#DFE8F3\",\"linecolor\":\"#A2B1C6\",\"ticks\":\"\"},\"baxis\":{\"gridcolor\":\"#DFE8F3\",\"linecolor\":\"#A2B1C6\",\"ticks\":\"\"},\"bgcolor\":\"white\",\"caxis\":{\"gridcolor\":\"#DFE8F3\",\"linecolor\":\"#A2B1C6\",\"ticks\":\"\"}},\"title\":{\"x\":0.05},\"xaxis\":{\"automargin\":true,\"gridcolor\":\"#EBF0F8\",\"linecolor\":\"#EBF0F8\",\"ticks\":\"\",\"title\":{\"standoff\":15},\"zerolinecolor\":\"#EBF0F8\",\"zerolinewidth\":2},\"yaxis\":{\"automargin\":true,\"gridcolor\":\"#EBF0F8\",\"linecolor\":\"#EBF0F8\",\"ticks\":\"\",\"title\":{\"standoff\":15},\"zerolinecolor\":\"#EBF0F8\",\"zerolinewidth\":2}}},\"title\":{\"font\":{\"size\":22,\"color\":\"Black\"},\"text\":\"<b>Hierarchical Clustering\",\"x\":0.5,\"xanchor\":\"center\",\"yanchor\":\"top\"},\"hoverlabel\":{\"font\":{\"size\":16,\"family\":\"Rockwell\"},\"bgcolor\":\"white\"},\"plot_bgcolor\":\"#ECEFF1\"},                        {\"responsive\": true}                    ).then(function(){\n",
              "                            \n",
              "var gd = document.getElementById('e1f3794b-f0c7-496f-b062-37926d731bc2');\n",
              "var x = new MutationObserver(function (mutations, observer) {{\n",
              "        var display = window.getComputedStyle(gd).display;\n",
              "        if (!display || display === 'none') {{\n",
              "            console.log([gd, 'removed!']);\n",
              "            Plotly.purge(gd);\n",
              "            observer.disconnect();\n",
              "        }}\n",
              "}});\n",
              "\n",
              "// Listen for the removal of the full notebook cells\n",
              "var notebookContainer = gd.closest('#notebook-container');\n",
              "if (notebookContainer) {{\n",
              "    x.observe(notebookContainer, {childList: true});\n",
              "}}\n",
              "\n",
              "// Listen for the clearing of the current output cell\n",
              "var outputEl = gd.closest('.output');\n",
              "if (outputEl) {{\n",
              "    x.observe(outputEl, {childList: true});\n",
              "}}\n",
              "\n",
              "                        })                };                            </script>        </div>\n",
              "</body>\n",
              "</html>"
            ]
          },
          "metadata": {}
        }
      ]
    },
    {
      "cell_type": "code",
      "source": [
        "topics,similarity = topic_model.find_topics(\"co2\", top_n=5)\n",
        "print(topics)\n",
        "for top in topics:\n",
        "  to = topic_model.get_topic(top)\n",
        "  print(to[0])"
      ],
      "metadata": {
        "id": "WtHcIdLcK1i2",
        "outputId": "1273e2a8-f0db-4594-8059-a7672f346149",
        "colab": {
          "base_uri": "https://localhost:8080/"
        }
      },
      "execution_count": 187,
      "outputs": [
        {
          "output_type": "stream",
          "name": "stdout",
          "text": [
            "[10, 26, 29, 16, 33]\n",
            "('energien', 0.020609364708972882)\n",
            "('erschöpfung', 0.04168836101149215)\n",
            "('akw', 0.02703706663042125)\n",
            "('gpk', 0.019364436399263007)\n",
            "('natur', 0.01427017005899465)\n"
          ]
        }
      ]
    }
  ]
}